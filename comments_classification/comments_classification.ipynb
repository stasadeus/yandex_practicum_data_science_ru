{
 "cells": [
  {
   "cell_type": "markdown",
   "metadata": {},
   "source": [
    "# Классификация комментариев"
   ]
  },
  {
   "cell_type": "markdown",
   "metadata": {
    "toc": true
   },
   "source": [
    "<h1>Содержание<span class=\"tocSkip\"></span></h1>\n",
    "<div class=\"toc\"><ul class=\"toc-item\"><li><span><a href=\"#Цель-и-план-работы\" data-toc-modified-id=\"Цель-и-план-работы-1\"><span class=\"toc-item-num\">1&nbsp;&nbsp;</span>Цель и план работы</a></span></li><li><span><a href=\"#Подготовка-данных\" data-toc-modified-id=\"Подготовка-данных-2\"><span class=\"toc-item-num\">2&nbsp;&nbsp;</span>Подготовка данных</a></span><ul class=\"toc-item\"><li><span><a href=\"#Обзор-данных\" data-toc-modified-id=\"Обзор-данных-2.1\"><span class=\"toc-item-num\">2.1&nbsp;&nbsp;</span>Обзор данных</a></span></li><li><span><a href=\"#Лемматизация-и-очистка-текста.\" data-toc-modified-id=\"Лемматизация-и-очистка-текста.-2.2\"><span class=\"toc-item-num\">2.2&nbsp;&nbsp;</span>Лемматизация и очистка текста.</a></span></li><li><span><a href=\"#Расчёт-TF-IDF\" data-toc-modified-id=\"Расчёт-TF-IDF-2.3\"><span class=\"toc-item-num\">2.3&nbsp;&nbsp;</span>Расчёт TF-IDF</a></span></li></ul></li><li><span><a href=\"#Обучение-моделей\" data-toc-modified-id=\"Обучение-моделей-3\"><span class=\"toc-item-num\">3&nbsp;&nbsp;</span>Обучение моделей</a></span><ul class=\"toc-item\"><li><span><a href=\"#LogisticRegression\" data-toc-modified-id=\"LogisticRegression-3.1\"><span class=\"toc-item-num\">3.1&nbsp;&nbsp;</span>LogisticRegression</a></span></li><li><span><a href=\"#DecisionTreeClassifier\" data-toc-modified-id=\"DecisionTreeClassifier-3.2\"><span class=\"toc-item-num\">3.2&nbsp;&nbsp;</span>DecisionTreeClassifier</a></span></li><li><span><a href=\"#RandomForestClassifier\" data-toc-modified-id=\"RandomForestClassifier-3.3\"><span class=\"toc-item-num\">3.3&nbsp;&nbsp;</span>RandomForestClassifier</a></span></li><li><span><a href=\"#CatBoostClassifier\" data-toc-modified-id=\"CatBoostClassifier-3.4\"><span class=\"toc-item-num\">3.4&nbsp;&nbsp;</span>CatBoostClassifier</a></span></li></ul></li><li><span><a href=\"#Анализ-моделей\" data-toc-modified-id=\"Анализ-моделей-4\"><span class=\"toc-item-num\">4&nbsp;&nbsp;</span>Анализ моделей</a></span></li><li><span><a href=\"#Тестирование\" data-toc-modified-id=\"Тестирование-5\"><span class=\"toc-item-num\">5&nbsp;&nbsp;</span>Тестирование</a></span></li><li><span><a href=\"#Выводы\" data-toc-modified-id=\"Выводы-6\"><span class=\"toc-item-num\">6&nbsp;&nbsp;</span>Выводы</a></span></li></ul></div>"
   ]
  },
  {
   "cell_type": "markdown",
   "metadata": {},
   "source": [
    "## Цель и план работы"
   ]
  },
  {
   "cell_type": "markdown",
   "metadata": {},
   "source": [
    "**Задача** \n",
    "\n",
    "Интернет-магазин «Викишоп» запускает новый сервис. Теперь пользователи могут редактировать и дополнять описания товаров, как в вики-сообществах. То есть клиенты предлагают свои правки и комментируют изменения других. Магазину нужен инструмент, который будет искать токсичные комментарии и отправлять их на модерацию. \n",
    "\n",
    "В нашем распоряжении набор данных с разметкой о токсичности правок.  \n",
    "Необходимо обучить модель классифицировать комментарии на позитивные и негативные. \n",
    "\n",
    "Постройте модель со значением метрики качества *F1* не меньше 0.75.  \n",
    "\n",
    "**Описание данных**\n",
    "\n",
    "В нашем распоряжении набор данных с разметкой о токсичности правок.  \n",
    "Данные находятся в файле `toxic_comments.csv`. Столбец *text* в нём содержит текст комментария, а *toxic* — целевой признак.\n",
    "\n",
    "**План работы**\n",
    "\n",
    "1. Загрузить и подготовить данные.\n",
    "2. Обучить разные модели. \n",
    "3. Сделайть выводы."
   ]
  },
  {
   "cell_type": "markdown",
   "metadata": {},
   "source": [
    "## Подготовка данных"
   ]
  },
  {
   "cell_type": "markdown",
   "metadata": {},
   "source": [
    "Импортируем необходимые библиотеки."
   ]
  },
  {
   "cell_type": "code",
   "execution_count": 1,
   "metadata": {},
   "outputs": [],
   "source": [
    "import pandas as pd\n",
    "import numpy as np\n",
    "\n",
    "import spacy\n",
    "import re\n",
    "\n",
    "import nltk\n",
    "from nltk.stem import WordNetLemmatizer\n",
    "from nltk.corpus import stopwords as nltk_stopwords\n",
    "\n",
    "from tqdm.notebook import tqdm\n",
    "\n",
    "from sklearn.pipeline import Pipeline\n",
    "from sklearn.feature_extraction.text import TfidfVectorizer\n",
    "from sklearn.model_selection import train_test_split, cross_val_score, GridSearchCV\n",
    "from sklearn.metrics import f1_score\n",
    "from sklearn.linear_model import LogisticRegression\n",
    "from sklearn.tree import DecisionTreeClassifier\n",
    "from sklearn.ensemble import RandomForestClassifier\n",
    "from catboost import CatBoostClassifier\n",
    "\n",
    "import warnings\n",
    "warnings.filterwarnings('ignore')"
   ]
  },
  {
   "cell_type": "markdown",
   "metadata": {},
   "source": [
    "### Обзор данных"
   ]
  },
  {
   "cell_type": "markdown",
   "metadata": {},
   "source": [
    "Загрузим и изучим данные."
   ]
  },
  {
   "cell_type": "code",
   "execution_count": 2,
   "metadata": {
    "scrolled": true
   },
   "outputs": [
    {
     "data": {
      "text/html": [
       "<div>\n",
       "<style scoped>\n",
       "    .dataframe tbody tr th:only-of-type {\n",
       "        vertical-align: middle;\n",
       "    }\n",
       "\n",
       "    .dataframe tbody tr th {\n",
       "        vertical-align: top;\n",
       "    }\n",
       "\n",
       "    .dataframe thead th {\n",
       "        text-align: right;\n",
       "    }\n",
       "</style>\n",
       "<table border=\"1\" class=\"dataframe\">\n",
       "  <thead>\n",
       "    <tr style=\"text-align: right;\">\n",
       "      <th></th>\n",
       "      <th>Unnamed: 0</th>\n",
       "      <th>text</th>\n",
       "      <th>toxic</th>\n",
       "    </tr>\n",
       "  </thead>\n",
       "  <tbody>\n",
       "    <tr>\n",
       "      <th>0</th>\n",
       "      <td>0</td>\n",
       "      <td>Explanation\\nWhy the edits made under my usern...</td>\n",
       "      <td>0</td>\n",
       "    </tr>\n",
       "    <tr>\n",
       "      <th>1</th>\n",
       "      <td>1</td>\n",
       "      <td>D'aww! He matches this background colour I'm s...</td>\n",
       "      <td>0</td>\n",
       "    </tr>\n",
       "    <tr>\n",
       "      <th>2</th>\n",
       "      <td>2</td>\n",
       "      <td>Hey man, I'm really not trying to edit war. It...</td>\n",
       "      <td>0</td>\n",
       "    </tr>\n",
       "    <tr>\n",
       "      <th>3</th>\n",
       "      <td>3</td>\n",
       "      <td>\"\\nMore\\nI can't make any real suggestions on ...</td>\n",
       "      <td>0</td>\n",
       "    </tr>\n",
       "    <tr>\n",
       "      <th>4</th>\n",
       "      <td>4</td>\n",
       "      <td>You, sir, are my hero. Any chance you remember...</td>\n",
       "      <td>0</td>\n",
       "    </tr>\n",
       "  </tbody>\n",
       "</table>\n",
       "</div>"
      ],
      "text/plain": [
       "   Unnamed: 0                                               text  toxic\n",
       "0           0  Explanation\\nWhy the edits made under my usern...      0\n",
       "1           1  D'aww! He matches this background colour I'm s...      0\n",
       "2           2  Hey man, I'm really not trying to edit war. It...      0\n",
       "3           3  \"\\nMore\\nI can't make any real suggestions on ...      0\n",
       "4           4  You, sir, are my hero. Any chance you remember...      0"
      ]
     },
     "execution_count": 2,
     "metadata": {},
     "output_type": "execute_result"
    }
   ],
   "source": [
    "df = pd.read_csv('/datasets/toxic_comments.csv')\n",
    "df.head()"
   ]
  },
  {
   "cell_type": "code",
   "execution_count": 3,
   "metadata": {},
   "outputs": [
    {
     "name": "stdout",
     "output_type": "stream",
     "text": [
      "<class 'pandas.core.frame.DataFrame'>\n",
      "RangeIndex: 159292 entries, 0 to 159291\n",
      "Data columns (total 3 columns):\n",
      " #   Column      Non-Null Count   Dtype \n",
      "---  ------      --------------   ----- \n",
      " 0   Unnamed: 0  159292 non-null  int64 \n",
      " 1   text        159292 non-null  object\n",
      " 2   toxic       159292 non-null  int64 \n",
      "dtypes: int64(2), object(1)\n",
      "memory usage: 3.6+ MB\n"
     ]
    }
   ],
   "source": [
    "df.info()"
   ]
  },
  {
   "cell_type": "markdown",
   "metadata": {},
   "source": [
    "В датафрейме нет пропусков. Проверим датафрейм на дубликаты строк."
   ]
  },
  {
   "cell_type": "code",
   "execution_count": 4,
   "metadata": {
    "scrolled": true
   },
   "outputs": [
    {
     "data": {
      "text/plain": [
       "0"
      ]
     },
     "execution_count": 4,
     "metadata": {},
     "output_type": "execute_result"
    }
   ],
   "source": [
    "df['text'].duplicated().sum()"
   ]
  },
  {
   "cell_type": "markdown",
   "metadata": {},
   "source": [
    "Дубликаты отсутствуют. Изучим балансировку классов."
   ]
  },
  {
   "cell_type": "code",
   "execution_count": 5,
   "metadata": {},
   "outputs": [
    {
     "data": {
      "text/plain": [
       "0    0.898388\n",
       "1    0.101612\n",
       "Name: toxic, dtype: float64"
      ]
     },
     "execution_count": 5,
     "metadata": {},
     "output_type": "execute_result"
    }
   ],
   "source": [
    "df['toxic'].value_counts(normalize=True)"
   ]
  },
  {
   "cell_type": "markdown",
   "metadata": {},
   "source": [
    "Удалим незначимы столбец `Unnamed: 0`."
   ]
  },
  {
   "cell_type": "code",
   "execution_count": 6,
   "metadata": {},
   "outputs": [
    {
     "name": "stdout",
     "output_type": "stream",
     "text": [
      "<class 'pandas.core.frame.DataFrame'>\n",
      "RangeIndex: 159292 entries, 0 to 159291\n",
      "Data columns (total 2 columns):\n",
      " #   Column  Non-Null Count   Dtype \n",
      "---  ------  --------------   ----- \n",
      " 0   text    159292 non-null  object\n",
      " 1   toxic   159292 non-null  int64 \n",
      "dtypes: int64(1), object(1)\n",
      "memory usage: 2.4+ MB\n"
     ]
    }
   ],
   "source": [
    "df = df.drop('Unnamed: 0', axis=1)\n",
    "df.info()"
   ]
  },
  {
   "cell_type": "markdown",
   "metadata": {},
   "source": [
    "**Вывод**  \n",
    "1) В датафрейме 159292 комментариев  \n",
    "2) Комментарии на английском языке  \n",
    "3) Пропуски данных и дубликаты строк отсутствуют    \n",
    "4) Балансировка классов целевого признака: 10% негативных комментариев, 90% позитивных комментариев  \n",
    "5) Незначимый столбец `Unnamed: 0` был удалён."
   ]
  },
  {
   "cell_type": "markdown",
   "metadata": {},
   "source": [
    "### Лемматизация и очистка текста."
   ]
  },
  {
   "cell_type": "markdown",
   "metadata": {},
   "source": [
    "Напишем функцию `lemmatize` для очистки и лемматизации текста с помощью `spaCy`."
   ]
  },
  {
   "cell_type": "code",
   "execution_count": 7,
   "metadata": {},
   "outputs": [],
   "source": [
    "lemmatizer = spacy.load('en_core_web_sm', disable=['parser', 'ner'])\n",
    "\n",
    "def lemmatize_text(text):\n",
    "    text = text.lower()\n",
    "    cleared_text = \" \".join(re.sub(r'[^a-zA-Z]', ' ', text).split())\n",
    "    doc = lemmatizer(cleared_text)\n",
    "    lemm_text = ' '.join([token.lemma_ for token in doc])\n",
    "    return lemm_text"
   ]
  },
  {
   "cell_type": "markdown",
   "metadata": {},
   "source": [
    "Сравним текст до и после лемматизации."
   ]
  },
  {
   "cell_type": "code",
   "execution_count": 8,
   "metadata": {},
   "outputs": [
    {
     "data": {
      "text/plain": [
       "\"Hey man, I'm really not trying to edit war. It's just that this guy is constantly removing relevant information and talking to me through edits instead of my talk page. He seems to care more about the formatting than the actual info.\""
      ]
     },
     "execution_count": 8,
     "metadata": {},
     "output_type": "execute_result"
    }
   ],
   "source": [
    "df['text'].iloc[2]"
   ]
  },
  {
   "cell_type": "code",
   "execution_count": 9,
   "metadata": {
    "scrolled": true
   },
   "outputs": [
    {
     "data": {
      "text/plain": [
       "'hey man I m really not try to edit war it s just that this guy be constantly remove relevant information and talk to I through edit instead of my talk page he seem to care more about the formatting than the actual info'"
      ]
     },
     "execution_count": 9,
     "metadata": {},
     "output_type": "execute_result"
    }
   ],
   "source": [
    "lemmatize_text(df['text'].iloc[2])"
   ]
  },
  {
   "cell_type": "markdown",
   "metadata": {},
   "source": [
    "Лемматизация текста прошла успешна. Применим лемматизацию для всего датафрейма."
   ]
  },
  {
   "cell_type": "code",
   "execution_count": 10,
   "metadata": {
    "scrolled": true
   },
   "outputs": [
    {
     "data": {
      "application/vnd.jupyter.widget-view+json": {
       "model_id": "278ada5e336249b9ac7af7c92404af8d",
       "version_major": 2,
       "version_minor": 0
      },
      "text/plain": [
       "  0%|          | 0/159292 [00:00<?, ?it/s]"
      ]
     },
     "metadata": {},
     "output_type": "display_data"
    },
    {
     "name": "stdout",
     "output_type": "stream",
     "text": [
      "CPU times: user 16min 36s, sys: 9.97 s, total: 16min 46s\n",
      "Wall time: 17min 17s\n"
     ]
    }
   ],
   "source": [
    "%%time\n",
    "\n",
    "tqdm.pandas()\n",
    "df['lemm_text'] = df['text'].progress_apply(lemmatize_text)"
   ]
  },
  {
   "cell_type": "code",
   "execution_count": 11,
   "metadata": {
    "scrolled": true
   },
   "outputs": [
    {
     "data": {
      "text/plain": [
       "0    explanation why the edit make under my usernam...\n",
       "1    d aww he match this background colour I m seem...\n",
       "2    hey man I m really not try to edit war it s ju...\n",
       "3    more I can t make any real suggestion on impro...\n",
       "4    you sir be my hero any chance you remember wha...\n",
       "Name: lemm_text, dtype: object"
      ]
     },
     "execution_count": 11,
     "metadata": {},
     "output_type": "execute_result"
    }
   ],
   "source": [
    "df['lemm_text'].head()"
   ]
  },
  {
   "cell_type": "markdown",
   "metadata": {},
   "source": [
    "### Расчёт TF-IDF"
   ]
  },
  {
   "cell_type": "markdown",
   "metadata": {},
   "source": [
    "Разделим датафрейм на обучающую и тестовую выборки в соотношении 90% / 10% соответственно."
   ]
  },
  {
   "cell_type": "code",
   "execution_count": 12,
   "metadata": {},
   "outputs": [
    {
     "data": {
      "text/plain": [
       "((143362,), (15930,))"
      ]
     },
     "execution_count": 12,
     "metadata": {},
     "output_type": "execute_result"
    }
   ],
   "source": [
    "X = df['lemm_text']\n",
    "y = df['toxic']\n",
    "\n",
    "X_train, X_test, y_train, y_test = train_test_split(X, y, test_size=0.1, stratify=y)\n",
    "\n",
    "X_train.shape, X_test.shape"
   ]
  },
  {
   "cell_type": "markdown",
   "metadata": {},
   "source": [
    "Вычислим TF-IDF для корпуса текстов с комментариями."
   ]
  },
  {
   "cell_type": "code",
   "execution_count": 13,
   "metadata": {},
   "outputs": [
    {
     "name": "stderr",
     "output_type": "stream",
     "text": [
      "[nltk_data] Downloading package stopwords to /home/jovyan/nltk_data...\n",
      "[nltk_data]   Package stopwords is already up-to-date!\n"
     ]
    },
    {
     "name": "stdout",
     "output_type": "stream",
     "text": [
      "CPU times: user 6.94 s, sys: 124 ms, total: 7.07 s\n",
      "Wall time: 7.28 s\n"
     ]
    },
    {
     "data": {
      "text/plain": [
       "((143362, 142503), (15930, 142503))"
      ]
     },
     "execution_count": 13,
     "metadata": {},
     "output_type": "execute_result"
    }
   ],
   "source": [
    "%%time\n",
    "\n",
    "nltk.download('stopwords')\n",
    "stopwords = set(nltk_stopwords.words('english'))\n",
    "\n",
    "tf_idf = TfidfVectorizer(stop_words=stopwords)\n",
    "X_tf_idf_train = tf_idf.fit_transform(X_train.values)\n",
    "X_tf_idf_test = tf_idf.transform(X_test.values)\n",
    "\n",
    "X_tf_idf_train.shape, X_tf_idf_test.shape"
   ]
  },
  {
   "cell_type": "markdown",
   "metadata": {},
   "source": [
    "Получили обучающую и тестовую матрицы TF-IDF по корпусу комментариев."
   ]
  },
  {
   "cell_type": "markdown",
   "metadata": {},
   "source": [
    "## Обучение моделей"
   ]
  },
  {
   "cell_type": "markdown",
   "metadata": {},
   "source": [
    "Оценим качество моделей логистической регрессии, дерева решений, случайного леса, CatBoostClassifier.  \n",
    "Так как классы целевого признака несбалансированны, будем использовать балансировку классов по весу."
   ]
  },
  {
   "cell_type": "markdown",
   "metadata": {},
   "source": [
    "Напишем функцию для поиска гиперпараметров по сетке GridSearchCV для наилучшей модели по метрике F1."
   ]
  },
  {
   "cell_type": "code",
   "execution_count": 14,
   "metadata": {},
   "outputs": [],
   "source": [
    "def get_hyperparams_and_f1(clf, hyperparams, cv_counts, model_name):\n",
    "    \n",
    "    pipe = Pipeline([\n",
    "    ('tfidf', TfidfVectorizer(stop_words=stopwords)),\n",
    "    ('clf', clf)])\n",
    "    \n",
    "    grid = GridSearchCV(estimator=pipe, param_grid=hyperparams, scoring='f1', cv=cv_counts)\n",
    "    grid.fit(X_train, y_train)\n",
    "    \n",
    "    print(f'Гиперпараметры наилучшей модели {model_name}: {grid.best_params_}')\n",
    "    \n",
    "    best_f1 = grid.best_score_.round(4)\n",
    "    print(f'Наилучший F1 {model_name} на кросс-валидации: {best_f1}')\n",
    "    \n",
    "    return best_f1, grid.best_params_"
   ]
  },
  {
   "cell_type": "markdown",
   "metadata": {},
   "source": [
    "### LogisticRegression"
   ]
  },
  {
   "cell_type": "code",
   "execution_count": 15,
   "metadata": {},
   "outputs": [
    {
     "name": "stdout",
     "output_type": "stream",
     "text": [
      "Гиперпараметры наилучшей модели LogisticRegression: {'clf__C': 10, 'clf__class_weight': 'balanced', 'clf__random_state': 12345, 'clf__solver': 'lbfgs'}\n",
      "Наилучший F1 LogisticRegression на кросс-валидации: 0.7679\n",
      "CPU times: user 4min 50s, sys: 3min 13s, total: 8min 4s\n",
      "Wall time: 8min 5s\n"
     ]
    }
   ],
   "source": [
    "%%time\n",
    "\n",
    "clf = LogisticRegression()\n",
    "hyperparams = [{'clf__solver':['newton-cg', 'lbfgs', 'liblinear'],\n",
    "                'clf__C':[0.1, 1, 10],\n",
    "                'clf__class_weight':['balanced'],\n",
    "                'clf__random_state':[12345]}]\n",
    "F1_LR_cv, LR_best_params = get_hyperparams_and_f1(clf, hyperparams, 2, 'LogisticRegression')"
   ]
  },
  {
   "cell_type": "markdown",
   "metadata": {},
   "source": [
    "### DecisionTreeClassifier"
   ]
  },
  {
   "cell_type": "code",
   "execution_count": 16,
   "metadata": {
    "scrolled": true
   },
   "outputs": [
    {
     "name": "stdout",
     "output_type": "stream",
     "text": [
      "Гиперпараметры наилучшей модели DecisionTreeClassifier: {'clf__class_weight': 'balanced', 'clf__max_depth': 80, 'clf__random_state': 12345}\n",
      "Наилучший F1 DecisionTreeClassifier на кросс-валидации: 0.6562\n",
      "CPU times: user 6min 17s, sys: 649 ms, total: 6min 18s\n",
      "Wall time: 6min 18s\n"
     ]
    }
   ],
   "source": [
    "%%time\n",
    "\n",
    "clf = DecisionTreeClassifier()\n",
    "hyperparams = [{'clf__max_depth': range(20, 101, 20),\n",
    "                'clf__class_weight':['balanced'],\n",
    "                'clf__random_state':[12345]}]\n",
    "F1_DT_cv, DT_best_params = get_hyperparams_and_f1(clf, hyperparams, 2, 'DecisionTreeClassifier')"
   ]
  },
  {
   "cell_type": "markdown",
   "metadata": {},
   "source": [
    "### RandomForestClassifier"
   ]
  },
  {
   "cell_type": "code",
   "execution_count": 20,
   "metadata": {
    "scrolled": true
   },
   "outputs": [
    {
     "name": "stdout",
     "output_type": "stream",
     "text": [
      "Гиперпараметры наилучшей модели RandomForestClassifier: {'clf__class_weight': 'balanced', 'clf__max_depth': 100, 'clf__n_estimators': 80, 'clf__random_state': 12345}\n",
      "Наилучший F1 RandomForestClassifier на кросс-валидации: 0.5409\n",
      "CPU times: user 26min 46s, sys: 3.24 s, total: 26min 49s\n",
      "Wall time: 26min 53s\n"
     ]
    }
   ],
   "source": [
    "%%time\n",
    "\n",
    "clf = RandomForestClassifier()\n",
    "hyperparams = [{'clf__n_estimators': range(20, 101, 20),\n",
    "                'clf__max_depth': range(20, 101, 20),\n",
    "                'clf__class_weight':['balanced'],\n",
    "                'clf__random_state':[12345]}]\n",
    "F1_RF_cv, RF_best_params = get_hyperparams_and_f1(clf, hyperparams, 2, 'RandomForestClassifier')"
   ]
  },
  {
   "cell_type": "markdown",
   "metadata": {},
   "source": [
    "### CatBoostClassifier"
   ]
  },
  {
   "cell_type": "code",
   "execution_count": 21,
   "metadata": {},
   "outputs": [
    {
     "name": "stderr",
     "output_type": "stream",
     "text": [
      "Custom logger is already specified. Specify more than one logger at same time is not thread safe."
     ]
    },
    {
     "name": "stdout",
     "output_type": "stream",
     "text": [
      "Гиперпараметры наилучшей модели CatBoostClassifier: {'clf__depth': 5, 'clf__iterations': 250, 'clf__learning_rate': 0.5, 'clf__random_state': 12345, 'clf__verbose': False}\n",
      "Наилучший F1 CatBoostClassifier на кросс-валидации: 0.7568\n",
      "CPU times: user 40min 39s, sys: 23.8 s, total: 41min 2s\n",
      "Wall time: 41min 20s\n"
     ]
    }
   ],
   "source": [
    "%%time\n",
    "\n",
    "clf = CatBoostClassifier()\n",
    "hyperparams = [{'clf__learning_rate': [0.5],\n",
    "                'clf__depth': [3, 5, 7],\n",
    "                'clf__verbose': [False],\n",
    "                'clf__iterations': [250],\n",
    "                'clf__random_state':[12345]}]\n",
    "F1_CB_cv, CB_best_params = get_hyperparams_and_f1(clf, hyperparams, 2, 'CatBoostClassifier')"
   ]
  },
  {
   "cell_type": "markdown",
   "metadata": {},
   "source": [
    "## Анализ моделей"
   ]
  },
  {
   "cell_type": "markdown",
   "metadata": {},
   "source": [
    "Сведем результаты качества моделей в таблицу."
   ]
  },
  {
   "cell_type": "code",
   "execution_count": 22,
   "metadata": {
    "scrolled": true
   },
   "outputs": [
    {
     "data": {
      "text/html": [
       "<div>\n",
       "<style scoped>\n",
       "    .dataframe tbody tr th:only-of-type {\n",
       "        vertical-align: middle;\n",
       "    }\n",
       "\n",
       "    .dataframe tbody tr th {\n",
       "        vertical-align: top;\n",
       "    }\n",
       "\n",
       "    .dataframe thead th {\n",
       "        text-align: right;\n",
       "    }\n",
       "</style>\n",
       "<table border=\"1\" class=\"dataframe\">\n",
       "  <thead>\n",
       "    <tr style=\"text-align: right;\">\n",
       "      <th></th>\n",
       "      <th>F1_on_cv</th>\n",
       "    </tr>\n",
       "  </thead>\n",
       "  <tbody>\n",
       "    <tr>\n",
       "      <th>LogisticRegression</th>\n",
       "      <td>0.7679</td>\n",
       "    </tr>\n",
       "    <tr>\n",
       "      <th>CatBoostClassifier</th>\n",
       "      <td>0.7568</td>\n",
       "    </tr>\n",
       "    <tr>\n",
       "      <th>DecisionTreeClassifier</th>\n",
       "      <td>0.6562</td>\n",
       "    </tr>\n",
       "    <tr>\n",
       "      <th>RandomForestRClassifier</th>\n",
       "      <td>0.5409</td>\n",
       "    </tr>\n",
       "  </tbody>\n",
       "</table>\n",
       "</div>"
      ],
      "text/plain": [
       "                         F1_on_cv\n",
       "LogisticRegression         0.7679\n",
       "CatBoostClassifier         0.7568\n",
       "DecisionTreeClassifier     0.6562\n",
       "RandomForestRClassifier    0.5409"
      ]
     },
     "execution_count": 22,
     "metadata": {},
     "output_type": "execute_result"
    }
   ],
   "source": [
    "index = ['LogisticRegression',\n",
    "         'DecisionTreeClassifier',\n",
    "         'RandomForestRClassifier',\n",
    "         'CatBoostClassifier']\n",
    "data = {'F1_on_cv':[F1_LR_cv,\n",
    "                    F1_DT_cv,\n",
    "                    F1_RF_cv,\n",
    "                    F1_CB_cv]\n",
    "       }\n",
    "\n",
    "scores_data = pd.DataFrame(data=data, index=index)\n",
    "scores_data.sort_values(by='F1_on_cv', ascending=False)"
   ]
  },
  {
   "cell_type": "markdown",
   "metadata": {},
   "source": [
    "Лучшей моделью является модель LogisticRegression."
   ]
  },
  {
   "cell_type": "markdown",
   "metadata": {},
   "source": [
    "## Тестирование"
   ]
  },
  {
   "cell_type": "markdown",
   "metadata": {},
   "source": [
    "Проверим качество наилучшей модели на тестовой выборке."
   ]
  },
  {
   "cell_type": "code",
   "execution_count": 23,
   "metadata": {},
   "outputs": [
    {
     "data": {
      "text/plain": [
       "{'C': 10, 'class_weight': 'balanced', 'random_state': 12345, 'solver': 'lbfgs'}"
      ]
     },
     "execution_count": 23,
     "metadata": {},
     "output_type": "execute_result"
    }
   ],
   "source": [
    "#Модифицируем ключи словаря с наилучшими гиперпараметрами модели из GridSearch: удаление pipeline приставки 'clf__'\n",
    "LR_best_params_modified = {}\n",
    "for key, value in LR_best_params.items():\n",
    "    new_key = key.replace('clf__', '')\n",
    "    LR_best_params_modified[new_key] = value\n",
    "    \n",
    "LR_best_params_modified"
   ]
  },
  {
   "cell_type": "code",
   "execution_count": 24,
   "metadata": {},
   "outputs": [
    {
     "name": "stdout",
     "output_type": "stream",
     "text": [
      "F1 модели LogisticRegression на тестовой выборке: 0.7575\n",
      "CPU times: user 20.4 s, sys: 29.1 s, total: 49.5 s\n",
      "Wall time: 49.5 s\n"
     ]
    }
   ],
   "source": [
    "%%time\n",
    "\n",
    "model = LogisticRegression()\n",
    "model.set_params(**LR_best_params_modified)\n",
    "model.fit(X_tf_idf_train, y_train)\n",
    "predictons_test = model.predict(X_tf_idf_test)\n",
    "print(f'F1 модели LogisticRegression на тестовой выборке: {f1_score(y_test, predictons_test).round(4)}')"
   ]
  },
  {
   "cell_type": "markdown",
   "metadata": {},
   "source": [
    "## Выводы"
   ]
  },
  {
   "cell_type": "markdown",
   "metadata": {},
   "source": [
    "В данной работе была построена модель для классификации комментариев на позитивные и негативные.  \n",
    "\n",
    "Нам был предоставлен исходный датасет. В результате обзора и подготовки данных были сделаны следующие преобразования и выводы:   \n",
    "1) В датафрейме 159292 комментариев  \n",
    "2) Комментарии на английском языке  \n",
    "3) Пропуски данных и дубликаты строк отсутствуют    \n",
    "4) Балансировка классов целевого признака: 10% негативных комментариев, 90% позитивных комментариев  \n",
    "5) Незначимый столбец `Unnamed: 0` был удалён  \n",
    "6) Была проведена очистка и лемматизация текста с помощью `spaCy`  \n",
    "7) Рассчитаны TF-IDF по корпусу комментариев.\n",
    "\n",
    "Далее были обучены 4 модели для сравнения качества по метрике F1 на валидационной выборке:  \n",
    "\n",
    "1) LogisticRegression  \n",
    "2) DecisionTreeClassifier  \n",
    "3) RandomForestClassifier  \n",
    "4) CatBoostClassifier  \n",
    "\n",
    "Сравнительный анализ показал, что наилучшей моделью по метрике F1 для классификации комментариев на позитивные и негативные является модель LogisticRegression. Модель показала приемлемый результат качества на тестовой выборке."
   ]
  }
 ],
 "metadata": {
  "ExecuteTimeLog": [
   {
    "duration": 463,
    "start_time": "2022-12-01T21:46:26.944Z"
   },
   {
    "duration": 2,
    "start_time": "2022-12-01T21:46:33.743Z"
   },
   {
    "duration": 2,
    "start_time": "2022-12-01T21:46:38.506Z"
   },
   {
    "duration": 3792,
    "start_time": "2022-12-01T21:51:51.247Z"
   },
   {
    "duration": 30,
    "start_time": "2022-12-01T21:52:16.469Z"
   },
   {
    "duration": 32,
    "start_time": "2022-12-01T21:54:46.131Z"
   },
   {
    "duration": 77,
    "start_time": "2022-12-01T21:55:17.827Z"
   },
   {
    "duration": 66,
    "start_time": "2022-12-01T21:56:45.408Z"
   },
   {
    "duration": 11,
    "start_time": "2022-12-01T21:56:54.257Z"
   },
   {
    "duration": 11,
    "start_time": "2022-12-01T21:56:59.989Z"
   },
   {
    "duration": 10,
    "start_time": "2022-12-01T21:58:12.298Z"
   },
   {
    "duration": 7,
    "start_time": "2022-12-01T21:59:09.929Z"
   },
   {
    "duration": 11,
    "start_time": "2022-12-01T21:59:19.789Z"
   },
   {
    "duration": 411,
    "start_time": "2022-12-01T22:30:44.067Z"
   },
   {
    "duration": 977,
    "start_time": "2022-12-01T22:30:44.480Z"
   },
   {
    "duration": 34,
    "start_time": "2022-12-01T22:30:45.459Z"
   },
   {
    "duration": 98,
    "start_time": "2022-12-01T22:30:45.495Z"
   },
   {
    "duration": 17,
    "start_time": "2022-12-01T22:30:45.595Z"
   },
   {
    "duration": 46,
    "start_time": "2022-12-01T22:30:45.614Z"
   },
   {
    "duration": 4,
    "start_time": "2022-12-01T23:10:32.314Z"
   },
   {
    "duration": 4,
    "start_time": "2022-12-01T23:11:01.851Z"
   },
   {
    "duration": 4,
    "start_time": "2022-12-01T23:16:16.596Z"
   },
   {
    "duration": 5,
    "start_time": "2022-12-01T23:20:06.000Z"
   },
   {
    "duration": 5,
    "start_time": "2022-12-01T23:20:20.412Z"
   },
   {
    "duration": 4,
    "start_time": "2022-12-01T23:22:29.301Z"
   },
   {
    "duration": 92,
    "start_time": "2022-12-01T23:22:45.433Z"
   },
   {
    "duration": 4,
    "start_time": "2022-12-01T23:23:22.633Z"
   },
   {
    "duration": 7,
    "start_time": "2022-12-01T23:24:37.960Z"
   },
   {
    "duration": 718,
    "start_time": "2022-12-01T23:31:34.100Z"
   },
   {
    "duration": 79,
    "start_time": "2022-12-01T23:31:58.954Z"
   },
   {
    "duration": 733,
    "start_time": "2022-12-01T23:33:10.463Z"
   },
   {
    "duration": 6,
    "start_time": "2022-12-01T23:34:05.662Z"
   },
   {
    "duration": 5,
    "start_time": "2022-12-01T23:34:18.317Z"
   },
   {
    "duration": 735,
    "start_time": "2022-12-01T23:34:37.449Z"
   },
   {
    "duration": 759,
    "start_time": "2022-12-01T23:36:49.652Z"
   },
   {
    "duration": 764,
    "start_time": "2022-12-01T23:37:01.875Z"
   },
   {
    "duration": 779,
    "start_time": "2022-12-01T23:37:18.651Z"
   },
   {
    "duration": 742,
    "start_time": "2022-12-01T23:37:43.879Z"
   },
   {
    "duration": 725,
    "start_time": "2022-12-01T23:37:58.500Z"
   },
   {
    "duration": 787,
    "start_time": "2022-12-01T23:38:59.561Z"
   },
   {
    "duration": 746,
    "start_time": "2022-12-01T23:39:14.086Z"
   },
   {
    "duration": 761,
    "start_time": "2022-12-01T23:39:21.928Z"
   },
   {
    "duration": 773,
    "start_time": "2022-12-01T23:39:29.322Z"
   },
   {
    "duration": 755,
    "start_time": "2022-12-01T23:39:35.932Z"
   },
   {
    "duration": 1505,
    "start_time": "2022-12-01T23:42:18.786Z"
   },
   {
    "duration": 924,
    "start_time": "2022-12-01T23:42:20.294Z"
   },
   {
    "duration": 38,
    "start_time": "2022-12-01T23:42:21.220Z"
   },
   {
    "duration": 77,
    "start_time": "2022-12-01T23:42:21.260Z"
   },
   {
    "duration": 8,
    "start_time": "2022-12-01T23:42:21.350Z"
   },
   {
    "duration": 41,
    "start_time": "2022-12-01T23:42:21.360Z"
   },
   {
    "duration": 4,
    "start_time": "2022-12-01T23:42:21.403Z"
   },
   {
    "duration": 7,
    "start_time": "2022-12-01T23:42:21.409Z"
   },
   {
    "duration": 1493,
    "start_time": "2022-12-01T23:42:40.443Z"
   },
   {
    "duration": 932,
    "start_time": "2022-12-01T23:42:41.938Z"
   },
   {
    "duration": 34,
    "start_time": "2022-12-01T23:42:42.871Z"
   },
   {
    "duration": 98,
    "start_time": "2022-12-01T23:42:42.907Z"
   },
   {
    "duration": 8,
    "start_time": "2022-12-01T23:42:43.008Z"
   },
   {
    "duration": 60,
    "start_time": "2022-12-01T23:42:43.017Z"
   },
   {
    "duration": 4,
    "start_time": "2022-12-01T23:42:43.078Z"
   },
   {
    "duration": 719,
    "start_time": "2022-12-02T00:32:11.907Z"
   },
   {
    "duration": 1426,
    "start_time": "2022-12-02T00:32:22.213Z"
   },
   {
    "duration": 907,
    "start_time": "2022-12-02T00:32:23.641Z"
   },
   {
    "duration": 32,
    "start_time": "2022-12-02T00:32:24.551Z"
   },
   {
    "duration": 90,
    "start_time": "2022-12-02T00:32:24.585Z"
   },
   {
    "duration": 14,
    "start_time": "2022-12-02T00:32:24.677Z"
   },
   {
    "duration": 48,
    "start_time": "2022-12-02T00:32:24.692Z"
   },
   {
    "duration": 8,
    "start_time": "2022-12-02T00:32:24.742Z"
   },
   {
    "duration": 1186,
    "start_time": "2022-12-02T00:32:24.752Z"
   },
   {
    "duration": 4,
    "start_time": "2022-12-02T00:32:42.519Z"
   },
   {
    "duration": 6,
    "start_time": "2022-12-02T00:32:44.130Z"
   },
   {
    "duration": 3,
    "start_time": "2022-12-02T00:33:03.920Z"
   },
   {
    "duration": 6,
    "start_time": "2022-12-02T00:33:05.201Z"
   },
   {
    "duration": 1416,
    "start_time": "2022-12-02T00:33:18.160Z"
   },
   {
    "duration": 958,
    "start_time": "2022-12-02T00:33:19.579Z"
   },
   {
    "duration": 43,
    "start_time": "2022-12-02T00:33:20.539Z"
   },
   {
    "duration": 95,
    "start_time": "2022-12-02T00:33:20.585Z"
   },
   {
    "duration": 11,
    "start_time": "2022-12-02T00:33:20.683Z"
   },
   {
    "duration": 57,
    "start_time": "2022-12-02T00:33:20.695Z"
   },
   {
    "duration": 3,
    "start_time": "2022-12-02T00:33:20.754Z"
   },
   {
    "duration": 1194,
    "start_time": "2022-12-02T00:33:20.759Z"
   },
   {
    "duration": 1420,
    "start_time": "2022-12-02T00:34:02.374Z"
   },
   {
    "duration": 958,
    "start_time": "2022-12-02T00:34:03.797Z"
   },
   {
    "duration": 35,
    "start_time": "2022-12-02T00:34:04.757Z"
   },
   {
    "duration": 93,
    "start_time": "2022-12-02T00:34:04.794Z"
   },
   {
    "duration": 10,
    "start_time": "2022-12-02T00:34:04.889Z"
   },
   {
    "duration": 54,
    "start_time": "2022-12-02T00:34:04.901Z"
   },
   {
    "duration": 3,
    "start_time": "2022-12-02T00:34:04.957Z"
   },
   {
    "duration": 155893,
    "start_time": "2022-12-02T00:34:04.962Z"
   },
   {
    "duration": 5,
    "start_time": "2022-12-02T00:38:48.695Z"
   },
   {
    "duration": 1434,
    "start_time": "2022-12-02T00:40:54.140Z"
   },
   {
    "duration": 921,
    "start_time": "2022-12-02T00:40:55.576Z"
   },
   {
    "duration": 35,
    "start_time": "2022-12-02T00:40:56.498Z"
   },
   {
    "duration": 92,
    "start_time": "2022-12-02T00:40:56.535Z"
   },
   {
    "duration": 23,
    "start_time": "2022-12-02T00:40:56.629Z"
   },
   {
    "duration": 42,
    "start_time": "2022-12-02T00:40:56.654Z"
   },
   {
    "duration": 3,
    "start_time": "2022-12-02T00:40:56.698Z"
   },
   {
    "duration": 36667,
    "start_time": "2022-12-02T00:40:56.703Z"
   },
   {
    "duration": 4,
    "start_time": "2022-12-02T00:41:33.372Z"
   },
   {
    "duration": 11,
    "start_time": "2022-12-02T00:41:33.378Z"
   },
   {
    "duration": 1431,
    "start_time": "2022-12-02T00:41:54.725Z"
   },
   {
    "duration": 926,
    "start_time": "2022-12-02T00:41:56.159Z"
   },
   {
    "duration": 36,
    "start_time": "2022-12-02T00:41:57.087Z"
   },
   {
    "duration": 92,
    "start_time": "2022-12-02T00:41:57.125Z"
   },
   {
    "duration": 10,
    "start_time": "2022-12-02T00:41:57.219Z"
   },
   {
    "duration": 59,
    "start_time": "2022-12-02T00:41:57.231Z"
   },
   {
    "duration": 4,
    "start_time": "2022-12-02T00:41:57.292Z"
   },
   {
    "duration": 36195,
    "start_time": "2022-12-02T00:41:57.298Z"
   },
   {
    "duration": 4,
    "start_time": "2022-12-02T00:42:33.496Z"
   },
   {
    "duration": 10,
    "start_time": "2022-12-02T00:42:33.502Z"
   },
   {
    "duration": 1472,
    "start_time": "2022-12-02T00:44:09.225Z"
   },
   {
    "duration": 924,
    "start_time": "2022-12-02T00:44:10.700Z"
   },
   {
    "duration": 36,
    "start_time": "2022-12-02T00:44:11.626Z"
   },
   {
    "duration": 89,
    "start_time": "2022-12-02T00:44:11.664Z"
   },
   {
    "duration": 8,
    "start_time": "2022-12-02T00:44:11.756Z"
   },
   {
    "duration": 41,
    "start_time": "2022-12-02T00:44:11.765Z"
   },
   {
    "duration": 4,
    "start_time": "2022-12-02T00:44:11.808Z"
   },
   {
    "duration": 36946,
    "start_time": "2022-12-02T00:44:11.813Z"
   },
   {
    "duration": 4,
    "start_time": "2022-12-02T00:44:48.761Z"
   },
   {
    "duration": 8,
    "start_time": "2022-12-02T00:44:48.766Z"
   },
   {
    "duration": 4144,
    "start_time": "2022-12-02T00:55:09.371Z"
   },
   {
    "duration": 828,
    "start_time": "2022-12-02T00:55:13.517Z"
   },
   {
    "duration": 36,
    "start_time": "2022-12-02T00:55:14.346Z"
   },
   {
    "duration": 89,
    "start_time": "2022-12-02T00:55:14.384Z"
   },
   {
    "duration": 9,
    "start_time": "2022-12-02T00:55:14.475Z"
   },
   {
    "duration": 39,
    "start_time": "2022-12-02T00:55:14.486Z"
   },
   {
    "duration": 410,
    "start_time": "2022-12-02T00:55:14.527Z"
   },
   {
    "duration": 0,
    "start_time": "2022-12-02T00:55:14.939Z"
   },
   {
    "duration": 0,
    "start_time": "2022-12-02T00:55:14.940Z"
   },
   {
    "duration": 0,
    "start_time": "2022-12-02T00:55:14.941Z"
   },
   {
    "duration": 0,
    "start_time": "2022-12-02T00:55:14.942Z"
   },
   {
    "duration": 5127,
    "start_time": "2022-12-02T00:56:13.316Z"
   },
   {
    "duration": 876,
    "start_time": "2022-12-02T00:56:18.446Z"
   },
   {
    "duration": 36,
    "start_time": "2022-12-02T00:56:19.324Z"
   },
   {
    "duration": 89,
    "start_time": "2022-12-02T00:56:19.362Z"
   },
   {
    "duration": 8,
    "start_time": "2022-12-02T00:56:19.453Z"
   },
   {
    "duration": 40,
    "start_time": "2022-12-02T00:56:19.462Z"
   },
   {
    "duration": 657,
    "start_time": "2022-12-02T00:56:19.504Z"
   },
   {
    "duration": 38,
    "start_time": "2022-12-02T00:56:20.163Z"
   },
   {
    "duration": 4,
    "start_time": "2022-12-02T00:56:20.203Z"
   },
   {
    "duration": 5,
    "start_time": "2022-12-02T00:56:20.208Z"
   },
   {
    "duration": 5,
    "start_time": "2022-12-02T00:56:20.215Z"
   },
   {
    "duration": 11,
    "start_time": "2022-12-02T00:57:04.795Z"
   },
   {
    "duration": 4300,
    "start_time": "2022-12-02T00:57:38.879Z"
   },
   {
    "duration": 863,
    "start_time": "2022-12-02T00:57:43.181Z"
   },
   {
    "duration": 39,
    "start_time": "2022-12-02T00:57:44.045Z"
   },
   {
    "duration": 97,
    "start_time": "2022-12-02T00:57:44.087Z"
   },
   {
    "duration": 11,
    "start_time": "2022-12-02T00:57:44.186Z"
   },
   {
    "duration": 61,
    "start_time": "2022-12-02T00:57:44.198Z"
   },
   {
    "duration": 524,
    "start_time": "2022-12-02T00:57:44.261Z"
   },
   {
    "duration": 5,
    "start_time": "2022-12-02T00:57:44.786Z"
   },
   {
    "duration": 14,
    "start_time": "2022-12-02T00:57:44.792Z"
   },
   {
    "duration": 4,
    "start_time": "2022-12-02T00:57:44.808Z"
   },
   {
    "duration": 5,
    "start_time": "2022-12-02T00:57:44.814Z"
   },
   {
    "duration": 5,
    "start_time": "2022-12-02T00:57:44.820Z"
   },
   {
    "duration": 5107,
    "start_time": "2022-12-02T00:58:21.421Z"
   },
   {
    "duration": 855,
    "start_time": "2022-12-02T00:58:26.530Z"
   },
   {
    "duration": 33,
    "start_time": "2022-12-02T00:58:27.386Z"
   },
   {
    "duration": 87,
    "start_time": "2022-12-02T00:58:27.420Z"
   },
   {
    "duration": 9,
    "start_time": "2022-12-02T00:58:27.509Z"
   },
   {
    "duration": 55,
    "start_time": "2022-12-02T00:58:27.520Z"
   },
   {
    "duration": 511,
    "start_time": "2022-12-02T00:58:27.577Z"
   },
   {
    "duration": 4,
    "start_time": "2022-12-02T00:58:28.089Z"
   },
   {
    "duration": 17,
    "start_time": "2022-12-02T00:58:28.094Z"
   },
   {
    "duration": 4,
    "start_time": "2022-12-02T00:58:28.113Z"
   },
   {
    "duration": 8,
    "start_time": "2022-12-02T00:58:28.119Z"
   },
   {
    "duration": 22,
    "start_time": "2022-12-02T00:58:28.129Z"
   },
   {
    "duration": 4299,
    "start_time": "2022-12-02T00:59:20.942Z"
   },
   {
    "duration": 861,
    "start_time": "2022-12-02T00:59:25.244Z"
   },
   {
    "duration": 46,
    "start_time": "2022-12-02T00:59:26.107Z"
   },
   {
    "duration": 81,
    "start_time": "2022-12-02T00:59:26.155Z"
   },
   {
    "duration": 20,
    "start_time": "2022-12-02T00:59:26.238Z"
   },
   {
    "duration": 42,
    "start_time": "2022-12-02T00:59:26.260Z"
   },
   {
    "duration": 526,
    "start_time": "2022-12-02T00:59:26.304Z"
   },
   {
    "duration": 5,
    "start_time": "2022-12-02T00:59:26.832Z"
   },
   {
    "duration": 44,
    "start_time": "2022-12-02T00:59:26.838Z"
   },
   {
    "duration": 415,
    "start_time": "2022-12-02T00:59:26.885Z"
   },
   {
    "duration": 4115,
    "start_time": "2022-12-02T00:59:42.701Z"
   },
   {
    "duration": 900,
    "start_time": "2022-12-02T00:59:46.819Z"
   },
   {
    "duration": 38,
    "start_time": "2022-12-02T00:59:47.721Z"
   },
   {
    "duration": 78,
    "start_time": "2022-12-02T00:59:47.761Z"
   },
   {
    "duration": 8,
    "start_time": "2022-12-02T00:59:47.852Z"
   },
   {
    "duration": 41,
    "start_time": "2022-12-02T00:59:47.862Z"
   },
   {
    "duration": 543,
    "start_time": "2022-12-02T00:59:47.905Z"
   },
   {
    "duration": 4,
    "start_time": "2022-12-02T00:59:48.450Z"
   },
   {
    "duration": 16,
    "start_time": "2022-12-02T00:59:48.456Z"
   },
   {
    "duration": 1019265,
    "start_time": "2022-12-02T00:59:48.474Z"
   },
   {
    "duration": 9,
    "start_time": "2022-12-02T08:20:41.488Z"
   },
   {
    "duration": 18,
    "start_time": "2022-12-02T08:54:09.612Z"
   },
   {
    "duration": 12988,
    "start_time": "2022-12-02T08:56:26.953Z"
   },
   {
    "duration": 125,
    "start_time": "2022-12-02T09:23:04.197Z"
   },
   {
    "duration": 250,
    "start_time": "2022-12-02T09:29:55.037Z"
   },
   {
    "duration": 309,
    "start_time": "2022-12-02T09:30:31.117Z"
   },
   {
    "duration": 37,
    "start_time": "2022-12-02T09:31:37.839Z"
   },
   {
    "duration": 16703,
    "start_time": "2022-12-02T09:31:58.709Z"
   },
   {
    "duration": 114,
    "start_time": "2022-12-02T09:41:29.111Z"
   },
   {
    "duration": 27,
    "start_time": "2022-12-02T09:41:48.890Z"
   },
   {
    "duration": 13,
    "start_time": "2022-12-02T09:44:19.209Z"
   },
   {
    "duration": 7,
    "start_time": "2022-12-02T09:44:55.299Z"
   },
   {
    "duration": 6,
    "start_time": "2022-12-02T09:45:19.510Z"
   },
   {
    "duration": 139,
    "start_time": "2022-12-02T09:57:10.897Z"
   },
   {
    "duration": 36515,
    "start_time": "2022-12-02T09:57:26.925Z"
   },
   {
    "duration": 47246,
    "start_time": "2022-12-02T09:59:40.265Z"
   },
   {
    "duration": 35859,
    "start_time": "2022-12-02T10:02:07.700Z"
   },
   {
    "duration": 145,
    "start_time": "2022-12-02T10:05:17.504Z"
   },
   {
    "duration": 15723,
    "start_time": "2022-12-02T10:05:22.081Z"
   },
   {
    "duration": 30746,
    "start_time": "2022-12-02T10:06:18.374Z"
   },
   {
    "duration": 96,
    "start_time": "2022-12-02T10:07:50.682Z"
   },
   {
    "duration": 14904,
    "start_time": "2022-12-02T10:07:53.806Z"
   },
   {
    "duration": 50258,
    "start_time": "2022-12-02T10:08:14.147Z"
   },
   {
    "duration": 9,
    "start_time": "2022-12-02T10:20:45.492Z"
   },
   {
    "duration": 5,
    "start_time": "2022-12-02T10:21:02.805Z"
   },
   {
    "duration": 221,
    "start_time": "2022-12-02T10:24:10.316Z"
   },
   {
    "duration": 186,
    "start_time": "2022-12-02T10:24:58.521Z"
   },
   {
    "duration": 4,
    "start_time": "2022-12-02T10:25:10.418Z"
   },
   {
    "duration": 16050,
    "start_time": "2022-12-02T10:25:12.098Z"
   },
   {
    "duration": 10,
    "start_time": "2022-12-02T10:25:43.848Z"
   },
   {
    "duration": 80120,
    "start_time": "2022-12-02T10:25:46.104Z"
   },
   {
    "duration": 135778,
    "start_time": "2022-12-02T10:31:38.584Z"
   },
   {
    "duration": 16751,
    "start_time": "2022-12-02T10:39:48.787Z"
   },
   {
    "duration": 2079,
    "start_time": "2022-12-02T10:40:05.540Z"
   },
   {
    "duration": 41,
    "start_time": "2022-12-02T10:40:07.620Z"
   },
   {
    "duration": 110,
    "start_time": "2022-12-02T10:40:07.674Z"
   },
   {
    "duration": 36,
    "start_time": "2022-12-02T10:40:07.791Z"
   },
   {
    "duration": 50,
    "start_time": "2022-12-02T10:40:07.829Z"
   },
   {
    "duration": 36,
    "start_time": "2022-12-02T10:40:07.880Z"
   },
   {
    "duration": 13,
    "start_time": "2022-12-02T10:40:07.918Z"
   },
   {
    "duration": 1914,
    "start_time": "2022-12-02T10:40:07.933Z"
   },
   {
    "duration": 9435,
    "start_time": "2022-12-02T10:40:09.850Z"
   },
   {
    "duration": 20,
    "start_time": "2022-12-02T10:40:19.291Z"
   },
   {
    "duration": 252,
    "start_time": "2022-12-02T10:40:19.313Z"
   },
   {
    "duration": 18645,
    "start_time": "2022-12-02T10:40:19.570Z"
   },
   {
    "duration": 26086,
    "start_time": "2022-12-02T10:40:38.229Z"
   },
   {
    "duration": 10,
    "start_time": "2022-12-02T10:41:04.322Z"
   },
   {
    "duration": 23,
    "start_time": "2022-12-02T10:41:04.335Z"
   },
   {
    "duration": 5,
    "start_time": "2022-12-02T10:46:45.383Z"
   },
   {
    "duration": 7,
    "start_time": "2022-12-02T10:47:09.096Z"
   },
   {
    "duration": 4,
    "start_time": "2022-12-02T10:47:11.220Z"
   },
   {
    "duration": 504,
    "start_time": "2022-12-02T10:47:13.127Z"
   },
   {
    "duration": 6,
    "start_time": "2022-12-02T10:48:21.902Z"
   },
   {
    "duration": 6,
    "start_time": "2022-12-02T10:48:23.542Z"
   },
   {
    "duration": 68,
    "start_time": "2022-12-02T10:48:25.577Z"
   },
   {
    "duration": 6040,
    "start_time": "2022-12-02T10:59:25.736Z"
   },
   {
    "duration": 1337,
    "start_time": "2022-12-02T10:59:31.784Z"
   },
   {
    "duration": 48,
    "start_time": "2022-12-02T10:59:33.126Z"
   },
   {
    "duration": 176,
    "start_time": "2022-12-02T10:59:33.185Z"
   },
   {
    "duration": 77,
    "start_time": "2022-12-02T10:59:33.363Z"
   },
   {
    "duration": 90,
    "start_time": "2022-12-02T10:59:33.442Z"
   },
   {
    "duration": 940,
    "start_time": "2022-12-02T10:59:33.538Z"
   },
   {
    "duration": 19,
    "start_time": "2022-12-02T10:59:34.480Z"
   },
   {
    "duration": 63,
    "start_time": "2022-12-02T10:59:34.500Z"
   },
   {
    "duration": 1529482,
    "start_time": "2022-12-02T10:59:34.565Z"
   },
   {
    "duration": 23,
    "start_time": "2022-12-02T11:25:04.049Z"
   },
   {
    "duration": 173,
    "start_time": "2022-12-02T11:25:04.082Z"
   },
   {
    "duration": 17933,
    "start_time": "2022-12-02T11:25:04.261Z"
   },
   {
    "duration": 50891,
    "start_time": "2022-12-02T11:25:22.200Z"
   },
   {
    "duration": 10,
    "start_time": "2022-12-02T11:26:13.096Z"
   },
   {
    "duration": 173,
    "start_time": "2022-12-02T11:26:13.115Z"
   },
   {
    "duration": 21,
    "start_time": "2022-12-02T11:27:14.380Z"
   },
   {
    "duration": 19,
    "start_time": "2022-12-02T11:27:26.207Z"
   },
   {
    "duration": 78,
    "start_time": "2022-12-02T11:31:10.867Z"
   },
   {
    "duration": 333141,
    "start_time": "2022-12-02T11:31:25.034Z"
   },
   {
    "duration": 4,
    "start_time": "2022-12-02T11:44:37.215Z"
   },
   {
    "duration": 325878,
    "start_time": "2022-12-02T11:44:39.419Z"
   },
   {
    "duration": 568,
    "start_time": "2022-12-02T11:50:58.595Z"
   },
   {
    "duration": 27,
    "start_time": "2022-12-02T11:51:26.621Z"
   },
   {
    "duration": 43,
    "start_time": "2022-12-02T11:53:01.476Z"
   },
   {
    "duration": 34,
    "start_time": "2022-12-02T11:53:42.792Z"
   },
   {
    "duration": 4,
    "start_time": "2022-12-02T11:54:16.720Z"
   },
   {
    "duration": 340065,
    "start_time": "2022-12-02T11:54:18.927Z"
   },
   {
    "duration": 35,
    "start_time": "2022-12-02T12:02:09.930Z"
   },
   {
    "duration": 237532,
    "start_time": "2022-12-02T13:12:35.479Z"
   },
   {
    "duration": 89,
    "start_time": "2022-12-02T13:39:56.115Z"
   },
   {
    "duration": 155,
    "start_time": "2022-12-02T14:03:32.233Z"
   },
   {
    "duration": 6,
    "start_time": "2022-12-02T14:04:00.142Z"
   },
   {
    "duration": 324481,
    "start_time": "2022-12-02T14:04:05.892Z"
   },
   {
    "duration": 15545,
    "start_time": "2022-12-02T14:17:23.798Z"
   },
   {
    "duration": 1293,
    "start_time": "2022-12-02T14:17:39.345Z"
   },
   {
    "duration": 50,
    "start_time": "2022-12-02T14:17:40.640Z"
   },
   {
    "duration": 129,
    "start_time": "2022-12-02T14:17:40.695Z"
   },
   {
    "duration": 38,
    "start_time": "2022-12-02T14:17:40.827Z"
   },
   {
    "duration": 115,
    "start_time": "2022-12-02T14:17:40.871Z"
   },
   {
    "duration": 852,
    "start_time": "2022-12-02T14:17:40.992Z"
   },
   {
    "duration": 11,
    "start_time": "2022-12-02T14:17:41.846Z"
   },
   {
    "duration": 66,
    "start_time": "2022-12-02T14:17:41.859Z"
   },
   {
    "duration": 1388625,
    "start_time": "2022-12-02T14:17:41.927Z"
   },
   {
    "duration": 19,
    "start_time": "2022-12-02T14:40:50.554Z"
   },
   {
    "duration": 345,
    "start_time": "2022-12-02T14:40:50.580Z"
   },
   {
    "duration": 18601,
    "start_time": "2022-12-02T14:40:50.926Z"
   },
   {
    "duration": 15,
    "start_time": "2022-12-02T14:41:09.538Z"
   },
   {
    "duration": 301219,
    "start_time": "2022-12-02T14:41:09.568Z"
   },
   {
    "duration": 30,
    "start_time": "2022-12-02T14:46:10.790Z"
   },
   {
    "duration": 218269,
    "start_time": "2022-12-02T14:46:10.824Z"
   },
   {
    "duration": 76,
    "start_time": "2022-12-02T14:49:49.097Z"
   },
   {
    "duration": 2118130,
    "start_time": "2022-12-02T14:49:49.181Z"
   },
   {
    "duration": 2363,
    "start_time": "2022-12-02T16:08:27.988Z"
   },
   {
    "duration": 5387,
    "start_time": "2022-12-02T16:14:46.736Z"
   },
   {
    "duration": 2513,
    "start_time": "2022-12-02T16:15:44.415Z"
   },
   {
    "duration": 6247,
    "start_time": "2022-12-02T16:16:02.073Z"
   },
   {
    "duration": 7625,
    "start_time": "2022-12-02T16:16:55.384Z"
   },
   {
    "duration": 13923,
    "start_time": "2022-12-02T16:18:03.068Z"
   },
   {
    "duration": 136,
    "start_time": "2022-12-02T16:21:41.800Z"
   },
   {
    "duration": 137,
    "start_time": "2022-12-02T18:36:50.377Z"
   },
   {
    "duration": 21484,
    "start_time": "2022-12-02T18:36:57.928Z"
   },
   {
    "duration": 4621,
    "start_time": "2022-12-02T18:37:19.414Z"
   },
   {
    "duration": 42,
    "start_time": "2022-12-02T18:37:24.036Z"
   },
   {
    "duration": 101,
    "start_time": "2022-12-02T18:37:24.080Z"
   },
   {
    "duration": 19,
    "start_time": "2022-12-02T18:37:24.183Z"
   },
   {
    "duration": 52,
    "start_time": "2022-12-02T18:37:24.206Z"
   },
   {
    "duration": 815,
    "start_time": "2022-12-02T18:37:24.264Z"
   },
   {
    "duration": 5,
    "start_time": "2022-12-02T18:37:25.080Z"
   },
   {
    "duration": 44,
    "start_time": "2022-12-02T18:37:25.086Z"
   },
   {
    "duration": 1192349,
    "start_time": "2022-12-02T18:37:25.132Z"
   },
   {
    "duration": 6,
    "start_time": "2022-12-02T18:57:17.488Z"
   },
   {
    "duration": 113,
    "start_time": "2022-12-02T18:57:17.496Z"
   },
   {
    "duration": 13222,
    "start_time": "2022-12-02T18:57:17.611Z"
   },
   {
    "duration": 5,
    "start_time": "2022-12-02T18:57:30.835Z"
   },
   {
    "duration": 330535,
    "start_time": "2022-12-02T18:57:30.841Z"
   },
   {
    "duration": 100,
    "start_time": "2022-12-02T19:03:01.382Z"
   },
   {
    "duration": 189441,
    "start_time": "2022-12-02T19:03:01.484Z"
   },
   {
    "duration": 64,
    "start_time": "2022-12-02T19:06:10.927Z"
   },
   {
    "duration": 1780895,
    "start_time": "2022-12-02T19:06:10.994Z"
   },
   {
    "duration": 1723,
    "start_time": "2022-12-02T19:35:51.890Z"
   },
   {
    "duration": 703546,
    "start_time": "2022-12-02T19:35:53.615Z"
   },
   {
    "duration": 1525292,
    "start_time": "2022-12-02T19:48:07.147Z"
   },
   {
    "duration": 414,
    "start_time": "2022-12-02T20:19:56.873Z"
   },
   {
    "duration": 11,
    "start_time": "2022-12-02T20:24:44.297Z"
   },
   {
    "duration": 11,
    "start_time": "2022-12-02T20:25:00.532Z"
   },
   {
    "duration": 10,
    "start_time": "2022-12-02T20:25:18.668Z"
   },
   {
    "duration": 11,
    "start_time": "2022-12-02T20:25:45.606Z"
   },
   {
    "duration": 19,
    "start_time": "2022-12-02T20:27:34.888Z"
   },
   {
    "duration": 18,
    "start_time": "2022-12-02T20:28:17.275Z"
   },
   {
    "duration": 103,
    "start_time": "2022-12-03T00:32:06.033Z"
   },
   {
    "duration": 4048,
    "start_time": "2022-12-03T00:32:12.769Z"
   },
   {
    "duration": 348,
    "start_time": "2022-12-03T00:32:21.863Z"
   },
   {
    "duration": 4633,
    "start_time": "2022-12-03T00:32:39.864Z"
   },
   {
    "duration": 1146,
    "start_time": "2022-12-03T00:32:44.499Z"
   },
   {
    "duration": 28,
    "start_time": "2022-12-03T00:32:45.646Z"
   },
   {
    "duration": 68,
    "start_time": "2022-12-03T00:32:45.675Z"
   },
   {
    "duration": 12,
    "start_time": "2022-12-03T00:32:45.745Z"
   },
   {
    "duration": 35,
    "start_time": "2022-12-03T00:32:45.759Z"
   },
   {
    "duration": 503,
    "start_time": "2022-12-03T00:32:45.795Z"
   },
   {
    "duration": 5,
    "start_time": "2022-12-03T00:32:46.300Z"
   },
   {
    "duration": 17,
    "start_time": "2022-12-03T00:32:46.317Z"
   },
   {
    "duration": 14443,
    "start_time": "2022-12-03T00:32:46.338Z"
   },
   {
    "duration": 828,
    "start_time": "2022-12-03T00:33:00.784Z"
   },
   {
    "duration": 0,
    "start_time": "2022-12-03T00:33:01.614Z"
   },
   {
    "duration": 0,
    "start_time": "2022-12-03T00:33:01.615Z"
   },
   {
    "duration": 0,
    "start_time": "2022-12-03T00:33:01.616Z"
   },
   {
    "duration": 0,
    "start_time": "2022-12-03T00:33:01.618Z"
   },
   {
    "duration": 0,
    "start_time": "2022-12-03T00:33:01.619Z"
   },
   {
    "duration": 0,
    "start_time": "2022-12-03T00:33:01.620Z"
   },
   {
    "duration": 0,
    "start_time": "2022-12-03T00:33:01.620Z"
   },
   {
    "duration": 0,
    "start_time": "2022-12-03T00:33:01.621Z"
   },
   {
    "duration": 0,
    "start_time": "2022-12-03T00:33:01.622Z"
   },
   {
    "duration": 0,
    "start_time": "2022-12-03T00:33:01.623Z"
   },
   {
    "duration": 0,
    "start_time": "2022-12-03T00:33:01.625Z"
   },
   {
    "duration": 0,
    "start_time": "2022-12-03T00:33:01.627Z"
   },
   {
    "duration": 0,
    "start_time": "2022-12-03T00:33:01.628Z"
   },
   {
    "duration": 3873,
    "start_time": "2022-12-03T00:59:13.784Z"
   },
   {
    "duration": 803,
    "start_time": "2022-12-03T00:59:17.659Z"
   },
   {
    "duration": 29,
    "start_time": "2022-12-03T00:59:18.463Z"
   },
   {
    "duration": 81,
    "start_time": "2022-12-03T00:59:18.494Z"
   },
   {
    "duration": 10,
    "start_time": "2022-12-03T00:59:18.577Z"
   },
   {
    "duration": 56,
    "start_time": "2022-12-03T00:59:18.589Z"
   },
   {
    "duration": 675,
    "start_time": "2022-12-03T00:59:18.647Z"
   },
   {
    "duration": 3,
    "start_time": "2022-12-03T00:59:19.324Z"
   },
   {
    "duration": 17,
    "start_time": "2022-12-03T00:59:19.329Z"
   },
   {
    "duration": 916285,
    "start_time": "2022-12-03T00:59:19.348Z"
   },
   {
    "duration": 7,
    "start_time": "2022-12-03T01:14:35.636Z"
   },
   {
    "duration": 91,
    "start_time": "2022-12-03T01:14:35.645Z"
   },
   {
    "duration": 6209,
    "start_time": "2022-12-03T01:14:35.738Z"
   },
   {
    "duration": 4,
    "start_time": "2022-12-03T01:14:41.948Z"
   },
   {
    "duration": 433,
    "start_time": "2022-12-03T01:14:41.953Z"
   },
   {
    "duration": 76,
    "start_time": "2022-12-03T01:14:42.388Z"
   },
   {
    "duration": 75,
    "start_time": "2022-12-03T01:14:42.466Z"
   },
   {
    "duration": 71,
    "start_time": "2022-12-03T01:14:42.542Z"
   },
   {
    "duration": 14,
    "start_time": "2022-12-03T01:14:42.615Z"
   },
   {
    "duration": 0,
    "start_time": "2022-12-03T01:14:42.631Z"
   },
   {
    "duration": 5,
    "start_time": "2022-12-03T01:16:04.427Z"
   },
   {
    "duration": 125,
    "start_time": "2022-12-03T01:16:16.298Z"
   },
   {
    "duration": 97,
    "start_time": "2022-12-03T01:18:19.770Z"
   },
   {
    "duration": 465081,
    "start_time": "2022-12-03T01:19:05.512Z"
   },
   {
    "duration": 3747,
    "start_time": "2022-12-03T01:27:38.057Z"
   },
   {
    "duration": 829,
    "start_time": "2022-12-03T01:27:41.806Z"
   },
   {
    "duration": 33,
    "start_time": "2022-12-03T01:27:42.637Z"
   },
   {
    "duration": 80,
    "start_time": "2022-12-03T01:27:42.673Z"
   },
   {
    "duration": 11,
    "start_time": "2022-12-03T01:27:42.755Z"
   },
   {
    "duration": 64,
    "start_time": "2022-12-03T01:27:42.768Z"
   },
   {
    "duration": 493,
    "start_time": "2022-12-03T01:27:42.834Z"
   },
   {
    "duration": 4,
    "start_time": "2022-12-03T01:27:43.329Z"
   },
   {
    "duration": 14,
    "start_time": "2022-12-03T01:27:43.335Z"
   },
   {
    "duration": 955336,
    "start_time": "2022-12-03T01:27:43.352Z"
   },
   {
    "duration": 6,
    "start_time": "2022-12-03T01:43:38.690Z"
   },
   {
    "duration": 76,
    "start_time": "2022-12-03T01:43:38.697Z"
   },
   {
    "duration": 6663,
    "start_time": "2022-12-03T01:43:38.774Z"
   },
   {
    "duration": 5,
    "start_time": "2022-12-03T01:43:45.439Z"
   },
   {
    "duration": 505157,
    "start_time": "2022-12-03T01:43:45.447Z"
   },
   {
    "duration": 371305,
    "start_time": "2022-12-03T01:52:10.606Z"
   },
   {
    "duration": 1457223,
    "start_time": "2022-12-03T01:58:21.916Z"
   },
   {
    "duration": 2177624,
    "start_time": "2022-12-03T02:22:39.142Z"
   },
   {
    "duration": 8,
    "start_time": "2022-12-03T02:58:56.768Z"
   },
   {
    "duration": 317,
    "start_time": "2022-12-03T02:58:56.777Z"
   },
   {
    "duration": 32,
    "start_time": "2022-12-03T07:35:26.207Z"
   },
   {
    "duration": 88,
    "start_time": "2022-12-03T08:03:03.550Z"
   },
   {
    "duration": 5,
    "start_time": "2022-12-03T08:03:22.132Z"
   },
   {
    "duration": 61,
    "start_time": "2022-12-03T08:03:32.342Z"
   },
   {
    "duration": 63,
    "start_time": "2022-12-03T08:03:47.760Z"
   },
   {
    "duration": 74,
    "start_time": "2022-12-03T08:05:16.053Z"
   },
   {
    "duration": 20394,
    "start_time": "2022-12-03T08:12:24.743Z"
   },
   {
    "duration": 4,
    "start_time": "2022-12-03T08:12:51.551Z"
   },
   {
    "duration": 474566,
    "start_time": "2022-12-03T08:12:54.737Z"
   },
   {
    "duration": 93,
    "start_time": "2022-12-03T08:22:00.594Z"
   },
   {
    "duration": 42617,
    "start_time": "2022-12-03T08:24:15.947Z"
   },
   {
    "duration": 45891,
    "start_time": "2022-12-03T08:25:10.465Z"
   },
   {
    "duration": 155886,
    "start_time": "2022-12-03T08:27:24.614Z"
   },
   {
    "duration": 8068,
    "start_time": "2022-12-03T08:30:28.427Z"
   },
   {
    "duration": 6,
    "start_time": "2022-12-03T08:30:43.975Z"
   },
   {
    "duration": 73569,
    "start_time": "2022-12-03T08:30:49.048Z"
   },
   {
    "duration": 71,
    "start_time": "2022-12-03T08:33:53.921Z"
   },
   {
    "duration": 4,
    "start_time": "2022-12-03T08:34:23.630Z"
   },
   {
    "duration": 18,
    "start_time": "2022-12-03T08:35:56.856Z"
   },
   {
    "duration": 4,
    "start_time": "2022-12-03T08:36:57.613Z"
   },
   {
    "duration": 5,
    "start_time": "2022-12-03T08:37:23.753Z"
   },
   {
    "duration": 5,
    "start_time": "2022-12-03T08:45:15.642Z"
   },
   {
    "duration": 4,
    "start_time": "2022-12-03T08:45:36.779Z"
   },
   {
    "duration": 18,
    "start_time": "2022-12-03T08:46:33.359Z"
   },
   {
    "duration": 19,
    "start_time": "2022-12-03T08:47:29.062Z"
   },
   {
    "duration": 19,
    "start_time": "2022-12-03T08:47:44.032Z"
   },
   {
    "duration": 21,
    "start_time": "2022-12-03T08:49:22.340Z"
   },
   {
    "duration": 6,
    "start_time": "2022-12-03T08:50:29.035Z"
   },
   {
    "duration": 44934,
    "start_time": "2022-12-03T08:52:22.280Z"
   },
   {
    "duration": 6480,
    "start_time": "2022-12-03T08:58:11.344Z"
   },
   {
    "duration": 866,
    "start_time": "2022-12-03T08:58:17.827Z"
   },
   {
    "duration": 37,
    "start_time": "2022-12-03T08:58:18.695Z"
   },
   {
    "duration": 95,
    "start_time": "2022-12-03T08:58:18.734Z"
   },
   {
    "duration": 20,
    "start_time": "2022-12-03T08:58:18.834Z"
   },
   {
    "duration": 51,
    "start_time": "2022-12-03T08:58:18.855Z"
   },
   {
    "duration": 546,
    "start_time": "2022-12-03T08:58:18.907Z"
   },
   {
    "duration": 3,
    "start_time": "2022-12-03T08:58:19.455Z"
   },
   {
    "duration": 18,
    "start_time": "2022-12-03T08:58:19.460Z"
   },
   {
    "duration": 1027212,
    "start_time": "2022-12-03T08:58:19.480Z"
   },
   {
    "duration": 5,
    "start_time": "2022-12-03T09:15:26.694Z"
   },
   {
    "duration": 81,
    "start_time": "2022-12-03T09:15:26.701Z"
   },
   {
    "duration": 7011,
    "start_time": "2022-12-03T09:15:26.784Z"
   },
   {
    "duration": 4,
    "start_time": "2022-12-03T09:15:33.796Z"
   },
   {
    "duration": 466174,
    "start_time": "2022-12-03T09:15:33.802Z"
   },
   {
    "duration": 406715,
    "start_time": "2022-12-03T09:23:19.978Z"
   },
   {
    "duration": 1650738,
    "start_time": "2022-12-03T09:30:06.695Z"
   },
   {
    "duration": 110,
    "start_time": "2022-12-03T10:44:31.184Z"
   },
   {
    "duration": 6909,
    "start_time": "2022-12-03T10:45:03.634Z"
   },
   {
    "duration": 1349,
    "start_time": "2022-12-03T10:45:10.545Z"
   },
   {
    "duration": 37,
    "start_time": "2022-12-03T10:45:11.895Z"
   },
   {
    "duration": 77,
    "start_time": "2022-12-03T10:45:11.935Z"
   },
   {
    "duration": 28,
    "start_time": "2022-12-03T10:45:12.013Z"
   },
   {
    "duration": 39,
    "start_time": "2022-12-03T10:45:12.042Z"
   },
   {
    "duration": 543,
    "start_time": "2022-12-03T10:45:12.082Z"
   },
   {
    "duration": 6,
    "start_time": "2022-12-03T10:45:12.627Z"
   },
   {
    "duration": 15,
    "start_time": "2022-12-03T10:45:12.635Z"
   },
   {
    "duration": 971312,
    "start_time": "2022-12-03T10:45:12.653Z"
   },
   {
    "duration": 6,
    "start_time": "2022-12-03T11:01:23.967Z"
   },
   {
    "duration": 86,
    "start_time": "2022-12-03T11:01:23.974Z"
   },
   {
    "duration": 6342,
    "start_time": "2022-12-03T11:01:24.062Z"
   },
   {
    "duration": 9,
    "start_time": "2022-12-03T11:01:30.406Z"
   },
   {
    "duration": 470404,
    "start_time": "2022-12-03T11:01:30.417Z"
   },
   {
    "duration": 396746,
    "start_time": "2022-12-03T11:09:20.823Z"
   },
   {
    "duration": 1621981,
    "start_time": "2022-12-03T11:15:57.571Z"
   },
   {
    "duration": 96,
    "start_time": "2022-12-03T12:19:21.791Z"
   },
   {
    "duration": 7699,
    "start_time": "2022-12-03T13:05:59.456Z"
   },
   {
    "duration": 1193,
    "start_time": "2022-12-03T13:06:07.157Z"
   },
   {
    "duration": 31,
    "start_time": "2022-12-03T13:06:08.353Z"
   },
   {
    "duration": 73,
    "start_time": "2022-12-03T13:06:08.386Z"
   },
   {
    "duration": 10,
    "start_time": "2022-12-03T13:06:08.460Z"
   },
   {
    "duration": 55,
    "start_time": "2022-12-03T13:06:08.472Z"
   },
   {
    "duration": 468,
    "start_time": "2022-12-03T13:06:08.528Z"
   },
   {
    "duration": 4,
    "start_time": "2022-12-03T13:06:08.997Z"
   },
   {
    "duration": 22,
    "start_time": "2022-12-03T13:06:09.002Z"
   },
   {
    "duration": 1037144,
    "start_time": "2022-12-03T13:06:09.027Z"
   },
   {
    "duration": 6,
    "start_time": "2022-12-03T13:23:26.173Z"
   },
   {
    "duration": 119,
    "start_time": "2022-12-03T13:23:26.180Z"
   },
   {
    "duration": 7293,
    "start_time": "2022-12-03T13:23:26.301Z"
   },
   {
    "duration": 5,
    "start_time": "2022-12-03T13:23:33.597Z"
   },
   {
    "duration": 485314,
    "start_time": "2022-12-03T13:23:33.604Z"
   },
   {
    "duration": 378568,
    "start_time": "2022-12-03T13:31:38.920Z"
   },
   {
    "duration": 265090,
    "start_time": "2022-12-03T13:37:57.490Z"
   },
   {
    "duration": 18720,
    "start_time": "2022-12-03T13:42:22.582Z"
   },
   {
    "duration": 41,
    "start_time": "2022-12-03T13:42:41.304Z"
   },
   {
    "duration": 0,
    "start_time": "2022-12-03T13:42:41.346Z"
   },
   {
    "duration": 0,
    "start_time": "2022-12-03T13:42:41.347Z"
   },
   {
    "duration": 1613361,
    "start_time": "2022-12-03T13:42:56.893Z"
   },
   {
    "duration": 2480098,
    "start_time": "2022-12-03T14:13:33.055Z"
   },
   {
    "duration": 11,
    "start_time": "2022-12-03T15:01:26.059Z"
   },
   {
    "duration": 4,
    "start_time": "2022-12-03T15:01:30.345Z"
   },
   {
    "duration": 49551,
    "start_time": "2022-12-03T15:01:37.772Z"
   }
  ],
  "kernelspec": {
   "display_name": "Python 3 (ipykernel)",
   "language": "python",
   "name": "python3"
  },
  "language_info": {
   "codemirror_mode": {
    "name": "ipython",
    "version": 3
   },
   "file_extension": ".py",
   "mimetype": "text/x-python",
   "name": "python",
   "nbconvert_exporter": "python",
   "pygments_lexer": "ipython3",
   "version": "3.9.13"
  },
  "toc": {
   "base_numbering": 1,
   "nav_menu": {},
   "number_sections": true,
   "sideBar": true,
   "skip_h1_title": true,
   "title_cell": "Содержание",
   "title_sidebar": "Contents",
   "toc_cell": true,
   "toc_position": {
    "height": "calc(100% - 180px)",
    "left": "10px",
    "top": "150px",
    "width": "302.391px"
   },
   "toc_section_display": true,
   "toc_window_display": true
  }
 },
 "nbformat": 4,
 "nbformat_minor": 2
}
