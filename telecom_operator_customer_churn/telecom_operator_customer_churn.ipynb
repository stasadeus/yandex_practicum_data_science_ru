{
 "cells": [
  {
   "cell_type": "markdown",
   "id": "fc4f5fdd",
   "metadata": {},
   "source": [
    "# Прогнозирование оттока клиентов оператора связи"
   ]
  },
  {
   "cell_type": "markdown",
   "id": "428553c6",
   "metadata": {},
   "source": [
    "## Цель исследования"
   ]
  },
  {
   "cell_type": "markdown",
   "id": "97b791f0",
   "metadata": {},
   "source": [
    "Оператор связи хочет научиться прогнозировать отток клиентов. Если выяснится, что пользователь планирует уйти, ему будут предложены промокоды и специальные условия. Команда оператора собрала персональные данные о некоторых клиентах, информацию об их тарифах и договорах.\n",
    "\n",
    "**Задача**  \n",
    "\n",
    "Нужно спрогнозировать, уйдёт клиент от оператора связи ближайшее время или нет. Нам предоставлены персональные данные о некоторых клиентах, исторические данные об их поведении и расторжении договоров с оператором связи. Необходимо построить модель со значением метрики AUC-ROC не менее 0.85.\n",
    "\n",
    "**Описание данных**\n",
    "\n",
    "Данные состоят из файлов, полученных из разных источников:\n",
    "\n",
    "- `contract.csv` — информация о договоре;\n",
    "- `personal.csv` — персональные данные клиента;\n",
    "- `internet.csv` — информация об интернет-услугах;\n",
    "- `phone.csv` — информация об услугах телефонии.\n",
    "\n",
    "Во всех файлах столбец `customerID` содержит код клиента.\n",
    "Информация о договорах актуальна на 1 февраля 2020\n",
    "\n",
    "*Целевой признак*\n",
    "\n",
    "- Факт ухода клиента"
   ]
  },
  {
   "cell_type": "markdown",
   "id": "2c78b76f",
   "metadata": {},
   "source": [
    "## Исследовательский анализ данных"
   ]
  },
  {
   "cell_type": "markdown",
   "id": "88d180e3",
   "metadata": {},
   "source": [
    "Импортируем все необходимые библиотеки для проведения исследования."
   ]
  },
  {
   "cell_type": "code",
   "execution_count": 1,
   "id": "f7f89cf5",
   "metadata": {},
   "outputs": [
    {
     "name": "stdout",
     "output_type": "stream",
     "text": [
      "Requirement already satisfied: phik in c:\\users\\stasa\\anaconda3\\envs\\ds_da_practicum_env\\lib\\site-packages (0.12.3)\n",
      "Requirement already satisfied: numpy>=1.18.0 in c:\\users\\stasa\\anaconda3\\envs\\ds_da_practicum_env\\lib\\site-packages (from phik) (1.21.5)\n",
      "Requirement already satisfied: scipy>=1.5.2 in c:\\users\\stasa\\anaconda3\\envs\\ds_da_practicum_env\\lib\\site-packages (from phik) (1.8.0)\n",
      "Requirement already satisfied: joblib>=0.14.1 in c:\\users\\stasa\\anaconda3\\envs\\ds_da_practicum_env\\lib\\site-packages (from phik) (1.2.0)\n",
      "Requirement already satisfied: pandas>=0.25.1 in c:\\users\\stasa\\anaconda3\\envs\\ds_da_practicum_env\\lib\\site-packages (from phik) (1.4.4)\n",
      "Requirement already satisfied: matplotlib>=2.2.3 in c:\\users\\stasa\\anaconda3\\envs\\ds_da_practicum_env\\lib\\site-packages (from phik) (3.5.2)\n",
      "Requirement already satisfied: packaging>=20.0 in c:\\users\\stasa\\anaconda3\\envs\\ds_da_practicum_env\\lib\\site-packages (from matplotlib>=2.2.3->phik) (21.3)\n",
      "Requirement already satisfied: cycler>=0.10 in c:\\users\\stasa\\anaconda3\\envs\\ds_da_practicum_env\\lib\\site-packages (from matplotlib>=2.2.3->phik) (0.11.0)\n",
      "Requirement already satisfied: pyparsing>=2.2.1 in c:\\users\\stasa\\anaconda3\\envs\\ds_da_practicum_env\\lib\\site-packages (from matplotlib>=2.2.3->phik) (3.0.9)\n",
      "Requirement already satisfied: pillow>=6.2.0 in c:\\users\\stasa\\anaconda3\\envs\\ds_da_practicum_env\\lib\\site-packages (from matplotlib>=2.2.3->phik) (9.2.0)\n",
      "Requirement already satisfied: kiwisolver>=1.0.1 in c:\\users\\stasa\\anaconda3\\envs\\ds_da_practicum_env\\lib\\site-packages (from matplotlib>=2.2.3->phik) (1.4.4)\n",
      "Requirement already satisfied: python-dateutil>=2.7 in c:\\users\\stasa\\anaconda3\\envs\\ds_da_practicum_env\\lib\\site-packages (from matplotlib>=2.2.3->phik) (2.8.2)\n",
      "Requirement already satisfied: fonttools>=4.22.0 in c:\\users\\stasa\\anaconda3\\envs\\ds_da_practicum_env\\lib\\site-packages (from matplotlib>=2.2.3->phik) (4.25.0)\n",
      "Requirement already satisfied: pytz>=2020.1 in c:\\users\\stasa\\anaconda3\\envs\\ds_da_practicum_env\\lib\\site-packages (from pandas>=0.25.1->phik) (2022.2.1)\n",
      "Requirement already satisfied: six>=1.5 in c:\\users\\stasa\\anaconda3\\envs\\ds_da_practicum_env\\lib\\site-packages (from python-dateutil>=2.7->matplotlib>=2.2.3->phik) (1.16.0)\n"
     ]
    }
   ],
   "source": [
    "!pip install phik"
   ]
  },
  {
   "cell_type": "code",
   "execution_count": 2,
   "id": "22d580f8",
   "metadata": {},
   "outputs": [],
   "source": [
    "RANDOM_STATE = 300123\n",
    "\n",
    "import numpy as np\n",
    "import pandas as pd\n",
    "import matplotlib.pyplot as plt\n",
    "import seaborn as sns\n",
    "import phik\n",
    "import warnings\n",
    "\n",
    "from sklearn.model_selection import train_test_split, GridSearchCV\n",
    "from sklearn.preprocessing import StandardScaler, OneHotEncoder\n",
    "from sklearn.linear_model import LogisticRegression\n",
    "from sklearn.metrics import accuracy_score, recall_score, precision_score, f1_score, roc_auc_score, confusion_matrix, ConfusionMatrixDisplay\n",
    "from catboost import CatBoostClassifier, Pool\n",
    "from lightgbm import LGBMClassifier\n",
    "\n",
    "warnings.filterwarnings('ignore')"
   ]
  },
  {
   "cell_type": "markdown",
   "id": "e91b8262",
   "metadata": {},
   "source": [
    "Загрузим и изучим данные."
   ]
  },
  {
   "cell_type": "markdown",
   "id": "7fb03d3f",
   "metadata": {},
   "source": [
    "**1) Датафрейм с информацией о договоре.**"
   ]
  },
  {
   "cell_type": "code",
   "execution_count": 3,
   "id": "ae18aad5",
   "metadata": {
    "scrolled": false
   },
   "outputs": [],
   "source": [
    "try:\n",
    "    df_contract = pd.read_csv('contract.csv')\n",
    "except:\n",
    "    df_contract = pd.read_csv('/datasets/final_provider/contract.csv')"
   ]
  },
  {
   "cell_type": "code",
   "execution_count": 4,
   "id": "5b061b9f",
   "metadata": {},
   "outputs": [
    {
     "data": {
      "text/html": [
       "<div>\n",
       "<style scoped>\n",
       "    .dataframe tbody tr th:only-of-type {\n",
       "        vertical-align: middle;\n",
       "    }\n",
       "\n",
       "    .dataframe tbody tr th {\n",
       "        vertical-align: top;\n",
       "    }\n",
       "\n",
       "    .dataframe thead th {\n",
       "        text-align: right;\n",
       "    }\n",
       "</style>\n",
       "<table border=\"1\" class=\"dataframe\">\n",
       "  <thead>\n",
       "    <tr style=\"text-align: right;\">\n",
       "      <th></th>\n",
       "      <th>customerID</th>\n",
       "      <th>BeginDate</th>\n",
       "      <th>EndDate</th>\n",
       "      <th>Type</th>\n",
       "      <th>PaperlessBilling</th>\n",
       "      <th>PaymentMethod</th>\n",
       "      <th>MonthlyCharges</th>\n",
       "      <th>TotalCharges</th>\n",
       "    </tr>\n",
       "  </thead>\n",
       "  <tbody>\n",
       "    <tr>\n",
       "      <th>0</th>\n",
       "      <td>7590-VHVEG</td>\n",
       "      <td>2020-01-01</td>\n",
       "      <td>No</td>\n",
       "      <td>Month-to-month</td>\n",
       "      <td>Yes</td>\n",
       "      <td>Electronic check</td>\n",
       "      <td>29.85</td>\n",
       "      <td>29.85</td>\n",
       "    </tr>\n",
       "    <tr>\n",
       "      <th>1</th>\n",
       "      <td>5575-GNVDE</td>\n",
       "      <td>2017-04-01</td>\n",
       "      <td>No</td>\n",
       "      <td>One year</td>\n",
       "      <td>No</td>\n",
       "      <td>Mailed check</td>\n",
       "      <td>56.95</td>\n",
       "      <td>1889.5</td>\n",
       "    </tr>\n",
       "    <tr>\n",
       "      <th>2</th>\n",
       "      <td>3668-QPYBK</td>\n",
       "      <td>2019-10-01</td>\n",
       "      <td>2019-12-01 00:00:00</td>\n",
       "      <td>Month-to-month</td>\n",
       "      <td>Yes</td>\n",
       "      <td>Mailed check</td>\n",
       "      <td>53.85</td>\n",
       "      <td>108.15</td>\n",
       "    </tr>\n",
       "    <tr>\n",
       "      <th>3</th>\n",
       "      <td>7795-CFOCW</td>\n",
       "      <td>2016-05-01</td>\n",
       "      <td>No</td>\n",
       "      <td>One year</td>\n",
       "      <td>No</td>\n",
       "      <td>Bank transfer (automatic)</td>\n",
       "      <td>42.30</td>\n",
       "      <td>1840.75</td>\n",
       "    </tr>\n",
       "    <tr>\n",
       "      <th>4</th>\n",
       "      <td>9237-HQITU</td>\n",
       "      <td>2019-09-01</td>\n",
       "      <td>2019-11-01 00:00:00</td>\n",
       "      <td>Month-to-month</td>\n",
       "      <td>Yes</td>\n",
       "      <td>Electronic check</td>\n",
       "      <td>70.70</td>\n",
       "      <td>151.65</td>\n",
       "    </tr>\n",
       "  </tbody>\n",
       "</table>\n",
       "</div>"
      ],
      "text/plain": [
       "   customerID   BeginDate              EndDate            Type  \\\n",
       "0  7590-VHVEG  2020-01-01                   No  Month-to-month   \n",
       "1  5575-GNVDE  2017-04-01                   No        One year   \n",
       "2  3668-QPYBK  2019-10-01  2019-12-01 00:00:00  Month-to-month   \n",
       "3  7795-CFOCW  2016-05-01                   No        One year   \n",
       "4  9237-HQITU  2019-09-01  2019-11-01 00:00:00  Month-to-month   \n",
       "\n",
       "  PaperlessBilling              PaymentMethod  MonthlyCharges TotalCharges  \n",
       "0              Yes           Electronic check           29.85        29.85  \n",
       "1               No               Mailed check           56.95       1889.5  \n",
       "2              Yes               Mailed check           53.85       108.15  \n",
       "3               No  Bank transfer (automatic)           42.30      1840.75  \n",
       "4              Yes           Electronic check           70.70       151.65  "
      ]
     },
     "execution_count": 4,
     "metadata": {},
     "output_type": "execute_result"
    }
   ],
   "source": [
    "df_contract.head()"
   ]
  },
  {
   "cell_type": "code",
   "execution_count": 5,
   "id": "20de40f2",
   "metadata": {
    "scrolled": true
   },
   "outputs": [
    {
     "name": "stdout",
     "output_type": "stream",
     "text": [
      "<class 'pandas.core.frame.DataFrame'>\n",
      "RangeIndex: 7043 entries, 0 to 7042\n",
      "Data columns (total 8 columns):\n",
      " #   Column            Non-Null Count  Dtype  \n",
      "---  ------            --------------  -----  \n",
      " 0   customerID        7043 non-null   object \n",
      " 1   BeginDate         7043 non-null   object \n",
      " 2   EndDate           7043 non-null   object \n",
      " 3   Type              7043 non-null   object \n",
      " 4   PaperlessBilling  7043 non-null   object \n",
      " 5   PaymentMethod     7043 non-null   object \n",
      " 6   MonthlyCharges    7043 non-null   float64\n",
      " 7   TotalCharges      7043 non-null   object \n",
      "dtypes: float64(1), object(7)\n",
      "memory usage: 440.3+ KB\n"
     ]
    }
   ],
   "source": [
    "df_contract.info()"
   ]
  },
  {
   "cell_type": "markdown",
   "id": "aa6b6146",
   "metadata": {},
   "source": [
    "Данный датафрейм должен содержать целевой признак - факт ухода клиента, но в таблице его нет. О факте ухода можно судить по наличию даты окончания договора."
   ]
  },
  {
   "cell_type": "markdown",
   "id": "5e6d58d8",
   "metadata": {},
   "source": [
    "В датафрейме нет пропусков, но потребуется изменить типы данных некоторых столбцов."
   ]
  },
  {
   "cell_type": "code",
   "execution_count": 6,
   "id": "beefcc26",
   "metadata": {
    "scrolled": false
   },
   "outputs": [
    {
     "data": {
      "text/html": [
       "<div>\n",
       "<style scoped>\n",
       "    .dataframe tbody tr th:only-of-type {\n",
       "        vertical-align: middle;\n",
       "    }\n",
       "\n",
       "    .dataframe tbody tr th {\n",
       "        vertical-align: top;\n",
       "    }\n",
       "\n",
       "    .dataframe thead th {\n",
       "        text-align: right;\n",
       "    }\n",
       "</style>\n",
       "<table border=\"1\" class=\"dataframe\">\n",
       "  <thead>\n",
       "    <tr style=\"text-align: right;\">\n",
       "      <th></th>\n",
       "      <th>customerID</th>\n",
       "      <th>BeginDate</th>\n",
       "      <th>EndDate</th>\n",
       "      <th>Type</th>\n",
       "      <th>PaperlessBilling</th>\n",
       "      <th>PaymentMethod</th>\n",
       "      <th>MonthlyCharges</th>\n",
       "      <th>TotalCharges</th>\n",
       "    </tr>\n",
       "  </thead>\n",
       "  <tbody>\n",
       "    <tr>\n",
       "      <th>count</th>\n",
       "      <td>7043</td>\n",
       "      <td>7043</td>\n",
       "      <td>7043</td>\n",
       "      <td>7043</td>\n",
       "      <td>7043</td>\n",
       "      <td>7043</td>\n",
       "      <td>7043.000000</td>\n",
       "      <td>7043</td>\n",
       "    </tr>\n",
       "    <tr>\n",
       "      <th>unique</th>\n",
       "      <td>7043</td>\n",
       "      <td>77</td>\n",
       "      <td>5</td>\n",
       "      <td>3</td>\n",
       "      <td>2</td>\n",
       "      <td>4</td>\n",
       "      <td>NaN</td>\n",
       "      <td>6531</td>\n",
       "    </tr>\n",
       "    <tr>\n",
       "      <th>top</th>\n",
       "      <td>7590-VHVEG</td>\n",
       "      <td>2014-02-01</td>\n",
       "      <td>No</td>\n",
       "      <td>Month-to-month</td>\n",
       "      <td>Yes</td>\n",
       "      <td>Electronic check</td>\n",
       "      <td>NaN</td>\n",
       "      <td></td>\n",
       "    </tr>\n",
       "    <tr>\n",
       "      <th>freq</th>\n",
       "      <td>1</td>\n",
       "      <td>366</td>\n",
       "      <td>5174</td>\n",
       "      <td>3875</td>\n",
       "      <td>4171</td>\n",
       "      <td>2365</td>\n",
       "      <td>NaN</td>\n",
       "      <td>11</td>\n",
       "    </tr>\n",
       "    <tr>\n",
       "      <th>mean</th>\n",
       "      <td>NaN</td>\n",
       "      <td>NaN</td>\n",
       "      <td>NaN</td>\n",
       "      <td>NaN</td>\n",
       "      <td>NaN</td>\n",
       "      <td>NaN</td>\n",
       "      <td>64.761692</td>\n",
       "      <td>NaN</td>\n",
       "    </tr>\n",
       "    <tr>\n",
       "      <th>std</th>\n",
       "      <td>NaN</td>\n",
       "      <td>NaN</td>\n",
       "      <td>NaN</td>\n",
       "      <td>NaN</td>\n",
       "      <td>NaN</td>\n",
       "      <td>NaN</td>\n",
       "      <td>30.090047</td>\n",
       "      <td>NaN</td>\n",
       "    </tr>\n",
       "    <tr>\n",
       "      <th>min</th>\n",
       "      <td>NaN</td>\n",
       "      <td>NaN</td>\n",
       "      <td>NaN</td>\n",
       "      <td>NaN</td>\n",
       "      <td>NaN</td>\n",
       "      <td>NaN</td>\n",
       "      <td>18.250000</td>\n",
       "      <td>NaN</td>\n",
       "    </tr>\n",
       "    <tr>\n",
       "      <th>25%</th>\n",
       "      <td>NaN</td>\n",
       "      <td>NaN</td>\n",
       "      <td>NaN</td>\n",
       "      <td>NaN</td>\n",
       "      <td>NaN</td>\n",
       "      <td>NaN</td>\n",
       "      <td>35.500000</td>\n",
       "      <td>NaN</td>\n",
       "    </tr>\n",
       "    <tr>\n",
       "      <th>50%</th>\n",
       "      <td>NaN</td>\n",
       "      <td>NaN</td>\n",
       "      <td>NaN</td>\n",
       "      <td>NaN</td>\n",
       "      <td>NaN</td>\n",
       "      <td>NaN</td>\n",
       "      <td>70.350000</td>\n",
       "      <td>NaN</td>\n",
       "    </tr>\n",
       "    <tr>\n",
       "      <th>75%</th>\n",
       "      <td>NaN</td>\n",
       "      <td>NaN</td>\n",
       "      <td>NaN</td>\n",
       "      <td>NaN</td>\n",
       "      <td>NaN</td>\n",
       "      <td>NaN</td>\n",
       "      <td>89.850000</td>\n",
       "      <td>NaN</td>\n",
       "    </tr>\n",
       "    <tr>\n",
       "      <th>max</th>\n",
       "      <td>NaN</td>\n",
       "      <td>NaN</td>\n",
       "      <td>NaN</td>\n",
       "      <td>NaN</td>\n",
       "      <td>NaN</td>\n",
       "      <td>NaN</td>\n",
       "      <td>118.750000</td>\n",
       "      <td>NaN</td>\n",
       "    </tr>\n",
       "  </tbody>\n",
       "</table>\n",
       "</div>"
      ],
      "text/plain": [
       "        customerID   BeginDate EndDate            Type PaperlessBilling  \\\n",
       "count         7043        7043    7043            7043             7043   \n",
       "unique        7043          77       5               3                2   \n",
       "top     7590-VHVEG  2014-02-01      No  Month-to-month              Yes   \n",
       "freq             1         366    5174            3875             4171   \n",
       "mean           NaN         NaN     NaN             NaN              NaN   \n",
       "std            NaN         NaN     NaN             NaN              NaN   \n",
       "min            NaN         NaN     NaN             NaN              NaN   \n",
       "25%            NaN         NaN     NaN             NaN              NaN   \n",
       "50%            NaN         NaN     NaN             NaN              NaN   \n",
       "75%            NaN         NaN     NaN             NaN              NaN   \n",
       "max            NaN         NaN     NaN             NaN              NaN   \n",
       "\n",
       "           PaymentMethod  MonthlyCharges TotalCharges  \n",
       "count               7043     7043.000000         7043  \n",
       "unique                 4             NaN         6531  \n",
       "top     Electronic check             NaN               \n",
       "freq                2365             NaN           11  \n",
       "mean                 NaN       64.761692          NaN  \n",
       "std                  NaN       30.090047          NaN  \n",
       "min                  NaN       18.250000          NaN  \n",
       "25%                  NaN       35.500000          NaN  \n",
       "50%                  NaN       70.350000          NaN  \n",
       "75%                  NaN       89.850000          NaN  \n",
       "max                  NaN      118.750000          NaN  "
      ]
     },
     "execution_count": 6,
     "metadata": {},
     "output_type": "execute_result"
    }
   ],
   "source": [
    "df_contract.describe(include='all')"
   ]
  },
  {
   "cell_type": "code",
   "execution_count": 7,
   "id": "c1c73b51",
   "metadata": {},
   "outputs": [
    {
     "data": {
      "text/plain": [
       "array(['Month-to-month', 'One year', 'Two year'], dtype=object)"
      ]
     },
     "execution_count": 7,
     "metadata": {},
     "output_type": "execute_result"
    }
   ],
   "source": [
    "df_contract['Type'].unique()"
   ]
  },
  {
   "cell_type": "code",
   "execution_count": 8,
   "id": "73eb9068",
   "metadata": {},
   "outputs": [
    {
     "data": {
      "text/plain": [
       "array(['Electronic check', 'Mailed check', 'Bank transfer (automatic)',\n",
       "       'Credit card (automatic)'], dtype=object)"
      ]
     },
     "execution_count": 8,
     "metadata": {},
     "output_type": "execute_result"
    }
   ],
   "source": [
    "df_contract['PaymentMethod'].unique()"
   ]
  },
  {
   "cell_type": "markdown",
   "id": "a7147317",
   "metadata": {},
   "source": [
    "В данном датасете необходимо будет сформировать целевой признак и новый признак, отражающий сколько времени человек был клиентом компании. Для этого значения `No` в столбце `EndDate` необходимо будет заменить на дату 2020-02-01 - актуальную дату информации о договорах."
   ]
  },
  {
   "cell_type": "markdown",
   "id": "786a564b",
   "metadata": {},
   "source": [
    "**2) Датафрейм с персональными данными клиентов**"
   ]
  },
  {
   "cell_type": "code",
   "execution_count": 9,
   "id": "821572d6",
   "metadata": {
    "scrolled": true
   },
   "outputs": [
    {
     "data": {
      "text/html": [
       "<div>\n",
       "<style scoped>\n",
       "    .dataframe tbody tr th:only-of-type {\n",
       "        vertical-align: middle;\n",
       "    }\n",
       "\n",
       "    .dataframe tbody tr th {\n",
       "        vertical-align: top;\n",
       "    }\n",
       "\n",
       "    .dataframe thead th {\n",
       "        text-align: right;\n",
       "    }\n",
       "</style>\n",
       "<table border=\"1\" class=\"dataframe\">\n",
       "  <thead>\n",
       "    <tr style=\"text-align: right;\">\n",
       "      <th></th>\n",
       "      <th>customerID</th>\n",
       "      <th>gender</th>\n",
       "      <th>SeniorCitizen</th>\n",
       "      <th>Partner</th>\n",
       "      <th>Dependents</th>\n",
       "    </tr>\n",
       "  </thead>\n",
       "  <tbody>\n",
       "    <tr>\n",
       "      <th>0</th>\n",
       "      <td>7590-VHVEG</td>\n",
       "      <td>Female</td>\n",
       "      <td>0</td>\n",
       "      <td>Yes</td>\n",
       "      <td>No</td>\n",
       "    </tr>\n",
       "    <tr>\n",
       "      <th>1</th>\n",
       "      <td>5575-GNVDE</td>\n",
       "      <td>Male</td>\n",
       "      <td>0</td>\n",
       "      <td>No</td>\n",
       "      <td>No</td>\n",
       "    </tr>\n",
       "    <tr>\n",
       "      <th>2</th>\n",
       "      <td>3668-QPYBK</td>\n",
       "      <td>Male</td>\n",
       "      <td>0</td>\n",
       "      <td>No</td>\n",
       "      <td>No</td>\n",
       "    </tr>\n",
       "    <tr>\n",
       "      <th>3</th>\n",
       "      <td>7795-CFOCW</td>\n",
       "      <td>Male</td>\n",
       "      <td>0</td>\n",
       "      <td>No</td>\n",
       "      <td>No</td>\n",
       "    </tr>\n",
       "    <tr>\n",
       "      <th>4</th>\n",
       "      <td>9237-HQITU</td>\n",
       "      <td>Female</td>\n",
       "      <td>0</td>\n",
       "      <td>No</td>\n",
       "      <td>No</td>\n",
       "    </tr>\n",
       "  </tbody>\n",
       "</table>\n",
       "</div>"
      ],
      "text/plain": [
       "   customerID  gender  SeniorCitizen Partner Dependents\n",
       "0  7590-VHVEG  Female              0     Yes         No\n",
       "1  5575-GNVDE    Male              0      No         No\n",
       "2  3668-QPYBK    Male              0      No         No\n",
       "3  7795-CFOCW    Male              0      No         No\n",
       "4  9237-HQITU  Female              0      No         No"
      ]
     },
     "execution_count": 9,
     "metadata": {},
     "output_type": "execute_result"
    }
   ],
   "source": [
    "try: \n",
    "    df_personal = pd.read_csv('personal.csv')\n",
    "except: \n",
    "    df_personal = pd.read_csv('/datasets/final_provider/personal.csv')\n",
    "\n",
    "df_personal.head()"
   ]
  },
  {
   "cell_type": "code",
   "execution_count": 10,
   "id": "7f2c74d2",
   "metadata": {},
   "outputs": [
    {
     "name": "stdout",
     "output_type": "stream",
     "text": [
      "<class 'pandas.core.frame.DataFrame'>\n",
      "RangeIndex: 7043 entries, 0 to 7042\n",
      "Data columns (total 5 columns):\n",
      " #   Column         Non-Null Count  Dtype \n",
      "---  ------         --------------  ----- \n",
      " 0   customerID     7043 non-null   object\n",
      " 1   gender         7043 non-null   object\n",
      " 2   SeniorCitizen  7043 non-null   int64 \n",
      " 3   Partner        7043 non-null   object\n",
      " 4   Dependents     7043 non-null   object\n",
      "dtypes: int64(1), object(4)\n",
      "memory usage: 275.2+ KB\n"
     ]
    }
   ],
   "source": [
    "df_personal.info()"
   ]
  },
  {
   "cell_type": "code",
   "execution_count": 11,
   "id": "0b4b029d",
   "metadata": {
    "scrolled": false
   },
   "outputs": [
    {
     "data": {
      "text/html": [
       "<div>\n",
       "<style scoped>\n",
       "    .dataframe tbody tr th:only-of-type {\n",
       "        vertical-align: middle;\n",
       "    }\n",
       "\n",
       "    .dataframe tbody tr th {\n",
       "        vertical-align: top;\n",
       "    }\n",
       "\n",
       "    .dataframe thead th {\n",
       "        text-align: right;\n",
       "    }\n",
       "</style>\n",
       "<table border=\"1\" class=\"dataframe\">\n",
       "  <thead>\n",
       "    <tr style=\"text-align: right;\">\n",
       "      <th></th>\n",
       "      <th>customerID</th>\n",
       "      <th>gender</th>\n",
       "      <th>SeniorCitizen</th>\n",
       "      <th>Partner</th>\n",
       "      <th>Dependents</th>\n",
       "    </tr>\n",
       "  </thead>\n",
       "  <tbody>\n",
       "    <tr>\n",
       "      <th>count</th>\n",
       "      <td>7043</td>\n",
       "      <td>7043</td>\n",
       "      <td>7043.000000</td>\n",
       "      <td>7043</td>\n",
       "      <td>7043</td>\n",
       "    </tr>\n",
       "    <tr>\n",
       "      <th>unique</th>\n",
       "      <td>7043</td>\n",
       "      <td>2</td>\n",
       "      <td>NaN</td>\n",
       "      <td>2</td>\n",
       "      <td>2</td>\n",
       "    </tr>\n",
       "    <tr>\n",
       "      <th>top</th>\n",
       "      <td>7590-VHVEG</td>\n",
       "      <td>Male</td>\n",
       "      <td>NaN</td>\n",
       "      <td>No</td>\n",
       "      <td>No</td>\n",
       "    </tr>\n",
       "    <tr>\n",
       "      <th>freq</th>\n",
       "      <td>1</td>\n",
       "      <td>3555</td>\n",
       "      <td>NaN</td>\n",
       "      <td>3641</td>\n",
       "      <td>4933</td>\n",
       "    </tr>\n",
       "    <tr>\n",
       "      <th>mean</th>\n",
       "      <td>NaN</td>\n",
       "      <td>NaN</td>\n",
       "      <td>0.162147</td>\n",
       "      <td>NaN</td>\n",
       "      <td>NaN</td>\n",
       "    </tr>\n",
       "    <tr>\n",
       "      <th>std</th>\n",
       "      <td>NaN</td>\n",
       "      <td>NaN</td>\n",
       "      <td>0.368612</td>\n",
       "      <td>NaN</td>\n",
       "      <td>NaN</td>\n",
       "    </tr>\n",
       "    <tr>\n",
       "      <th>min</th>\n",
       "      <td>NaN</td>\n",
       "      <td>NaN</td>\n",
       "      <td>0.000000</td>\n",
       "      <td>NaN</td>\n",
       "      <td>NaN</td>\n",
       "    </tr>\n",
       "    <tr>\n",
       "      <th>25%</th>\n",
       "      <td>NaN</td>\n",
       "      <td>NaN</td>\n",
       "      <td>0.000000</td>\n",
       "      <td>NaN</td>\n",
       "      <td>NaN</td>\n",
       "    </tr>\n",
       "    <tr>\n",
       "      <th>50%</th>\n",
       "      <td>NaN</td>\n",
       "      <td>NaN</td>\n",
       "      <td>0.000000</td>\n",
       "      <td>NaN</td>\n",
       "      <td>NaN</td>\n",
       "    </tr>\n",
       "    <tr>\n",
       "      <th>75%</th>\n",
       "      <td>NaN</td>\n",
       "      <td>NaN</td>\n",
       "      <td>0.000000</td>\n",
       "      <td>NaN</td>\n",
       "      <td>NaN</td>\n",
       "    </tr>\n",
       "    <tr>\n",
       "      <th>max</th>\n",
       "      <td>NaN</td>\n",
       "      <td>NaN</td>\n",
       "      <td>1.000000</td>\n",
       "      <td>NaN</td>\n",
       "      <td>NaN</td>\n",
       "    </tr>\n",
       "  </tbody>\n",
       "</table>\n",
       "</div>"
      ],
      "text/plain": [
       "        customerID gender  SeniorCitizen Partner Dependents\n",
       "count         7043   7043    7043.000000    7043       7043\n",
       "unique        7043      2            NaN       2          2\n",
       "top     7590-VHVEG   Male            NaN      No         No\n",
       "freq             1   3555            NaN    3641       4933\n",
       "mean           NaN    NaN       0.162147     NaN        NaN\n",
       "std            NaN    NaN       0.368612     NaN        NaN\n",
       "min            NaN    NaN       0.000000     NaN        NaN\n",
       "25%            NaN    NaN       0.000000     NaN        NaN\n",
       "50%            NaN    NaN       0.000000     NaN        NaN\n",
       "75%            NaN    NaN       0.000000     NaN        NaN\n",
       "max            NaN    NaN       1.000000     NaN        NaN"
      ]
     },
     "execution_count": 11,
     "metadata": {},
     "output_type": "execute_result"
    }
   ],
   "source": [
    "df_personal.describe(include='all')"
   ]
  },
  {
   "cell_type": "code",
   "execution_count": 12,
   "id": "21e7a330",
   "metadata": {
    "scrolled": true
   },
   "outputs": [
    {
     "data": {
      "text/plain": [
       "array(['Yes', 'No'], dtype=object)"
      ]
     },
     "execution_count": 12,
     "metadata": {},
     "output_type": "execute_result"
    }
   ],
   "source": [
    "df_personal['Partner'].unique()"
   ]
  },
  {
   "cell_type": "code",
   "execution_count": 13,
   "id": "08de3aac",
   "metadata": {},
   "outputs": [
    {
     "data": {
      "text/plain": [
       "array(['No', 'Yes'], dtype=object)"
      ]
     },
     "execution_count": 13,
     "metadata": {},
     "output_type": "execute_result"
    }
   ],
   "source": [
    "df_personal['Dependents'].unique()"
   ]
  },
  {
   "cell_type": "markdown",
   "id": "cf394812",
   "metadata": {},
   "source": [
    "В датафоейме также нет пропусков. Потребуется привести значения столбцов `gender`, `Partner` и `Dependents` к бинарному виду и типу *int8*."
   ]
  },
  {
   "cell_type": "markdown",
   "id": "91376330",
   "metadata": {},
   "source": [
    "**3) Датафрейм с информацией об интернет-услугах**"
   ]
  },
  {
   "cell_type": "code",
   "execution_count": 14,
   "id": "662d79a3",
   "metadata": {
    "scrolled": true
   },
   "outputs": [
    {
     "data": {
      "text/html": [
       "<div>\n",
       "<style scoped>\n",
       "    .dataframe tbody tr th:only-of-type {\n",
       "        vertical-align: middle;\n",
       "    }\n",
       "\n",
       "    .dataframe tbody tr th {\n",
       "        vertical-align: top;\n",
       "    }\n",
       "\n",
       "    .dataframe thead th {\n",
       "        text-align: right;\n",
       "    }\n",
       "</style>\n",
       "<table border=\"1\" class=\"dataframe\">\n",
       "  <thead>\n",
       "    <tr style=\"text-align: right;\">\n",
       "      <th></th>\n",
       "      <th>customerID</th>\n",
       "      <th>InternetService</th>\n",
       "      <th>OnlineSecurity</th>\n",
       "      <th>OnlineBackup</th>\n",
       "      <th>DeviceProtection</th>\n",
       "      <th>TechSupport</th>\n",
       "      <th>StreamingTV</th>\n",
       "      <th>StreamingMovies</th>\n",
       "    </tr>\n",
       "  </thead>\n",
       "  <tbody>\n",
       "    <tr>\n",
       "      <th>0</th>\n",
       "      <td>7590-VHVEG</td>\n",
       "      <td>DSL</td>\n",
       "      <td>No</td>\n",
       "      <td>Yes</td>\n",
       "      <td>No</td>\n",
       "      <td>No</td>\n",
       "      <td>No</td>\n",
       "      <td>No</td>\n",
       "    </tr>\n",
       "    <tr>\n",
       "      <th>1</th>\n",
       "      <td>5575-GNVDE</td>\n",
       "      <td>DSL</td>\n",
       "      <td>Yes</td>\n",
       "      <td>No</td>\n",
       "      <td>Yes</td>\n",
       "      <td>No</td>\n",
       "      <td>No</td>\n",
       "      <td>No</td>\n",
       "    </tr>\n",
       "    <tr>\n",
       "      <th>2</th>\n",
       "      <td>3668-QPYBK</td>\n",
       "      <td>DSL</td>\n",
       "      <td>Yes</td>\n",
       "      <td>Yes</td>\n",
       "      <td>No</td>\n",
       "      <td>No</td>\n",
       "      <td>No</td>\n",
       "      <td>No</td>\n",
       "    </tr>\n",
       "    <tr>\n",
       "      <th>3</th>\n",
       "      <td>7795-CFOCW</td>\n",
       "      <td>DSL</td>\n",
       "      <td>Yes</td>\n",
       "      <td>No</td>\n",
       "      <td>Yes</td>\n",
       "      <td>Yes</td>\n",
       "      <td>No</td>\n",
       "      <td>No</td>\n",
       "    </tr>\n",
       "    <tr>\n",
       "      <th>4</th>\n",
       "      <td>9237-HQITU</td>\n",
       "      <td>Fiber optic</td>\n",
       "      <td>No</td>\n",
       "      <td>No</td>\n",
       "      <td>No</td>\n",
       "      <td>No</td>\n",
       "      <td>No</td>\n",
       "      <td>No</td>\n",
       "    </tr>\n",
       "  </tbody>\n",
       "</table>\n",
       "</div>"
      ],
      "text/plain": [
       "   customerID InternetService OnlineSecurity OnlineBackup DeviceProtection  \\\n",
       "0  7590-VHVEG             DSL             No          Yes               No   \n",
       "1  5575-GNVDE             DSL            Yes           No              Yes   \n",
       "2  3668-QPYBK             DSL            Yes          Yes               No   \n",
       "3  7795-CFOCW             DSL            Yes           No              Yes   \n",
       "4  9237-HQITU     Fiber optic             No           No               No   \n",
       "\n",
       "  TechSupport StreamingTV StreamingMovies  \n",
       "0          No          No              No  \n",
       "1          No          No              No  \n",
       "2          No          No              No  \n",
       "3         Yes          No              No  \n",
       "4          No          No              No  "
      ]
     },
     "execution_count": 14,
     "metadata": {},
     "output_type": "execute_result"
    }
   ],
   "source": [
    "try: \n",
    "    df_internet = pd.read_csv('internet.csv')\n",
    "except: \n",
    "    df_internet = pd.read_csv('/datasets/final_provider/internet.csv')\n",
    "    \n",
    "df_internet.head()"
   ]
  },
  {
   "cell_type": "code",
   "execution_count": 15,
   "id": "aca3c86e",
   "metadata": {},
   "outputs": [
    {
     "name": "stdout",
     "output_type": "stream",
     "text": [
      "<class 'pandas.core.frame.DataFrame'>\n",
      "RangeIndex: 5517 entries, 0 to 5516\n",
      "Data columns (total 8 columns):\n",
      " #   Column            Non-Null Count  Dtype \n",
      "---  ------            --------------  ----- \n",
      " 0   customerID        5517 non-null   object\n",
      " 1   InternetService   5517 non-null   object\n",
      " 2   OnlineSecurity    5517 non-null   object\n",
      " 3   OnlineBackup      5517 non-null   object\n",
      " 4   DeviceProtection  5517 non-null   object\n",
      " 5   TechSupport       5517 non-null   object\n",
      " 6   StreamingTV       5517 non-null   object\n",
      " 7   StreamingMovies   5517 non-null   object\n",
      "dtypes: object(8)\n",
      "memory usage: 344.9+ KB\n"
     ]
    }
   ],
   "source": [
    "df_internet.info()"
   ]
  },
  {
   "cell_type": "code",
   "execution_count": 16,
   "id": "634f9ec5",
   "metadata": {
    "scrolled": false
   },
   "outputs": [
    {
     "data": {
      "text/html": [
       "<div>\n",
       "<style scoped>\n",
       "    .dataframe tbody tr th:only-of-type {\n",
       "        vertical-align: middle;\n",
       "    }\n",
       "\n",
       "    .dataframe tbody tr th {\n",
       "        vertical-align: top;\n",
       "    }\n",
       "\n",
       "    .dataframe thead th {\n",
       "        text-align: right;\n",
       "    }\n",
       "</style>\n",
       "<table border=\"1\" class=\"dataframe\">\n",
       "  <thead>\n",
       "    <tr style=\"text-align: right;\">\n",
       "      <th></th>\n",
       "      <th>customerID</th>\n",
       "      <th>InternetService</th>\n",
       "      <th>OnlineSecurity</th>\n",
       "      <th>OnlineBackup</th>\n",
       "      <th>DeviceProtection</th>\n",
       "      <th>TechSupport</th>\n",
       "      <th>StreamingTV</th>\n",
       "      <th>StreamingMovies</th>\n",
       "    </tr>\n",
       "  </thead>\n",
       "  <tbody>\n",
       "    <tr>\n",
       "      <th>count</th>\n",
       "      <td>5517</td>\n",
       "      <td>5517</td>\n",
       "      <td>5517</td>\n",
       "      <td>5517</td>\n",
       "      <td>5517</td>\n",
       "      <td>5517</td>\n",
       "      <td>5517</td>\n",
       "      <td>5517</td>\n",
       "    </tr>\n",
       "    <tr>\n",
       "      <th>unique</th>\n",
       "      <td>5517</td>\n",
       "      <td>2</td>\n",
       "      <td>2</td>\n",
       "      <td>2</td>\n",
       "      <td>2</td>\n",
       "      <td>2</td>\n",
       "      <td>2</td>\n",
       "      <td>2</td>\n",
       "    </tr>\n",
       "    <tr>\n",
       "      <th>top</th>\n",
       "      <td>7590-VHVEG</td>\n",
       "      <td>Fiber optic</td>\n",
       "      <td>No</td>\n",
       "      <td>No</td>\n",
       "      <td>No</td>\n",
       "      <td>No</td>\n",
       "      <td>No</td>\n",
       "      <td>No</td>\n",
       "    </tr>\n",
       "    <tr>\n",
       "      <th>freq</th>\n",
       "      <td>1</td>\n",
       "      <td>3096</td>\n",
       "      <td>3498</td>\n",
       "      <td>3088</td>\n",
       "      <td>3095</td>\n",
       "      <td>3473</td>\n",
       "      <td>2810</td>\n",
       "      <td>2785</td>\n",
       "    </tr>\n",
       "  </tbody>\n",
       "</table>\n",
       "</div>"
      ],
      "text/plain": [
       "        customerID InternetService OnlineSecurity OnlineBackup  \\\n",
       "count         5517            5517           5517         5517   \n",
       "unique        5517               2              2            2   \n",
       "top     7590-VHVEG     Fiber optic             No           No   \n",
       "freq             1            3096           3498         3088   \n",
       "\n",
       "       DeviceProtection TechSupport StreamingTV StreamingMovies  \n",
       "count              5517        5517        5517            5517  \n",
       "unique                2           2           2               2  \n",
       "top                  No          No          No              No  \n",
       "freq               3095        3473        2810            2785  "
      ]
     },
     "execution_count": 16,
     "metadata": {},
     "output_type": "execute_result"
    }
   ],
   "source": [
    "df_internet.describe(include='all')"
   ]
  },
  {
   "cell_type": "code",
   "execution_count": 17,
   "id": "84ef972a",
   "metadata": {},
   "outputs": [
    {
     "data": {
      "text/plain": [
       "array(['DSL', 'Fiber optic'], dtype=object)"
      ]
     },
     "execution_count": 17,
     "metadata": {},
     "output_type": "execute_result"
    }
   ],
   "source": [
    "df_internet['InternetService'].unique()"
   ]
  },
  {
   "cell_type": "markdown",
   "id": "3565faf4",
   "metadata": {},
   "source": [
    "Данный датафрейм содержит на 1526 объектов меньше, чем датафреймы c информацией о договорах и персональных данных. Возможно, клиенты, не попавшие в этот датафрейм, не использовали услугу Интернет. Этот момент необходимо уточнить у заказчика."
   ]
  },
  {
   "cell_type": "markdown",
   "id": "f2af7fb7",
   "metadata": {},
   "source": [
    "**4) Датафрейм с информацией об услугах телефонии**"
   ]
  },
  {
   "cell_type": "code",
   "execution_count": 18,
   "id": "ad80bd8e",
   "metadata": {
    "scrolled": true
   },
   "outputs": [
    {
     "data": {
      "text/html": [
       "<div>\n",
       "<style scoped>\n",
       "    .dataframe tbody tr th:only-of-type {\n",
       "        vertical-align: middle;\n",
       "    }\n",
       "\n",
       "    .dataframe tbody tr th {\n",
       "        vertical-align: top;\n",
       "    }\n",
       "\n",
       "    .dataframe thead th {\n",
       "        text-align: right;\n",
       "    }\n",
       "</style>\n",
       "<table border=\"1\" class=\"dataframe\">\n",
       "  <thead>\n",
       "    <tr style=\"text-align: right;\">\n",
       "      <th></th>\n",
       "      <th>customerID</th>\n",
       "      <th>MultipleLines</th>\n",
       "    </tr>\n",
       "  </thead>\n",
       "  <tbody>\n",
       "    <tr>\n",
       "      <th>0</th>\n",
       "      <td>5575-GNVDE</td>\n",
       "      <td>No</td>\n",
       "    </tr>\n",
       "    <tr>\n",
       "      <th>1</th>\n",
       "      <td>3668-QPYBK</td>\n",
       "      <td>No</td>\n",
       "    </tr>\n",
       "    <tr>\n",
       "      <th>2</th>\n",
       "      <td>9237-HQITU</td>\n",
       "      <td>No</td>\n",
       "    </tr>\n",
       "    <tr>\n",
       "      <th>3</th>\n",
       "      <td>9305-CDSKC</td>\n",
       "      <td>Yes</td>\n",
       "    </tr>\n",
       "    <tr>\n",
       "      <th>4</th>\n",
       "      <td>1452-KIOVK</td>\n",
       "      <td>Yes</td>\n",
       "    </tr>\n",
       "  </tbody>\n",
       "</table>\n",
       "</div>"
      ],
      "text/plain": [
       "   customerID MultipleLines\n",
       "0  5575-GNVDE            No\n",
       "1  3668-QPYBK            No\n",
       "2  9237-HQITU            No\n",
       "3  9305-CDSKC           Yes\n",
       "4  1452-KIOVK           Yes"
      ]
     },
     "execution_count": 18,
     "metadata": {},
     "output_type": "execute_result"
    }
   ],
   "source": [
    "try: \n",
    "    df_phone = pd.read_csv('phone.csv')\n",
    "except: \n",
    "    df_phone = pd.read_csv('/datasets/final_provider/phone.csv')\n",
    "    \n",
    "df_phone.head()"
   ]
  },
  {
   "cell_type": "code",
   "execution_count": 19,
   "id": "aa010e6a",
   "metadata": {
    "scrolled": true
   },
   "outputs": [
    {
     "name": "stdout",
     "output_type": "stream",
     "text": [
      "<class 'pandas.core.frame.DataFrame'>\n",
      "RangeIndex: 6361 entries, 0 to 6360\n",
      "Data columns (total 2 columns):\n",
      " #   Column         Non-Null Count  Dtype \n",
      "---  ------         --------------  ----- \n",
      " 0   customerID     6361 non-null   object\n",
      " 1   MultipleLines  6361 non-null   object\n",
      "dtypes: object(2)\n",
      "memory usage: 99.5+ KB\n"
     ]
    }
   ],
   "source": [
    "df_phone.info()"
   ]
  },
  {
   "cell_type": "code",
   "execution_count": 20,
   "id": "83aa9655",
   "metadata": {
    "scrolled": true
   },
   "outputs": [
    {
     "data": {
      "text/html": [
       "<div>\n",
       "<style scoped>\n",
       "    .dataframe tbody tr th:only-of-type {\n",
       "        vertical-align: middle;\n",
       "    }\n",
       "\n",
       "    .dataframe tbody tr th {\n",
       "        vertical-align: top;\n",
       "    }\n",
       "\n",
       "    .dataframe thead th {\n",
       "        text-align: right;\n",
       "    }\n",
       "</style>\n",
       "<table border=\"1\" class=\"dataframe\">\n",
       "  <thead>\n",
       "    <tr style=\"text-align: right;\">\n",
       "      <th></th>\n",
       "      <th>customerID</th>\n",
       "      <th>MultipleLines</th>\n",
       "    </tr>\n",
       "  </thead>\n",
       "  <tbody>\n",
       "    <tr>\n",
       "      <th>count</th>\n",
       "      <td>6361</td>\n",
       "      <td>6361</td>\n",
       "    </tr>\n",
       "    <tr>\n",
       "      <th>unique</th>\n",
       "      <td>6361</td>\n",
       "      <td>2</td>\n",
       "    </tr>\n",
       "    <tr>\n",
       "      <th>top</th>\n",
       "      <td>5575-GNVDE</td>\n",
       "      <td>No</td>\n",
       "    </tr>\n",
       "    <tr>\n",
       "      <th>freq</th>\n",
       "      <td>1</td>\n",
       "      <td>3390</td>\n",
       "    </tr>\n",
       "  </tbody>\n",
       "</table>\n",
       "</div>"
      ],
      "text/plain": [
       "        customerID MultipleLines\n",
       "count         6361          6361\n",
       "unique        6361             2\n",
       "top     5575-GNVDE            No\n",
       "freq             1          3390"
      ]
     },
     "execution_count": 20,
     "metadata": {},
     "output_type": "execute_result"
    }
   ],
   "source": [
    "df_phone.describe(include='all')"
   ]
  },
  {
   "cell_type": "markdown",
   "id": "38816ec4",
   "metadata": {},
   "source": [
    "Данный датафрейм содержит на 682 объекта меньше, чем датафреймы c информацией о договорах и персональных данных. Возможно, клиенты, не попавшие в этот датафрейм, не использовали Стационарную телефонную связь. Этот момент необходимо уточнить у заказчика."
   ]
  },
  {
   "cell_type": "markdown",
   "id": "03e15768",
   "metadata": {},
   "source": [
    "## План работы"
   ]
  },
  {
   "cell_type": "markdown",
   "id": "b33479c7",
   "metadata": {},
   "source": [
    "Данная работа состоит из следующих этапов:  \n",
    "1) Предобработка данных в датасетах:  \n",
    "- в датафрейме с информацией о договорах изменим тип данных столбцов `BeginDate` и `EndDate` с *object* на *datetime*, а столбца `TotalCharges` c типа *object* на тип *float*, сформируем целевой признак \"Exited\" и новый признак - сколько времени в днях человек являлся клиентом. Удалим признаки с датами.  \n",
    "\n",
    "\n",
    "2) Объединение датафреймов и предобработка единого датафрейма:\n",
    "- сформируем признаки, отражающие пользовался ли клиент услугами интернет и телефонии и удалим незначимые признаки с детализацией каждой услуги\n",
    "- приведем все бинарные признаки к числовому типу *int*.\n",
    "- проверим и обработаем пропуски и аномалии\n",
    "- проведем OHE кодирование признаков для модели логистической регрессии\n",
    "- проверим выборку на дисбаланс классов и учтём его при обучении моделей\n",
    "- исследуем мультиколлинеарность признаков\n",
    "\n",
    "3) Разделим датафрейм на обучающую и тестовую выборки в соотношении 75% / 25% соответственно.\n",
    "\n",
    "4) Обучим на данных разные модели и найдём лучшую по метрике AUC-ROC используя кросс-валидацию:  \n",
    "- LogisticRegression\n",
    "- LGBMClassifier\n",
    "- CatBoostClassifier\n",
    "\n",
    "4) Тестирование модели:  \n",
    "- проведем финальное тестирование лучшей модели на тестовой выборке;  \n",
    "- исследуем важность признаков и матрицу ошибок для лучшей модели.  \n",
    "\n",
    "5) Подведем итоги исследования и напишем общий вывод. "
   ]
  },
  {
   "cell_type": "markdown",
   "id": "50dcff82",
   "metadata": {},
   "source": [
    "## Предобработка данных"
   ]
  },
  {
   "cell_type": "markdown",
   "id": "78794fbd",
   "metadata": {},
   "source": [
    "### Датафрейм `contract` с информацией о договорах"
   ]
  },
  {
   "cell_type": "markdown",
   "id": "2b17fc93",
   "metadata": {},
   "source": [
    "Сформируем целевой признак в столбце `Exited` со значениями:  \n",
    "1 - если клиент ушёл от оператора связи (в столбце `EndDate` присутствует дата окончания договора),  \n",
    "0 - клиент не ушёл от оператора связи (в столбце `EndDate` значение No)  "
   ]
  },
  {
   "cell_type": "code",
   "execution_count": 21,
   "id": "eae3c9f5",
   "metadata": {},
   "outputs": [
    {
     "data": {
      "text/plain": [
       "array(['No', '2019-12-01 00:00:00', '2019-11-01 00:00:00',\n",
       "       '2019-10-01 00:00:00', '2020-01-01 00:00:00'], dtype=object)"
      ]
     },
     "execution_count": 21,
     "metadata": {},
     "output_type": "execute_result"
    }
   ],
   "source": [
    "df_contract['EndDate'].unique()"
   ]
  },
  {
   "cell_type": "code",
   "execution_count": 22,
   "id": "c980cdea",
   "metadata": {
    "scrolled": true
   },
   "outputs": [],
   "source": [
    "df_contract['Exited'] = np.where(df_contract['EndDate'] == 'No', 0, 1)"
   ]
  },
  {
   "cell_type": "markdown",
   "id": "4eaa9174",
   "metadata": {},
   "source": [
    "Преобразуем признак `PaperlessBilling` в бинарный формат."
   ]
  },
  {
   "cell_type": "code",
   "execution_count": 23,
   "id": "cbe0cdc6",
   "metadata": {},
   "outputs": [],
   "source": [
    "df_contract['PaperlessBilling'] = np.where(df_contract['PaperlessBilling'] == 'No', 0, 1)"
   ]
  },
  {
   "cell_type": "markdown",
   "id": "d6cc55bb",
   "metadata": {},
   "source": [
    "Заполним все поля столбца `EndDate` со значением `No` значением `2020-02-01`, то есть клиент не разрывал договор"
   ]
  },
  {
   "cell_type": "code",
   "execution_count": 24,
   "id": "30d401e6",
   "metadata": {},
   "outputs": [],
   "source": [
    "df_contract['EndDate'] = df_contract['EndDate'].replace('No', '2020-02-01')"
   ]
  },
  {
   "cell_type": "markdown",
   "id": "04b095fc",
   "metadata": {},
   "source": [
    "Изменим тип данных столбцов `BeginDate` и `EndDate` с object на datetime, а столбца `TotalCharges` c типа *object* на тип *float*"
   ]
  },
  {
   "cell_type": "code",
   "execution_count": 25,
   "id": "98b9627e",
   "metadata": {},
   "outputs": [],
   "source": [
    "df_contract['BeginDate'] = pd.to_datetime(df_contract['BeginDate'])\n",
    "df_contract['EndDate'] = pd.to_datetime(df_contract['EndDate'])\n",
    "df_contract['TotalCharges'] = pd.to_numeric(df_contract['TotalCharges'], errors='coerce')\n",
    "df_contract = df_contract.astype({'PaperlessBilling': 'int8', 'Exited': 'int8'})"
   ]
  },
  {
   "cell_type": "markdown",
   "id": "f467505b",
   "metadata": {},
   "source": [
    "В столбце `Duration` создадим новый признак - сколько времени в днях человек являлся клиентом. Затем удалим столбцы `BeginDate` и `EndDate`."
   ]
  },
  {
   "cell_type": "code",
   "execution_count": 26,
   "id": "63cbf361",
   "metadata": {
    "scrolled": false
   },
   "outputs": [],
   "source": [
    "df_contract['Duration'] = df_contract['EndDate'] - df_contract['BeginDate']\n",
    "df_contract['Days'] = df_contract['Duration'].dt.days.astype('int32')\n",
    "df_contract = df_contract.drop(['EndDate', 'BeginDate', 'Duration'], axis=1)"
   ]
  },
  {
   "cell_type": "markdown",
   "id": "a138ed6e",
   "metadata": {},
   "source": [
    "Установим столбец `customerID` в качестве индекса, так как он общий для всех четырёх датафреймов"
   ]
  },
  {
   "cell_type": "code",
   "execution_count": 27,
   "id": "65741d54",
   "metadata": {},
   "outputs": [
    {
     "data": {
      "text/html": [
       "<div>\n",
       "<style scoped>\n",
       "    .dataframe tbody tr th:only-of-type {\n",
       "        vertical-align: middle;\n",
       "    }\n",
       "\n",
       "    .dataframe tbody tr th {\n",
       "        vertical-align: top;\n",
       "    }\n",
       "\n",
       "    .dataframe thead th {\n",
       "        text-align: right;\n",
       "    }\n",
       "</style>\n",
       "<table border=\"1\" class=\"dataframe\">\n",
       "  <thead>\n",
       "    <tr style=\"text-align: right;\">\n",
       "      <th></th>\n",
       "      <th>Type</th>\n",
       "      <th>PaperlessBilling</th>\n",
       "      <th>PaymentMethod</th>\n",
       "      <th>MonthlyCharges</th>\n",
       "      <th>TotalCharges</th>\n",
       "      <th>Exited</th>\n",
       "      <th>Days</th>\n",
       "    </tr>\n",
       "    <tr>\n",
       "      <th>customerID</th>\n",
       "      <th></th>\n",
       "      <th></th>\n",
       "      <th></th>\n",
       "      <th></th>\n",
       "      <th></th>\n",
       "      <th></th>\n",
       "      <th></th>\n",
       "    </tr>\n",
       "  </thead>\n",
       "  <tbody>\n",
       "    <tr>\n",
       "      <th>7590-VHVEG</th>\n",
       "      <td>Month-to-month</td>\n",
       "      <td>1</td>\n",
       "      <td>Electronic check</td>\n",
       "      <td>29.85</td>\n",
       "      <td>29.85</td>\n",
       "      <td>0</td>\n",
       "      <td>31</td>\n",
       "    </tr>\n",
       "    <tr>\n",
       "      <th>5575-GNVDE</th>\n",
       "      <td>One year</td>\n",
       "      <td>0</td>\n",
       "      <td>Mailed check</td>\n",
       "      <td>56.95</td>\n",
       "      <td>1889.50</td>\n",
       "      <td>0</td>\n",
       "      <td>1036</td>\n",
       "    </tr>\n",
       "    <tr>\n",
       "      <th>3668-QPYBK</th>\n",
       "      <td>Month-to-month</td>\n",
       "      <td>1</td>\n",
       "      <td>Mailed check</td>\n",
       "      <td>53.85</td>\n",
       "      <td>108.15</td>\n",
       "      <td>1</td>\n",
       "      <td>61</td>\n",
       "    </tr>\n",
       "    <tr>\n",
       "      <th>7795-CFOCW</th>\n",
       "      <td>One year</td>\n",
       "      <td>0</td>\n",
       "      <td>Bank transfer (automatic)</td>\n",
       "      <td>42.30</td>\n",
       "      <td>1840.75</td>\n",
       "      <td>0</td>\n",
       "      <td>1371</td>\n",
       "    </tr>\n",
       "    <tr>\n",
       "      <th>9237-HQITU</th>\n",
       "      <td>Month-to-month</td>\n",
       "      <td>1</td>\n",
       "      <td>Electronic check</td>\n",
       "      <td>70.70</td>\n",
       "      <td>151.65</td>\n",
       "      <td>1</td>\n",
       "      <td>61</td>\n",
       "    </tr>\n",
       "  </tbody>\n",
       "</table>\n",
       "</div>"
      ],
      "text/plain": [
       "                      Type  PaperlessBilling              PaymentMethod  \\\n",
       "customerID                                                                \n",
       "7590-VHVEG  Month-to-month                 1           Electronic check   \n",
       "5575-GNVDE        One year                 0               Mailed check   \n",
       "3668-QPYBK  Month-to-month                 1               Mailed check   \n",
       "7795-CFOCW        One year                 0  Bank transfer (automatic)   \n",
       "9237-HQITU  Month-to-month                 1           Electronic check   \n",
       "\n",
       "            MonthlyCharges  TotalCharges  Exited  Days  \n",
       "customerID                                              \n",
       "7590-VHVEG           29.85         29.85       0    31  \n",
       "5575-GNVDE           56.95       1889.50       0  1036  \n",
       "3668-QPYBK           53.85        108.15       1    61  \n",
       "7795-CFOCW           42.30       1840.75       0  1371  \n",
       "9237-HQITU           70.70        151.65       1    61  "
      ]
     },
     "execution_count": 27,
     "metadata": {},
     "output_type": "execute_result"
    }
   ],
   "source": [
    "df_contract = df_contract.set_index('customerID')\n",
    "df_contract.head()"
   ]
  },
  {
   "cell_type": "code",
   "execution_count": 28,
   "id": "49cebe2b",
   "metadata": {},
   "outputs": [
    {
     "name": "stdout",
     "output_type": "stream",
     "text": [
      "<class 'pandas.core.frame.DataFrame'>\n",
      "Index: 7043 entries, 7590-VHVEG to 3186-AJIEK\n",
      "Data columns (total 7 columns):\n",
      " #   Column            Non-Null Count  Dtype  \n",
      "---  ------            --------------  -----  \n",
      " 0   Type              7043 non-null   object \n",
      " 1   PaperlessBilling  7043 non-null   int8   \n",
      " 2   PaymentMethod     7043 non-null   object \n",
      " 3   MonthlyCharges    7043 non-null   float64\n",
      " 4   TotalCharges      7032 non-null   float64\n",
      " 5   Exited            7043 non-null   int8   \n",
      " 6   Days              7043 non-null   int32  \n",
      "dtypes: float64(2), int32(1), int8(2), object(2)\n",
      "memory usage: 316.4+ KB\n"
     ]
    }
   ],
   "source": [
    "df_contract.info()"
   ]
  },
  {
   "cell_type": "markdown",
   "id": "84458840",
   "metadata": {},
   "source": [
    "### Датафрейм `personal` с персональными данными клиентов"
   ]
  },
  {
   "cell_type": "markdown",
   "id": "1d3f1dcb",
   "metadata": {},
   "source": [
    "Приведем значения столбцов `gender`, `Partner` и `Dependents` к бинарному виду."
   ]
  },
  {
   "cell_type": "code",
   "execution_count": 29,
   "id": "300aba0c",
   "metadata": {},
   "outputs": [],
   "source": [
    "df_personal['gender'] = np.where(df_personal['gender'] == 'Male', 0, 1).astype('int8')\n",
    "df_personal['Partner'] = np.where(df_personal['Partner'] == 'No', 0, 1).astype('int8')\n",
    "df_personal['Dependents'] = np.where(df_personal['Dependents'] == 'No', 0, 1).astype('int8')\n",
    "df_personal['SeniorCitizen'] = df_personal['SeniorCitizen'].astype('int8')"
   ]
  },
  {
   "cell_type": "markdown",
   "id": "7cff2d7e",
   "metadata": {},
   "source": [
    "Установим столбец customerID в качестве индекса."
   ]
  },
  {
   "cell_type": "code",
   "execution_count": 30,
   "id": "d37ae7ec",
   "metadata": {},
   "outputs": [
    {
     "data": {
      "text/html": [
       "<div>\n",
       "<style scoped>\n",
       "    .dataframe tbody tr th:only-of-type {\n",
       "        vertical-align: middle;\n",
       "    }\n",
       "\n",
       "    .dataframe tbody tr th {\n",
       "        vertical-align: top;\n",
       "    }\n",
       "\n",
       "    .dataframe thead th {\n",
       "        text-align: right;\n",
       "    }\n",
       "</style>\n",
       "<table border=\"1\" class=\"dataframe\">\n",
       "  <thead>\n",
       "    <tr style=\"text-align: right;\">\n",
       "      <th></th>\n",
       "      <th>gender</th>\n",
       "      <th>SeniorCitizen</th>\n",
       "      <th>Partner</th>\n",
       "      <th>Dependents</th>\n",
       "    </tr>\n",
       "    <tr>\n",
       "      <th>customerID</th>\n",
       "      <th></th>\n",
       "      <th></th>\n",
       "      <th></th>\n",
       "      <th></th>\n",
       "    </tr>\n",
       "  </thead>\n",
       "  <tbody>\n",
       "    <tr>\n",
       "      <th>7590-VHVEG</th>\n",
       "      <td>1</td>\n",
       "      <td>0</td>\n",
       "      <td>1</td>\n",
       "      <td>0</td>\n",
       "    </tr>\n",
       "    <tr>\n",
       "      <th>5575-GNVDE</th>\n",
       "      <td>0</td>\n",
       "      <td>0</td>\n",
       "      <td>0</td>\n",
       "      <td>0</td>\n",
       "    </tr>\n",
       "    <tr>\n",
       "      <th>3668-QPYBK</th>\n",
       "      <td>0</td>\n",
       "      <td>0</td>\n",
       "      <td>0</td>\n",
       "      <td>0</td>\n",
       "    </tr>\n",
       "    <tr>\n",
       "      <th>7795-CFOCW</th>\n",
       "      <td>0</td>\n",
       "      <td>0</td>\n",
       "      <td>0</td>\n",
       "      <td>0</td>\n",
       "    </tr>\n",
       "    <tr>\n",
       "      <th>9237-HQITU</th>\n",
       "      <td>1</td>\n",
       "      <td>0</td>\n",
       "      <td>0</td>\n",
       "      <td>0</td>\n",
       "    </tr>\n",
       "  </tbody>\n",
       "</table>\n",
       "</div>"
      ],
      "text/plain": [
       "            gender  SeniorCitizen  Partner  Dependents\n",
       "customerID                                            \n",
       "7590-VHVEG       1              0        1           0\n",
       "5575-GNVDE       0              0        0           0\n",
       "3668-QPYBK       0              0        0           0\n",
       "7795-CFOCW       0              0        0           0\n",
       "9237-HQITU       1              0        0           0"
      ]
     },
     "execution_count": 30,
     "metadata": {},
     "output_type": "execute_result"
    }
   ],
   "source": [
    "df_personal = df_personal.set_index('customerID')\n",
    "df_personal.head()"
   ]
  },
  {
   "cell_type": "markdown",
   "id": "19c182b6",
   "metadata": {},
   "source": [
    "### Датафрейм `internet` с информацией об интернет-услугах"
   ]
  },
  {
   "cell_type": "markdown",
   "id": "b08d6b1a",
   "metadata": {},
   "source": [
    "Создадим признак наличия интернет-услуги `isInternetService`. Отстальные малозначимые признаки удалим."
   ]
  },
  {
   "cell_type": "code",
   "execution_count": 31,
   "id": "e8ac5328",
   "metadata": {},
   "outputs": [],
   "source": [
    "df_internet = df_internet.set_index('customerID')\n",
    "df_internet['isInternetService'] = 1\n",
    "df_internet = df_internet['isInternetService']"
   ]
  },
  {
   "cell_type": "markdown",
   "id": "a8f40d24",
   "metadata": {},
   "source": [
    "### Датафрейм `phone` с информацией об услугах телефонии"
   ]
  },
  {
   "cell_type": "markdown",
   "id": "7a874306",
   "metadata": {},
   "source": [
    "Создадим признак наличия услуги телефонии `isPhone`. Отстальные малозначимые признаки удалим."
   ]
  },
  {
   "cell_type": "code",
   "execution_count": 32,
   "id": "033e846a",
   "metadata": {},
   "outputs": [],
   "source": [
    "df_phone = df_phone.set_index('customerID')\n",
    "df_phone['isPhone'] = 1\n",
    "df_phone = df_phone['isPhone']"
   ]
  },
  {
   "cell_type": "markdown",
   "id": "3ce47912",
   "metadata": {},
   "source": [
    "### Объединение датафреймов. Предобработка объединенного датафоейма."
   ]
  },
  {
   "cell_type": "markdown",
   "id": "b3c3132c",
   "metadata": {},
   "source": [
    "Объединим четыре датафрейма в один."
   ]
  },
  {
   "cell_type": "code",
   "execution_count": 33,
   "id": "63a177e4",
   "metadata": {},
   "outputs": [],
   "source": [
    "merged_df = df_contract.join([df_personal, df_internet, df_phone])"
   ]
  },
  {
   "cell_type": "code",
   "execution_count": 34,
   "id": "939afa2d",
   "metadata": {},
   "outputs": [
    {
     "name": "stdout",
     "output_type": "stream",
     "text": [
      "<class 'pandas.core.frame.DataFrame'>\n",
      "Index: 7043 entries, 7590-VHVEG to 3186-AJIEK\n",
      "Data columns (total 13 columns):\n",
      " #   Column             Non-Null Count  Dtype  \n",
      "---  ------             --------------  -----  \n",
      " 0   Type               7043 non-null   object \n",
      " 1   PaperlessBilling   7043 non-null   int8   \n",
      " 2   PaymentMethod      7043 non-null   object \n",
      " 3   MonthlyCharges     7043 non-null   float64\n",
      " 4   TotalCharges       7032 non-null   float64\n",
      " 5   Exited             7043 non-null   int8   \n",
      " 6   Days               7043 non-null   int32  \n",
      " 7   gender             7043 non-null   int8   \n",
      " 8   SeniorCitizen      7043 non-null   int8   \n",
      " 9   Partner            7043 non-null   int8   \n",
      " 10  Dependents         7043 non-null   int8   \n",
      " 11  isInternetService  5517 non-null   float64\n",
      " 12  isPhone            6361 non-null   float64\n",
      "dtypes: float64(4), int32(1), int8(6), object(2)\n",
      "memory usage: 453.9+ KB\n"
     ]
    }
   ],
   "source": [
    "merged_df.info()"
   ]
  },
  {
   "cell_type": "markdown",
   "id": "7758f1ad",
   "metadata": {},
   "source": [
    "Заполним пропуски в столбцаx `isInternetService` и `isPhone` нулями, что будет говорить об отсутствии данных услуг у клиентов"
   ]
  },
  {
   "cell_type": "code",
   "execution_count": 35,
   "id": "126dadc3",
   "metadata": {},
   "outputs": [],
   "source": [
    "merged_df[['isInternetService', 'isPhone']] = merged_df[['isInternetService', 'isPhone']].fillna(0)\n",
    "merged_df = merged_df.astype({'isInternetService': 'int8', 'isPhone': 'int8'})"
   ]
  },
  {
   "cell_type": "markdown",
   "id": "66adf0ba",
   "metadata": {},
   "source": [
    "Удалим строки с пропусками в столбце `TotalCharges`, так как у нас нет возможности их заполнить."
   ]
  },
  {
   "cell_type": "code",
   "execution_count": 36,
   "id": "0856203a",
   "metadata": {
    "scrolled": true
   },
   "outputs": [
    {
     "data": {
      "text/plain": [
       "Type                 0\n",
       "PaperlessBilling     0\n",
       "PaymentMethod        0\n",
       "MonthlyCharges       0\n",
       "TotalCharges         0\n",
       "Exited               0\n",
       "Days                 0\n",
       "gender               0\n",
       "SeniorCitizen        0\n",
       "Partner              0\n",
       "Dependents           0\n",
       "isInternetService    0\n",
       "isPhone              0\n",
       "dtype: int64"
      ]
     },
     "execution_count": 36,
     "metadata": {},
     "output_type": "execute_result"
    }
   ],
   "source": [
    "merged_df = merged_df.dropna()\n",
    "merged_df.isna().sum()"
   ]
  },
  {
   "cell_type": "markdown",
   "id": "0ec560a7",
   "metadata": {},
   "source": [
    "Проверим датафрейм на дубликаты строк."
   ]
  },
  {
   "cell_type": "code",
   "execution_count": 37,
   "id": "ff72b994",
   "metadata": {},
   "outputs": [
    {
     "name": "stdout",
     "output_type": "stream",
     "text": [
      "В таблице 19 дубликатов строк.\n"
     ]
    }
   ],
   "source": [
    "print(f'В таблице {merged_df.duplicated().sum()} дубликатов строк.')"
   ]
  },
  {
   "cell_type": "markdown",
   "id": "c0b75532",
   "metadata": {},
   "source": [
    "Удалим дубликаты строк."
   ]
  },
  {
   "cell_type": "code",
   "execution_count": 38,
   "id": "821987bb",
   "metadata": {},
   "outputs": [],
   "source": [
    "merged_df = merged_df.drop_duplicates()"
   ]
  },
  {
   "cell_type": "markdown",
   "id": "dd6b3a8b",
   "metadata": {},
   "source": [
    "Проводя исследовательский анализ данных датафреймов по отдельности мы убедились, что неявные дубликаты в столбцах отсутствуют."
   ]
  },
  {
   "cell_type": "markdown",
   "id": "0abaa874",
   "metadata": {},
   "source": [
    "Исследуем датафрейм на наличие аномалий и выбросов."
   ]
  },
  {
   "cell_type": "code",
   "execution_count": 39,
   "id": "a7f9513c",
   "metadata": {
    "scrolled": false
   },
   "outputs": [
    {
     "data": {
      "text/html": [
       "<div>\n",
       "<style scoped>\n",
       "    .dataframe tbody tr th:only-of-type {\n",
       "        vertical-align: middle;\n",
       "    }\n",
       "\n",
       "    .dataframe tbody tr th {\n",
       "        vertical-align: top;\n",
       "    }\n",
       "\n",
       "    .dataframe thead th {\n",
       "        text-align: right;\n",
       "    }\n",
       "</style>\n",
       "<table border=\"1\" class=\"dataframe\">\n",
       "  <thead>\n",
       "    <tr style=\"text-align: right;\">\n",
       "      <th></th>\n",
       "      <th>Type</th>\n",
       "      <th>PaperlessBilling</th>\n",
       "      <th>PaymentMethod</th>\n",
       "      <th>MonthlyCharges</th>\n",
       "      <th>TotalCharges</th>\n",
       "      <th>Exited</th>\n",
       "      <th>Days</th>\n",
       "      <th>gender</th>\n",
       "      <th>SeniorCitizen</th>\n",
       "      <th>Partner</th>\n",
       "      <th>Dependents</th>\n",
       "      <th>isInternetService</th>\n",
       "      <th>isPhone</th>\n",
       "    </tr>\n",
       "  </thead>\n",
       "  <tbody>\n",
       "    <tr>\n",
       "      <th>count</th>\n",
       "      <td>7013</td>\n",
       "      <td>7013.000000</td>\n",
       "      <td>7013</td>\n",
       "      <td>7013.000000</td>\n",
       "      <td>7013.000000</td>\n",
       "      <td>7013.000000</td>\n",
       "      <td>7013.000000</td>\n",
       "      <td>7013.000000</td>\n",
       "      <td>7013.000000</td>\n",
       "      <td>7013.000000</td>\n",
       "      <td>7013.000000</td>\n",
       "      <td>7013.000000</td>\n",
       "      <td>7013.000000</td>\n",
       "    </tr>\n",
       "    <tr>\n",
       "      <th>unique</th>\n",
       "      <td>3</td>\n",
       "      <td>NaN</td>\n",
       "      <td>4</td>\n",
       "      <td>NaN</td>\n",
       "      <td>NaN</td>\n",
       "      <td>NaN</td>\n",
       "      <td>NaN</td>\n",
       "      <td>NaN</td>\n",
       "      <td>NaN</td>\n",
       "      <td>NaN</td>\n",
       "      <td>NaN</td>\n",
       "      <td>NaN</td>\n",
       "      <td>NaN</td>\n",
       "    </tr>\n",
       "    <tr>\n",
       "      <th>top</th>\n",
       "      <td>Month-to-month</td>\n",
       "      <td>NaN</td>\n",
       "      <td>Electronic check</td>\n",
       "      <td>NaN</td>\n",
       "      <td>NaN</td>\n",
       "      <td>NaN</td>\n",
       "      <td>NaN</td>\n",
       "      <td>NaN</td>\n",
       "      <td>NaN</td>\n",
       "      <td>NaN</td>\n",
       "      <td>NaN</td>\n",
       "      <td>NaN</td>\n",
       "      <td>NaN</td>\n",
       "    </tr>\n",
       "    <tr>\n",
       "      <th>freq</th>\n",
       "      <td>3856</td>\n",
       "      <td>NaN</td>\n",
       "      <td>2361</td>\n",
       "      <td>NaN</td>\n",
       "      <td>NaN</td>\n",
       "      <td>NaN</td>\n",
       "      <td>NaN</td>\n",
       "      <td>NaN</td>\n",
       "      <td>NaN</td>\n",
       "      <td>NaN</td>\n",
       "      <td>NaN</td>\n",
       "      <td>NaN</td>\n",
       "      <td>NaN</td>\n",
       "    </tr>\n",
       "    <tr>\n",
       "      <th>mean</th>\n",
       "      <td>NaN</td>\n",
       "      <td>0.593041</td>\n",
       "      <td>NaN</td>\n",
       "      <td>64.879524</td>\n",
       "      <td>2289.392243</td>\n",
       "      <td>0.265364</td>\n",
       "      <td>990.130472</td>\n",
       "      <td>0.495651</td>\n",
       "      <td>0.162698</td>\n",
       "      <td>0.483816</td>\n",
       "      <td>0.299301</td>\n",
       "      <td>0.785113</td>\n",
       "      <td>0.903037</td>\n",
       "    </tr>\n",
       "    <tr>\n",
       "      <th>std</th>\n",
       "      <td>NaN</td>\n",
       "      <td>0.491302</td>\n",
       "      <td>NaN</td>\n",
       "      <td>30.064371</td>\n",
       "      <td>2266.812153</td>\n",
       "      <td>0.441558</td>\n",
       "      <td>746.501477</td>\n",
       "      <td>0.500017</td>\n",
       "      <td>0.369116</td>\n",
       "      <td>0.499774</td>\n",
       "      <td>0.457985</td>\n",
       "      <td>0.410773</td>\n",
       "      <td>0.295928</td>\n",
       "    </tr>\n",
       "    <tr>\n",
       "      <th>min</th>\n",
       "      <td>NaN</td>\n",
       "      <td>0.000000</td>\n",
       "      <td>NaN</td>\n",
       "      <td>18.250000</td>\n",
       "      <td>18.800000</td>\n",
       "      <td>0.000000</td>\n",
       "      <td>30.000000</td>\n",
       "      <td>0.000000</td>\n",
       "      <td>0.000000</td>\n",
       "      <td>0.000000</td>\n",
       "      <td>0.000000</td>\n",
       "      <td>0.000000</td>\n",
       "      <td>0.000000</td>\n",
       "    </tr>\n",
       "    <tr>\n",
       "      <th>25%</th>\n",
       "      <td>NaN</td>\n",
       "      <td>0.000000</td>\n",
       "      <td>NaN</td>\n",
       "      <td>35.750000</td>\n",
       "      <td>406.950000</td>\n",
       "      <td>0.000000</td>\n",
       "      <td>276.000000</td>\n",
       "      <td>0.000000</td>\n",
       "      <td>0.000000</td>\n",
       "      <td>0.000000</td>\n",
       "      <td>0.000000</td>\n",
       "      <td>1.000000</td>\n",
       "      <td>1.000000</td>\n",
       "    </tr>\n",
       "    <tr>\n",
       "      <th>50%</th>\n",
       "      <td>NaN</td>\n",
       "      <td>1.000000</td>\n",
       "      <td>NaN</td>\n",
       "      <td>70.400000</td>\n",
       "      <td>1402.250000</td>\n",
       "      <td>0.000000</td>\n",
       "      <td>883.000000</td>\n",
       "      <td>0.000000</td>\n",
       "      <td>0.000000</td>\n",
       "      <td>0.000000</td>\n",
       "      <td>0.000000</td>\n",
       "      <td>1.000000</td>\n",
       "      <td>1.000000</td>\n",
       "    </tr>\n",
       "    <tr>\n",
       "      <th>75%</th>\n",
       "      <td>NaN</td>\n",
       "      <td>1.000000</td>\n",
       "      <td>NaN</td>\n",
       "      <td>89.900000</td>\n",
       "      <td>3807.350000</td>\n",
       "      <td>1.000000</td>\n",
       "      <td>1703.000000</td>\n",
       "      <td>1.000000</td>\n",
       "      <td>0.000000</td>\n",
       "      <td>1.000000</td>\n",
       "      <td>1.000000</td>\n",
       "      <td>1.000000</td>\n",
       "      <td>1.000000</td>\n",
       "    </tr>\n",
       "    <tr>\n",
       "      <th>max</th>\n",
       "      <td>NaN</td>\n",
       "      <td>1.000000</td>\n",
       "      <td>NaN</td>\n",
       "      <td>118.750000</td>\n",
       "      <td>8684.800000</td>\n",
       "      <td>1.000000</td>\n",
       "      <td>2191.000000</td>\n",
       "      <td>1.000000</td>\n",
       "      <td>1.000000</td>\n",
       "      <td>1.000000</td>\n",
       "      <td>1.000000</td>\n",
       "      <td>1.000000</td>\n",
       "      <td>1.000000</td>\n",
       "    </tr>\n",
       "  </tbody>\n",
       "</table>\n",
       "</div>"
      ],
      "text/plain": [
       "                  Type  PaperlessBilling     PaymentMethod  MonthlyCharges  \\\n",
       "count             7013       7013.000000              7013     7013.000000   \n",
       "unique               3               NaN                 4             NaN   \n",
       "top     Month-to-month               NaN  Electronic check             NaN   \n",
       "freq              3856               NaN              2361             NaN   \n",
       "mean               NaN          0.593041               NaN       64.879524   \n",
       "std                NaN          0.491302               NaN       30.064371   \n",
       "min                NaN          0.000000               NaN       18.250000   \n",
       "25%                NaN          0.000000               NaN       35.750000   \n",
       "50%                NaN          1.000000               NaN       70.400000   \n",
       "75%                NaN          1.000000               NaN       89.900000   \n",
       "max                NaN          1.000000               NaN      118.750000   \n",
       "\n",
       "        TotalCharges       Exited         Days       gender  SeniorCitizen  \\\n",
       "count    7013.000000  7013.000000  7013.000000  7013.000000    7013.000000   \n",
       "unique           NaN          NaN          NaN          NaN            NaN   \n",
       "top              NaN          NaN          NaN          NaN            NaN   \n",
       "freq             NaN          NaN          NaN          NaN            NaN   \n",
       "mean     2289.392243     0.265364   990.130472     0.495651       0.162698   \n",
       "std      2266.812153     0.441558   746.501477     0.500017       0.369116   \n",
       "min        18.800000     0.000000    30.000000     0.000000       0.000000   \n",
       "25%       406.950000     0.000000   276.000000     0.000000       0.000000   \n",
       "50%      1402.250000     0.000000   883.000000     0.000000       0.000000   \n",
       "75%      3807.350000     1.000000  1703.000000     1.000000       0.000000   \n",
       "max      8684.800000     1.000000  2191.000000     1.000000       1.000000   \n",
       "\n",
       "            Partner   Dependents  isInternetService      isPhone  \n",
       "count   7013.000000  7013.000000        7013.000000  7013.000000  \n",
       "unique          NaN          NaN                NaN          NaN  \n",
       "top             NaN          NaN                NaN          NaN  \n",
       "freq            NaN          NaN                NaN          NaN  \n",
       "mean       0.483816     0.299301           0.785113     0.903037  \n",
       "std        0.499774     0.457985           0.410773     0.295928  \n",
       "min        0.000000     0.000000           0.000000     0.000000  \n",
       "25%        0.000000     0.000000           1.000000     1.000000  \n",
       "50%        0.000000     0.000000           1.000000     1.000000  \n",
       "75%        1.000000     1.000000           1.000000     1.000000  \n",
       "max        1.000000     1.000000           1.000000     1.000000  "
      ]
     },
     "execution_count": 39,
     "metadata": {},
     "output_type": "execute_result"
    }
   ],
   "source": [
    "merged_df.describe(include='all')"
   ]
  },
  {
   "cell_type": "code",
   "execution_count": 40,
   "id": "137b2cca",
   "metadata": {},
   "outputs": [
    {
     "data": {
      "image/png": "[encoded data removed]",
      "text/plain": [
       "<Figure size 1500x1000 with 4 Axes>"
      ]
     },
     "metadata": {},
     "output_type": "display_data"
    }
   ],
   "source": [
    "merged_df[['MonthlyCharges', 'TotalCharges', 'Days']].hist(figsize=(15, 10));\n",
    "plt.suptitle(\"Гистограммы числовых параметров датасета\", fontsize=15);"
   ]
  },
  {
   "cell_type": "code",
   "execution_count": 41,
   "id": "cd1b01e4",
   "metadata": {},
   "outputs": [
    {
     "data": {
      "image/png": "[encoded data removed]",
      "text/plain": [
       "<Figure size 640x480 with 1 Axes>"
      ]
     },
     "metadata": {},
     "output_type": "display_data"
    }
   ],
   "source": [
    "sns.boxplot(data=merged_df[['MonthlyCharges', 'TotalCharges', 'Days']]);\n",
    "plt.suptitle('Диаграммы размаха числовых признаков', fontsize=15);"
   ]
  },
  {
   "cell_type": "markdown",
   "id": "235da8d2",
   "metadata": {},
   "source": [
    "Нет аномалий и выбросов числовых значений, требующих обработки."
   ]
  },
  {
   "cell_type": "markdown",
   "id": "9755212e",
   "metadata": {},
   "source": [
    "Посмотрим на дисбаланс классов."
   ]
  },
  {
   "cell_type": "code",
   "execution_count": 42,
   "id": "17276d94",
   "metadata": {},
   "outputs": [
    {
     "data": {
      "image/png": "[encoded data removed]",
      "text/plain": [
       "<Figure size 640x480 with 1 Axes>"
      ]
     },
     "metadata": {},
     "output_type": "display_data"
    }
   ],
   "source": [
    "ax = merged_df['Exited'].value_counts(normalize=True).round(2).plot.bar(ylim=(0, 1), \n",
    "                                                                        grid=True, \n",
    "                                                                        title='Распределение классов целевого признака', \n",
    "                                                                        xlabel='Класс', ylabel='Доля', fontsize=12)\n",
    "ax.bar_label(ax.containers[0], label_type='edge');"
   ]
  },
  {
   "cell_type": "markdown",
   "id": "a66cbada",
   "metadata": {},
   "source": [
    "Присутствует дисбаланс классов. Учтём это при разбиении на обучающую и тестовую выборки, а также при обучении моделей."
   ]
  },
  {
   "cell_type": "markdown",
   "id": "b0d82fa4",
   "metadata": {},
   "source": [
    "Исследуем выборку на мультиколлинеарность: построим тепловую карту корреляций признаков."
   ]
  },
  {
   "cell_type": "code",
   "execution_count": 43,
   "id": "f32ffc47",
   "metadata": {},
   "outputs": [
    {
     "name": "stdout",
     "output_type": "stream",
     "text": [
      "CPU times: total: 922 ms\n",
      "Wall time: 15min 40s\n"
     ]
    },
    {
     "data": {
      "image/png": "[encoded data removed]",
      "text/plain": [
       "<Figure size 1000x1000 with 2 Axes>"
      ]
     },
     "metadata": {},
     "output_type": "display_data"
    }
   ],
   "source": [
    "%%time\n",
    "\n",
    "df_corr = merged_df.phik_matrix(interval_cols=['Days'])\n",
    "mask = np.zeros_like(df_corr)\n",
    "mask[np.triu_indices_from(mask)] = True\n",
    "with sns.axes_style(\"white\"):\n",
    "    f, ax = plt.subplots(figsize=(10, 10))\n",
    "    plt.suptitle('Матрица корелляции признаков', fontsize=15);\n",
    "    ax = sns.heatmap(df_corr, mask=mask, square=True, annot=True, linewidths=3, linecolor='white')"
   ]
  },
  {
   "cell_type": "markdown",
   "id": "b2919cb9",
   "metadata": {},
   "source": [
    "Напишем функцию **get_correl**, которая выведет коррелирующие столбцы и их коэффициент в зависимости от порога корреляции.  \n",
    "Функция принимает на вход:  \n",
    "- пороговое значение корреляции,    \n",
    "- матрицу коэффициентов корреляции признаков  \n",
    "\n",
    "Функция возвращает: пары коррелирующих признаков и их коэффициент, если он выше порогового."
   ]
  },
  {
   "cell_type": "code",
   "execution_count": 44,
   "id": "aaee14c6",
   "metadata": {},
   "outputs": [],
   "source": [
    "def get_correl(thresh, cor):\n",
    "    c1 = cor.stack().sort_values(ascending=False).drop_duplicates()\n",
    "    all_cor = c1[c1.values != 1]\n",
    "    return all_cor[abs(all_cor) > thresh]"
   ]
  },
  {
   "cell_type": "markdown",
   "id": "77e974e2",
   "metadata": {},
   "source": [
    "Выведем пары коррелирующих столбцов для порога 0.80"
   ]
  },
  {
   "cell_type": "code",
   "execution_count": 45,
   "id": "e6b6e5ad",
   "metadata": {},
   "outputs": [
    {
     "data": {
      "text/plain": [
       "MonthlyCharges     TotalCharges      0.999992\n",
       "isInternetService  MonthlyCharges    0.997731\n",
       "Days               TotalCharges      0.983366\n",
       "Type               TotalCharges      0.941354\n",
       "isPhone            MonthlyCharges    0.866657\n",
       "dtype: float64"
      ]
     },
     "execution_count": 45,
     "metadata": {},
     "output_type": "execute_result"
    }
   ],
   "source": [
    "get_correl(0.8, df_corr)"
   ]
  },
  {
   "cell_type": "markdown",
   "id": "ec02dc1a",
   "metadata": {},
   "source": [
    "Наблюдается сильная корреляция между отображенными признаками. Это может негативно сказаться на качестве линейной модели логистической регресии. Для этой модели признаки `TotalCharges`, `isInternetService`, `isPhone` необходимо будет удалить, чтобы избавиться от мультколлинеарности. Алгоритмы, основанные на деревьях, невосприимчивы к мультиколлинеарности."
   ]
  },
  {
   "cell_type": "markdown",
   "id": "4f7d6810",
   "metadata": {},
   "source": [
    "### Выводы"
   ]
  },
  {
   "cell_type": "markdown",
   "id": "fe926fdb",
   "metadata": {},
   "source": [
    "В результате проведенной предобработки данных получили следующие результаты:\n",
    "1) сформировали целевой признак на основе значений столбца `EndDate`  \n",
    "2) сформировали новые признаки:  \n",
    "- `Days` - сколько времени в днях человек являлся клиентом оператора услуг связи  \n",
    "- `isInternetService` - пользовался клиент интернет-услугами или нет\n",
    "- `isPhone` - пользовался клиент услугами телефонии или нет  \n",
    "\n",
    "3) удалили малозначимые признаки: `BeginDate`, `EndDate` и признаки с детализацией каждой услуги  \n",
    "4) преобразовали все бинарные признаки к числовому типу *int8*  \n",
    "5) объединили все таблицы и провели предобработку объединенного датафрейма: обработали пропуски, проверили на аномалии, удалили 19 дубликатов строк  \n",
    "6) проверили выборку на дисбаланс классов: дисбаланс классов целевого признака 73% к 27%  \n",
    "7) исследовали взаимосвязь признаков и обнаружили тесную прямую связь между некоторыми парами признаков. Для модели логистической регресии признаки `TotalCharges`, `isInternetService`, `isPhone` необходимо удалить."
   ]
  },
  {
   "cell_type": "markdown",
   "id": "99292a04",
   "metadata": {},
   "source": [
    "## Подготовка признаков"
   ]
  },
  {
   "cell_type": "markdown",
   "id": "98513380",
   "metadata": {},
   "source": [
    "Разделим выборку на признаки и целевой признак."
   ]
  },
  {
   "cell_type": "code",
   "execution_count": 46,
   "id": "b74de414",
   "metadata": {},
   "outputs": [],
   "source": [
    "features = merged_df.drop('Exited', axis=1)\n",
    "target = merged_df['Exited'] "
   ]
  },
  {
   "cell_type": "markdown",
   "id": "464e4b6c",
   "metadata": {},
   "source": [
    "Разделим выборку на обучающую и тестовую в соотношении 75% и 25% соответственно."
   ]
  },
  {
   "cell_type": "code",
   "execution_count": 47,
   "id": "3b8ea2eb",
   "metadata": {},
   "outputs": [],
   "source": [
    "# Чтобы количество классов в наборах данных было равномерно распределено, укажем параметр stratify=target.\n",
    "features_train, features_test, target_train, target_test = train_test_split(features, target, \n",
    "                                                                            test_size=0.25, \n",
    "                                                                            random_state=RANDOM_STATE, \n",
    "                                                                            stratify=target)"
   ]
  },
  {
   "cell_type": "markdown",
   "id": "5358fac6",
   "metadata": {},
   "source": [
    "Осуществим кодирование категориальных признаков для модели логистической регрессии техникой прямого кодирования OHE."
   ]
  },
  {
   "cell_type": "code",
   "execution_count": 48,
   "id": "f553c49d",
   "metadata": {},
   "outputs": [],
   "source": [
    "#категориальные признаки для OHE\n",
    "cat_features = features_train.select_dtypes(include='object').columns.to_list()\n",
    "\n",
    "features_train_ohe = features_train.copy()\n",
    "features_test_ohe = features_test.copy()\n",
    "\n",
    "# удаляем признаки, чтобы избавиться от мультиколлинеарности\n",
    "features_train_ohe = features_train_ohe.drop(['TotalCharges', 'isInternetService', 'isPhone'], axis=1)\n",
    "features_test_ohe = features_test_ohe.drop(['TotalCharges', 'isInternetService', 'isPhone'], axis=1)\n",
    "\n",
    "# обучаем энкодер на заданных категориальных признаках тренировочной выборки\n",
    "encoder_ohe = OneHotEncoder(drop='first', handle_unknown='ignore', sparse=False)\n",
    "encoder_ohe.fit(features_train_ohe[cat_features])\n",
    "\n",
    "# энкодером, который обучен на трениировочной выборке, кодируем выборки\n",
    "features_train_ohe[encoder_ohe.get_feature_names_out()] = encoder_ohe.transform(features_train_ohe[cat_features])\n",
    "features_test_ohe[encoder_ohe.get_feature_names_out()] = encoder_ohe.transform(features_test_ohe[cat_features])\n",
    "\n",
    "# удаляем незакодированные категориальные признаки (изначальные колонки)\n",
    "features_train_ohe = features_train_ohe.drop(cat_features, axis=1)\n",
    "features_test_ohe = features_test_ohe.drop(cat_features, axis=1)"
   ]
  },
  {
   "cell_type": "code",
   "execution_count": 49,
   "id": "9d7c5586",
   "metadata": {},
   "outputs": [
    {
     "data": {
      "text/html": [
       "<div>\n",
       "<style scoped>\n",
       "    .dataframe tbody tr th:only-of-type {\n",
       "        vertical-align: middle;\n",
       "    }\n",
       "\n",
       "    .dataframe tbody tr th {\n",
       "        vertical-align: top;\n",
       "    }\n",
       "\n",
       "    .dataframe thead th {\n",
       "        text-align: right;\n",
       "    }\n",
       "</style>\n",
       "<table border=\"1\" class=\"dataframe\">\n",
       "  <thead>\n",
       "    <tr style=\"text-align: right;\">\n",
       "      <th></th>\n",
       "      <th>PaperlessBilling</th>\n",
       "      <th>MonthlyCharges</th>\n",
       "      <th>Days</th>\n",
       "      <th>gender</th>\n",
       "      <th>SeniorCitizen</th>\n",
       "      <th>Partner</th>\n",
       "      <th>Dependents</th>\n",
       "      <th>Type_One year</th>\n",
       "      <th>Type_Two year</th>\n",
       "      <th>PaymentMethod_Credit card (automatic)</th>\n",
       "      <th>PaymentMethod_Electronic check</th>\n",
       "      <th>PaymentMethod_Mailed check</th>\n",
       "    </tr>\n",
       "    <tr>\n",
       "      <th>customerID</th>\n",
       "      <th></th>\n",
       "      <th></th>\n",
       "      <th></th>\n",
       "      <th></th>\n",
       "      <th></th>\n",
       "      <th></th>\n",
       "      <th></th>\n",
       "      <th></th>\n",
       "      <th></th>\n",
       "      <th></th>\n",
       "      <th></th>\n",
       "      <th></th>\n",
       "    </tr>\n",
       "  </thead>\n",
       "  <tbody>\n",
       "    <tr>\n",
       "      <th>2892-GESUL</th>\n",
       "      <td>0</td>\n",
       "      <td>19.35</td>\n",
       "      <td>549</td>\n",
       "      <td>1</td>\n",
       "      <td>0</td>\n",
       "      <td>1</td>\n",
       "      <td>1</td>\n",
       "      <td>0.0</td>\n",
       "      <td>1.0</td>\n",
       "      <td>0.0</td>\n",
       "      <td>0.0</td>\n",
       "      <td>1.0</td>\n",
       "    </tr>\n",
       "    <tr>\n",
       "      <th>2030-BTZRO</th>\n",
       "      <td>1</td>\n",
       "      <td>20.40</td>\n",
       "      <td>184</td>\n",
       "      <td>0</td>\n",
       "      <td>0</td>\n",
       "      <td>1</td>\n",
       "      <td>1</td>\n",
       "      <td>0.0</td>\n",
       "      <td>1.0</td>\n",
       "      <td>1.0</td>\n",
       "      <td>0.0</td>\n",
       "      <td>0.0</td>\n",
       "    </tr>\n",
       "    <tr>\n",
       "      <th>3692-JHONH</th>\n",
       "      <td>1</td>\n",
       "      <td>106.50</td>\n",
       "      <td>1584</td>\n",
       "      <td>1</td>\n",
       "      <td>1</td>\n",
       "      <td>1</td>\n",
       "      <td>0</td>\n",
       "      <td>1.0</td>\n",
       "      <td>0.0</td>\n",
       "      <td>0.0</td>\n",
       "      <td>1.0</td>\n",
       "      <td>0.0</td>\n",
       "    </tr>\n",
       "    <tr>\n",
       "      <th>6992-TKNYO</th>\n",
       "      <td>0</td>\n",
       "      <td>69.00</td>\n",
       "      <td>1157</td>\n",
       "      <td>0</td>\n",
       "      <td>0</td>\n",
       "      <td>1</td>\n",
       "      <td>0</td>\n",
       "      <td>1.0</td>\n",
       "      <td>0.0</td>\n",
       "      <td>1.0</td>\n",
       "      <td>0.0</td>\n",
       "      <td>0.0</td>\n",
       "    </tr>\n",
       "    <tr>\n",
       "      <th>6595-COKXZ</th>\n",
       "      <td>1</td>\n",
       "      <td>44.45</td>\n",
       "      <td>30</td>\n",
       "      <td>1</td>\n",
       "      <td>0</td>\n",
       "      <td>0</td>\n",
       "      <td>0</td>\n",
       "      <td>0.0</td>\n",
       "      <td>0.0</td>\n",
       "      <td>0.0</td>\n",
       "      <td>0.0</td>\n",
       "      <td>1.0</td>\n",
       "    </tr>\n",
       "  </tbody>\n",
       "</table>\n",
       "</div>"
      ],
      "text/plain": [
       "            PaperlessBilling  MonthlyCharges  Days  gender  SeniorCitizen  \\\n",
       "customerID                                                                  \n",
       "2892-GESUL                 0           19.35   549       1              0   \n",
       "2030-BTZRO                 1           20.40   184       0              0   \n",
       "3692-JHONH                 1          106.50  1584       1              1   \n",
       "6992-TKNYO                 0           69.00  1157       0              0   \n",
       "6595-COKXZ                 1           44.45    30       1              0   \n",
       "\n",
       "            Partner  Dependents  Type_One year  Type_Two year  \\\n",
       "customerID                                                      \n",
       "2892-GESUL        1           1            0.0            1.0   \n",
       "2030-BTZRO        1           1            0.0            1.0   \n",
       "3692-JHONH        1           0            1.0            0.0   \n",
       "6992-TKNYO        1           0            1.0            0.0   \n",
       "6595-COKXZ        0           0            0.0            0.0   \n",
       "\n",
       "            PaymentMethod_Credit card (automatic)  \\\n",
       "customerID                                          \n",
       "2892-GESUL                                    0.0   \n",
       "2030-BTZRO                                    1.0   \n",
       "3692-JHONH                                    0.0   \n",
       "6992-TKNYO                                    1.0   \n",
       "6595-COKXZ                                    0.0   \n",
       "\n",
       "            PaymentMethod_Electronic check  PaymentMethod_Mailed check  \n",
       "customerID                                                              \n",
       "2892-GESUL                             0.0                         1.0  \n",
       "2030-BTZRO                             0.0                         0.0  \n",
       "3692-JHONH                             1.0                         0.0  \n",
       "6992-TKNYO                             0.0                         0.0  \n",
       "6595-COKXZ                             0.0                         1.0  "
      ]
     },
     "execution_count": 49,
     "metadata": {},
     "output_type": "execute_result"
    }
   ],
   "source": [
    "features_train_ohe.head()"
   ]
  },
  {
   "cell_type": "markdown",
   "id": "34eff325",
   "metadata": {},
   "source": [
    "## Обучение моделей"
   ]
  },
  {
   "cell_type": "markdown",
   "id": "b4e73dd5",
   "metadata": {},
   "source": [
    "Напишем функцию **get_best_model** для поиска гиперпараметров по сетке GridSearchCV для наилучшей модели по метрике AUC-ROC.  \n",
    "\n",
    "Функция принимает на вход:  \n",
    "- модель, \n",
    "- гиперпараметры для поиска по сетке GridSearchCV,  \n",
    "- признаки и целевой признак обучающей выборки.  \n",
    "\n",
    "Функция возвращает:  \n",
    "- Метрику AUC-ROC лучшей модели\n",
    "- Обученную модель с наилучшей метрикой AUC-ROC"
   ]
  },
  {
   "cell_type": "code",
   "execution_count": 50,
   "id": "dfe8e635",
   "metadata": {},
   "outputs": [],
   "source": [
    "def get_best_model(clf, grid_params, model_name, X_train, y_train):\n",
    "      \n",
    "    grid = GridSearchCV(estimator=clf, param_grid=grid_params, scoring='roc_auc', cv=3)\n",
    "    grid.fit(X_train, y_train)\n",
    "    \n",
    "    print(f'Гиперпараметры наилучшей модели {model_name}: {grid.best_params_}')\n",
    "    \n",
    "    best_roc_auc = grid.best_score_.round(2)\n",
    "    print(f'Наилучший AUC-ROC {model_name} на кросс-валидации: {best_roc_auc}')\n",
    "    \n",
    "    return best_roc_auc, grid.best_estimator_"
   ]
  },
  {
   "cell_type": "markdown",
   "id": "fd49cefc",
   "metadata": {},
   "source": [
    "### LogisticRegression"
   ]
  },
  {
   "cell_type": "markdown",
   "id": "395473b2",
   "metadata": {},
   "source": [
    "В выборке для логистической регрессии все признаки численные, так как было применено OHE кодирование. Приведем все признаки к одному масштабу."
   ]
  },
  {
   "cell_type": "code",
   "execution_count": 51,
   "id": "38beb0db",
   "metadata": {},
   "outputs": [],
   "source": [
    "scaler = StandardScaler()\n",
    "scaler.fit(features_train_ohe)\n",
    "features_train_ohe = scaler.transform(features_train_ohe)\n",
    "features_test_ohe = scaler.transform(features_test_ohe)"
   ]
  },
  {
   "cell_type": "markdown",
   "id": "02672f62",
   "metadata": {},
   "source": [
    "Найдем лучшую модель логистической регрессии."
   ]
  },
  {
   "cell_type": "code",
   "execution_count": 52,
   "id": "9b0ca89f",
   "metadata": {},
   "outputs": [
    {
     "name": "stdout",
     "output_type": "stream",
     "text": [
      "Гиперпараметры наилучшей модели LogisticRegression: {'C': 1, 'class_weight': None, 'max_iter': 100, 'penalty': 'l1', 'solver': 'liblinear', 'tol': 0.001}\n",
      "Наилучший AUC-ROC LogisticRegression на кросс-валидации: 0.83\n",
      "CPU times: total: 1min 8s\n",
      "Wall time: 29.9 s\n"
     ]
    }
   ],
   "source": [
    "%%time\n",
    "\n",
    "clf = LogisticRegression(random_state=RANDOM_STATE)\n",
    "grid_params = {'solver': ['lbfgs', 'liblinear', 'newton-cg', 'newton-cholesky', 'sag', 'saga'],\n",
    "               'max_iter': [100, 200],\n",
    "               'C': range(1, 10),\n",
    "               'class_weight': ['balanced', None],\n",
    "               'penalty': ['l1', 'l2', 'elasticnet', None],\n",
    "               'tol': [0.0001, 0.001]}\n",
    "\n",
    "LR_AUC_ROC_cv, LR_best_model = get_best_model(clf, grid_params, 'LogisticRegression', features_train_ohe, target_train)"
   ]
  },
  {
   "cell_type": "markdown",
   "id": "b4106701",
   "metadata": {},
   "source": [
    "### CatBoostClassifier"
   ]
  },
  {
   "cell_type": "markdown",
   "id": "02612588",
   "metadata": {},
   "source": [
    "Найдем лучшую модель CatBoostClassifier с учётом дисбаланса классов."
   ]
  },
  {
   "cell_type": "code",
   "execution_count": 53,
   "id": "4517f9a2",
   "metadata": {
    "code_folding": [],
    "scrolled": true
   },
   "outputs": [
    {
     "name": "stdout",
     "output_type": "stream",
     "text": [
      "Metric AUC is not calculated on train by default. To calculate this metric on train, add hints=skip_train~false to metric parameters.\n",
      "Metric AUC is not calculated on train by default. To calculate this metric on train, add hints=skip_train~false to metric parameters.\n",
      "Metric AUC is not calculated on train by default. To calculate this metric on train, add hints=skip_train~false to metric parameters.\n",
      "Metric AUC is not calculated on train by default. To calculate this metric on train, add hints=skip_train~false to metric parameters.\n",
      "Metric AUC is not calculated on train by default. To calculate this metric on train, add hints=skip_train~false to metric parameters.\n",
      "Metric AUC is not calculated on train by default. To calculate this metric on train, add hints=skip_train~false to metric parameters.\n",
      "Metric AUC is not calculated on train by default. To calculate this metric on train, add hints=skip_train~false to metric parameters.\n",
      "Metric AUC is not calculated on train by default. To calculate this metric on train, add hints=skip_train~false to metric parameters.\n",
      "Metric AUC is not calculated on train by default. To calculate this metric on train, add hints=skip_train~false to metric parameters.\n",
      "Metric AUC is not calculated on train by default. To calculate this metric on train, add hints=skip_train~false to metric parameters.\n",
      "Metric AUC is not calculated on train by default. To calculate this metric on train, add hints=skip_train~false to metric parameters.\n",
      "Metric AUC is not calculated on train by default. To calculate this metric on train, add hints=skip_train~false to metric parameters.\n",
      "Metric AUC is not calculated on train by default. To calculate this metric on train, add hints=skip_train~false to metric parameters.\n",
      "Metric AUC is not calculated on train by default. To calculate this metric on train, add hints=skip_train~false to metric parameters.\n",
      "Metric AUC is not calculated on train by default. To calculate this metric on train, add hints=skip_train~false to metric parameters.\n",
      "Metric AUC is not calculated on train by default. To calculate this metric on train, add hints=skip_train~false to metric parameters.\n",
      "Metric AUC is not calculated on train by default. To calculate this metric on train, add hints=skip_train~false to metric parameters.\n",
      "Metric AUC is not calculated on train by default. To calculate this metric on train, add hints=skip_train~false to metric parameters.\n",
      "Metric AUC is not calculated on train by default. To calculate this metric on train, add hints=skip_train~false to metric parameters.\n",
      "Metric AUC is not calculated on train by default. To calculate this metric on train, add hints=skip_train~false to metric parameters.\n",
      "Metric AUC is not calculated on train by default. To calculate this metric on train, add hints=skip_train~false to metric parameters.\n",
      "Metric AUC is not calculated on train by default. To calculate this metric on train, add hints=skip_train~false to metric parameters.\n",
      "Metric AUC is not calculated on train by default. To calculate this metric on train, add hints=skip_train~false to metric parameters.\n",
      "Metric AUC is not calculated on train by default. To calculate this metric on train, add hints=skip_train~false to metric parameters.\n",
      "Metric AUC is not calculated on train by default. To calculate this metric on train, add hints=skip_train~false to metric parameters.\n",
      "Metric AUC is not calculated on train by default. To calculate this metric on train, add hints=skip_train~false to metric parameters.\n",
      "Metric AUC is not calculated on train by default. To calculate this metric on train, add hints=skip_train~false to metric parameters.\n",
      "Metric AUC is not calculated on train by default. To calculate this metric on train, add hints=skip_train~false to metric parameters.\n",
      "Metric AUC is not calculated on train by default. To calculate this metric on train, add hints=skip_train~false to metric parameters.\n",
      "Metric AUC is not calculated on train by default. To calculate this metric on train, add hints=skip_train~false to metric parameters.\n",
      "Metric AUC is not calculated on train by default. To calculate this metric on train, add hints=skip_train~false to metric parameters.\n",
      "Metric AUC is not calculated on train by default. To calculate this metric on train, add hints=skip_train~false to metric parameters.\n",
      "Metric AUC is not calculated on train by default. To calculate this metric on train, add hints=skip_train~false to metric parameters.\n",
      "Metric AUC is not calculated on train by default. To calculate this metric on train, add hints=skip_train~false to metric parameters.\n",
      "Metric AUC is not calculated on train by default. To calculate this metric on train, add hints=skip_train~false to metric parameters.\n",
      "Metric AUC is not calculated on train by default. To calculate this metric on train, add hints=skip_train~false to metric parameters.\n",
      "Metric AUC is not calculated on train by default. To calculate this metric on train, add hints=skip_train~false to metric parameters.\n",
      "Metric AUC is not calculated on train by default. To calculate this metric on train, add hints=skip_train~false to metric parameters.\n",
      "Metric AUC is not calculated on train by default. To calculate this metric on train, add hints=skip_train~false to metric parameters.\n",
      "Metric AUC is not calculated on train by default. To calculate this metric on train, add hints=skip_train~false to metric parameters.\n",
      "Metric AUC is not calculated on train by default. To calculate this metric on train, add hints=skip_train~false to metric parameters.\n",
      "Metric AUC is not calculated on train by default. To calculate this metric on train, add hints=skip_train~false to metric parameters.\n",
      "Metric AUC is not calculated on train by default. To calculate this metric on train, add hints=skip_train~false to metric parameters.\n",
      "Metric AUC is not calculated on train by default. To calculate this metric on train, add hints=skip_train~false to metric parameters.\n",
      "Metric AUC is not calculated on train by default. To calculate this metric on train, add hints=skip_train~false to metric parameters.\n",
      "Metric AUC is not calculated on train by default. To calculate this metric on train, add hints=skip_train~false to metric parameters.\n",
      "Metric AUC is not calculated on train by default. To calculate this metric on train, add hints=skip_train~false to metric parameters.\n",
      "Metric AUC is not calculated on train by default. To calculate this metric on train, add hints=skip_train~false to metric parameters.\n",
      "Гиперпараметры наилучшей модели CatBoostRegressor: {'depth': 2, 'l2_leaf_reg': 2, 'learning_rate': 0.5}\n",
      "Наилучший AUC-ROC CatBoostRegressor: 0.91\n",
      "CPU times: total: 9min 8s\n",
      "Wall time: 13min 19s\n"
     ]
    }
   ],
   "source": [
    "%%time\n",
    "\n",
    "clf_cb = CatBoostClassifier(eval_metric='AUC', loss_function='Logloss', logging_level='Silent', iterations=500,\n",
    "                            auto_class_weights='Balanced', random_state=RANDOM_STATE)\n",
    "pool_train = Pool(features_train, label=target_train, cat_features=cat_features)\n",
    "\n",
    "grid_params = {'learning_rate': [0.1, 0.3, 0.5],\n",
    "               'depth': range(2, 10, 2),\n",
    "               'l2_leaf_reg': range(2, 10, 2)}\n",
    "\n",
    "catboost_grid = clf_cb.grid_search(grid_params,\n",
    "                                   X=pool_train,\n",
    "                                   verbose=False,\n",
    "                                   plot=False)\n",
    "\n",
    "print(f\"Гиперпараметры наилучшей модели CatBoostRegressor: {catboost_grid['params']}\")\n",
    "CB_AUC_ROC_cv = np.mean(catboost_grid['cv_results']['test-AUC-mean']).round(2)\n",
    "print(f'Наилучший AUC-ROC CatBoostRegressor: {CB_AUC_ROC_cv}')"
   ]
  },
  {
   "cell_type": "markdown",
   "id": "85ea2e52",
   "metadata": {},
   "source": [
    "Замерим время обучения и предсказания лучшей модели на тренировочной выборке."
   ]
  },
  {
   "cell_type": "code",
   "execution_count": 54,
   "id": "d841de49",
   "metadata": {},
   "outputs": [
    {
     "name": "stdout",
     "output_type": "stream",
     "text": [
      "CPU times: total: 3.72 s\n",
      "Wall time: 8.81 s\n"
     ]
    },
    {
     "data": {
      "text/plain": [
       "<catboost.core.CatBoostClassifier at 0x1cefa6bd370>"
      ]
     },
     "execution_count": 54,
     "metadata": {},
     "output_type": "execute_result"
    }
   ],
   "source": [
    "%%time\n",
    "\n",
    "model = CatBoostClassifier(eval_metric='AUC', \n",
    "                           loss_function='Logloss', \n",
    "                           logging_level='Silent', \n",
    "                           iterations=500,\n",
    "                           auto_class_weights='Balanced', \n",
    "                           depth=2, \n",
    "                           l2_leaf_reg=2, \n",
    "                           learning_rate=0.5, \n",
    "                           random_state=RANDOM_STATE)\n",
    "model.fit(features_train, target_train, cat_features=cat_features, verbose=False)"
   ]
  },
  {
   "cell_type": "code",
   "execution_count": 55,
   "id": "bd2bd155",
   "metadata": {},
   "outputs": [
    {
     "name": "stdout",
     "output_type": "stream",
     "text": [
      "AUC-ROC модели CatBoostClassifier на обучающей выборке: 0.9745910619224187\n",
      "CPU times: total: 0 ns\n",
      "Wall time: 28.9 ms\n"
     ]
    }
   ],
   "source": [
    "%%time\n",
    "\n",
    "print(f'AUC-ROC модели CatBoostClassifier на обучающей выборке: {roc_auc_score(target_train, model.predict_proba(features_train)[:, 1])}')"
   ]
  },
  {
   "cell_type": "markdown",
   "id": "b1aee9fb",
   "metadata": {},
   "source": [
    "### LGBMClassifier"
   ]
  },
  {
   "cell_type": "markdown",
   "id": "415399ad",
   "metadata": {},
   "source": [
    "Найдем лучшую модель LGBMClassifier."
   ]
  },
  {
   "cell_type": "code",
   "execution_count": 56,
   "id": "7c499604",
   "metadata": {
    "scrolled": false
   },
   "outputs": [
    {
     "name": "stdout",
     "output_type": "stream",
     "text": [
      "Гиперпараметры наилучшей модели LGBMClassifier: {'boosting_type': 'gbdt', 'importance_type': 'split', 'learning_rate': 0.3, 'max_depth': 2, 'n_estimators': 1000}\n",
      "Наилучший AUC-ROC LGBMClassifier на кросс-валидации: 0.91\n",
      "CPU times: total: 37min 37s\n",
      "Wall time: 5min 50s\n"
     ]
    }
   ],
   "source": [
    "%%time\n",
    "\n",
    "#объявим категориальные признаки\n",
    "features_train.loc[:, cat_features] = features_train.loc[:, cat_features].astype('category')\n",
    "\n",
    "clf = LGBMClassifier(silent=True, random_state=RANDOM_STATE)\n",
    "grid_params = {'boosting_type': ['gbdt', 'dart', 'goss', 'rf'],\n",
    "               'max_depth': range(2, 10, 2),\n",
    "               'n_estimators': [50, 100, 200, 500, 1000],\n",
    "               'learning_rate': [0.1, 0.3, 0.5],\n",
    "               'importance_type': ['split', 'gain']}\n",
    "\n",
    "LGMB_AUC_ROC_cv, LGMB_best_model = get_best_model(clf, grid_params, 'LGBMClassifier', features_train, target_train)"
   ]
  },
  {
   "cell_type": "markdown",
   "id": "2ef36708",
   "metadata": {},
   "source": [
    "Замерим время обучения и предсказания лучшей модели на тренировочной выборке."
   ]
  },
  {
   "cell_type": "code",
   "execution_count": 57,
   "id": "1e5060d6",
   "metadata": {},
   "outputs": [
    {
     "name": "stdout",
     "output_type": "stream",
     "text": [
      "CPU times: total: 1.12 s\n",
      "Wall time: 199 ms\n"
     ]
    },
    {
     "data": {
      "text/html": [
       "<style>#sk-container-id-1 {color: black;background-color: white;}#sk-container-id-1 pre{padding: 0;}#sk-container-id-1 div.sk-toggleable {background-color: white;}#sk-container-id-1 label.sk-toggleable__label {cursor: pointer;display: block;width: 100%;margin-bottom: 0;padding: 0.3em;box-sizing: border-box;text-align: center;}#sk-container-id-1 label.sk-toggleable__label-arrow:before {content: \"▸\";float: left;margin-right: 0.25em;color: #696969;}#sk-container-id-1 label.sk-toggleable__label-arrow:hover:before {color: black;}#sk-container-id-1 div.sk-estimator:hover label.sk-toggleable__label-arrow:before {color: black;}#sk-container-id-1 div.sk-toggleable__content {max-height: 0;max-width: 0;overflow: hidden;text-align: left;background-color: #f0f8ff;}#sk-container-id-1 div.sk-toggleable__content pre {margin: 0.2em;color: black;border-radius: 0.25em;background-color: #f0f8ff;}#sk-container-id-1 input.sk-toggleable__control:checked~div.sk-toggleable__content {max-height: 200px;max-width: 100%;overflow: auto;}#sk-container-id-1 input.sk-toggleable__control:checked~label.sk-toggleable__label-arrow:before {content: \"▾\";}#sk-container-id-1 div.sk-estimator input.sk-toggleable__control:checked~label.sk-toggleable__label {background-color: #d4ebff;}#sk-container-id-1 div.sk-label input.sk-toggleable__control:checked~label.sk-toggleable__label {background-color: #d4ebff;}#sk-container-id-1 input.sk-hidden--visually {border: 0;clip: rect(1px 1px 1px 1px);clip: rect(1px, 1px, 1px, 1px);height: 1px;margin: -1px;overflow: hidden;padding: 0;position: absolute;width: 1px;}#sk-container-id-1 div.sk-estimator {font-family: monospace;background-color: #f0f8ff;border: 1px dotted black;border-radius: 0.25em;box-sizing: border-box;margin-bottom: 0.5em;}#sk-container-id-1 div.sk-estimator:hover {background-color: #d4ebff;}#sk-container-id-1 div.sk-parallel-item::after {content: \"\";width: 100%;border-bottom: 1px solid gray;flex-grow: 1;}#sk-container-id-1 div.sk-label:hover label.sk-toggleable__label {background-color: #d4ebff;}#sk-container-id-1 div.sk-serial::before {content: \"\";position: absolute;border-left: 1px solid gray;box-sizing: border-box;top: 0;bottom: 0;left: 50%;z-index: 0;}#sk-container-id-1 div.sk-serial {display: flex;flex-direction: column;align-items: center;background-color: white;padding-right: 0.2em;padding-left: 0.2em;position: relative;}#sk-container-id-1 div.sk-item {position: relative;z-index: 1;}#sk-container-id-1 div.sk-parallel {display: flex;align-items: stretch;justify-content: center;background-color: white;position: relative;}#sk-container-id-1 div.sk-item::before, #sk-container-id-1 div.sk-parallel-item::before {content: \"\";position: absolute;border-left: 1px solid gray;box-sizing: border-box;top: 0;bottom: 0;left: 50%;z-index: -1;}#sk-container-id-1 div.sk-parallel-item {display: flex;flex-direction: column;z-index: 1;position: relative;background-color: white;}#sk-container-id-1 div.sk-parallel-item:first-child::after {align-self: flex-end;width: 50%;}#sk-container-id-1 div.sk-parallel-item:last-child::after {align-self: flex-start;width: 50%;}#sk-container-id-1 div.sk-parallel-item:only-child::after {width: 0;}#sk-container-id-1 div.sk-dashed-wrapped {border: 1px dashed gray;margin: 0 0.4em 0.5em 0.4em;box-sizing: border-box;padding-bottom: 0.4em;background-color: white;}#sk-container-id-1 div.sk-label label {font-family: monospace;font-weight: bold;display: inline-block;line-height: 1.2em;}#sk-container-id-1 div.sk-label-container {text-align: center;}#sk-container-id-1 div.sk-container {/* jupyter's `normalize.less` sets `[hidden] { display: none; }` but bootstrap.min.css set `[hidden] { display: none !important; }` so we also need the `!important` here to be able to override the default hidden behavior on the sphinx rendered scikit-learn.org. See: https://github.com/scikit-learn/scikit-learn/issues/21755 */display: inline-block !important;position: relative;}#sk-container-id-1 div.sk-text-repr-fallback {display: none;}</style><div id=\"sk-container-id-1\" class=\"sk-top-container\"><div class=\"sk-text-repr-fallback\"><pre>LGBMClassifier(learning_rate=&#x27;0.3&#x27;, max_depth=2, n_estimators=1000,\n",
       "               random_state=300123)</pre><b>In a Jupyter environment, please rerun this cell to show the HTML representation or trust the notebook. <br />On GitHub, the HTML representation is unable to render, please try loading this page with nbviewer.org.</b></div><div class=\"sk-container\" hidden><div class=\"sk-item\"><div class=\"sk-estimator sk-toggleable\"><input class=\"sk-toggleable__control sk-hidden--visually\" id=\"sk-estimator-id-1\" type=\"checkbox\" checked><label for=\"sk-estimator-id-1\" class=\"sk-toggleable__label sk-toggleable__label-arrow\">LGBMClassifier</label><div class=\"sk-toggleable__content\"><pre>LGBMClassifier(learning_rate=&#x27;0.3&#x27;, max_depth=2, n_estimators=1000,\n",
       "               random_state=300123)</pre></div></div></div></div></div>"
      ],
      "text/plain": [
       "LGBMClassifier(learning_rate='0.3', max_depth=2, n_estimators=1000,\n",
       "               random_state=300123)"
      ]
     },
     "execution_count": 57,
     "metadata": {},
     "output_type": "execute_result"
    }
   ],
   "source": [
    "%%time\n",
    "\n",
    "model = LGBMClassifier(silent=True, \n",
    "                       random_state=RANDOM_STATE, \n",
    "                       boosting_type='gbdt', \n",
    "                       importance_type='split', \n",
    "                       learning_rate='0.3',\n",
    "                       max_depth=2,\n",
    "                       n_estimators=1000)\n",
    "model.fit(features_train, target_train)"
   ]
  },
  {
   "cell_type": "code",
   "execution_count": 58,
   "id": "a7fb8f92",
   "metadata": {},
   "outputs": [
    {
     "name": "stdout",
     "output_type": "stream",
     "text": [
      "AUC-ROC модели LGBMClassifier на обучающей выборке: 0.9786859130076168\n",
      "CPU times: total: 266 ms\n",
      "Wall time: 47.1 ms\n"
     ]
    }
   ],
   "source": [
    "%%time\n",
    "\n",
    "print(f'AUC-ROC модели LGBMClassifier на обучающей выборке: {roc_auc_score(target_train, model.predict_proba(features_train)[:, 1])}')"
   ]
  },
  {
   "cell_type": "markdown",
   "id": "44a9ad4a",
   "metadata": {},
   "source": [
    "## Анализ моделей"
   ]
  },
  {
   "cell_type": "markdown",
   "id": "ef337c69",
   "metadata": {},
   "source": [
    "Сведем все значения метрик качества моделей в таблицу."
   ]
  },
  {
   "cell_type": "code",
   "execution_count": 68,
   "id": "0d10dcb8",
   "metadata": {},
   "outputs": [
    {
     "data": {
      "text/html": [
       "<div>\n",
       "<style scoped>\n",
       "    .dataframe tbody tr th:only-of-type {\n",
       "        vertical-align: middle;\n",
       "    }\n",
       "\n",
       "    .dataframe tbody tr th {\n",
       "        vertical-align: top;\n",
       "    }\n",
       "\n",
       "    .dataframe thead th {\n",
       "        text-align: right;\n",
       "    }\n",
       "</style>\n",
       "<table border=\"1\" class=\"dataframe\">\n",
       "  <thead>\n",
       "    <tr style=\"text-align: right;\">\n",
       "      <th></th>\n",
       "      <th>Метрика AUC-ROC на обучающей выборке</th>\n",
       "      <th>Время предсказания(ms)</th>\n",
       "    </tr>\n",
       "  </thead>\n",
       "  <tbody>\n",
       "    <tr>\n",
       "      <th>CatBoostClassifier</th>\n",
       "      <td>0.91</td>\n",
       "      <td>28.9</td>\n",
       "    </tr>\n",
       "    <tr>\n",
       "      <th>LGBMClassifier</th>\n",
       "      <td>0.91</td>\n",
       "      <td>47.1</td>\n",
       "    </tr>\n",
       "    <tr>\n",
       "      <th>LogisitcRegression</th>\n",
       "      <td>0.83</td>\n",
       "      <td>-</td>\n",
       "    </tr>\n",
       "  </tbody>\n",
       "</table>\n",
       "</div>"
      ],
      "text/plain": [
       "                    Метрика AUC-ROC на обучающей выборке  \\\n",
       "CatBoostClassifier                                  0.91   \n",
       "LGBMClassifier                                      0.91   \n",
       "LogisitcRegression                                  0.83   \n",
       "\n",
       "                   Время предсказания(ms)  \n",
       "CatBoostClassifier                   28.9  \n",
       "LGBMClassifier                       47.1  \n",
       "LogisitcRegression                      -  "
      ]
     },
     "execution_count": 68,
     "metadata": {},
     "output_type": "execute_result"
    }
   ],
   "source": [
    "index = ['LogisitcRegression', 'CatBoostClassifier', 'LGBMClassifier']\n",
    "data = {'Метрика AUC-ROC на обучающей выборке':[LR_AUC_ROC_cv,\n",
    "                                                CB_AUC_ROC_cv,\n",
    "                                                LGMB_AUC_ROC_cv],\n",
    "        'Время предсказания(ms)':['-',\n",
    "                                  28.9,\n",
    "                                  47.1]\n",
    "       }\n",
    "\n",
    "pd.DataFrame(data=data, index=index).sort_values(by='Метрика AUC-ROC на обучающей выборке', ascending=False)"
   ]
  },
  {
   "cell_type": "markdown",
   "id": "0fb3ae34",
   "metadata": {},
   "source": [
    "Модели CatBoostClassifier и LGBMClassifier показали одинаковый результат по метрике AUC-ROC на тренировочной выборке, но модель CatBoostClassifier превосходит по времени предсказания в два раза. Наилучшей моделью на тренировочной выборке является CatBoostClassifier."
   ]
  },
  {
   "cell_type": "markdown",
   "id": "c61480bc",
   "metadata": {},
   "source": [
    "## Тестирование"
   ]
  },
  {
   "cell_type": "markdown",
   "id": "2518c4a6",
   "metadata": {},
   "source": [
    "Лучшей моделью на кросс-валидации оказалась модель CatBoostClassifier с гиперпараметрами:  \n",
    "**{loss_function='Logloss', iterations=500, auto_class_weights='Balanced', 'depth': 2, 'l2_leaf_reg': 2, 'learning_rate': 0.5}**    \n",
    "Проверим качество лучшей модели на тестовой выборке, выведем матрицу ошибок и исследуем важность признаков."
   ]
  },
  {
   "cell_type": "code",
   "execution_count": 69,
   "id": "dd2243f8",
   "metadata": {
    "scrolled": true
   },
   "outputs": [
    {
     "data": {
      "text/html": [
       "<div>\n",
       "<style scoped>\n",
       "    .dataframe tbody tr th:only-of-type {\n",
       "        vertical-align: middle;\n",
       "    }\n",
       "\n",
       "    .dataframe tbody tr th {\n",
       "        vertical-align: top;\n",
       "    }\n",
       "\n",
       "    .dataframe thead th {\n",
       "        text-align: right;\n",
       "    }\n",
       "</style>\n",
       "<table border=\"1\" class=\"dataframe\">\n",
       "  <thead>\n",
       "    <tr style=\"text-align: right;\">\n",
       "      <th></th>\n",
       "      <th>CatBoostClassifier</th>\n",
       "    </tr>\n",
       "  </thead>\n",
       "  <tbody>\n",
       "    <tr>\n",
       "      <th>Accuracy</th>\n",
       "      <td>0.87</td>\n",
       "    </tr>\n",
       "    <tr>\n",
       "      <th>Recall</th>\n",
       "      <td>0.79</td>\n",
       "    </tr>\n",
       "    <tr>\n",
       "      <th>Precision</th>\n",
       "      <td>0.73</td>\n",
       "    </tr>\n",
       "    <tr>\n",
       "      <th>F1</th>\n",
       "      <td>0.76</td>\n",
       "    </tr>\n",
       "    <tr>\n",
       "      <th>ROC-AUC</th>\n",
       "      <td>0.93</td>\n",
       "    </tr>\n",
       "  </tbody>\n",
       "</table>\n",
       "</div>"
      ],
      "text/plain": [
       "           CatBoostClassifier\n",
       "Accuracy                 0.87\n",
       "Recall                   0.79\n",
       "Precision                0.73\n",
       "F1                       0.76\n",
       "ROC-AUC                  0.93"
      ]
     },
     "execution_count": 69,
     "metadata": {},
     "output_type": "execute_result"
    }
   ],
   "source": [
    "predictions_cb = clf_cb.predict(features_test)\n",
    "proba_one_cb = clf_cb.predict_proba(features_test)[:, 1]\n",
    "\n",
    "data = {'CatBoostClassifier': \n",
    "              [\n",
    "                  accuracy_score(target_test, predictions_cb).round(2),\n",
    "                  recall_score(target_test, predictions_cb).round(2),\n",
    "                  precision_score(target_test, predictions_cb).round(2),\n",
    "                  f1_score(target_test, predictions_cb).round(2),\n",
    "                  roc_auc_score(target_test, proba_one_cb).round(2)\n",
    "              ]\n",
    "       }\n",
    "index=['Accuracy', 'Recall', 'Precision', 'F1', 'ROC-AUC']\n",
    "pd.DataFrame(data=data, index=index)"
   ]
  },
  {
   "cell_type": "code",
   "execution_count": 70,
   "id": "b0b8d082",
   "metadata": {},
   "outputs": [
    {
     "name": "stdout",
     "output_type": "stream",
     "text": [
      "Матрица ошибок CatBoostClassifier на тестовой выборке:\n"
     ]
    },
    {
     "data": {
      "image/png": "[encoded data removed]",
      "text/plain": [
       "<Figure size 640x480 with 2 Axes>"
      ]
     },
     "metadata": {},
     "output_type": "display_data"
    }
   ],
   "source": [
    "print('Матрица ошибок CatBoostClassifier на тестовой выборке:')\n",
    "cm = confusion_matrix(target_test, predictions_cb, labels=clf_cb.classes_)\n",
    "disp = ConfusionMatrixDisplay(confusion_matrix=cm, display_labels=clf_cb.classes_)\n",
    "disp.plot();"
   ]
  },
  {
   "cell_type": "code",
   "execution_count": 71,
   "id": "6353f373",
   "metadata": {},
   "outputs": [
    {
     "data": {
      "image/png": "[encoded data removed]",
      "text/plain": [
       "<Figure size 1000x800 with 1 Axes>"
      ]
     },
     "metadata": {},
     "output_type": "display_data"
    }
   ],
   "source": [
    "feature_importance = np.array(clf_cb.get_feature_importance())\n",
    "feature_names = np.array(features_train.columns)\n",
    "data={'feature_names':feature_names,'feature_importance':feature_importance}\n",
    "fi_df = pd.DataFrame(data)\n",
    "fi_df.sort_values(by=['feature_importance'], ascending=False,inplace=True)\n",
    "plt.figure(figsize=(10,8))\n",
    "sns.barplot(x=fi_df['feature_importance'], y=fi_df['feature_names'])\n",
    "plt.title('Распределение важности признаков модели CatBoostClassifier')\n",
    "plt.xlabel('Важность признака')\n",
    "plt.ylabel('Признак');"
   ]
  },
  {
   "cell_type": "markdown",
   "id": "d61f864d",
   "metadata": {},
   "source": [
    "**Выводы**  \n",
    "- AUC-ROC на тестовой выборке - 0.93  \n",
    "- 367 истинноположительных, 98 ложноотрицательных (Recall = 0.79) и 138 ложноположительных предсказаний (Precision = 0.73)  \n",
    "- 5 наиболее важных признаков для модели CatBoostClassifier:  \n",
    "\n",
    "1) `Days` - чем дольше человек является клиентом компании, тем меньше вероятность, что он уйдёт  "
   ]
  },
  {
   "cell_type": "code",
   "execution_count": 72,
   "id": "6db1fdef",
   "metadata": {
    "scrolled": false
   },
   "outputs": [
    {
     "data": {
      "image/png": "[encoded data removed]",
      "text/plain": [
       "<Figure size 640x480 with 1 Axes>"
      ]
     },
     "metadata": {},
     "output_type": "display_data"
    }
   ],
   "source": [
    "ax = merged_df.pivot_table(index='Exited', values='Days', aggfunc='mean').plot(kind='bar', \n",
    "                                                                               title='Средняя продолжительность договора по классам', \n",
    "                                                                               ylabel='Количество дней')\n",
    "ax.bar_label(ax.containers[0], label_type='edge');"
   ]
  },
  {
   "cell_type": "markdown",
   "id": "69d105e7",
   "metadata": {},
   "source": [
    "2) `Type`- клиенты, которые оплачивают услуги сразу за год или за два практически не уходят"
   ]
  },
  {
   "cell_type": "code",
   "execution_count": 73,
   "id": "68453c2e",
   "metadata": {
    "scrolled": false
   },
   "outputs": [
    {
     "data": {
      "image/png": "[encoded data removed]",
      "text/plain": [
       "<Figure size 640x480 with 1 Axes>"
      ]
     },
     "metadata": {},
     "output_type": "display_data"
    }
   ],
   "source": [
    "merged_df.pivot_table(index='Exited', columns='Type', values='Days', aggfunc='count').plot(kind='bar', \n",
    "                                                                                           title='Распределение клиентов по типу оплаты для каждого класса',\n",
    "                                                                                           ylabel='Количество клиентов');"
   ]
  },
  {
   "cell_type": "markdown",
   "id": "2f94fea0",
   "metadata": {},
   "source": [
    "3) `MonthlyCharges`- средний чек за месяц ушедших клиентов выше."
   ]
  },
  {
   "cell_type": "code",
   "execution_count": 74,
   "id": "d505fd32",
   "metadata": {
    "scrolled": false
   },
   "outputs": [
    {
     "data": {
      "image/png": "[encoded data removed]",
      "text/plain": [
       "<Figure size 640x480 with 1 Axes>"
      ]
     },
     "metadata": {},
     "output_type": "display_data"
    }
   ],
   "source": [
    "ax = merged_df.pivot_table(index='Exited', values='MonthlyCharges', aggfunc='mean').plot(kind='bar', \n",
    "                                                                                         title='Средний чек за месяц по классам', \n",
    "                                                                                         ylabel='Средний чек за месяц')\n",
    "ax.bar_label(ax.containers[0], label_type='edge');"
   ]
  },
  {
   "cell_type": "markdown",
   "id": "5d2c3f1b",
   "metadata": {},
   "source": [
    "4) `TotalCharges`- здесь тоже логично, если человек остался клиентом, он продолжает платить и его общий чек больше, чем у ушедшего клиента."
   ]
  },
  {
   "cell_type": "code",
   "execution_count": 75,
   "id": "95284ee6",
   "metadata": {
    "scrolled": false
   },
   "outputs": [
    {
     "data": {
      "image/png": "[encoded data removed]",
      "text/plain": [
       "<Figure size 640x480 with 1 Axes>"
      ]
     },
     "metadata": {},
     "output_type": "display_data"
    }
   ],
   "source": [
    "ax = merged_df.pivot_table(index='Exited', values='TotalCharges', aggfunc='mean').plot(kind='bar', \n",
    "                                                                                       title='Общая средняя сумма по классам', \n",
    "                                                                                       ylabel='Общая средняя сумма')\n",
    "ax.bar_label(ax.containers[0], label_type='edge');"
   ]
  },
  {
   "cell_type": "markdown",
   "id": "f5f7ed16",
   "metadata": {},
   "source": [
    "5) `isInternetService`- уходят в основном клиенты с подключенной услугой интернета."
   ]
  },
  {
   "cell_type": "code",
   "execution_count": 76,
   "id": "a55bd801",
   "metadata": {},
   "outputs": [
    {
     "data": {
      "image/png": "[encoded data removed]",
      "text/plain": [
       "<Figure size 640x480 with 1 Axes>"
      ]
     },
     "metadata": {},
     "output_type": "display_data"
    }
   ],
   "source": [
    "ax = merged_df.pivot_table(index='Exited', columns='isInternetService', values='Days', aggfunc='count').plot(kind='bar', \n",
    "                                                                                                             title='Наличие услуги интернета по классам', \n",
    "                                                                                                             ylabel='Количество клиентов')"
   ]
  },
  {
   "cell_type": "markdown",
   "id": "d0e5834d",
   "metadata": {},
   "source": [
    "## Общий вывод"
   ]
  },
  {
   "cell_type": "markdown",
   "id": "d9a227e5",
   "metadata": {},
   "source": [
    "В данной работе были исследованы модели, способные проанализировать поведение клиентов оператора связи на имеющихся данных и спрогнозировать, уйдёт клиент от оператора или нет, то есть решить задачу классификации.  \n",
    "\n",
    "Исходные данные были предоставлены в четырёх датасетах. В результате проведенной предобработки данные были подготовлены для дальнейшего обучения моделей следующим образом:  \n",
    "\n",
    "1) сформировали целевой признак на основе значений столбца EndDate: факт ухода клиента (ушёл — 1, не ушёл — 0)  \n",
    "2) сформировали новые признаки:  \n",
    "`Days` - сколько времени в днях человек являлся клиентом оператора услуг связи    \n",
    "`isInternetService` - пользовался клиент интернет-услугами или нет  \n",
    "`isPhone` - пользовался клиент услугами телефонии или нет  \n",
    "3) удалили малозначимые признаки: `BeginDate`, `EndDate` и признаки с детализацией каждой услуги    \n",
    "4) преобразовали все бинарные признаки к числовому типу int8   \n",
    "5) объединили все таблицы и провели предобработку объединенного датафрейма: обработали пропуски, проверили на аномалии, удалили 19 дубликатов строк. В результате получили датасет, состоящий из 7013 строк и 13 признаков (включая целевой)    \n",
    "6) проверили выборку на дисбаланс классов: дисбаланс классов целевого признака 0 - 73%, 1 - 27%   \n",
    "7) исследовали взаимосвязь признаков и обнаружили тесную прямую связь между некоторыми парами признаков. Для модели логистической регресии признаки `TotalCharges`, `isInternetService`, `isPhone необходимо удалить` были удалены, чтобы избежать мультиколлинеарности    \n",
    "8) разделили выборку на обучающую и тестовую в соотношении 75% к 25% соответственно   \n",
    "9) для модели LogisticRegression категориальные признаки `Type` и `PaymentMethod` были преобразованы в численные техникой OHE, а признаки `TotalCharges`, `isInternetService`, `isPhone` удалены из-за тесной взаимосвязи.    \n",
    "\n",
    "Далее для моделей LogisticRegression, LGBMClassifier и CatBoostClassifier были подобраны гиперпараметры, чтобы получить модели с наилучшей метрикой AUC-ROC на кросс-валидации. Модели CatBoostClassifier и LGBMClassifier показали одинаковый результат на тренировочной выборке, но CatBoostClassifier имеет лучший показатель по времени предсказания.  \n",
    "\n",
    "В результате получили следующую итоговую модель: CatBoostClassifier c гиперпараметрами \n",
    "```\n",
    "{loss_function='Logloss', iterations=500, 'depth': 2, 'l2_leaf_reg': 2, \n",
    "'learning_rate': 0.5, auto_class_weights='Balanced', random_state=300123}\n",
    "```\n",
    "Метрики качества на тестовой выборке:   \n",
    "- **ROC-AUC:\t    0.93**     \n",
    "- Accuracy:\t    0.87  \n",
    "- Recall:\t    0.79  \n",
    "- Precision:\t0.73  \n",
    "- F1:\t        0.76  \n",
    "\n",
    "Наиболее важными признаками для решения задачи оказались:\n",
    "- `Days` - сколько времени в днях человек являлся клиентом оператора услуг связи  \n",
    "- `Type` - как человек оплачивает: помесячно, за год или за два года  \n",
    "- `MothlyCharge`, `TotalCharge`, `isInternetService`."
   ]
  }
 ],
 "metadata": {
  "ExecuteTimeLog": [
   {
    "duration": 603,
    "start_time": "2023-02-01T18:00:22.677Z"
   },
   {
    "duration": 110,
    "start_time": "2023-02-01T18:00:30.394Z"
   },
   {
    "duration": 612,
    "start_time": "2023-02-01T18:02:16.987Z"
   },
   {
    "duration": 122,
    "start_time": "2023-02-01T18:02:19.555Z"
   },
   {
    "duration": 81,
    "start_time": "2023-02-01T18:04:59.776Z"
   },
   {
    "duration": 120,
    "start_time": "2023-02-01T18:05:11.922Z"
   },
   {
    "duration": 60,
    "start_time": "2023-02-01T18:06:35.880Z"
   },
   {
    "duration": 37,
    "start_time": "2023-02-01T18:06:41.448Z"
   },
   {
    "duration": 72,
    "start_time": "2023-02-01T18:06:46.831Z"
   },
   {
    "duration": 748,
    "start_time": "2023-02-02T17:27:08.184Z"
   },
   {
    "duration": 219,
    "start_time": "2023-02-02T17:27:10.167Z"
   },
   {
    "duration": 241,
    "start_time": "2023-02-02T17:27:25.596Z"
   },
   {
    "duration": 6225,
    "start_time": "2023-02-05T17:06:17.608Z"
   },
   {
    "duration": 2428,
    "start_time": "2023-02-05T17:06:23.836Z"
   },
   {
    "duration": 143,
    "start_time": "2023-02-05T17:06:27.617Z"
   },
   {
    "duration": 16,
    "start_time": "2023-02-05T17:06:28.516Z"
   },
   {
    "duration": 11,
    "start_time": "2023-02-05T17:06:28.679Z"
   },
   {
    "duration": 31,
    "start_time": "2023-02-05T17:06:29.115Z"
   },
   {
    "duration": 5,
    "start_time": "2023-02-05T17:06:29.279Z"
   },
   {
    "duration": 4,
    "start_time": "2023-02-05T17:06:29.430Z"
   },
   {
    "duration": 111,
    "start_time": "2023-02-05T17:06:30.148Z"
   },
   {
    "duration": 10,
    "start_time": "2023-02-05T17:06:30.260Z"
   },
   {
    "duration": 56,
    "start_time": "2023-02-05T17:06:30.272Z"
   },
   {
    "duration": 13,
    "start_time": "2023-02-05T17:06:30.342Z"
   },
   {
    "duration": 5,
    "start_time": "2023-02-05T17:06:30.487Z"
   },
   {
    "duration": 49,
    "start_time": "2023-02-05T17:06:30.940Z"
   },
   {
    "duration": 13,
    "start_time": "2023-02-05T17:06:31.095Z"
   },
   {
    "duration": 24,
    "start_time": "2023-02-05T17:06:31.238Z"
   },
   {
    "duration": 7,
    "start_time": "2023-02-05T17:06:31.400Z"
   },
   {
    "duration": 70,
    "start_time": "2023-02-05T17:06:31.915Z"
   },
   {
    "duration": 9,
    "start_time": "2023-02-05T17:06:32.064Z"
   },
   {
    "duration": 13,
    "start_time": "2023-02-05T17:06:32.260Z"
   },
   {
    "duration": 7,
    "start_time": "2023-02-05T17:06:35.009Z"
   },
   {
    "duration": 4,
    "start_time": "2023-02-05T17:06:35.159Z"
   },
   {
    "duration": 4,
    "start_time": "2023-02-05T17:06:35.626Z"
   },
   {
    "duration": 4,
    "start_time": "2023-02-05T17:06:35.929Z"
   },
   {
    "duration": 15,
    "start_time": "2023-02-05T17:06:36.233Z"
   },
   {
    "duration": 6,
    "start_time": "2023-02-05T17:06:36.537Z"
   },
   {
    "duration": 22,
    "start_time": "2023-02-05T17:06:36.990Z"
   },
   {
    "duration": 11,
    "start_time": "2023-02-05T17:06:37.144Z"
   },
   {
    "duration": 7,
    "start_time": "2023-02-05T17:06:37.634Z"
   },
   {
    "duration": 10,
    "start_time": "2023-02-05T17:06:37.969Z"
   },
   {
    "duration": 5,
    "start_time": "2023-02-05T17:06:38.449Z"
   },
   {
    "duration": 5,
    "start_time": "2023-02-05T17:06:38.933Z"
   },
   {
    "duration": 13,
    "start_time": "2023-02-05T17:06:39.413Z"
   },
   {
    "duration": 10,
    "start_time": "2023-02-05T17:06:39.577Z"
   },
   {
    "duration": 12,
    "start_time": "2023-02-05T17:06:39.909Z"
   },
   {
    "duration": 10,
    "start_time": "2023-02-05T17:06:40.419Z"
   },
   {
    "duration": 9,
    "start_time": "2023-02-05T17:06:40.749Z"
   },
   {
    "duration": 8,
    "start_time": "2023-02-05T17:06:41.113Z"
   },
   {
    "duration": 50,
    "start_time": "2023-02-05T17:06:41.960Z"
   },
   {
    "duration": 443,
    "start_time": "2023-02-05T17:06:42.252Z"
   },
   {
    "duration": 136,
    "start_time": "2023-02-05T17:06:42.697Z"
   },
   {
    "duration": 314,
    "start_time": "2023-02-05T17:06:43.338Z"
   },
   {
    "duration": 2045,
    "start_time": "2023-02-05T17:12:47.617Z"
   },
   {
    "duration": 120,
    "start_time": "2023-02-05T17:12:54.195Z"
   },
   {
    "duration": 14,
    "start_time": "2023-02-05T17:12:55.326Z"
   },
   {
    "duration": 13,
    "start_time": "2023-02-05T17:12:56.041Z"
   },
   {
    "duration": 35,
    "start_time": "2023-02-05T17:12:57.158Z"
   },
   {
    "duration": 4,
    "start_time": "2023-02-05T17:12:57.517Z"
   },
   {
    "duration": 5,
    "start_time": "2023-02-05T17:12:57.835Z"
   },
   {
    "duration": 64,
    "start_time": "2023-02-05T17:12:58.699Z"
   },
   {
    "duration": 10,
    "start_time": "2023-02-05T17:12:58.926Z"
   },
   {
    "duration": 23,
    "start_time": "2023-02-05T17:12:59.144Z"
   },
   {
    "duration": 4,
    "start_time": "2023-02-05T17:12:59.326Z"
   },
   {
    "duration": 5,
    "start_time": "2023-02-05T17:12:59.853Z"
   },
   {
    "duration": 72,
    "start_time": "2023-02-05T17:12:59.977Z"
   },
   {
    "duration": 11,
    "start_time": "2023-02-05T17:13:00.051Z"
   },
   {
    "duration": 43,
    "start_time": "2023-02-05T17:13:00.064Z"
   },
   {
    "duration": 6,
    "start_time": "2023-02-05T17:13:00.110Z"
   },
   {
    "duration": 45,
    "start_time": "2023-02-05T17:13:00.656Z"
   },
   {
    "duration": 10,
    "start_time": "2023-02-05T17:13:00.816Z"
   },
   {
    "duration": 14,
    "start_time": "2023-02-05T17:13:00.965Z"
   },
   {
    "duration": 5,
    "start_time": "2023-02-05T17:13:04.212Z"
   },
   {
    "duration": 7,
    "start_time": "2023-02-05T17:13:04.396Z"
   },
   {
    "duration": 8,
    "start_time": "2023-02-05T17:13:05.206Z"
   },
   {
    "duration": 5,
    "start_time": "2023-02-05T17:13:05.608Z"
   },
   {
    "duration": 15,
    "start_time": "2023-02-05T17:13:06.440Z"
   },
   {
    "duration": 8,
    "start_time": "2023-02-05T17:13:06.840Z"
   },
   {
    "duration": 11,
    "start_time": "2023-02-05T17:13:07.323Z"
   },
   {
    "duration": 12,
    "start_time": "2023-02-05T17:13:07.513Z"
   },
   {
    "duration": 7,
    "start_time": "2023-02-05T17:13:08.217Z"
   },
   {
    "duration": 8,
    "start_time": "2023-02-05T17:13:08.570Z"
   },
   {
    "duration": 5,
    "start_time": "2023-02-05T17:13:09.363Z"
   },
   {
    "duration": 6,
    "start_time": "2023-02-05T17:13:09.874Z"
   },
   {
    "duration": 13,
    "start_time": "2023-02-05T17:13:10.731Z"
   },
   {
    "duration": 11,
    "start_time": "2023-02-05T17:13:11.143Z"
   },
   {
    "duration": 8,
    "start_time": "2023-02-05T17:13:11.630Z"
   },
   {
    "duration": 10,
    "start_time": "2023-02-05T17:13:12.558Z"
   },
   {
    "duration": 8,
    "start_time": "2023-02-05T17:13:13.240Z"
   },
   {
    "duration": 11,
    "start_time": "2023-02-05T17:13:13.725Z"
   },
   {
    "duration": 56,
    "start_time": "2023-02-05T17:13:14.470Z"
   },
   {
    "duration": 411,
    "start_time": "2023-02-05T17:13:14.924Z"
   },
   {
    "duration": 127,
    "start_time": "2023-02-05T17:13:15.337Z"
   },
   {
    "duration": 5,
    "start_time": "2023-02-05T17:13:27.461Z"
   },
   {
    "duration": 3,
    "start_time": "2023-02-05T17:13:32.148Z"
   },
   {
    "duration": 9,
    "start_time": "2023-02-05T17:13:33.720Z"
   },
   {
    "duration": 102,
    "start_time": "2023-02-05T17:13:34.849Z"
   },
   {
    "duration": 18,
    "start_time": "2023-02-05T17:13:52.085Z"
   }
  ],
  "kernelspec": {
   "display_name": "Python 3 (ipykernel)",
   "language": "python",
   "name": "python3"
  },
  "language_info": {
   "codemirror_mode": {
    "name": "ipython",
    "version": 3
   },
   "file_extension": ".py",
   "mimetype": "text/x-python",
   "name": "python",
   "nbconvert_exporter": "python",
   "pygments_lexer": "ipython3",
   "version": "3.9.13"
  },
  "toc": {
   "base_numbering": 1,
   "nav_menu": {},
   "number_sections": true,
   "sideBar": true,
   "skip_h1_title": true,
   "title_cell": "Table of Contents",
   "title_sidebar": "Contents",
   "toc_cell": false,
   "toc_position": {
    "height": "calc(100% - 180px)",
    "left": "10px",
    "top": "150px",
    "width": "303.837px"
   },
   "toc_section_display": true,
   "toc_window_display": true
  }
 },
 "nbformat": 4,
 "nbformat_minor": 5
}
