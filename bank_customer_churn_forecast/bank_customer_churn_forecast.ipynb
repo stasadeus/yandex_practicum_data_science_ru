{
 "cells": [
  {
   "cell_type": "markdown",
   "metadata": {},
   "source": [
    "# Отток клиентов банка"
   ]
  },
  {
   "cell_type": "markdown",
   "metadata": {},
   "source": [
    "## Содержание исследования <a id='content'> </a>\n",
    "\n",
    "* [1. Цель исследования и план работы](#purpose)  \n",
    "* [2. Подготовка данных](#data_preparation)  \n",
    "    * [2.1. Обзор данных](#data_overview)  \n",
    "         - [2.1.1. Выводы](#conclusions_2_1_1)  \n",
    "    * [2.2. Предобработка данных](#data_preprocessing)  \n",
    "         - [2.2.1. Изменение названий столбцов](#column_names_change)  \n",
    "         - [2.2.2. Обработка пропусков](#gaps)  \n",
    "         - [2.2.3. Обработка дубликатов](#duplicates)  \n",
    "         - [2.2.4. Обработка аномальных значений](#anomalies)  \n",
    "         - [2.2.5. Выводы](#conclusions_2_2_5)  \n",
    "    * [2.3. Подготовка признаков](#features_preparation)  \n",
    "         - [2.3.1. Выводы](#conclusions_2_3_1)  \n",
    "* [3. Исследование задачи](#problem_research)  \n",
    "    * [3.1. Исследование дисбаланса классов](#imbalance_research)  \n",
    "    * [3.2. Обучение модели без учёта дисбаланса](#train_imbalanced)   \n",
    "         - [3.2.1. Модель логистической регрессии](#imbalanced_LR)  \n",
    "         - [3.2.2. Модель случайного леса](#imbalanced_RF)  \n",
    "    * [3.3. Выводы](#conclusions_3_3)  \n",
    "* [4. Борьба с дисбалансом](#fighting_imbalance)  \n",
    "    * [4.1. Автоматическая балансировка](#auto_balance)  \n",
    "         - [4.1.1. Модель логистической регрессии](#auto_balance_LR)  \n",
    "         - [4.1.2. Модель случайного леса](#auto_balance_RF)  \n",
    "    * [4.2. Увеличение выбоки (upsampling)](#upsampling)  \n",
    "         - [4.2.1. Модель логистической регрессии](#upsampled_LR)  \n",
    "         - [4.2.2. Модель случайного леса](#upsampled_RF)  \n",
    "    * [4.3. Уменьшение выбоки (downsampling)](#downsampling)  \n",
    "         - [4.3.1. Модель логистической регрессии](#downsampled_LR)  \n",
    "         - [4.3.2. Модель случайного леса](#downsampled_RF)  \n",
    "    * [4.4. Выводы](#conclusions_4_4)  \n",
    "* [5. Тестирование модели](#final_testing)  \n",
    "* [6. Итоги исследования и общий вывод](#research_results)"
   ]
  },
  {
   "cell_type": "markdown",
   "metadata": {},
   "source": [
    "## 1. Цель исследования и план работы <a id='purpose'> </a>"
   ]
  },
  {
   "cell_type": "markdown",
   "metadata": {},
   "source": [
    "Из банка стали уходить клиенты. Каждый месяц. Немного, но заметно. Банковские маркетологи посчитали: сохранять текущих клиентов дешевле, чем привлекать новых.\n",
    "\n",
    "**Задача**  \n",
    "\n",
    "Нужно спрогнозировать, уйдёт клиент из банка в ближайшее время или нет. Нам предоставлены исторические данные о поведении клиентов и расторжении договоров с банком. Необходимо построить модель с предельно большим значением *F1*-меры не менее 0.59.\n",
    "\n",
    "Источник данных: [https://www.kaggle.com/barelydedicated/bank-customer-churn-modeling](https://www.kaggle.com/barelydedicated/bank-customer-churn-modeling)\n",
    "\n",
    "**Описание данных**\n",
    "\n",
    "*Признаки* \n",
    "\n",
    "- `RowNumber` — индекс строки в данных  \n",
    "- `CustomerId` — уникальный идентификатор клиента  \n",
    "- `Surname` — фамилия  \n",
    "- `CreditScore` — кредитный рейтинг  \n",
    "- `Geography` — страна проживания  \n",
    "- `Gender` — пол  \n",
    "- `Age` — возраст  \n",
    "- `Tenure` — сколько лет человек является клиентом банка  \n",
    "- `Balance` — баланс на счёте  \n",
    "- `NumOfProducts` — количество продуктов банка, используемых клиентом  \n",
    "- `HasCrCard` — наличие кредитной карты  \n",
    "- `IsActiveMember` — активность клиента  \n",
    "- `EstimatedSalary` — предполагаемая зарплата  \n",
    "\n",
    "*Целевой признак*  \n",
    "\n",
    "- `Exited` — факт ухода клиента  \n",
    "\n",
    "**План работы**\n",
    "\n",
    "Данная работа состоит из следующих этапов:  \n",
    "1) Подготовка данных:  \n",
    "- загрузим и подготовим данные;  \n",
    "- поясним порядок действий.  \n",
    "\n",
    "2) Исследование задачи:  \n",
    "- исследуем баланс классов;\n",
    "- обучим модель без учёта дисбаланса;\n",
    "- кратко опишем выводы.  \n",
    "\n",
    "3) Борьба с дисбалансом:  \n",
    "- улучшим качество модели, учитывая дисбаланс классов;  \n",
    "- обучим разные модели и найдём лучшую;  \n",
    "- кратко опишем выводы.  \n",
    "\n",
    "4) Тестирование модели:  \n",
    "- проведем финальное тестирование;    \n",
    "\n",
    "5) Итоги исследования и общий вывод.  \n",
    "\n",
    "<div>\n",
    "    <br/>\n",
    "    <a href=#content>К содержанию</a>\n",
    "</div>"
   ]
  },
  {
   "cell_type": "markdown",
   "metadata": {},
   "source": [
    "## 2. Подготовка данных <a id='data_preparation'> </a>"
   ]
  },
  {
   "cell_type": "markdown",
   "metadata": {},
   "source": [
    "### 2.1. Обзор данных <a id='data_overview'> </a>"
   ]
  },
  {
   "cell_type": "markdown",
   "metadata": {},
   "source": [
    "Импортируем все необходимые библиотеки для проведения исследования."
   ]
  },
  {
   "cell_type": "code",
   "execution_count": 1,
   "metadata": {},
   "outputs": [],
   "source": [
    "import pandas as pd\n",
    "import missingno\n",
    "import matplotlib.pyplot as plt\n",
    "from sklearn.model_selection import train_test_split, GridSearchCV\n",
    "from sklearn.preprocessing import StandardScaler\n",
    "from sklearn.linear_model import LogisticRegression\n",
    "from sklearn.ensemble import RandomForestClassifier\n",
    "from sklearn.metrics import accuracy_score, recall_score, precision_score, f1_score, roc_auc_score, confusion_matrix, ConfusionMatrixDisplay\n",
    "from sklearn.utils import shuffle\n",
    "import warnings\n",
    "warnings.filterwarnings('ignore')"
   ]
  },
  {
   "cell_type": "code",
   "execution_count": 2,
   "metadata": {
    "scrolled": false
   },
   "outputs": [
    {
     "data": {
      "text/html": [
       "<div>\n",
       "<style scoped>\n",
       "    .dataframe tbody tr th:only-of-type {\n",
       "        vertical-align: middle;\n",
       "    }\n",
       "\n",
       "    .dataframe tbody tr th {\n",
       "        vertical-align: top;\n",
       "    }\n",
       "\n",
       "    .dataframe thead th {\n",
       "        text-align: right;\n",
       "    }\n",
       "</style>\n",
       "<table border=\"1\" class=\"dataframe\">\n",
       "  <thead>\n",
       "    <tr style=\"text-align: right;\">\n",
       "      <th></th>\n",
       "      <th>RowNumber</th>\n",
       "      <th>CustomerId</th>\n",
       "      <th>Surname</th>\n",
       "      <th>CreditScore</th>\n",
       "      <th>Geography</th>\n",
       "      <th>Gender</th>\n",
       "      <th>Age</th>\n",
       "      <th>Tenure</th>\n",
       "      <th>Balance</th>\n",
       "      <th>NumOfProducts</th>\n",
       "      <th>HasCrCard</th>\n",
       "      <th>IsActiveMember</th>\n",
       "      <th>EstimatedSalary</th>\n",
       "      <th>Exited</th>\n",
       "    </tr>\n",
       "  </thead>\n",
       "  <tbody>\n",
       "    <tr>\n",
       "      <th>0</th>\n",
       "      <td>1</td>\n",
       "      <td>15634602</td>\n",
       "      <td>Hargrave</td>\n",
       "      <td>619</td>\n",
       "      <td>France</td>\n",
       "      <td>Female</td>\n",
       "      <td>42</td>\n",
       "      <td>2.0</td>\n",
       "      <td>0.00</td>\n",
       "      <td>1</td>\n",
       "      <td>1</td>\n",
       "      <td>1</td>\n",
       "      <td>101348.88</td>\n",
       "      <td>1</td>\n",
       "    </tr>\n",
       "    <tr>\n",
       "      <th>1</th>\n",
       "      <td>2</td>\n",
       "      <td>15647311</td>\n",
       "      <td>Hill</td>\n",
       "      <td>608</td>\n",
       "      <td>Spain</td>\n",
       "      <td>Female</td>\n",
       "      <td>41</td>\n",
       "      <td>1.0</td>\n",
       "      <td>83807.86</td>\n",
       "      <td>1</td>\n",
       "      <td>0</td>\n",
       "      <td>1</td>\n",
       "      <td>112542.58</td>\n",
       "      <td>0</td>\n",
       "    </tr>\n",
       "    <tr>\n",
       "      <th>2</th>\n",
       "      <td>3</td>\n",
       "      <td>15619304</td>\n",
       "      <td>Onio</td>\n",
       "      <td>502</td>\n",
       "      <td>France</td>\n",
       "      <td>Female</td>\n",
       "      <td>42</td>\n",
       "      <td>8.0</td>\n",
       "      <td>159660.80</td>\n",
       "      <td>3</td>\n",
       "      <td>1</td>\n",
       "      <td>0</td>\n",
       "      <td>113931.57</td>\n",
       "      <td>1</td>\n",
       "    </tr>\n",
       "    <tr>\n",
       "      <th>3</th>\n",
       "      <td>4</td>\n",
       "      <td>15701354</td>\n",
       "      <td>Boni</td>\n",
       "      <td>699</td>\n",
       "      <td>France</td>\n",
       "      <td>Female</td>\n",
       "      <td>39</td>\n",
       "      <td>1.0</td>\n",
       "      <td>0.00</td>\n",
       "      <td>2</td>\n",
       "      <td>0</td>\n",
       "      <td>0</td>\n",
       "      <td>93826.63</td>\n",
       "      <td>0</td>\n",
       "    </tr>\n",
       "    <tr>\n",
       "      <th>4</th>\n",
       "      <td>5</td>\n",
       "      <td>15737888</td>\n",
       "      <td>Mitchell</td>\n",
       "      <td>850</td>\n",
       "      <td>Spain</td>\n",
       "      <td>Female</td>\n",
       "      <td>43</td>\n",
       "      <td>2.0</td>\n",
       "      <td>125510.82</td>\n",
       "      <td>1</td>\n",
       "      <td>1</td>\n",
       "      <td>1</td>\n",
       "      <td>79084.10</td>\n",
       "      <td>0</td>\n",
       "    </tr>\n",
       "    <tr>\n",
       "      <th>5</th>\n",
       "      <td>6</td>\n",
       "      <td>15574012</td>\n",
       "      <td>Chu</td>\n",
       "      <td>645</td>\n",
       "      <td>Spain</td>\n",
       "      <td>Male</td>\n",
       "      <td>44</td>\n",
       "      <td>8.0</td>\n",
       "      <td>113755.78</td>\n",
       "      <td>2</td>\n",
       "      <td>1</td>\n",
       "      <td>0</td>\n",
       "      <td>149756.71</td>\n",
       "      <td>1</td>\n",
       "    </tr>\n",
       "    <tr>\n",
       "      <th>6</th>\n",
       "      <td>7</td>\n",
       "      <td>15592531</td>\n",
       "      <td>Bartlett</td>\n",
       "      <td>822</td>\n",
       "      <td>France</td>\n",
       "      <td>Male</td>\n",
       "      <td>50</td>\n",
       "      <td>7.0</td>\n",
       "      <td>0.00</td>\n",
       "      <td>2</td>\n",
       "      <td>1</td>\n",
       "      <td>1</td>\n",
       "      <td>10062.80</td>\n",
       "      <td>0</td>\n",
       "    </tr>\n",
       "    <tr>\n",
       "      <th>7</th>\n",
       "      <td>8</td>\n",
       "      <td>15656148</td>\n",
       "      <td>Obinna</td>\n",
       "      <td>376</td>\n",
       "      <td>Germany</td>\n",
       "      <td>Female</td>\n",
       "      <td>29</td>\n",
       "      <td>4.0</td>\n",
       "      <td>115046.74</td>\n",
       "      <td>4</td>\n",
       "      <td>1</td>\n",
       "      <td>0</td>\n",
       "      <td>119346.88</td>\n",
       "      <td>1</td>\n",
       "    </tr>\n",
       "    <tr>\n",
       "      <th>8</th>\n",
       "      <td>9</td>\n",
       "      <td>15792365</td>\n",
       "      <td>He</td>\n",
       "      <td>501</td>\n",
       "      <td>France</td>\n",
       "      <td>Male</td>\n",
       "      <td>44</td>\n",
       "      <td>4.0</td>\n",
       "      <td>142051.07</td>\n",
       "      <td>2</td>\n",
       "      <td>0</td>\n",
       "      <td>1</td>\n",
       "      <td>74940.50</td>\n",
       "      <td>0</td>\n",
       "    </tr>\n",
       "    <tr>\n",
       "      <th>9</th>\n",
       "      <td>10</td>\n",
       "      <td>15592389</td>\n",
       "      <td>H?</td>\n",
       "      <td>684</td>\n",
       "      <td>France</td>\n",
       "      <td>Male</td>\n",
       "      <td>27</td>\n",
       "      <td>2.0</td>\n",
       "      <td>134603.88</td>\n",
       "      <td>1</td>\n",
       "      <td>1</td>\n",
       "      <td>1</td>\n",
       "      <td>71725.73</td>\n",
       "      <td>0</td>\n",
       "    </tr>\n",
       "    <tr>\n",
       "      <th>10</th>\n",
       "      <td>11</td>\n",
       "      <td>15767821</td>\n",
       "      <td>Bearce</td>\n",
       "      <td>528</td>\n",
       "      <td>France</td>\n",
       "      <td>Male</td>\n",
       "      <td>31</td>\n",
       "      <td>6.0</td>\n",
       "      <td>102016.72</td>\n",
       "      <td>2</td>\n",
       "      <td>0</td>\n",
       "      <td>0</td>\n",
       "      <td>80181.12</td>\n",
       "      <td>0</td>\n",
       "    </tr>\n",
       "    <tr>\n",
       "      <th>11</th>\n",
       "      <td>12</td>\n",
       "      <td>15737173</td>\n",
       "      <td>Andrews</td>\n",
       "      <td>497</td>\n",
       "      <td>Spain</td>\n",
       "      <td>Male</td>\n",
       "      <td>24</td>\n",
       "      <td>3.0</td>\n",
       "      <td>0.00</td>\n",
       "      <td>2</td>\n",
       "      <td>1</td>\n",
       "      <td>0</td>\n",
       "      <td>76390.01</td>\n",
       "      <td>0</td>\n",
       "    </tr>\n",
       "    <tr>\n",
       "      <th>12</th>\n",
       "      <td>13</td>\n",
       "      <td>15632264</td>\n",
       "      <td>Kay</td>\n",
       "      <td>476</td>\n",
       "      <td>France</td>\n",
       "      <td>Female</td>\n",
       "      <td>34</td>\n",
       "      <td>10.0</td>\n",
       "      <td>0.00</td>\n",
       "      <td>2</td>\n",
       "      <td>1</td>\n",
       "      <td>0</td>\n",
       "      <td>26260.98</td>\n",
       "      <td>0</td>\n",
       "    </tr>\n",
       "    <tr>\n",
       "      <th>13</th>\n",
       "      <td>14</td>\n",
       "      <td>15691483</td>\n",
       "      <td>Chin</td>\n",
       "      <td>549</td>\n",
       "      <td>France</td>\n",
       "      <td>Female</td>\n",
       "      <td>25</td>\n",
       "      <td>5.0</td>\n",
       "      <td>0.00</td>\n",
       "      <td>2</td>\n",
       "      <td>0</td>\n",
       "      <td>0</td>\n",
       "      <td>190857.79</td>\n",
       "      <td>0</td>\n",
       "    </tr>\n",
       "    <tr>\n",
       "      <th>14</th>\n",
       "      <td>15</td>\n",
       "      <td>15600882</td>\n",
       "      <td>Scott</td>\n",
       "      <td>635</td>\n",
       "      <td>Spain</td>\n",
       "      <td>Female</td>\n",
       "      <td>35</td>\n",
       "      <td>7.0</td>\n",
       "      <td>0.00</td>\n",
       "      <td>2</td>\n",
       "      <td>1</td>\n",
       "      <td>1</td>\n",
       "      <td>65951.65</td>\n",
       "      <td>0</td>\n",
       "    </tr>\n",
       "    <tr>\n",
       "      <th>15</th>\n",
       "      <td>16</td>\n",
       "      <td>15643966</td>\n",
       "      <td>Goforth</td>\n",
       "      <td>616</td>\n",
       "      <td>Germany</td>\n",
       "      <td>Male</td>\n",
       "      <td>45</td>\n",
       "      <td>3.0</td>\n",
       "      <td>143129.41</td>\n",
       "      <td>2</td>\n",
       "      <td>0</td>\n",
       "      <td>1</td>\n",
       "      <td>64327.26</td>\n",
       "      <td>0</td>\n",
       "    </tr>\n",
       "    <tr>\n",
       "      <th>16</th>\n",
       "      <td>17</td>\n",
       "      <td>15737452</td>\n",
       "      <td>Romeo</td>\n",
       "      <td>653</td>\n",
       "      <td>Germany</td>\n",
       "      <td>Male</td>\n",
       "      <td>58</td>\n",
       "      <td>1.0</td>\n",
       "      <td>132602.88</td>\n",
       "      <td>1</td>\n",
       "      <td>1</td>\n",
       "      <td>0</td>\n",
       "      <td>5097.67</td>\n",
       "      <td>1</td>\n",
       "    </tr>\n",
       "    <tr>\n",
       "      <th>17</th>\n",
       "      <td>18</td>\n",
       "      <td>15788218</td>\n",
       "      <td>Henderson</td>\n",
       "      <td>549</td>\n",
       "      <td>Spain</td>\n",
       "      <td>Female</td>\n",
       "      <td>24</td>\n",
       "      <td>9.0</td>\n",
       "      <td>0.00</td>\n",
       "      <td>2</td>\n",
       "      <td>1</td>\n",
       "      <td>1</td>\n",
       "      <td>14406.41</td>\n",
       "      <td>0</td>\n",
       "    </tr>\n",
       "    <tr>\n",
       "      <th>18</th>\n",
       "      <td>19</td>\n",
       "      <td>15661507</td>\n",
       "      <td>Muldrow</td>\n",
       "      <td>587</td>\n",
       "      <td>Spain</td>\n",
       "      <td>Male</td>\n",
       "      <td>45</td>\n",
       "      <td>6.0</td>\n",
       "      <td>0.00</td>\n",
       "      <td>1</td>\n",
       "      <td>0</td>\n",
       "      <td>0</td>\n",
       "      <td>158684.81</td>\n",
       "      <td>0</td>\n",
       "    </tr>\n",
       "    <tr>\n",
       "      <th>19</th>\n",
       "      <td>20</td>\n",
       "      <td>15568982</td>\n",
       "      <td>Hao</td>\n",
       "      <td>726</td>\n",
       "      <td>France</td>\n",
       "      <td>Female</td>\n",
       "      <td>24</td>\n",
       "      <td>6.0</td>\n",
       "      <td>0.00</td>\n",
       "      <td>2</td>\n",
       "      <td>1</td>\n",
       "      <td>1</td>\n",
       "      <td>54724.03</td>\n",
       "      <td>0</td>\n",
       "    </tr>\n",
       "  </tbody>\n",
       "</table>\n",
       "</div>"
      ],
      "text/plain": [
       "    RowNumber  CustomerId    Surname  CreditScore Geography  Gender  Age  \\\n",
       "0           1    15634602   Hargrave          619    France  Female   42   \n",
       "1           2    15647311       Hill          608     Spain  Female   41   \n",
       "2           3    15619304       Onio          502    France  Female   42   \n",
       "3           4    15701354       Boni          699    France  Female   39   \n",
       "4           5    15737888   Mitchell          850     Spain  Female   43   \n",
       "5           6    15574012        Chu          645     Spain    Male   44   \n",
       "6           7    15592531   Bartlett          822    France    Male   50   \n",
       "7           8    15656148     Obinna          376   Germany  Female   29   \n",
       "8           9    15792365         He          501    France    Male   44   \n",
       "9          10    15592389         H?          684    France    Male   27   \n",
       "10         11    15767821     Bearce          528    France    Male   31   \n",
       "11         12    15737173    Andrews          497     Spain    Male   24   \n",
       "12         13    15632264        Kay          476    France  Female   34   \n",
       "13         14    15691483       Chin          549    France  Female   25   \n",
       "14         15    15600882      Scott          635     Spain  Female   35   \n",
       "15         16    15643966    Goforth          616   Germany    Male   45   \n",
       "16         17    15737452      Romeo          653   Germany    Male   58   \n",
       "17         18    15788218  Henderson          549     Spain  Female   24   \n",
       "18         19    15661507    Muldrow          587     Spain    Male   45   \n",
       "19         20    15568982        Hao          726    France  Female   24   \n",
       "\n",
       "    Tenure    Balance  NumOfProducts  HasCrCard  IsActiveMember  \\\n",
       "0      2.0       0.00              1          1               1   \n",
       "1      1.0   83807.86              1          0               1   \n",
       "2      8.0  159660.80              3          1               0   \n",
       "3      1.0       0.00              2          0               0   \n",
       "4      2.0  125510.82              1          1               1   \n",
       "5      8.0  113755.78              2          1               0   \n",
       "6      7.0       0.00              2          1               1   \n",
       "7      4.0  115046.74              4          1               0   \n",
       "8      4.0  142051.07              2          0               1   \n",
       "9      2.0  134603.88              1          1               1   \n",
       "10     6.0  102016.72              2          0               0   \n",
       "11     3.0       0.00              2          1               0   \n",
       "12    10.0       0.00              2          1               0   \n",
       "13     5.0       0.00              2          0               0   \n",
       "14     7.0       0.00              2          1               1   \n",
       "15     3.0  143129.41              2          0               1   \n",
       "16     1.0  132602.88              1          1               0   \n",
       "17     9.0       0.00              2          1               1   \n",
       "18     6.0       0.00              1          0               0   \n",
       "19     6.0       0.00              2          1               1   \n",
       "\n",
       "    EstimatedSalary  Exited  \n",
       "0         101348.88       1  \n",
       "1         112542.58       0  \n",
       "2         113931.57       1  \n",
       "3          93826.63       0  \n",
       "4          79084.10       0  \n",
       "5         149756.71       1  \n",
       "6          10062.80       0  \n",
       "7         119346.88       1  \n",
       "8          74940.50       0  \n",
       "9          71725.73       0  \n",
       "10         80181.12       0  \n",
       "11         76390.01       0  \n",
       "12         26260.98       0  \n",
       "13        190857.79       0  \n",
       "14         65951.65       0  \n",
       "15         64327.26       0  \n",
       "16          5097.67       1  \n",
       "17         14406.41       0  \n",
       "18        158684.81       0  \n",
       "19         54724.03       0  "
      ]
     },
     "execution_count": 2,
     "metadata": {},
     "output_type": "execute_result"
    }
   ],
   "source": [
    "df = pd.read_csv('Churn.csv')\n",
    "df.head(20)"
   ]
  },
  {
   "cell_type": "markdown",
   "metadata": {},
   "source": [
    "Выведем на экран общую информацию о датафрейме."
   ]
  },
  {
   "cell_type": "code",
   "execution_count": 3,
   "metadata": {
    "scrolled": false
   },
   "outputs": [
    {
     "name": "stdout",
     "output_type": "stream",
     "text": [
      "<class 'pandas.core.frame.DataFrame'>\n",
      "RangeIndex: 10000 entries, 0 to 9999\n",
      "Data columns (total 14 columns):\n",
      " #   Column           Non-Null Count  Dtype  \n",
      "---  ------           --------------  -----  \n",
      " 0   RowNumber        10000 non-null  int64  \n",
      " 1   CustomerId       10000 non-null  int64  \n",
      " 2   Surname          10000 non-null  object \n",
      " 3   CreditScore      10000 non-null  int64  \n",
      " 4   Geography        10000 non-null  object \n",
      " 5   Gender           10000 non-null  object \n",
      " 6   Age              10000 non-null  int64  \n",
      " 7   Tenure           9091 non-null   float64\n",
      " 8   Balance          10000 non-null  float64\n",
      " 9   NumOfProducts    10000 non-null  int64  \n",
      " 10  HasCrCard        10000 non-null  int64  \n",
      " 11  IsActiveMember   10000 non-null  int64  \n",
      " 12  EstimatedSalary  10000 non-null  float64\n",
      " 13  Exited           10000 non-null  int64  \n",
      "dtypes: float64(3), int64(8), object(3)\n",
      "memory usage: 1.1+ MB\n"
     ]
    }
   ],
   "source": [
    "df.info()"
   ]
  },
  {
   "cell_type": "markdown",
   "metadata": {},
   "source": [
    "#### 2.1.1. Выводы <a id='conclusions_2_1_1'> </a>"
   ]
  },
  {
   "cell_type": "markdown",
   "metadata": {},
   "source": [
    "Из общих данных можно сделать следующие выводы:  \n",
    "1) в таблице 10000 строк и 14 столбцов;  \n",
    "2) названия столбцов имеют заглавные буквы и записаны в одно слово - требуется привести названия всех столбцов к нижнему регистру и \"змеиному\" формату;  \n",
    "3) в столбце `Tenure` присутствуют пропуски;  \n",
    "4) изменение типов данных столбцов не требуется;  \n",
    "5) в датасете шесть категориальных признаков, включая целевой признак: `Surname`, `Geography`, `Gender`, `HasCrCard`, `IsActiveMember`, `Exited`. Остальные признаки количественные.  \n",
    "\n",
    "<div>\n",
    "    <br/>\n",
    "    <a href=#content>К содержанию</a>\n",
    "</div>"
   ]
  },
  {
   "cell_type": "markdown",
   "metadata": {},
   "source": [
    "### 2.2. Предобработка данных <a id='data_preprocessing'> </a>"
   ]
  },
  {
   "cell_type": "markdown",
   "metadata": {},
   "source": [
    "#### 2.2.1. Изменение названий столбцов <a id='column_names_change'> </a>"
   ]
  },
  {
   "cell_type": "markdown",
   "metadata": {},
   "source": [
    "Приведем названия всех столбцов к нижнему регистру и \"змеиному\" формату."
   ]
  },
  {
   "cell_type": "code",
   "execution_count": 4,
   "metadata": {},
   "outputs": [
    {
     "data": {
      "text/plain": [
       "Index(['row_number', 'customer_id', 'surname', 'credit_score', 'geography',\n",
       "       'gender', 'age', 'tenure', 'balance', 'num_of_products', 'has_cr_card',\n",
       "       'is_active_member', 'estimated_salary', 'exited'],\n",
       "      dtype='object')"
      ]
     },
     "execution_count": 4,
     "metadata": {},
     "output_type": "execute_result"
    }
   ],
   "source": [
    "df.columns = df.columns.str.replace(r\"([A-Z])\", r\" \\1\").str.lower().str.replace(' ', '_').str[1:]\n",
    "df.columns"
   ]
  },
  {
   "cell_type": "markdown",
   "metadata": {},
   "source": [
    "#### 2.2.2. Обработка пропусков <a id='gaps'> </a>"
   ]
  },
  {
   "cell_type": "markdown",
   "metadata": {},
   "source": [
    "Визуализируем количество порпусков по столбцам."
   ]
  },
  {
   "cell_type": "code",
   "execution_count": 5,
   "metadata": {
    "scrolled": false
   },
   "outputs": [
    {
     "data": {
      "image/png": "[encoded data removed]",
      "text/plain": [
       "<Figure size 720x360 with 3 Axes>"
      ]
     },
     "metadata": {
      "needs_background": "light"
     },
     "output_type": "display_data"
    }
   ],
   "source": [
    "missingno.bar(df, color=\"dodgerblue\", sort=\"ascending\", figsize=(10,5), fontsize=12);"
   ]
  },
  {
   "cell_type": "markdown",
   "metadata": {},
   "source": [
    "В столбце `tenure` 909 пропущенных значений. Посмотрим несколько строк с пропусками в этом столбце и все уникальные значения столбца."
   ]
  },
  {
   "cell_type": "code",
   "execution_count": 6,
   "metadata": {
    "scrolled": true
   },
   "outputs": [
    {
     "data": {
      "text/html": [
       "<div>\n",
       "<style scoped>\n",
       "    .dataframe tbody tr th:only-of-type {\n",
       "        vertical-align: middle;\n",
       "    }\n",
       "\n",
       "    .dataframe tbody tr th {\n",
       "        vertical-align: top;\n",
       "    }\n",
       "\n",
       "    .dataframe thead th {\n",
       "        text-align: right;\n",
       "    }\n",
       "</style>\n",
       "<table border=\"1\" class=\"dataframe\">\n",
       "  <thead>\n",
       "    <tr style=\"text-align: right;\">\n",
       "      <th></th>\n",
       "      <th>row_number</th>\n",
       "      <th>customer_id</th>\n",
       "      <th>surname</th>\n",
       "      <th>credit_score</th>\n",
       "      <th>geography</th>\n",
       "      <th>gender</th>\n",
       "      <th>age</th>\n",
       "      <th>tenure</th>\n",
       "      <th>balance</th>\n",
       "      <th>num_of_products</th>\n",
       "      <th>has_cr_card</th>\n",
       "      <th>is_active_member</th>\n",
       "      <th>estimated_salary</th>\n",
       "      <th>exited</th>\n",
       "    </tr>\n",
       "  </thead>\n",
       "  <tbody>\n",
       "    <tr>\n",
       "      <th>30</th>\n",
       "      <td>31</td>\n",
       "      <td>15589475</td>\n",
       "      <td>Azikiwe</td>\n",
       "      <td>591</td>\n",
       "      <td>Spain</td>\n",
       "      <td>Female</td>\n",
       "      <td>39</td>\n",
       "      <td>NaN</td>\n",
       "      <td>0.00</td>\n",
       "      <td>3</td>\n",
       "      <td>1</td>\n",
       "      <td>0</td>\n",
       "      <td>140469.38</td>\n",
       "      <td>1</td>\n",
       "    </tr>\n",
       "    <tr>\n",
       "      <th>48</th>\n",
       "      <td>49</td>\n",
       "      <td>15766205</td>\n",
       "      <td>Yin</td>\n",
       "      <td>550</td>\n",
       "      <td>Germany</td>\n",
       "      <td>Male</td>\n",
       "      <td>38</td>\n",
       "      <td>NaN</td>\n",
       "      <td>103391.38</td>\n",
       "      <td>1</td>\n",
       "      <td>0</td>\n",
       "      <td>1</td>\n",
       "      <td>90878.13</td>\n",
       "      <td>0</td>\n",
       "    </tr>\n",
       "    <tr>\n",
       "      <th>51</th>\n",
       "      <td>52</td>\n",
       "      <td>15768193</td>\n",
       "      <td>Trevisani</td>\n",
       "      <td>585</td>\n",
       "      <td>Germany</td>\n",
       "      <td>Male</td>\n",
       "      <td>36</td>\n",
       "      <td>NaN</td>\n",
       "      <td>146050.97</td>\n",
       "      <td>2</td>\n",
       "      <td>0</td>\n",
       "      <td>0</td>\n",
       "      <td>86424.57</td>\n",
       "      <td>0</td>\n",
       "    </tr>\n",
       "    <tr>\n",
       "      <th>53</th>\n",
       "      <td>54</td>\n",
       "      <td>15702298</td>\n",
       "      <td>Parkhill</td>\n",
       "      <td>655</td>\n",
       "      <td>Germany</td>\n",
       "      <td>Male</td>\n",
       "      <td>41</td>\n",
       "      <td>NaN</td>\n",
       "      <td>125561.97</td>\n",
       "      <td>1</td>\n",
       "      <td>0</td>\n",
       "      <td>0</td>\n",
       "      <td>164040.94</td>\n",
       "      <td>1</td>\n",
       "    </tr>\n",
       "    <tr>\n",
       "      <th>60</th>\n",
       "      <td>61</td>\n",
       "      <td>15651280</td>\n",
       "      <td>Hunter</td>\n",
       "      <td>742</td>\n",
       "      <td>Germany</td>\n",
       "      <td>Male</td>\n",
       "      <td>35</td>\n",
       "      <td>NaN</td>\n",
       "      <td>136857.00</td>\n",
       "      <td>1</td>\n",
       "      <td>0</td>\n",
       "      <td>0</td>\n",
       "      <td>84509.57</td>\n",
       "      <td>0</td>\n",
       "    </tr>\n",
       "  </tbody>\n",
       "</table>\n",
       "</div>"
      ],
      "text/plain": [
       "    row_number  customer_id    surname  credit_score geography  gender  age  \\\n",
       "30          31     15589475    Azikiwe           591     Spain  Female   39   \n",
       "48          49     15766205        Yin           550   Germany    Male   38   \n",
       "51          52     15768193  Trevisani           585   Germany    Male   36   \n",
       "53          54     15702298   Parkhill           655   Germany    Male   41   \n",
       "60          61     15651280     Hunter           742   Germany    Male   35   \n",
       "\n",
       "    tenure    balance  num_of_products  has_cr_card  is_active_member  \\\n",
       "30     NaN       0.00                3            1                 0   \n",
       "48     NaN  103391.38                1            0                 1   \n",
       "51     NaN  146050.97                2            0                 0   \n",
       "53     NaN  125561.97                1            0                 0   \n",
       "60     NaN  136857.00                1            0                 0   \n",
       "\n",
       "    estimated_salary  exited  \n",
       "30         140469.38       1  \n",
       "48          90878.13       0  \n",
       "51          86424.57       0  \n",
       "53         164040.94       1  \n",
       "60          84509.57       0  "
      ]
     },
     "execution_count": 6,
     "metadata": {},
     "output_type": "execute_result"
    }
   ],
   "source": [
    "df.query('tenure.isna()').head()"
   ]
  },
  {
   "cell_type": "code",
   "execution_count": 7,
   "metadata": {
    "scrolled": false
   },
   "outputs": [
    {
     "data": {
      "text/plain": [
       "[0.0, 1.0, 2.0, 3.0, 4.0, 5.0, 6.0, 7.0, 8.0, 9.0, 10.0, nan]"
      ]
     },
     "execution_count": 7,
     "metadata": {},
     "output_type": "execute_result"
    }
   ],
   "source": [
    "sorted(df['tenure'].unique())"
   ]
  },
  {
   "cell_type": "markdown",
   "metadata": {},
   "source": [
    "Диапазон значений `tenure` - сколько лет человек является клиентом банка - от 0 до 10 лет.  \n",
    "Пропущенные значения не представляется возможным заполнить.  \n",
    "Этот признак является важным для построения модели, поэтому строки с отсутсвтующими значениями необходимо удалить.  \n",
    "Причинами пропусков могут быть: ошибка в формуле, если значение рассчитывается автоматически, или необязательность заолнения формы, если сколько лет человек является клиентом банка указывается вручную. Рекомендуется провести расследование причин появления пропусков."
   ]
  },
  {
   "cell_type": "markdown",
   "metadata": {},
   "source": [
    "Удалим строки с пропущенными значениями и снова проверим датафрейм на пропуски."
   ]
  },
  {
   "cell_type": "code",
   "execution_count": 8,
   "metadata": {},
   "outputs": [
    {
     "data": {
      "text/plain": [
       "(9091, 14)"
      ]
     },
     "execution_count": 8,
     "metadata": {},
     "output_type": "execute_result"
    }
   ],
   "source": [
    "df = df.dropna()\n",
    "df.shape"
   ]
  },
  {
   "cell_type": "code",
   "execution_count": 9,
   "metadata": {},
   "outputs": [
    {
     "data": {
      "image/png": "[encoded data removed]",
      "text/plain": [
       "<Figure size 720x360 with 3 Axes>"
      ]
     },
     "metadata": {
      "needs_background": "light"
     },
     "output_type": "display_data"
    }
   ],
   "source": [
    "missingno.bar(df, color=\"dodgerblue\", sort=\"ascending\", figsize=(10,5), fontsize=12);"
   ]
  },
  {
   "cell_type": "markdown",
   "metadata": {},
   "source": [
    "**Результат:**  из датафрейма было удалено 909 строк с пропусками в столбце `tenure`."
   ]
  },
  {
   "cell_type": "markdown",
   "metadata": {},
   "source": [
    "#### 2.2.3. Обработка дубликатов <a id='duplicates'> </a>"
   ]
  },
  {
   "cell_type": "markdown",
   "metadata": {},
   "source": [
    "Проверим датафрейм на дубликаты строк."
   ]
  },
  {
   "cell_type": "code",
   "execution_count": 10,
   "metadata": {},
   "outputs": [
    {
     "name": "stdout",
     "output_type": "stream",
     "text": [
      "В таблице 0 дубликатов строк.\n"
     ]
    }
   ],
   "source": [
    "print(f'В таблице {df.duplicated().sum()} дубликатов строк.')"
   ]
  },
  {
   "cell_type": "markdown",
   "metadata": {},
   "source": [
    "Проверим столбец `surname` на наличие неявных дубликатов."
   ]
  },
  {
   "cell_type": "code",
   "execution_count": 11,
   "metadata": {},
   "outputs": [
    {
     "data": {
      "text/plain": [
       "Smith       30\n",
       "Martin      27\n",
       "Scott       26\n",
       "Walker      25\n",
       "Yeh         25\n",
       "            ..\n",
       "Henty        1\n",
       "Trejo        1\n",
       "Jensen       1\n",
       "Wagner       1\n",
       "Hendrick     1\n",
       "Name: surname, Length: 2787, dtype: int64"
      ]
     },
     "execution_count": 11,
     "metadata": {},
     "output_type": "execute_result"
    }
   ],
   "source": [
    "df['surname'].value_counts()"
   ]
  },
  {
   "cell_type": "markdown",
   "metadata": {},
   "source": [
    "В столбце `surname` 2787 уникальных фамилий. Повторяющиеся фамилии - это нормально."
   ]
  },
  {
   "cell_type": "markdown",
   "metadata": {},
   "source": [
    "Проверим столбец `gender` на наличие неявных дубликатов."
   ]
  },
  {
   "cell_type": "code",
   "execution_count": 12,
   "metadata": {},
   "outputs": [
    {
     "data": {
      "text/plain": [
       "array(['Female', 'Male'], dtype=object)"
      ]
     },
     "execution_count": 12,
     "metadata": {},
     "output_type": "execute_result"
    }
   ],
   "source": [
    "df['gender'].unique()"
   ]
  },
  {
   "cell_type": "markdown",
   "metadata": {},
   "source": [
    "Всё корректно: два пола - мужской и женский."
   ]
  },
  {
   "cell_type": "markdown",
   "metadata": {},
   "source": [
    "Проверим столбец `geography` на наличие неявных дубликатов."
   ]
  },
  {
   "cell_type": "code",
   "execution_count": 13,
   "metadata": {},
   "outputs": [
    {
     "data": {
      "text/plain": [
       "array(['France', 'Spain', 'Germany'], dtype=object)"
      ]
     },
     "execution_count": 13,
     "metadata": {},
     "output_type": "execute_result"
    }
   ],
   "source": [
    "df['geography'].unique()"
   ]
  },
  {
   "cell_type": "markdown",
   "metadata": {},
   "source": [
    "География не очень широкая. В датасете представлены клиенты банка только из трёх стран: Франция, Испания и Германия."
   ]
  },
  {
   "cell_type": "markdown",
   "metadata": {},
   "source": [
    "**Результат:** в исходной таблице нет дубликатов строк и неявных дубликатов значений в столбцах."
   ]
  },
  {
   "cell_type": "markdown",
   "metadata": {},
   "source": [
    "#### 2.2.4. Обработка аномальных значений <a id='anomalies'> </a>"
   ]
  },
  {
   "cell_type": "markdown",
   "metadata": {},
   "source": [
    "Рассмотрим характерные значения числовых наборов данных в столбцах датасета."
   ]
  },
  {
   "cell_type": "code",
   "execution_count": 14,
   "metadata": {
    "scrolled": false
   },
   "outputs": [
    {
     "data": {
      "text/html": [
       "<div>\n",
       "<style scoped>\n",
       "    .dataframe tbody tr th:only-of-type {\n",
       "        vertical-align: middle;\n",
       "    }\n",
       "\n",
       "    .dataframe tbody tr th {\n",
       "        vertical-align: top;\n",
       "    }\n",
       "\n",
       "    .dataframe thead th {\n",
       "        text-align: right;\n",
       "    }\n",
       "</style>\n",
       "<table border=\"1\" class=\"dataframe\">\n",
       "  <thead>\n",
       "    <tr style=\"text-align: right;\">\n",
       "      <th></th>\n",
       "      <th>row_number</th>\n",
       "      <th>customer_id</th>\n",
       "      <th>credit_score</th>\n",
       "      <th>age</th>\n",
       "      <th>tenure</th>\n",
       "      <th>balance</th>\n",
       "      <th>num_of_products</th>\n",
       "      <th>has_cr_card</th>\n",
       "      <th>is_active_member</th>\n",
       "      <th>estimated_salary</th>\n",
       "      <th>exited</th>\n",
       "    </tr>\n",
       "  </thead>\n",
       "  <tbody>\n",
       "    <tr>\n",
       "      <th>count</th>\n",
       "      <td>9091.00</td>\n",
       "      <td>9091.00</td>\n",
       "      <td>9091.00</td>\n",
       "      <td>9091.00</td>\n",
       "      <td>9091.00</td>\n",
       "      <td>9091.00</td>\n",
       "      <td>9091.00</td>\n",
       "      <td>9091.00</td>\n",
       "      <td>9091.00</td>\n",
       "      <td>9091.00</td>\n",
       "      <td>9091.0</td>\n",
       "    </tr>\n",
       "    <tr>\n",
       "      <th>mean</th>\n",
       "      <td>5013.91</td>\n",
       "      <td>15691053.16</td>\n",
       "      <td>650.74</td>\n",
       "      <td>38.95</td>\n",
       "      <td>5.00</td>\n",
       "      <td>76522.74</td>\n",
       "      <td>1.53</td>\n",
       "      <td>0.70</td>\n",
       "      <td>0.52</td>\n",
       "      <td>100181.21</td>\n",
       "      <td>0.2</td>\n",
       "    </tr>\n",
       "    <tr>\n",
       "      <th>std</th>\n",
       "      <td>2884.43</td>\n",
       "      <td>71614.19</td>\n",
       "      <td>96.41</td>\n",
       "      <td>10.56</td>\n",
       "      <td>2.89</td>\n",
       "      <td>62329.53</td>\n",
       "      <td>0.58</td>\n",
       "      <td>0.46</td>\n",
       "      <td>0.50</td>\n",
       "      <td>57624.76</td>\n",
       "      <td>0.4</td>\n",
       "    </tr>\n",
       "    <tr>\n",
       "      <th>min</th>\n",
       "      <td>1.00</td>\n",
       "      <td>15565701.00</td>\n",
       "      <td>350.00</td>\n",
       "      <td>18.00</td>\n",
       "      <td>0.00</td>\n",
       "      <td>0.00</td>\n",
       "      <td>1.00</td>\n",
       "      <td>0.00</td>\n",
       "      <td>0.00</td>\n",
       "      <td>11.58</td>\n",
       "      <td>0.0</td>\n",
       "    </tr>\n",
       "    <tr>\n",
       "      <th>25%</th>\n",
       "      <td>2521.50</td>\n",
       "      <td>15628985.50</td>\n",
       "      <td>584.00</td>\n",
       "      <td>32.00</td>\n",
       "      <td>2.00</td>\n",
       "      <td>0.00</td>\n",
       "      <td>1.00</td>\n",
       "      <td>0.00</td>\n",
       "      <td>0.00</td>\n",
       "      <td>51227.74</td>\n",
       "      <td>0.0</td>\n",
       "    </tr>\n",
       "    <tr>\n",
       "      <th>50%</th>\n",
       "      <td>5019.00</td>\n",
       "      <td>15691061.00</td>\n",
       "      <td>652.00</td>\n",
       "      <td>37.00</td>\n",
       "      <td>5.00</td>\n",
       "      <td>97318.25</td>\n",
       "      <td>1.00</td>\n",
       "      <td>1.00</td>\n",
       "      <td>1.00</td>\n",
       "      <td>100240.20</td>\n",
       "      <td>0.0</td>\n",
       "    </tr>\n",
       "    <tr>\n",
       "      <th>75%</th>\n",
       "      <td>7511.50</td>\n",
       "      <td>15752851.50</td>\n",
       "      <td>717.00</td>\n",
       "      <td>44.00</td>\n",
       "      <td>7.00</td>\n",
       "      <td>127561.89</td>\n",
       "      <td>2.00</td>\n",
       "      <td>1.00</td>\n",
       "      <td>1.00</td>\n",
       "      <td>149567.21</td>\n",
       "      <td>0.0</td>\n",
       "    </tr>\n",
       "    <tr>\n",
       "      <th>max</th>\n",
       "      <td>9999.00</td>\n",
       "      <td>15815660.00</td>\n",
       "      <td>850.00</td>\n",
       "      <td>92.00</td>\n",
       "      <td>10.00</td>\n",
       "      <td>250898.09</td>\n",
       "      <td>4.00</td>\n",
       "      <td>1.00</td>\n",
       "      <td>1.00</td>\n",
       "      <td>199992.48</td>\n",
       "      <td>1.0</td>\n",
       "    </tr>\n",
       "  </tbody>\n",
       "</table>\n",
       "</div>"
      ],
      "text/plain": [
       "       row_number  customer_id  credit_score      age   tenure    balance  \\\n",
       "count     9091.00      9091.00       9091.00  9091.00  9091.00    9091.00   \n",
       "mean      5013.91  15691053.16        650.74    38.95     5.00   76522.74   \n",
       "std       2884.43     71614.19         96.41    10.56     2.89   62329.53   \n",
       "min          1.00  15565701.00        350.00    18.00     0.00       0.00   \n",
       "25%       2521.50  15628985.50        584.00    32.00     2.00       0.00   \n",
       "50%       5019.00  15691061.00        652.00    37.00     5.00   97318.25   \n",
       "75%       7511.50  15752851.50        717.00    44.00     7.00  127561.89   \n",
       "max       9999.00  15815660.00        850.00    92.00    10.00  250898.09   \n",
       "\n",
       "       num_of_products  has_cr_card  is_active_member  estimated_salary  \\\n",
       "count          9091.00      9091.00           9091.00           9091.00   \n",
       "mean              1.53         0.70              0.52         100181.21   \n",
       "std               0.58         0.46              0.50          57624.76   \n",
       "min               1.00         0.00              0.00             11.58   \n",
       "25%               1.00         0.00              0.00          51227.74   \n",
       "50%               1.00         1.00              1.00         100240.20   \n",
       "75%               2.00         1.00              1.00         149567.21   \n",
       "max               4.00         1.00              1.00         199992.48   \n",
       "\n",
       "       exited  \n",
       "count  9091.0  \n",
       "mean      0.2  \n",
       "std       0.4  \n",
       "min       0.0  \n",
       "25%       0.0  \n",
       "50%       0.0  \n",
       "75%       0.0  \n",
       "max       1.0  "
      ]
     },
     "execution_count": 14,
     "metadata": {},
     "output_type": "execute_result"
    }
   ],
   "source": [
    "df.describe().round(2)"
   ]
  },
  {
   "cell_type": "code",
   "execution_count": 15,
   "metadata": {},
   "outputs": [
    {
     "data": {
      "image/png": "[encoded data removed]",
      "text/plain": [
       "<Figure size 1080x720 with 9 Axes>"
      ]
     },
     "metadata": {
      "needs_background": "light"
     },
     "output_type": "display_data"
    }
   ],
   "source": [
    "df[['credit_score', 'age', 'tenure', \n",
    "    'balance', 'num_of_products', 'has_cr_card', \n",
    "    'is_active_member', 'estimated_salary', 'exited']].hist(figsize=(15, 10));\n",
    "plt.suptitle(\"Гистограммы числовых параметров датасета\", fontsize=15);"
   ]
  },
  {
   "cell_type": "markdown",
   "metadata": {},
   "source": [
    "- столбцы `row_number` и `customer_id` нам не интересны для анализа;  \n",
    "- столбец `credit_score`: диапазон значений от 350 до 850, медиана почти равна среднему - выбросов нет;  \n",
    "- столбец `age`: диапазон возрастов клиентов от 18 до 92 лет, большинство клиентов банка в возрасте от 35 до 40 лет, медиана почти равна среднему - выбросов нет;  \n",
    "- столбец `tenure`: объекты являются клиентами банка от 0 до 10 лет, причем 10 лет - наибольшая категория клиентов, а 0 лет - наименьшая, медиана равна среднему - выбросов нет;  \n",
    "- столбец `balance`: диапазон значений от 0 до 250898.09, медиана больше среднего - более 3000 клиентов имеют нулевой баланс на счёту;  \n",
    "- столбец `num_of_products`: диапазон значений от 1 до 4, аномалий нет.\n",
    "- столбцы `has_cr_card`, `is_active_member`, `exited`: бинарные категориальные признаки, принимают значения 0 или 1, аномалий нет;  \n",
    "- столбец `estimated_salary`: диапазон значений от 11.58 до 199992.48, медиана почти равна среднему - выбросов нет;  \n",
    "- столбцы `surname`, `gender` и `geography` мы рассмотрели на шаге обработки дубликатов. Аномальных значений в них не содержится."
   ]
  },
  {
   "cell_type": "code",
   "execution_count": 16,
   "metadata": {},
   "outputs": [
    {
     "name": "stdout",
     "output_type": "stream",
     "text": [
      "Количество клиентов с нулевым балансом на счёту: 3283\n"
     ]
    }
   ],
   "source": [
    "print('Количество клиентов с нулевым балансом на счёту:', len(df.query('balance == 0')))"
   ]
  },
  {
   "cell_type": "markdown",
   "metadata": {},
   "source": [
    "**Результат:**  \n",
    "1) выявлено, что 3283 клиента имеют нулевой баланс на счёте (значение 0 в столбце `balance`) - это 36% датасета;  \n",
    "2) в остальных столбцах датафрейма нет аномальных значений."
   ]
  },
  {
   "cell_type": "markdown",
   "metadata": {},
   "source": [
    "#### 2.2.5. Выводы <a id='conclusions_2_2_5'> </a>"
   ]
  },
  {
   "cell_type": "markdown",
   "metadata": {},
   "source": [
    "В результате предобработки данных были внесены следующие изменения в исходный датасет:  \n",
    "1) название всех столбцов приведено к нижнему регистру и \"змеиному\" формату;  \n",
    "2) удалено 909 строк с пропусками в столбце `tenure` ;  \n",
    "\n",
    "Так же было выявлено, что 3283 клиента имеют нулевой баланс на счёте (значение 0 в столбце `balance`) - это 36% датасета.   \n",
    "\n",
    "Необходимо обратить внимание на отсутствие данных в столбце `tenure` в 909 строках и выявить причины.  \n",
    "\n",
    "<div>\n",
    "    <br/>\n",
    "    <a href=#content>К содержанию</a>\n",
    "</div>"
   ]
  },
  {
   "cell_type": "markdown",
   "metadata": {},
   "source": [
    "### 2.3. Подготовка признаков <a id='features_preparation'> </a>"
   ]
  },
  {
   "cell_type": "markdown",
   "metadata": {},
   "source": [
    "Признаки `row_number`, `customer_id`, `surname` не несут никакой пользы для обучения модели и решения задачи классификации, поэтому перезапишем наш датафрейм в переменную `df_1` без этих столбцов."
   ]
  },
  {
   "cell_type": "code",
   "execution_count": 17,
   "metadata": {},
   "outputs": [
    {
     "data": {
      "text/plain": [
       "(9091, 11)"
      ]
     },
     "execution_count": 17,
     "metadata": {},
     "output_type": "execute_result"
    }
   ],
   "source": [
    "df_1 = df.drop(['row_number', 'customer_id', 'surname'], axis=1)\n",
    "df_1.shape"
   ]
  },
  {
   "cell_type": "markdown",
   "metadata": {},
   "source": [
    "Преобразуем категориальные признаки в численные техникой прямого кодирования OHE, так как она подходит для всех моделей."
   ]
  },
  {
   "cell_type": "code",
   "execution_count": 18,
   "metadata": {},
   "outputs": [
    {
     "data": {
      "text/plain": [
       "credit_score           int64\n",
       "age                    int64\n",
       "tenure               float64\n",
       "balance              float64\n",
       "num_of_products        int64\n",
       "has_cr_card            int64\n",
       "is_active_member       int64\n",
       "estimated_salary     float64\n",
       "exited                 int64\n",
       "geography_Germany      uint8\n",
       "geography_Spain        uint8\n",
       "gender_Male            uint8\n",
       "dtype: object"
      ]
     },
     "execution_count": 18,
     "metadata": {},
     "output_type": "execute_result"
    }
   ],
   "source": [
    "# укажем параметр drop_first=True, чтобы избежать дамми-ловушки\n",
    "df_1_ohe = pd.get_dummies(df_1, columns=['geography', 'gender'], drop_first=True)\n",
    "df_1_ohe.dtypes"
   ]
  },
  {
   "cell_type": "markdown",
   "metadata": {},
   "source": [
    "Видим, что категориальные признаки `geography` и `gender` были преобразованы, причём первые колонки (`geography_France` и `gender_Female`) были удалены, чтобы избежать дамми-ловушки."
   ]
  },
  {
   "cell_type": "markdown",
   "metadata": {},
   "source": [
    "Запишем признаки в переменную `features`, а целевой признак в переменную `target`."
   ]
  },
  {
   "cell_type": "code",
   "execution_count": 19,
   "metadata": {},
   "outputs": [],
   "source": [
    "features = df_1_ohe.drop('exited', axis=1)\n",
    "target = df_1_ohe['exited']"
   ]
  },
  {
   "cell_type": "markdown",
   "metadata": {},
   "source": [
    "Разделим выборку на обучающую, валидационную и тестовую (для финального тестирования) выборки в соотношении 60%, 20% и 20% соответственно."
   ]
  },
  {
   "cell_type": "code",
   "execution_count": 20,
   "metadata": {},
   "outputs": [
    {
     "data": {
      "text/html": [
       "<div>\n",
       "<style scoped>\n",
       "    .dataframe tbody tr th:only-of-type {\n",
       "        vertical-align: middle;\n",
       "    }\n",
       "\n",
       "    .dataframe tbody tr th {\n",
       "        vertical-align: top;\n",
       "    }\n",
       "\n",
       "    .dataframe thead th {\n",
       "        text-align: right;\n",
       "    }\n",
       "</style>\n",
       "<table border=\"1\" class=\"dataframe\">\n",
       "  <thead>\n",
       "    <tr style=\"text-align: right;\">\n",
       "      <th></th>\n",
       "      <th>Размерность выборки</th>\n",
       "      <th>Доля от исходных данных</th>\n",
       "    </tr>\n",
       "  </thead>\n",
       "  <tbody>\n",
       "    <tr>\n",
       "      <th>features_train</th>\n",
       "      <td>(5454, 11)</td>\n",
       "      <td>0.6</td>\n",
       "    </tr>\n",
       "    <tr>\n",
       "      <th>features_valid</th>\n",
       "      <td>(1818, 11)</td>\n",
       "      <td>0.2</td>\n",
       "    </tr>\n",
       "    <tr>\n",
       "      <th>features_test</th>\n",
       "      <td>(1819, 11)</td>\n",
       "      <td>0.2</td>\n",
       "    </tr>\n",
       "  </tbody>\n",
       "</table>\n",
       "</div>"
      ],
      "text/plain": [
       "               Размерность выборки  Доля от исходных данных\n",
       "features_train          (5454, 11)                      0.6\n",
       "features_valid          (1818, 11)                      0.2\n",
       "features_test           (1819, 11)                      0.2"
      ]
     },
     "execution_count": 20,
     "metadata": {},
     "output_type": "execute_result"
    }
   ],
   "source": [
    "# Чтобы количество классов в наборах данных было равномерно распределено, укажем параметр stratify=target.\n",
    "features_train, features_other, target_train, target_other = train_test_split(features, target, \n",
    "                                                                              test_size=0.4, random_state=12345, \n",
    "                                                                              stratify=target)\n",
    "features_valid, features_test, target_valid, target_test = train_test_split(features_other, target_other, \n",
    "                                                                              test_size=0.5, random_state=12345, \n",
    "                                                                              stratify=target_other)\n",
    "\n",
    "#построим таблицу с размерностями обучающей и валидационной выборок и долями от исходных данных\n",
    "pd.DataFrame({'Размерность выборки': [features_train.shape, features_valid.shape, features_test.shape],\n",
    "             'Доля от исходных данных': [round(len(features_train.index) / len(features.index), 2), \n",
    "                                         round(len(features_valid.index) / len(features.index), 2),\n",
    "                                         round(len(features_test.index) / len(features.index), 2)]}, \n",
    "             index=['features_train', 'features_valid', 'features_test'])"
   ]
  },
  {
   "cell_type": "markdown",
   "metadata": {},
   "source": [
    "Проведем масштабирование признаков методом стандартизации данных."
   ]
  },
  {
   "cell_type": "code",
   "execution_count": 21,
   "metadata": {},
   "outputs": [
    {
     "data": {
      "text/html": [
       "<div>\n",
       "<style scoped>\n",
       "    .dataframe tbody tr th:only-of-type {\n",
       "        vertical-align: middle;\n",
       "    }\n",
       "\n",
       "    .dataframe tbody tr th {\n",
       "        vertical-align: top;\n",
       "    }\n",
       "\n",
       "    .dataframe thead th {\n",
       "        text-align: right;\n",
       "    }\n",
       "</style>\n",
       "<table border=\"1\" class=\"dataframe\">\n",
       "  <thead>\n",
       "    <tr style=\"text-align: right;\">\n",
       "      <th></th>\n",
       "      <th>credit_score</th>\n",
       "      <th>age</th>\n",
       "      <th>tenure</th>\n",
       "      <th>balance</th>\n",
       "      <th>num_of_products</th>\n",
       "      <th>has_cr_card</th>\n",
       "      <th>is_active_member</th>\n",
       "      <th>estimated_salary</th>\n",
       "      <th>geography_Germany</th>\n",
       "      <th>geography_Spain</th>\n",
       "      <th>gender_Male</th>\n",
       "    </tr>\n",
       "  </thead>\n",
       "  <tbody>\n",
       "    <tr>\n",
       "      <th>9723</th>\n",
       "      <td>-1.292898</td>\n",
       "      <td>-0.660843</td>\n",
       "      <td>0.686341</td>\n",
       "      <td>0.786636</td>\n",
       "      <td>-0.910943</td>\n",
       "      <td>0</td>\n",
       "      <td>0</td>\n",
       "      <td>-0.223548</td>\n",
       "      <td>0</td>\n",
       "      <td>0</td>\n",
       "      <td>1</td>\n",
       "    </tr>\n",
       "    <tr>\n",
       "      <th>1224</th>\n",
       "      <td>-1.563714</td>\n",
       "      <td>0.778434</td>\n",
       "      <td>1.034232</td>\n",
       "      <td>0.833795</td>\n",
       "      <td>-0.910943</td>\n",
       "      <td>1</td>\n",
       "      <td>0</td>\n",
       "      <td>1.383021</td>\n",
       "      <td>0</td>\n",
       "      <td>1</td>\n",
       "      <td>0</td>\n",
       "    </tr>\n",
       "    <tr>\n",
       "      <th>8377</th>\n",
       "      <td>1.581914</td>\n",
       "      <td>0.106771</td>\n",
       "      <td>-0.357331</td>\n",
       "      <td>-1.222967</td>\n",
       "      <td>0.789359</td>\n",
       "      <td>1</td>\n",
       "      <td>1</td>\n",
       "      <td>-0.308331</td>\n",
       "      <td>0</td>\n",
       "      <td>1</td>\n",
       "      <td>1</td>\n",
       "    </tr>\n",
       "    <tr>\n",
       "      <th>8014</th>\n",
       "      <td>0.842379</td>\n",
       "      <td>0.010820</td>\n",
       "      <td>-1.053112</td>\n",
       "      <td>0.807063</td>\n",
       "      <td>-0.910943</td>\n",
       "      <td>1</td>\n",
       "      <td>1</td>\n",
       "      <td>-0.430980</td>\n",
       "      <td>0</td>\n",
       "      <td>1</td>\n",
       "      <td>0</td>\n",
       "    </tr>\n",
       "    <tr>\n",
       "      <th>2491</th>\n",
       "      <td>-0.397123</td>\n",
       "      <td>-1.236554</td>\n",
       "      <td>-0.357331</td>\n",
       "      <td>-1.222967</td>\n",
       "      <td>0.789359</td>\n",
       "      <td>1</td>\n",
       "      <td>1</td>\n",
       "      <td>1.392642</td>\n",
       "      <td>0</td>\n",
       "      <td>1</td>\n",
       "      <td>0</td>\n",
       "    </tr>\n",
       "  </tbody>\n",
       "</table>\n",
       "</div>"
      ],
      "text/plain": [
       "      credit_score       age    tenure   balance  num_of_products  \\\n",
       "9723     -1.292898 -0.660843  0.686341  0.786636        -0.910943   \n",
       "1224     -1.563714  0.778434  1.034232  0.833795        -0.910943   \n",
       "8377      1.581914  0.106771 -0.357331 -1.222967         0.789359   \n",
       "8014      0.842379  0.010820 -1.053112  0.807063        -0.910943   \n",
       "2491     -0.397123 -1.236554 -0.357331 -1.222967         0.789359   \n",
       "\n",
       "      has_cr_card  is_active_member  estimated_salary  geography_Germany  \\\n",
       "9723            0                 0         -0.223548                  0   \n",
       "1224            1                 0          1.383021                  0   \n",
       "8377            1                 1         -0.308331                  0   \n",
       "8014            1                 1         -0.430980                  0   \n",
       "2491            1                 1          1.392642                  0   \n",
       "\n",
       "      geography_Spain  gender_Male  \n",
       "9723                0            1  \n",
       "1224                1            0  \n",
       "8377                1            1  \n",
       "8014                1            0  \n",
       "2491                1            0  "
      ]
     },
     "metadata": {},
     "output_type": "display_data"
    },
    {
     "data": {
      "text/plain": [
       "(5454, 11)"
      ]
     },
     "execution_count": 21,
     "metadata": {},
     "output_type": "execute_result"
    }
   ],
   "source": [
    "# создадим список численных признаков для масштабирования\n",
    "numeric = ['credit_score', 'age', 'tenure', 'balance', 'num_of_products', 'estimated_salary']\n",
    "\n",
    "# создадим объект структуры данных StandardScaler\n",
    "scaler = StandardScaler()\n",
    "\n",
    "# настроим объект структуры данных StandardScaler на обучающих данных\n",
    "scaler.fit(features_train[numeric])\n",
    "\n",
    "# преобразуем обучающую, валидационную и тестовую выборки\n",
    "features_train[numeric] = scaler.transform(features_train[numeric])\n",
    "features_valid[numeric] = scaler.transform(features_valid[numeric])\n",
    "features_test[numeric] = scaler.transform(features_test[numeric])\n",
    "display(features_train.head())\n",
    "features_train.shape"
   ]
  },
  {
   "cell_type": "markdown",
   "metadata": {},
   "source": [
    "#### 2.3.1. Выводы <a id='conclusions_2_3_1'> </a>"
   ]
  },
  {
   "cell_type": "markdown",
   "metadata": {},
   "source": [
    "Данные были подготовлены для дальнейшего исследования следующим образом:  \n",
    "1) удалены бесполезные признаки: `row_number`, `customer_id`, `surname` ;  \n",
    "2) категориальные признаки `geography` и `gender` были преобразованы в численные техникой OHE;  \n",
    "3) исходные данные были разделены на обучающую, валидационную и тестовую выборки в соотношении 60% 20% и 20% соответственно со стратификацией (равномерное распределение) классов целевого признака;  \n",
    "4) проведено масштабирование численных признаков `credit_score`, `age`, `tenure`, `balance`, `num_of_products`, `estimated_salary` методом стандартизации данных.  \n",
    "\n",
    "<div>\n",
    "    <br/>\n",
    "    <a href=#content>К содержанию</a>\n",
    "</div>"
   ]
  },
  {
   "cell_type": "markdown",
   "metadata": {},
   "source": [
    "## 3. Исследование задачи <a id='problem_research'> </a>"
   ]
  },
  {
   "cell_type": "markdown",
   "metadata": {},
   "source": [
    "### 3.1. Исследование дисбаланса классов <a id='imbalance_research'> </a>"
   ]
  },
  {
   "cell_type": "markdown",
   "metadata": {},
   "source": [
    "Рассмотрим как распределены классы целевого признака в исходных данных."
   ]
  },
  {
   "cell_type": "code",
   "execution_count": 22,
   "metadata": {},
   "outputs": [
    {
     "data": {
      "image/png": "[encoded data removed]",
      "text/plain": [
       "<Figure size 432x288 with 1 Axes>"
      ]
     },
     "metadata": {
      "needs_background": "light"
     },
     "output_type": "display_data"
    }
   ],
   "source": [
    "df_1['exited'].value_counts(normalize=True).round(2).plot.bar(ylim=(0, 1), \n",
    "                                                              grid=True, \n",
    "                                                              title='Распределение классов целевого признака', \n",
    "                                                              xlabel='Класс', ylabel='Доля', fontsize=12);"
   ]
  },
  {
   "cell_type": "markdown",
   "metadata": {},
   "source": [
    "**Вывод:**  \n",
    "Наблюдается дисбаланс классов целевого признака в исходном датасете.  \n",
    "Соотношение классов: класс \"0\" - 80%, класс \"1\" - 20%.  \n",
    "\n",
    "<div>\n",
    "    <br/>\n",
    "    <a href=#content>К содержанию</a>\n",
    "</div>"
   ]
  },
  {
   "cell_type": "markdown",
   "metadata": {},
   "source": [
    "### 3.2. Обучение модели без учёта дисбаланса <a id='train_imbalanced'> </a>"
   ]
  },
  {
   "cell_type": "markdown",
   "metadata": {},
   "source": [
    "Обучим модели логистической регрессии и случайного леса без учёта дисбаланса классов и зафиксируем метрики. Создадим таблицу results, в которой будем хранить метрики моделей."
   ]
  },
  {
   "cell_type": "code",
   "execution_count": 23,
   "metadata": {},
   "outputs": [],
   "source": [
    "results = pd.DataFrame(index=['Accuracy', 'Recall', 'Precision', 'F1', 'AUC_ROC'])"
   ]
  },
  {
   "cell_type": "markdown",
   "metadata": {},
   "source": [
    "#### 3.2.1. Модель логистической регрессии <a id='imbalanced_LR'> </a>"
   ]
  },
  {
   "cell_type": "markdown",
   "metadata": {},
   "source": [
    "Напишем функцию `get_LR_metrics`, которая будет принимать на вход модель логистической регрессии, обучающую и тестовую выборки, название столбца с метрикой и возвращать столбец с метриками. \n",
    "<div> <p id='LR_function'></p> </div>"
   ]
  },
  {
   "cell_type": "code",
   "execution_count": 24,
   "metadata": {},
   "outputs": [],
   "source": [
    "def get_LR_metrics(model, features_train, target_train, features_valid, target_valid, column_name):\n",
    "    global results\n",
    "    # обучаем модель на обучающей выборке\n",
    "    model.fit(features_train, target_train)\n",
    "    # получаем предсказания модели на валидационной выборке\n",
    "    predictions_valid = model.predict(features_valid)\n",
    "    # получим вероятности отрицательных и положительных классов\n",
    "    probabilities_valid = model.predict_proba(features_valid)\n",
    "    # сохраним вероятности положительного класса в отдельной переменной\n",
    "    probabilities_one_valid = probabilities_valid[:, 1]\n",
    "    # сохраним метрики модели в таблицу results, округлим их до двух знаков после запятой и вернём столбец с метриками\n",
    "    results[column_name] = [accuracy_score(target_valid, predictions_valid), \n",
    "                            recall_score(target_valid, predictions_valid), \n",
    "                            precision_score(target_valid, predictions_valid), \n",
    "                            f1_score(target_valid, predictions_valid),\n",
    "                            roc_auc_score(target_valid, probabilities_one_valid)]\n",
    "    results[column_name] = results[column_name].round(2)\n",
    "    return results[column_name]"
   ]
  },
  {
   "cell_type": "markdown",
   "metadata": {},
   "source": [
    "Обучим модель логистической регрессии без учёта дисбаланса классов и выведем метрики модели на экран."
   ]
  },
  {
   "cell_type": "code",
   "execution_count": 25,
   "metadata": {},
   "outputs": [
    {
     "data": {
      "text/html": [
       "<div>\n",
       "<style scoped>\n",
       "    .dataframe tbody tr th:only-of-type {\n",
       "        vertical-align: middle;\n",
       "    }\n",
       "\n",
       "    .dataframe tbody tr th {\n",
       "        vertical-align: top;\n",
       "    }\n",
       "\n",
       "    .dataframe thead th {\n",
       "        text-align: right;\n",
       "    }\n",
       "</style>\n",
       "<table border=\"1\" class=\"dataframe\">\n",
       "  <thead>\n",
       "    <tr style=\"text-align: right;\">\n",
       "      <th></th>\n",
       "      <th>imbalanced_LR</th>\n",
       "    </tr>\n",
       "  </thead>\n",
       "  <tbody>\n",
       "    <tr>\n",
       "      <th>Accuracy</th>\n",
       "      <td>0.82</td>\n",
       "    </tr>\n",
       "    <tr>\n",
       "      <th>Recall</th>\n",
       "      <td>0.22</td>\n",
       "    </tr>\n",
       "    <tr>\n",
       "      <th>Precision</th>\n",
       "      <td>0.63</td>\n",
       "    </tr>\n",
       "    <tr>\n",
       "      <th>F1</th>\n",
       "      <td>0.33</td>\n",
       "    </tr>\n",
       "    <tr>\n",
       "      <th>AUC_ROC</th>\n",
       "      <td>0.79</td>\n",
       "    </tr>\n",
       "  </tbody>\n",
       "</table>\n",
       "</div>"
      ],
      "text/plain": [
       "           imbalanced_LR\n",
       "Accuracy            0.82\n",
       "Recall              0.22\n",
       "Precision           0.63\n",
       "F1                  0.33\n",
       "AUC_ROC             0.79"
      ]
     },
     "execution_count": 25,
     "metadata": {},
     "output_type": "execute_result"
    }
   ],
   "source": [
    "model = LogisticRegression(random_state=12345, solver='liblinear')\n",
    "get_LR_metrics(model, features_train, target_train, features_valid, target_valid, 'imbalanced_LR')\n",
    "results"
   ]
  },
  {
   "cell_type": "markdown",
   "metadata": {},
   "source": [
    "**Вывод:**  метрика F1 модели логистической регресси ниже, чем 0.59."
   ]
  },
  {
   "cell_type": "markdown",
   "metadata": {},
   "source": [
    "#### 3.2.2. Модель случайного леса <a id='imbalanced_RF'> </a>"
   ]
  },
  {
   "cell_type": "markdown",
   "metadata": {},
   "source": [
    "Напишем функцию `get_RF_metrics`, которая с помощью GridSearchCV обучит модели случайного леса с гиперпараметрами `n_estimators` в диапазоне от 10 до 100 с шагом 10 и `max_depth` в диапазоне от 1 до 15 и найдёт модель с наилучшей метрикой F1, её гиперпараметры и метрики, и добавит метрики в таблицу `results` для сравнения с метриками модели логистической регрессии.\n",
    "<div> <p id='RF_function'></p> </div>"
   ]
  },
  {
   "cell_type": "code",
   "execution_count": 26,
   "metadata": {},
   "outputs": [],
   "source": [
    "def get_RF_metrics(model, features_train, target_train, column_name):\n",
    "    global results\n",
    "    # сохраним гиперпараметры, которые хотим проверить\n",
    "    parameters = {'n_estimators': range (10, 110, 10),\n",
    "                  'max_depth': range (1, 16, 1)}\n",
    "    # сохраним метрики, которые хотим посчитать\n",
    "    scoring = {'Accuracy': 'accuracy', 'Recall': 'recall', 'Precision': 'precision', 'F1': 'f1', 'AUC': 'roc_auc'}\n",
    "    # запустим GridSearch, укажем параметр refit='F1', чтобы оценщик искал модель с наилучшей метрикой F1\n",
    "    grid = GridSearchCV(model, parameters, scoring=scoring, refit='F1')\n",
    "    grid.fit(features_train, target_train)\n",
    "    # выведем на экран гиперпараметры наилучшей модели\n",
    "    best_param = grid.best_params_\n",
    "    print('Гиперпараметры наилучшей модели:', grid.best_params_)\n",
    "    # добавим метрики лучшей модели случайного леса в таблицу results, округлим их до двух знаков после запятой и выведем на экран\n",
    "    results[column_name] = [grid.cv_results_['mean_test_Accuracy'][grid.best_index_], \n",
    "                            grid.cv_results_['mean_test_Recall'][grid.best_index_], \n",
    "                            grid.cv_results_['mean_test_Precision'][grid.best_index_], \n",
    "                            grid.best_score_, \n",
    "                            grid.cv_results_['mean_test_AUC'][grid.best_index_]]\n",
    "    results[column_name] = results[column_name].round(2)\n",
    "    return results[column_name]"
   ]
  },
  {
   "cell_type": "code",
   "execution_count": 27,
   "metadata": {},
   "outputs": [
    {
     "name": "stdout",
     "output_type": "stream",
     "text": [
      "Гиперпараметры наилучшей модели: {'max_depth': 12, 'n_estimators': 100}\n",
      "CPU times: total: 4min 9s\n",
      "Wall time: 4min 10s\n"
     ]
    },
    {
     "data": {
      "text/html": [
       "<div>\n",
       "<style scoped>\n",
       "    .dataframe tbody tr th:only-of-type {\n",
       "        vertical-align: middle;\n",
       "    }\n",
       "\n",
       "    .dataframe tbody tr th {\n",
       "        vertical-align: top;\n",
       "    }\n",
       "\n",
       "    .dataframe thead th {\n",
       "        text-align: right;\n",
       "    }\n",
       "</style>\n",
       "<table border=\"1\" class=\"dataframe\">\n",
       "  <thead>\n",
       "    <tr style=\"text-align: right;\">\n",
       "      <th></th>\n",
       "      <th>imbalanced_LR</th>\n",
       "      <th>imbalanced_RF</th>\n",
       "    </tr>\n",
       "  </thead>\n",
       "  <tbody>\n",
       "    <tr>\n",
       "      <th>Accuracy</th>\n",
       "      <td>0.82</td>\n",
       "      <td>0.86</td>\n",
       "    </tr>\n",
       "    <tr>\n",
       "      <th>Recall</th>\n",
       "      <td>0.22</td>\n",
       "      <td>0.45</td>\n",
       "    </tr>\n",
       "    <tr>\n",
       "      <th>Precision</th>\n",
       "      <td>0.63</td>\n",
       "      <td>0.78</td>\n",
       "    </tr>\n",
       "    <tr>\n",
       "      <th>F1</th>\n",
       "      <td>0.33</td>\n",
       "      <td>0.57</td>\n",
       "    </tr>\n",
       "    <tr>\n",
       "      <th>AUC_ROC</th>\n",
       "      <td>0.79</td>\n",
       "      <td>0.85</td>\n",
       "    </tr>\n",
       "  </tbody>\n",
       "</table>\n",
       "</div>"
      ],
      "text/plain": [
       "           imbalanced_LR  imbalanced_RF\n",
       "Accuracy            0.82           0.86\n",
       "Recall              0.22           0.45\n",
       "Precision           0.63           0.78\n",
       "F1                  0.33           0.57\n",
       "AUC_ROC             0.79           0.85"
      ]
     },
     "execution_count": 27,
     "metadata": {},
     "output_type": "execute_result"
    }
   ],
   "source": [
    "%%time\n",
    "model = RandomForestClassifier(random_state=12345)\n",
    "get_RF_metrics(model, features_train, target_train, 'imbalanced_RF')\n",
    "results"
   ]
  },
  {
   "cell_type": "markdown",
   "metadata": {},
   "source": [
    "**Вывод:**  метрики F1 и AUC_ROC наилучшей модели случайного леса выше, чем модели логистической регрессии, но метрика F1 всё ещё ниже, чем 0.59.  \n",
    "\n",
    "<div>\n",
    "    <br/>\n",
    "    <a href=#content>К содержанию</a>\n",
    "</div>"
   ]
  },
  {
   "cell_type": "markdown",
   "metadata": {},
   "source": [
    "### 3.3. Выводы <a id='conclusions_3_3'> </a>"
   ]
  },
  {
   "cell_type": "markdown",
   "metadata": {},
   "source": [
    "Визуализируем полученные метрики моделей логистической регрессии и случайного леса без учёта дисбаланса классов."
   ]
  },
  {
   "cell_type": "code",
   "execution_count": 28,
   "metadata": {},
   "outputs": [
    {
     "data": {
      "image/png": "[encoded data removed]",
      "text/plain": [
       "<Figure size 720x360 with 1 Axes>"
      ]
     },
     "metadata": {
      "needs_background": "light"
     },
     "output_type": "display_data"
    }
   ],
   "source": [
    "results.plot.bar(figsize=(10, 5), fontsize=12,\n",
    "                title='Сравнение метрик моделей логистической регрессии и случайного леса без учёта дисбаланса классов');"
   ]
  },
  {
   "cell_type": "markdown",
   "metadata": {},
   "source": [
    "Все метрики модели случайного леса лучше метрик модели логистической регрессии, но желаемый показатель метрики F1 >= 0.59 пока не достигнут.  \n",
    "\n",
    "<div>\n",
    "    <br/>\n",
    "    <a href=#content>К содержанию</a>\n",
    "</div>"
   ]
  },
  {
   "cell_type": "markdown",
   "metadata": {},
   "source": [
    "## 4. Борьба с дисбалансом <a id='fighting_imbalance'> </a>"
   ]
  },
  {
   "cell_type": "markdown",
   "metadata": {},
   "source": [
    "Рассмотрим, как на результаты модели влияет устранение дисбаланса разными методами: автоматической балансировкой, увеличением или уменьшением класса."
   ]
  },
  {
   "cell_type": "markdown",
   "metadata": {},
   "source": [
    "### 4.1. Автоматическая балансировка <a id='auto_balance'> </a>"
   ]
  },
  {
   "cell_type": "markdown",
   "metadata": {},
   "source": [
    "#### 4.1.1. Модель логистической регрессии <a id='auto_balance_LR'> </a>"
   ]
  },
  {
   "cell_type": "markdown",
   "metadata": {},
   "source": [
    "Обучим модель логистической регрессии с автоматической балансировкой классов с помощью параметра `class_weight`=’balanced’ и выведем метрики модели на валидационной выборке на экран."
   ]
  },
  {
   "cell_type": "code",
   "execution_count": 29,
   "metadata": {},
   "outputs": [
    {
     "data": {
      "text/html": [
       "<div>\n",
       "<style scoped>\n",
       "    .dataframe tbody tr th:only-of-type {\n",
       "        vertical-align: middle;\n",
       "    }\n",
       "\n",
       "    .dataframe tbody tr th {\n",
       "        vertical-align: top;\n",
       "    }\n",
       "\n",
       "    .dataframe thead th {\n",
       "        text-align: right;\n",
       "    }\n",
       "</style>\n",
       "<table border=\"1\" class=\"dataframe\">\n",
       "  <thead>\n",
       "    <tr style=\"text-align: right;\">\n",
       "      <th></th>\n",
       "      <th>imbalanced_LR</th>\n",
       "      <th>class_weight_LR</th>\n",
       "    </tr>\n",
       "  </thead>\n",
       "  <tbody>\n",
       "    <tr>\n",
       "      <th>Accuracy</th>\n",
       "      <td>0.82</td>\n",
       "      <td>0.71</td>\n",
       "    </tr>\n",
       "    <tr>\n",
       "      <th>Recall</th>\n",
       "      <td>0.22</td>\n",
       "      <td>0.73</td>\n",
       "    </tr>\n",
       "    <tr>\n",
       "      <th>Precision</th>\n",
       "      <td>0.63</td>\n",
       "      <td>0.39</td>\n",
       "    </tr>\n",
       "    <tr>\n",
       "      <th>F1</th>\n",
       "      <td>0.33</td>\n",
       "      <td>0.51</td>\n",
       "    </tr>\n",
       "    <tr>\n",
       "      <th>AUC_ROC</th>\n",
       "      <td>0.79</td>\n",
       "      <td>0.79</td>\n",
       "    </tr>\n",
       "  </tbody>\n",
       "</table>\n",
       "</div>"
      ],
      "text/plain": [
       "           imbalanced_LR  class_weight_LR\n",
       "Accuracy            0.82             0.71\n",
       "Recall              0.22             0.73\n",
       "Precision           0.63             0.39\n",
       "F1                  0.33             0.51\n",
       "AUC_ROC             0.79             0.79"
      ]
     },
     "execution_count": 29,
     "metadata": {},
     "output_type": "execute_result"
    }
   ],
   "source": [
    "# инициализируем модель логистической регрессии с параметром class_weight=’balanced’\n",
    "model = LogisticRegression(random_state=12345, solver='liblinear', class_weight='balanced')\n",
    "# получим метрики модели с помощью функции get_LR_metrics\n",
    "get_LR_metrics(model, features_train, target_train, features_valid, target_valid, 'class_weight_LR')\n",
    "# выведем на экран метрики моделей логистической регресии без учёта дисбаланса и с автоматической балансировкой классов\n",
    "results[['imbalanced_LR', 'class_weight_LR']]"
   ]
  },
  {
   "cell_type": "markdown",
   "metadata": {},
   "source": [
    "**Вывод:** метрика F1 модели логистической регрессии на валидационной выборке улучшились по сравнению с моделью без учета дисбаланса классов, метрика AUC_ROC не изменилась."
   ]
  },
  {
   "cell_type": "markdown",
   "metadata": {},
   "source": [
    "#### 4.1.2. Модель случайного леса <a id='auto_balance_RF'> </a>"
   ]
  },
  {
   "cell_type": "markdown",
   "metadata": {},
   "source": [
    "Обучим модели случайного леса с автоматической балансировкой классов с помощью параметра `class_weight`=’balanced’, найдём наилучшую модель с метрикой F1 с помощью GridSearchCV и выведем метрики модели на экран."
   ]
  },
  {
   "cell_type": "code",
   "execution_count": 30,
   "metadata": {},
   "outputs": [
    {
     "name": "stdout",
     "output_type": "stream",
     "text": [
      "Гиперпараметры наилучшей модели: {'max_depth': 8, 'n_estimators': 70}\n",
      "CPU times: total: 3min 50s\n",
      "Wall time: 3min 52s\n"
     ]
    },
    {
     "data": {
      "text/html": [
       "<div>\n",
       "<style scoped>\n",
       "    .dataframe tbody tr th:only-of-type {\n",
       "        vertical-align: middle;\n",
       "    }\n",
       "\n",
       "    .dataframe tbody tr th {\n",
       "        vertical-align: top;\n",
       "    }\n",
       "\n",
       "    .dataframe thead th {\n",
       "        text-align: right;\n",
       "    }\n",
       "</style>\n",
       "<table border=\"1\" class=\"dataframe\">\n",
       "  <thead>\n",
       "    <tr style=\"text-align: right;\">\n",
       "      <th></th>\n",
       "      <th>imbalanced_RF</th>\n",
       "      <th>class_weight_RF</th>\n",
       "    </tr>\n",
       "  </thead>\n",
       "  <tbody>\n",
       "    <tr>\n",
       "      <th>Accuracy</th>\n",
       "      <td>0.86</td>\n",
       "      <td>0.83</td>\n",
       "    </tr>\n",
       "    <tr>\n",
       "      <th>Recall</th>\n",
       "      <td>0.45</td>\n",
       "      <td>0.66</td>\n",
       "    </tr>\n",
       "    <tr>\n",
       "      <th>Precision</th>\n",
       "      <td>0.78</td>\n",
       "      <td>0.57</td>\n",
       "    </tr>\n",
       "    <tr>\n",
       "      <th>F1</th>\n",
       "      <td>0.57</td>\n",
       "      <td>0.61</td>\n",
       "    </tr>\n",
       "    <tr>\n",
       "      <th>AUC_ROC</th>\n",
       "      <td>0.85</td>\n",
       "      <td>0.85</td>\n",
       "    </tr>\n",
       "  </tbody>\n",
       "</table>\n",
       "</div>"
      ],
      "text/plain": [
       "           imbalanced_RF  class_weight_RF\n",
       "Accuracy            0.86             0.83\n",
       "Recall              0.45             0.66\n",
       "Precision           0.78             0.57\n",
       "F1                  0.57             0.61\n",
       "AUC_ROC             0.85             0.85"
      ]
     },
     "execution_count": 30,
     "metadata": {},
     "output_type": "execute_result"
    }
   ],
   "source": [
    "%%time\n",
    "# инициализируем модель случайного леса с параметром class_weight=’balanced’\n",
    "model = RandomForestClassifier(random_state=12345, class_weight='balanced')\n",
    "# получим метрики наилучшей моднли с помощью функции get_RF_metrics\n",
    "get_RF_metrics(model, features_train, target_train, 'class_weight_RF')\n",
    "# выведем на экран метрики моделей случайного леса без учёта дисбаланса и с автоматической балансировкой классов\n",
    "results[['imbalanced_RF', 'class_weight_RF']]"
   ]
  },
  {
   "cell_type": "markdown",
   "metadata": {},
   "source": [
    "**Вывод:** метрика F1 модели случайного леса улучшились по сравнению с моделью без учета дисбаланса классов, метрика AUC_ROC не изменилась.  \n",
    "\n",
    "<div>\n",
    "    <br/>\n",
    "    <a href=#content>К содержанию</a>\n",
    "</div>"
   ]
  },
  {
   "cell_type": "markdown",
   "metadata": {},
   "source": [
    "### 4.2. Увеличение выбоки (upsampling) <a id='upsampling'> </a>"
   ]
  },
  {
   "cell_type": "markdown",
   "metadata": {},
   "source": [
    "Сделаем объекты редкого класса \"1\" (факт ухода клиента) не такими редкими, увеличив их количество в 4 раза.  \n",
    "Напишем функцию `upsample`, которая разделяет положительные и отрицательные классы, копирует положительные классы, создаёт новую выборку и перемешивает её."
   ]
  },
  {
   "cell_type": "code",
   "execution_count": 31,
   "metadata": {},
   "outputs": [],
   "source": [
    "def upsample(features, target, repeat):\n",
    "    features_zeros = features[target==0]\n",
    "    features_ones = features[target==1]\n",
    "    target_zeros = target[target==0]\n",
    "    target_ones = target[target==1]\n",
    "    features_upsampled = pd.concat([features_zeros] + [features_ones] * repeat)\n",
    "    target_upsampled = pd.concat([target_zeros] + [target_ones] * repeat)\n",
    "    features_upsampled, target_upsampled = shuffle(features_upsampled, target_upsampled, random_state=12345)\n",
    "    return features_upsampled, target_upsampled"
   ]
  },
  {
   "cell_type": "markdown",
   "metadata": {},
   "source": [
    "Получим увеличенную обучающую выборку и проверим сбалансированность классов целевого признака."
   ]
  },
  {
   "cell_type": "code",
   "execution_count": 32,
   "metadata": {
    "scrolled": true
   },
   "outputs": [
    {
     "data": {
      "image/png": "[encoded data removed]",
      "text/plain": [
       "<Figure size 432x288 with 1 Axes>"
      ]
     },
     "metadata": {
      "needs_background": "light"
     },
     "output_type": "display_data"
    }
   ],
   "source": [
    "features_upsampled, target_upsampled = upsample(features_train, target_train, 4)\n",
    "target_upsampled.value_counts(normalize=True).round(2).plot.bar(ylim=(0, 1), grid=True, \n",
    "                                                                title='Распределение классов целевого признака', \n",
    "                                                                xlabel='Класс', ylabel='Доля', fontsize=12);"
   ]
  },
  {
   "cell_type": "markdown",
   "metadata": {},
   "source": [
    "Теперь классы сбалансированы."
   ]
  },
  {
   "cell_type": "markdown",
   "metadata": {},
   "source": [
    "#### 4.2.1. Модель логистической регрессии <a id='upsampled_LR'> </a>"
   ]
  },
  {
   "cell_type": "markdown",
   "metadata": {},
   "source": [
    "Обучим модель логистической регрессии на увеличенной обучающей выборке и выведем метрики модели на валидационной выборке на экран."
   ]
  },
  {
   "cell_type": "code",
   "execution_count": 33,
   "metadata": {},
   "outputs": [
    {
     "data": {
      "text/html": [
       "<div>\n",
       "<style scoped>\n",
       "    .dataframe tbody tr th:only-of-type {\n",
       "        vertical-align: middle;\n",
       "    }\n",
       "\n",
       "    .dataframe tbody tr th {\n",
       "        vertical-align: top;\n",
       "    }\n",
       "\n",
       "    .dataframe thead th {\n",
       "        text-align: right;\n",
       "    }\n",
       "</style>\n",
       "<table border=\"1\" class=\"dataframe\">\n",
       "  <thead>\n",
       "    <tr style=\"text-align: right;\">\n",
       "      <th></th>\n",
       "      <th>imbalanced_LR</th>\n",
       "      <th>class_weight_LR</th>\n",
       "      <th>upsampled_LR</th>\n",
       "    </tr>\n",
       "  </thead>\n",
       "  <tbody>\n",
       "    <tr>\n",
       "      <th>Accuracy</th>\n",
       "      <td>0.82</td>\n",
       "      <td>0.71</td>\n",
       "      <td>0.71</td>\n",
       "    </tr>\n",
       "    <tr>\n",
       "      <th>Recall</th>\n",
       "      <td>0.22</td>\n",
       "      <td>0.73</td>\n",
       "      <td>0.74</td>\n",
       "    </tr>\n",
       "    <tr>\n",
       "      <th>Precision</th>\n",
       "      <td>0.63</td>\n",
       "      <td>0.39</td>\n",
       "      <td>0.38</td>\n",
       "    </tr>\n",
       "    <tr>\n",
       "      <th>F1</th>\n",
       "      <td>0.33</td>\n",
       "      <td>0.51</td>\n",
       "      <td>0.51</td>\n",
       "    </tr>\n",
       "    <tr>\n",
       "      <th>AUC_ROC</th>\n",
       "      <td>0.79</td>\n",
       "      <td>0.79</td>\n",
       "      <td>0.79</td>\n",
       "    </tr>\n",
       "  </tbody>\n",
       "</table>\n",
       "</div>"
      ],
      "text/plain": [
       "           imbalanced_LR  class_weight_LR  upsampled_LR\n",
       "Accuracy            0.82             0.71          0.71\n",
       "Recall              0.22             0.73          0.74\n",
       "Precision           0.63             0.39          0.38\n",
       "F1                  0.33             0.51          0.51\n",
       "AUC_ROC             0.79             0.79          0.79"
      ]
     },
     "execution_count": 33,
     "metadata": {},
     "output_type": "execute_result"
    }
   ],
   "source": [
    "model = LogisticRegression(random_state=12345, solver='liblinear')\n",
    "get_LR_metrics(model, features_upsampled, target_upsampled, features_valid, target_valid, 'upsampled_LR')\n",
    "# выведем на экран метрики моделей логистической регресии без учёта дисбаланса, c автоматической балансировкой классов \n",
    "# и увеличенной обучающей выборкой\n",
    "results[['imbalanced_LR', 'class_weight_LR', 'upsampled_LR']]"
   ]
  },
  {
   "cell_type": "markdown",
   "metadata": {},
   "source": [
    "**Вывод:** метрики F1 и AUC_ROC не изменились по сравнению c автоматической балансировкой классов."
   ]
  },
  {
   "cell_type": "markdown",
   "metadata": {},
   "source": [
    "#### 4.2.2. Модель случайного леса <a id='upsampled_RF'> </a>"
   ]
  },
  {
   "cell_type": "markdown",
   "metadata": {},
   "source": [
    "Обучим модели случайного леса на увеличенной (сбалансированной) выборке, найдём наилучшую модель с метрикой F1 с помощью GridSearchCV и выведем метрики модели на экран."
   ]
  },
  {
   "cell_type": "code",
   "execution_count": 34,
   "metadata": {},
   "outputs": [
    {
     "name": "stdout",
     "output_type": "stream",
     "text": [
      "Гиперпараметры наилучшей модели: {'max_depth': 15, 'n_estimators': 70}\n",
      "CPU times: total: 4min 59s\n",
      "Wall time: 5min 1s\n"
     ]
    },
    {
     "data": {
      "text/html": [
       "<div>\n",
       "<style scoped>\n",
       "    .dataframe tbody tr th:only-of-type {\n",
       "        vertical-align: middle;\n",
       "    }\n",
       "\n",
       "    .dataframe tbody tr th {\n",
       "        vertical-align: top;\n",
       "    }\n",
       "\n",
       "    .dataframe thead th {\n",
       "        text-align: right;\n",
       "    }\n",
       "</style>\n",
       "<table border=\"1\" class=\"dataframe\">\n",
       "  <thead>\n",
       "    <tr style=\"text-align: right;\">\n",
       "      <th></th>\n",
       "      <th>imbalanced_RF</th>\n",
       "      <th>class_weight_RF</th>\n",
       "      <th>upsampled_RF</th>\n",
       "    </tr>\n",
       "  </thead>\n",
       "  <tbody>\n",
       "    <tr>\n",
       "      <th>Accuracy</th>\n",
       "      <td>0.86</td>\n",
       "      <td>0.83</td>\n",
       "      <td>0.95</td>\n",
       "    </tr>\n",
       "    <tr>\n",
       "      <th>Recall</th>\n",
       "      <td>0.45</td>\n",
       "      <td>0.66</td>\n",
       "      <td>1.00</td>\n",
       "    </tr>\n",
       "    <tr>\n",
       "      <th>Precision</th>\n",
       "      <td>0.78</td>\n",
       "      <td>0.57</td>\n",
       "      <td>0.91</td>\n",
       "    </tr>\n",
       "    <tr>\n",
       "      <th>F1</th>\n",
       "      <td>0.57</td>\n",
       "      <td>0.61</td>\n",
       "      <td>0.95</td>\n",
       "    </tr>\n",
       "    <tr>\n",
       "      <th>AUC_ROC</th>\n",
       "      <td>0.85</td>\n",
       "      <td>0.85</td>\n",
       "      <td>0.99</td>\n",
       "    </tr>\n",
       "  </tbody>\n",
       "</table>\n",
       "</div>"
      ],
      "text/plain": [
       "           imbalanced_RF  class_weight_RF  upsampled_RF\n",
       "Accuracy            0.86             0.83          0.95\n",
       "Recall              0.45             0.66          1.00\n",
       "Precision           0.78             0.57          0.91\n",
       "F1                  0.57             0.61          0.95\n",
       "AUC_ROC             0.85             0.85          0.99"
      ]
     },
     "execution_count": 34,
     "metadata": {},
     "output_type": "execute_result"
    }
   ],
   "source": [
    "%%time\n",
    "model = RandomForestClassifier(random_state=12345)\n",
    "get_RF_metrics(model, features_upsampled, target_upsampled, 'upsampled_RF')\n",
    "# выведем на экран метрики моделей случайного леса без учёта дисбаланса и с автоматической балансировкой классов\n",
    "results[['imbalanced_RF', 'class_weight_RF', 'upsampled_RF']]"
   ]
  },
  {
   "cell_type": "markdown",
   "metadata": {},
   "source": [
    "Результаты метрик очень высокие, скорее всего модель переобучена. Посмортим метрики этой модели на обучающей выборке."
   ]
  },
  {
   "cell_type": "code",
   "execution_count": 35,
   "metadata": {},
   "outputs": [
    {
     "data": {
      "text/html": [
       "<div>\n",
       "<style scoped>\n",
       "    .dataframe tbody tr th:only-of-type {\n",
       "        vertical-align: middle;\n",
       "    }\n",
       "\n",
       "    .dataframe tbody tr th {\n",
       "        vertical-align: top;\n",
       "    }\n",
       "\n",
       "    .dataframe thead th {\n",
       "        text-align: right;\n",
       "    }\n",
       "</style>\n",
       "<table border=\"1\" class=\"dataframe\">\n",
       "  <thead>\n",
       "    <tr style=\"text-align: right;\">\n",
       "      <th></th>\n",
       "      <th>metrics_train</th>\n",
       "    </tr>\n",
       "  </thead>\n",
       "  <tbody>\n",
       "    <tr>\n",
       "      <th>Accuracy</th>\n",
       "      <td>0.997383</td>\n",
       "    </tr>\n",
       "    <tr>\n",
       "      <th>Recall</th>\n",
       "      <td>1.000000</td>\n",
       "    </tr>\n",
       "    <tr>\n",
       "      <th>Precision</th>\n",
       "      <td>0.994856</td>\n",
       "    </tr>\n",
       "    <tr>\n",
       "      <th>F1</th>\n",
       "      <td>0.997421</td>\n",
       "    </tr>\n",
       "  </tbody>\n",
       "</table>\n",
       "</div>"
      ],
      "text/plain": [
       "           metrics_train\n",
       "Accuracy        0.997383\n",
       "Recall          1.000000\n",
       "Precision       0.994856\n",
       "F1              0.997421"
      ]
     },
     "execution_count": 35,
     "metadata": {},
     "output_type": "execute_result"
    }
   ],
   "source": [
    "model = RandomForestClassifier(n_estimators=70, max_depth=15, random_state=12345)\n",
    "model.fit(features_upsampled, target_upsampled)\n",
    "predictions_train = model.predict(features_upsampled)\n",
    "pd.DataFrame({'metrics_train': [accuracy_score(target_upsampled, predictions_train), \n",
    "                                recall_score(target_upsampled, predictions_train), \n",
    "                                precision_score(target_upsampled, predictions_train), \n",
    "                                f1_score(target_upsampled, predictions_train)]}, \n",
    "             index=['Accuracy', 'Recall', 'Precision', 'F1'])"
   ]
  },
  {
   "cell_type": "markdown",
   "metadata": {},
   "source": [
    "**Вывод:** метрики F1 и AUC_ROC для модели, обученной на upsampled обучающих данных, намного выше, чем для автоматической балансировки. Скорее всего модель переобучена и выучила все ответы на обучающей выборке.  \n",
    "\n",
    "<div>\n",
    "    <br/>\n",
    "    <a href=#content>К содержанию</a>\n",
    "</div>"
   ]
  },
  {
   "cell_type": "markdown",
   "metadata": {},
   "source": [
    "### 4.3. Уменьшение выбоки (downsampling) <a id='downsampling'> </a>"
   ]
  },
  {
   "cell_type": "markdown",
   "metadata": {},
   "source": [
    "Сделаем объекты частого класса \"0\" не такими частыми.  \n",
    "Напишем функцию `downsample`, которая разделитт положительные и отрицательные классы, случайным образом отбросит часть из отрицательных объектов, создаст новую обучающую выборку и перемешает данные."
   ]
  },
  {
   "cell_type": "code",
   "execution_count": 36,
   "metadata": {},
   "outputs": [],
   "source": [
    "def downsample(features, target, fraction):\n",
    "    features_zeros = features[target==0]\n",
    "    features_ones = features[target==1]\n",
    "    target_zeros = target[target==0]\n",
    "    target_ones = target[target==1]\n",
    "    features_downsampled = pd.concat([features_zeros.sample(frac=fraction, random_state=12345)] + [features_ones])\n",
    "    target_downsampled = pd.concat([target_zeros.sample(frac=fraction, random_state=12345)] + [target_ones])\n",
    "    features_downsampled, target_downsampled = shuffle(features_downsampled, target_downsampled, random_state=12345)\n",
    "    return features_downsampled, target_downsampled"
   ]
  },
  {
   "cell_type": "markdown",
   "metadata": {},
   "source": [
    "Получим уменьшенную обучающую выборку и проверим сбалансированность классов целевого признака."
   ]
  },
  {
   "cell_type": "code",
   "execution_count": 37,
   "metadata": {},
   "outputs": [
    {
     "data": {
      "image/png": "[encoded data removed]",
      "text/plain": [
       "<Figure size 432x288 with 1 Axes>"
      ]
     },
     "metadata": {
      "needs_background": "light"
     },
     "output_type": "display_data"
    }
   ],
   "source": [
    "features_downsampled, target_downsampled = downsample(features_train, target_train, 0.25)\n",
    "target_downsampled.value_counts(normalize=True).round(2).plot.bar(ylim=(0, 1), \n",
    "                                                                  grid=True, \n",
    "                                                                  title='Распределение классов целевого признака', \n",
    "                                                                  xlabel='Класс', ylabel='Доля', fontsize=12);"
   ]
  },
  {
   "cell_type": "markdown",
   "metadata": {},
   "source": [
    "Классы сбалансированы."
   ]
  },
  {
   "cell_type": "markdown",
   "metadata": {},
   "source": [
    "#### 4.3.1. Модель логистической регрессии <a id='downsampled_LR'> </a>"
   ]
  },
  {
   "cell_type": "markdown",
   "metadata": {},
   "source": [
    "Обучим модель логистической регрессии на уменьшенной сбалансированной обучающей выборке и выведем метрики модели на валидационной выборке на экран."
   ]
  },
  {
   "cell_type": "code",
   "execution_count": 38,
   "metadata": {},
   "outputs": [
    {
     "data": {
      "text/html": [
       "<div>\n",
       "<style scoped>\n",
       "    .dataframe tbody tr th:only-of-type {\n",
       "        vertical-align: middle;\n",
       "    }\n",
       "\n",
       "    .dataframe tbody tr th {\n",
       "        vertical-align: top;\n",
       "    }\n",
       "\n",
       "    .dataframe thead th {\n",
       "        text-align: right;\n",
       "    }\n",
       "</style>\n",
       "<table border=\"1\" class=\"dataframe\">\n",
       "  <thead>\n",
       "    <tr style=\"text-align: right;\">\n",
       "      <th></th>\n",
       "      <th>imbalanced_LR</th>\n",
       "      <th>class_weight_LR</th>\n",
       "      <th>upsampled_LR</th>\n",
       "      <th>downsampled_LR</th>\n",
       "    </tr>\n",
       "  </thead>\n",
       "  <tbody>\n",
       "    <tr>\n",
       "      <th>Accuracy</th>\n",
       "      <td>0.82</td>\n",
       "      <td>0.71</td>\n",
       "      <td>0.71</td>\n",
       "      <td>0.71</td>\n",
       "    </tr>\n",
       "    <tr>\n",
       "      <th>Recall</th>\n",
       "      <td>0.22</td>\n",
       "      <td>0.73</td>\n",
       "      <td>0.74</td>\n",
       "      <td>0.75</td>\n",
       "    </tr>\n",
       "    <tr>\n",
       "      <th>Precision</th>\n",
       "      <td>0.63</td>\n",
       "      <td>0.39</td>\n",
       "      <td>0.38</td>\n",
       "      <td>0.39</td>\n",
       "    </tr>\n",
       "    <tr>\n",
       "      <th>F1</th>\n",
       "      <td>0.33</td>\n",
       "      <td>0.51</td>\n",
       "      <td>0.51</td>\n",
       "      <td>0.51</td>\n",
       "    </tr>\n",
       "    <tr>\n",
       "      <th>AUC_ROC</th>\n",
       "      <td>0.79</td>\n",
       "      <td>0.79</td>\n",
       "      <td>0.79</td>\n",
       "      <td>0.79</td>\n",
       "    </tr>\n",
       "  </tbody>\n",
       "</table>\n",
       "</div>"
      ],
      "text/plain": [
       "           imbalanced_LR  class_weight_LR  upsampled_LR  downsampled_LR\n",
       "Accuracy            0.82             0.71          0.71            0.71\n",
       "Recall              0.22             0.73          0.74            0.75\n",
       "Precision           0.63             0.39          0.38            0.39\n",
       "F1                  0.33             0.51          0.51            0.51\n",
       "AUC_ROC             0.79             0.79          0.79            0.79"
      ]
     },
     "execution_count": 38,
     "metadata": {},
     "output_type": "execute_result"
    }
   ],
   "source": [
    "model = LogisticRegression(random_state=12345, solver='liblinear')\n",
    "get_LR_metrics(model, features_downsampled, target_downsampled, features_valid, target_valid, 'downsampled_LR')\n",
    "# выведем на экран метрики моделей логистической регресии без учёта дисбаланса, c автоматической балансировкой классов, \n",
    "# увеличенной и уменьшенной обучающей выборкой\n",
    "results[['imbalanced_LR', 'class_weight_LR', 'upsampled_LR', 'downsampled_LR']]"
   ]
  },
  {
   "cell_type": "markdown",
   "metadata": {},
   "source": [
    "**Вывод:** метрики F1 и AUC_ROC не изменились по сравнению c автоматической балансировкой классов и увеличенной выборкой."
   ]
  },
  {
   "cell_type": "markdown",
   "metadata": {},
   "source": [
    "#### 4.3.2. Модель случайного леса <a id='downsampled_RF'> </a>"
   ]
  },
  {
   "cell_type": "markdown",
   "metadata": {},
   "source": [
    "Обучим модели случайного леса на уменьшенной (сбалансированной) выборке, найдём наилучшую модель с метрикой F1 с помощью GridSearchCV и выведем метрики модели на экран."
   ]
  },
  {
   "cell_type": "code",
   "execution_count": 39,
   "metadata": {},
   "outputs": [
    {
     "name": "stdout",
     "output_type": "stream",
     "text": [
      "Гиперпараметры наилучшей модели: {'max_depth': 9, 'n_estimators': 80}\n",
      "CPU times: total: 2min 24s\n",
      "Wall time: 2min 25s\n"
     ]
    },
    {
     "data": {
      "text/html": [
       "<div>\n",
       "<style scoped>\n",
       "    .dataframe tbody tr th:only-of-type {\n",
       "        vertical-align: middle;\n",
       "    }\n",
       "\n",
       "    .dataframe tbody tr th {\n",
       "        vertical-align: top;\n",
       "    }\n",
       "\n",
       "    .dataframe thead th {\n",
       "        text-align: right;\n",
       "    }\n",
       "</style>\n",
       "<table border=\"1\" class=\"dataframe\">\n",
       "  <thead>\n",
       "    <tr style=\"text-align: right;\">\n",
       "      <th></th>\n",
       "      <th>imbalanced_RF</th>\n",
       "      <th>class_weight_RF</th>\n",
       "      <th>upsampled_RF</th>\n",
       "      <th>downsampled_RF</th>\n",
       "    </tr>\n",
       "  </thead>\n",
       "  <tbody>\n",
       "    <tr>\n",
       "      <th>Accuracy</th>\n",
       "      <td>0.86</td>\n",
       "      <td>0.83</td>\n",
       "      <td>0.95</td>\n",
       "      <td>0.78</td>\n",
       "    </tr>\n",
       "    <tr>\n",
       "      <th>Recall</th>\n",
       "      <td>0.45</td>\n",
       "      <td>0.66</td>\n",
       "      <td>1.00</td>\n",
       "      <td>0.76</td>\n",
       "    </tr>\n",
       "    <tr>\n",
       "      <th>Precision</th>\n",
       "      <td>0.78</td>\n",
       "      <td>0.57</td>\n",
       "      <td>0.91</td>\n",
       "      <td>0.79</td>\n",
       "    </tr>\n",
       "    <tr>\n",
       "      <th>F1</th>\n",
       "      <td>0.57</td>\n",
       "      <td>0.61</td>\n",
       "      <td>0.95</td>\n",
       "      <td>0.78</td>\n",
       "    </tr>\n",
       "    <tr>\n",
       "      <th>AUC_ROC</th>\n",
       "      <td>0.85</td>\n",
       "      <td>0.85</td>\n",
       "      <td>0.99</td>\n",
       "      <td>0.85</td>\n",
       "    </tr>\n",
       "  </tbody>\n",
       "</table>\n",
       "</div>"
      ],
      "text/plain": [
       "           imbalanced_RF  class_weight_RF  upsampled_RF  downsampled_RF\n",
       "Accuracy            0.86             0.83          0.95            0.78\n",
       "Recall              0.45             0.66          1.00            0.76\n",
       "Precision           0.78             0.57          0.91            0.79\n",
       "F1                  0.57             0.61          0.95            0.78\n",
       "AUC_ROC             0.85             0.85          0.99            0.85"
      ]
     },
     "execution_count": 39,
     "metadata": {},
     "output_type": "execute_result"
    }
   ],
   "source": [
    "%%time\n",
    "model = RandomForestClassifier(random_state=12345)\n",
    "get_RF_metrics(model, features_downsampled, target_downsampled, 'downsampled_RF')\n",
    "# выведем на экран метрики моделей случайного леса без учёта дисбаланса и с автоматической балансировкой классов\n",
    "results[['imbalanced_RF', 'class_weight_RF', 'upsampled_RF', 'downsampled_RF']]"
   ]
  },
  {
   "cell_type": "markdown",
   "metadata": {},
   "source": [
    "**Вывод:** метод уменьшения выборки дал высокое значение метрики F1 по сравнению с автоматической балансировкой классов. AUC_ROC не изменились по сравнению c автоматической балансировкой классов и моделью без учёта дисбаланса.  \n",
    "\n",
    "<div>\n",
    "    <br/>\n",
    "    <a href=#content>К содержанию</a>\n",
    "</div>"
   ]
  },
  {
   "cell_type": "markdown",
   "metadata": {},
   "source": [
    "### 4.4. Выводы <a id='conclusions_4_4'> </a>"
   ]
  },
  {
   "cell_type": "markdown",
   "metadata": {},
   "source": [
    "Визуализируем значения метрик F1 и AUC_ROC разных моделей и выберем наилучшую модель."
   ]
  },
  {
   "cell_type": "code",
   "execution_count": 40,
   "metadata": {},
   "outputs": [
    {
     "data": {
      "text/html": [
       "<div>\n",
       "<style scoped>\n",
       "    .dataframe tbody tr th:only-of-type {\n",
       "        vertical-align: middle;\n",
       "    }\n",
       "\n",
       "    .dataframe tbody tr th {\n",
       "        vertical-align: top;\n",
       "    }\n",
       "\n",
       "    .dataframe thead th {\n",
       "        text-align: right;\n",
       "    }\n",
       "</style>\n",
       "<table border=\"1\" class=\"dataframe\">\n",
       "  <thead>\n",
       "    <tr style=\"text-align: right;\">\n",
       "      <th></th>\n",
       "      <th>imbalanced_LR</th>\n",
       "      <th>imbalanced_RF</th>\n",
       "      <th>class_weight_LR</th>\n",
       "      <th>class_weight_RF</th>\n",
       "      <th>upsampled_LR</th>\n",
       "      <th>upsampled_RF</th>\n",
       "      <th>downsampled_LR</th>\n",
       "      <th>downsampled_RF</th>\n",
       "    </tr>\n",
       "  </thead>\n",
       "  <tbody>\n",
       "    <tr>\n",
       "      <th>Accuracy</th>\n",
       "      <td>0.82</td>\n",
       "      <td>0.86</td>\n",
       "      <td>0.71</td>\n",
       "      <td>0.83</td>\n",
       "      <td>0.71</td>\n",
       "      <td>0.95</td>\n",
       "      <td>0.71</td>\n",
       "      <td>0.78</td>\n",
       "    </tr>\n",
       "    <tr>\n",
       "      <th>Recall</th>\n",
       "      <td>0.22</td>\n",
       "      <td>0.45</td>\n",
       "      <td>0.73</td>\n",
       "      <td>0.66</td>\n",
       "      <td>0.74</td>\n",
       "      <td>1.00</td>\n",
       "      <td>0.75</td>\n",
       "      <td>0.76</td>\n",
       "    </tr>\n",
       "    <tr>\n",
       "      <th>Precision</th>\n",
       "      <td>0.63</td>\n",
       "      <td>0.78</td>\n",
       "      <td>0.39</td>\n",
       "      <td>0.57</td>\n",
       "      <td>0.38</td>\n",
       "      <td>0.91</td>\n",
       "      <td>0.39</td>\n",
       "      <td>0.79</td>\n",
       "    </tr>\n",
       "    <tr>\n",
       "      <th>F1</th>\n",
       "      <td>0.33</td>\n",
       "      <td>0.57</td>\n",
       "      <td>0.51</td>\n",
       "      <td>0.61</td>\n",
       "      <td>0.51</td>\n",
       "      <td>0.95</td>\n",
       "      <td>0.51</td>\n",
       "      <td>0.78</td>\n",
       "    </tr>\n",
       "    <tr>\n",
       "      <th>AUC_ROC</th>\n",
       "      <td>0.79</td>\n",
       "      <td>0.85</td>\n",
       "      <td>0.79</td>\n",
       "      <td>0.85</td>\n",
       "      <td>0.79</td>\n",
       "      <td>0.99</td>\n",
       "      <td>0.79</td>\n",
       "      <td>0.85</td>\n",
       "    </tr>\n",
       "  </tbody>\n",
       "</table>\n",
       "</div>"
      ],
      "text/plain": [
       "           imbalanced_LR  imbalanced_RF  class_weight_LR  class_weight_RF  \\\n",
       "Accuracy            0.82           0.86             0.71             0.83   \n",
       "Recall              0.22           0.45             0.73             0.66   \n",
       "Precision           0.63           0.78             0.39             0.57   \n",
       "F1                  0.33           0.57             0.51             0.61   \n",
       "AUC_ROC             0.79           0.85             0.79             0.85   \n",
       "\n",
       "           upsampled_LR  upsampled_RF  downsampled_LR  downsampled_RF  \n",
       "Accuracy           0.71          0.95            0.71            0.78  \n",
       "Recall             0.74          1.00            0.75            0.76  \n",
       "Precision          0.38          0.91            0.39            0.79  \n",
       "F1                 0.51          0.95            0.51            0.78  \n",
       "AUC_ROC            0.79          0.99            0.79            0.85  "
      ]
     },
     "execution_count": 40,
     "metadata": {},
     "output_type": "execute_result"
    }
   ],
   "source": [
    "results"
   ]
  },
  {
   "cell_type": "code",
   "execution_count": 41,
   "metadata": {
    "scrolled": false
   },
   "outputs": [
    {
     "data": {
      "image/png": "[encoded data removed]",
      "text/plain": [
       "<Figure size 720x432 with 1 Axes>"
      ]
     },
     "metadata": {
      "needs_background": "light"
     },
     "output_type": "display_data"
    }
   ],
   "source": [
    "fig, ax = plt.subplots(figsize=(10, 6))\n",
    "ax.set_ylim([0, 1])\n",
    "ax.set_title('Метрики F1 и AUC_ROC разных моделей')\n",
    "ax.set_xlabel('Модели')\n",
    "plt.xticks(rotation=15)\n",
    "ax.plot(results.loc['F1'], marker='o', label='F1')\n",
    "ax.plot(results.loc['AUC_ROC'], marker='o', label='AUC_ROC');\n",
    "ax.legend()\n",
    "ax.grid()"
   ]
  },
  {
   "cell_type": "markdown",
   "metadata": {},
   "source": [
    "Наилучшую метрику F1 показала модель случайного леса на сбалансрованной по классам выборке техникой увеличения выборки.  \n",
    "Метрика AUC_ROC зависит только от алгоритма (LR или RF) и не зависит от сбалансированности классов, за исключением модели случайного леса, обученной на увеличенной выборке.  \n",
    "\n",
    "<div>\n",
    "    <br/>\n",
    "    <a href=#content>К содержанию</a>\n",
    "</div>"
   ]
  },
  {
   "cell_type": "markdown",
   "metadata": {},
   "source": [
    "## 5. Тестирование модели <a id='final_testing'> </a>"
   ]
  },
  {
   "cell_type": "markdown",
   "metadata": {},
   "source": [
    "Проведем финальное тестирование наилучшей модели на тестовой выборке."
   ]
  },
  {
   "cell_type": "markdown",
   "metadata": {},
   "source": [
    "Увеличим обучающую выборку за счёт добавления к ней валидационной выборки и избавимся от дисбаланса классов методом upsamplig."
   ]
  },
  {
   "cell_type": "code",
   "execution_count": 42,
   "metadata": {},
   "outputs": [],
   "source": [
    "features_train = pd.concat([features_train] + [features_valid])\n",
    "target_train = pd.concat([target_train] + [target_valid])\n",
    "features_upsampled, target_upsampled = upsample(features_train, target_train, 4)"
   ]
  },
  {
   "cell_type": "markdown",
   "metadata": {},
   "source": [
    "Дообучим наилучшую модель на новой обучающей выборке и получим предсказания модели на тестовой выборке."
   ]
  },
  {
   "cell_type": "code",
   "execution_count": 43,
   "metadata": {},
   "outputs": [
    {
     "data": {
      "text/html": [
       "<div>\n",
       "<style scoped>\n",
       "    .dataframe tbody tr th:only-of-type {\n",
       "        vertical-align: middle;\n",
       "    }\n",
       "\n",
       "    .dataframe tbody tr th {\n",
       "        vertical-align: top;\n",
       "    }\n",
       "\n",
       "    .dataframe thead th {\n",
       "        text-align: right;\n",
       "    }\n",
       "</style>\n",
       "<table border=\"1\" class=\"dataframe\">\n",
       "  <thead>\n",
       "    <tr style=\"text-align: right;\">\n",
       "      <th></th>\n",
       "      <th>upsampled_RF_test</th>\n",
       "    </tr>\n",
       "  </thead>\n",
       "  <tbody>\n",
       "    <tr>\n",
       "      <th>Accuracy</th>\n",
       "      <td>0.85</td>\n",
       "    </tr>\n",
       "    <tr>\n",
       "      <th>Recall</th>\n",
       "      <td>0.59</td>\n",
       "    </tr>\n",
       "    <tr>\n",
       "      <th>Precision</th>\n",
       "      <td>0.65</td>\n",
       "    </tr>\n",
       "    <tr>\n",
       "      <th>F1</th>\n",
       "      <td>0.62</td>\n",
       "    </tr>\n",
       "    <tr>\n",
       "      <th>AUC_ROC</th>\n",
       "      <td>0.84</td>\n",
       "    </tr>\n",
       "  </tbody>\n",
       "</table>\n",
       "</div>"
      ],
      "text/plain": [
       "           upsampled_RF_test\n",
       "Accuracy                0.85\n",
       "Recall                  0.59\n",
       "Precision               0.65\n",
       "F1                      0.62\n",
       "AUC_ROC                 0.84"
      ]
     },
     "execution_count": 43,
     "metadata": {},
     "output_type": "execute_result"
    }
   ],
   "source": [
    "# инициализируем модель случайного леса с гиперпараметрами, найденными с помощью GridSearchCV\n",
    "model = RandomForestClassifier(n_estimators=70, \n",
    "                               max_depth=15, \n",
    "                               random_state=12345)\n",
    "# обучим модель на обучающих данных, сбалансированных по классам техникой upsampling\n",
    "model.fit(features_upsampled, target_upsampled)\n",
    "# получим предсказания модели на тестовой выборке\n",
    "predictions_test = model.predict(features_test)\n",
    "probabilities_test = model.predict_proba(features_test)\n",
    "probabilities_one_test = probabilities_test[:, 1]\n",
    "# запишем метрики в таблицу в столбец downsampled_RF_test\n",
    "results['upsampled_RF_test'] = [accuracy_score(target_test, predictions_test), \n",
    "                                  recall_score(target_test, predictions_test), \n",
    "                                  precision_score(target_test, predictions_test), \n",
    "                                  f1_score(target_test, predictions_test),\n",
    "                                  roc_auc_score(target_test, probabilities_one_test)]\n",
    "results['upsampled_RF_test'] = results['upsampled_RF_test'].round(2)\n",
    "results[['upsampled_RF_test']]"
   ]
  },
  {
   "cell_type": "markdown",
   "metadata": {},
   "source": [
    "**Результат:**  метрика F1 наилучшей модели на тестовой выборке выше, чем 0.59.  \n",
    "\n",
    "<div>\n",
    "    <br/>\n",
    "    <a href=#content>К содержанию</a>\n",
    "</div>"
   ]
  },
  {
   "cell_type": "markdown",
   "metadata": {},
   "source": [
    "## 6. Итоги исследования и общий вывод <a id='research_results'> </a>"
   ]
  },
  {
   "cell_type": "markdown",
   "metadata": {},
   "source": [
    "В данной работе были исследованы модели, способные проанализировать поведение клиентов банка на имеющихся данных и спрогнозировать, уйдёт клиент из банка или нет, то есть решить задачу классификации.  \n",
    "Исходные данные были изучены, целевой признак: факт ухода клиента (ушёл — 1, не ушёл — 0).  \n",
    "В результате предобработки данных:  \n",
    "\n",
    "1) название всех столбцов приведено к нижнему регистру и \"змеиному\" формату;\n",
    "2) удалено 909 строк с пропусками в столбце `tenure` ;\n",
    "3) было выявлено, что 3283 клиента имеют нулевой баланс на счёте (значение 0 в столбце balance) - это 36% датасета.\n",
    "\n",
    "Признаки были подготовлены для дальнейшего исследования следующим образом:\n",
    "\n",
    "1) удалены бесполезные признаки: `row_number`, `customer_id`, `surname` ;  \n",
    "2) категориальные признаки `geography` и `gender` были преобразованы в численные техникой OHE;  \n",
    "3) исходные данные были разделены на обучающую, валидационную и тестовую выборки в соотношении 60% 20% и 20% соответственно со стратификацией (равномерное распределение) классов целевого признака;  \n",
    "4) проведено масштабирование численных признаков `credit_score`, `age`, `tenure`, `balance`, `num_of_products`, `estimated_salary` методом стандартизации данных.\n",
    "\n",
    "Был исследован дисбаланс классов целевого признака: класс \"0\" - 80%, класс \"1\" - 20%.  \n",
    "\n",
    "Далее были исследованы модели логистической регресии и случайного леса без учёта дисбаланса класса. Наилучшая модель случайного леса показала более высокую метрику F1, чем модель логистической регресии, но желаемого значения F1 >= 0.59 достичь не удалось.  \n",
    "\n",
    "Далее были применены три метода устранения дисбаланса: автоматическая балансировка, увеличение или уменьшение класса, и исследовано их вляиние на метрики F1 и AUC_ROC моделей.\n",
    "\n",
    "Для модели логистической регрессии можно сделать вывод, что устранение дисбаланса увеличивает метрику F1. Выбор метода устранения не вляиет на метрику F1: она одинакова для все трёх методов. Метрика AUC_ROC не зависит от дисбаланса классов."
   ]
  },
  {
   "cell_type": "code",
   "execution_count": 44,
   "metadata": {
    "scrolled": true
   },
   "outputs": [
    {
     "data": {
      "text/html": [
       "<div>\n",
       "<style scoped>\n",
       "    .dataframe tbody tr th:only-of-type {\n",
       "        vertical-align: middle;\n",
       "    }\n",
       "\n",
       "    .dataframe tbody tr th {\n",
       "        vertical-align: top;\n",
       "    }\n",
       "\n",
       "    .dataframe thead th {\n",
       "        text-align: right;\n",
       "    }\n",
       "</style>\n",
       "<table border=\"1\" class=\"dataframe\">\n",
       "  <thead>\n",
       "    <tr style=\"text-align: right;\">\n",
       "      <th></th>\n",
       "      <th>imbalanced_LR</th>\n",
       "      <th>class_weight_LR</th>\n",
       "      <th>upsampled_LR</th>\n",
       "      <th>downsampled_LR</th>\n",
       "    </tr>\n",
       "  </thead>\n",
       "  <tbody>\n",
       "    <tr>\n",
       "      <th>Accuracy</th>\n",
       "      <td>0.82</td>\n",
       "      <td>0.71</td>\n",
       "      <td>0.71</td>\n",
       "      <td>0.71</td>\n",
       "    </tr>\n",
       "    <tr>\n",
       "      <th>Recall</th>\n",
       "      <td>0.22</td>\n",
       "      <td>0.73</td>\n",
       "      <td>0.74</td>\n",
       "      <td>0.75</td>\n",
       "    </tr>\n",
       "    <tr>\n",
       "      <th>Precision</th>\n",
       "      <td>0.63</td>\n",
       "      <td>0.39</td>\n",
       "      <td>0.38</td>\n",
       "      <td>0.39</td>\n",
       "    </tr>\n",
       "    <tr>\n",
       "      <th>F1</th>\n",
       "      <td>0.33</td>\n",
       "      <td>0.51</td>\n",
       "      <td>0.51</td>\n",
       "      <td>0.51</td>\n",
       "    </tr>\n",
       "    <tr>\n",
       "      <th>AUC_ROC</th>\n",
       "      <td>0.79</td>\n",
       "      <td>0.79</td>\n",
       "      <td>0.79</td>\n",
       "      <td>0.79</td>\n",
       "    </tr>\n",
       "  </tbody>\n",
       "</table>\n",
       "</div>"
      ],
      "text/plain": [
       "           imbalanced_LR  class_weight_LR  upsampled_LR  downsampled_LR\n",
       "Accuracy            0.82             0.71          0.71            0.71\n",
       "Recall              0.22             0.73          0.74            0.75\n",
       "Precision           0.63             0.39          0.38            0.39\n",
       "F1                  0.33             0.51          0.51            0.51\n",
       "AUC_ROC             0.79             0.79          0.79            0.79"
      ]
     },
     "execution_count": 44,
     "metadata": {},
     "output_type": "execute_result"
    }
   ],
   "source": [
    "results[['imbalanced_LR', 'class_weight_LR', 'upsampled_LR', 'downsampled_LR']]"
   ]
  },
  {
   "cell_type": "markdown",
   "metadata": {},
   "source": [
    "Для модели случайного леса можно сделать вывод, что устранение дисбаланса увеличивает метрику F1. Наилучший результат показал метод увеличения выборки (upsampling), второй результат - метод уменьшения выборки (downsampling), затем - автоматическая балансировка. Метрика AUC_ROC не зависит от дисбаланса классов, и отличается только для переобученной модели."
   ]
  },
  {
   "cell_type": "code",
   "execution_count": 45,
   "metadata": {
    "scrolled": true
   },
   "outputs": [
    {
     "data": {
      "text/html": [
       "<div>\n",
       "<style scoped>\n",
       "    .dataframe tbody tr th:only-of-type {\n",
       "        vertical-align: middle;\n",
       "    }\n",
       "\n",
       "    .dataframe tbody tr th {\n",
       "        vertical-align: top;\n",
       "    }\n",
       "\n",
       "    .dataframe thead th {\n",
       "        text-align: right;\n",
       "    }\n",
       "</style>\n",
       "<table border=\"1\" class=\"dataframe\">\n",
       "  <thead>\n",
       "    <tr style=\"text-align: right;\">\n",
       "      <th></th>\n",
       "      <th>imbalanced_RF</th>\n",
       "      <th>class_weight_RF</th>\n",
       "      <th>upsampled_RF</th>\n",
       "      <th>downsampled_RF</th>\n",
       "    </tr>\n",
       "  </thead>\n",
       "  <tbody>\n",
       "    <tr>\n",
       "      <th>Accuracy</th>\n",
       "      <td>0.86</td>\n",
       "      <td>0.83</td>\n",
       "      <td>0.95</td>\n",
       "      <td>0.78</td>\n",
       "    </tr>\n",
       "    <tr>\n",
       "      <th>Recall</th>\n",
       "      <td>0.45</td>\n",
       "      <td>0.66</td>\n",
       "      <td>1.00</td>\n",
       "      <td>0.76</td>\n",
       "    </tr>\n",
       "    <tr>\n",
       "      <th>Precision</th>\n",
       "      <td>0.78</td>\n",
       "      <td>0.57</td>\n",
       "      <td>0.91</td>\n",
       "      <td>0.79</td>\n",
       "    </tr>\n",
       "    <tr>\n",
       "      <th>F1</th>\n",
       "      <td>0.57</td>\n",
       "      <td>0.61</td>\n",
       "      <td>0.95</td>\n",
       "      <td>0.78</td>\n",
       "    </tr>\n",
       "    <tr>\n",
       "      <th>AUC_ROC</th>\n",
       "      <td>0.85</td>\n",
       "      <td>0.85</td>\n",
       "      <td>0.99</td>\n",
       "      <td>0.85</td>\n",
       "    </tr>\n",
       "  </tbody>\n",
       "</table>\n",
       "</div>"
      ],
      "text/plain": [
       "           imbalanced_RF  class_weight_RF  upsampled_RF  downsampled_RF\n",
       "Accuracy            0.86             0.83          0.95            0.78\n",
       "Recall              0.45             0.66          1.00            0.76\n",
       "Precision           0.78             0.57          0.91            0.79\n",
       "F1                  0.57             0.61          0.95            0.78\n",
       "AUC_ROC             0.85             0.85          0.99            0.85"
      ]
     },
     "execution_count": 45,
     "metadata": {},
     "output_type": "execute_result"
    }
   ],
   "source": [
    "results[['imbalanced_RF', 'class_weight_RF', 'upsampled_RF', 'downsampled_RF']]"
   ]
  },
  {
   "cell_type": "markdown",
   "metadata": {},
   "source": [
    "Наилучшей по метрике F1 была признана модель случайного леса, обученная на увеличенной сбалансированной выборке. Данная модель была протестирована на тестовой выборке и получен результат метрики F1 выше, чем 0.59."
   ]
  },
  {
   "cell_type": "code",
   "execution_count": 46,
   "metadata": {},
   "outputs": [
    {
     "data": {
      "text/html": [
       "<div>\n",
       "<style scoped>\n",
       "    .dataframe tbody tr th:only-of-type {\n",
       "        vertical-align: middle;\n",
       "    }\n",
       "\n",
       "    .dataframe tbody tr th {\n",
       "        vertical-align: top;\n",
       "    }\n",
       "\n",
       "    .dataframe thead th {\n",
       "        text-align: right;\n",
       "    }\n",
       "</style>\n",
       "<table border=\"1\" class=\"dataframe\">\n",
       "  <thead>\n",
       "    <tr style=\"text-align: right;\">\n",
       "      <th></th>\n",
       "      <th>upsampled_RF_test</th>\n",
       "    </tr>\n",
       "  </thead>\n",
       "  <tbody>\n",
       "    <tr>\n",
       "      <th>Accuracy</th>\n",
       "      <td>0.85</td>\n",
       "    </tr>\n",
       "    <tr>\n",
       "      <th>Recall</th>\n",
       "      <td>0.59</td>\n",
       "    </tr>\n",
       "    <tr>\n",
       "      <th>Precision</th>\n",
       "      <td>0.65</td>\n",
       "    </tr>\n",
       "    <tr>\n",
       "      <th>F1</th>\n",
       "      <td>0.62</td>\n",
       "    </tr>\n",
       "    <tr>\n",
       "      <th>AUC_ROC</th>\n",
       "      <td>0.84</td>\n",
       "    </tr>\n",
       "  </tbody>\n",
       "</table>\n",
       "</div>"
      ],
      "text/plain": [
       "           upsampled_RF_test\n",
       "Accuracy                0.85\n",
       "Recall                  0.59\n",
       "Precision               0.65\n",
       "F1                      0.62\n",
       "AUC_ROC                 0.84"
      ]
     },
     "execution_count": 46,
     "metadata": {},
     "output_type": "execute_result"
    }
   ],
   "source": [
    "results[['upsampled_RF_test']]"
   ]
  },
  {
   "cell_type": "markdown",
   "metadata": {},
   "source": [
    "***Рекомендация:*** обратить внимание на отсутствие данных в столбце `tenure` в 909 строках и выявить причины.  \n",
    "\n",
    "<div>\n",
    "    <br/>\n",
    "    <a href=#content>К содержанию</a>\n",
    "</div>"
   ]
  }
 ],
 "metadata": {
  "ExecuteTimeLog": [
   {
    "duration": 375,
    "start_time": "2022-09-07T19:01:43.929Z"
   },
   {
    "duration": 829,
    "start_time": "2022-09-07T19:07:34.006Z"
   },
   {
    "duration": 105,
    "start_time": "2022-09-07T19:08:37.733Z"
   },
   {
    "duration": 12,
    "start_time": "2022-09-07T19:12:54.957Z"
   },
   {
    "duration": 22,
    "start_time": "2022-09-07T19:16:03.766Z"
   },
   {
    "duration": 1109,
    "start_time": "2022-09-07T19:27:58.183Z"
   },
   {
    "duration": 59,
    "start_time": "2022-09-07T19:27:59.294Z"
   },
   {
    "duration": 12,
    "start_time": "2022-09-07T19:27:59.355Z"
   },
   {
    "duration": 4,
    "start_time": "2022-09-07T19:27:59.369Z"
   },
   {
    "duration": 4,
    "start_time": "2022-09-07T19:28:15.374Z"
   },
   {
    "duration": 11,
    "start_time": "2022-09-07T19:29:55.379Z"
   },
   {
    "duration": 10,
    "start_time": "2022-09-07T19:30:35.399Z"
   },
   {
    "duration": 1091,
    "start_time": "2022-09-07T19:31:24.046Z"
   },
   {
    "duration": 64,
    "start_time": "2022-09-07T19:31:25.139Z"
   },
   {
    "duration": 14,
    "start_time": "2022-09-07T19:31:25.205Z"
   },
   {
    "duration": 5,
    "start_time": "2022-09-07T19:31:25.221Z"
   },
   {
    "duration": 10,
    "start_time": "2022-09-07T19:31:25.228Z"
   },
   {
    "duration": 7,
    "start_time": "2022-09-07T19:31:38.585Z"
   },
   {
    "duration": 1271,
    "start_time": "2022-09-08T10:04:45.608Z"
   },
   {
    "duration": 0,
    "start_time": "2022-09-08T10:04:46.881Z"
   },
   {
    "duration": 0,
    "start_time": "2022-09-08T10:04:46.883Z"
   },
   {
    "duration": 0,
    "start_time": "2022-09-08T10:04:46.885Z"
   },
   {
    "duration": 0,
    "start_time": "2022-09-08T10:04:46.891Z"
   },
   {
    "duration": 3085,
    "start_time": "2022-09-08T10:06:13.169Z"
   },
   {
    "duration": 1559,
    "start_time": "2022-09-08T10:06:16.256Z"
   },
   {
    "duration": 197,
    "start_time": "2022-09-08T10:06:17.817Z"
   },
   {
    "duration": 13,
    "start_time": "2022-09-08T10:06:18.016Z"
   },
   {
    "duration": 6,
    "start_time": "2022-09-08T10:06:18.031Z"
   },
   {
    "duration": 8,
    "start_time": "2022-09-08T10:06:18.039Z"
   },
   {
    "duration": 1264,
    "start_time": "2022-09-08T10:06:54.949Z"
   },
   {
    "duration": 24,
    "start_time": "2022-09-08T10:08:15.887Z"
   },
   {
    "duration": 13,
    "start_time": "2022-09-08T10:10:10.078Z"
   },
   {
    "duration": 6,
    "start_time": "2022-09-08T10:13:07.812Z"
   },
   {
    "duration": 22,
    "start_time": "2022-09-08T10:13:33.743Z"
   },
   {
    "duration": 6,
    "start_time": "2022-09-08T10:16:54.331Z"
   },
   {
    "duration": 5,
    "start_time": "2022-09-08T10:17:27.711Z"
   },
   {
    "duration": 21,
    "start_time": "2022-09-08T10:18:06.307Z"
   },
   {
    "duration": 9,
    "start_time": "2022-09-08T11:07:20.991Z"
   },
   {
    "duration": 10,
    "start_time": "2022-09-08T11:07:35.202Z"
   },
   {
    "duration": 1086,
    "start_time": "2022-09-08T11:08:10.017Z"
   },
   {
    "duration": 2290,
    "start_time": "2022-09-08T11:08:25.953Z"
   },
   {
    "duration": 1592,
    "start_time": "2022-09-08T11:08:28.246Z"
   },
   {
    "duration": 61,
    "start_time": "2022-09-08T11:08:29.839Z"
   },
   {
    "duration": 13,
    "start_time": "2022-09-08T11:08:29.901Z"
   },
   {
    "duration": 5,
    "start_time": "2022-09-08T11:08:29.917Z"
   },
   {
    "duration": 8,
    "start_time": "2022-09-08T11:08:29.923Z"
   },
   {
    "duration": 1176,
    "start_time": "2022-09-08T11:08:29.933Z"
   },
   {
    "duration": 17,
    "start_time": "2022-09-08T11:08:31.111Z"
   },
   {
    "duration": 33,
    "start_time": "2022-09-08T11:08:31.130Z"
   },
   {
    "duration": 39,
    "start_time": "2022-09-08T11:08:31.165Z"
   },
   {
    "duration": 19,
    "start_time": "2022-09-08T11:08:31.205Z"
   },
   {
    "duration": 36,
    "start_time": "2022-09-08T11:08:31.226Z"
   },
   {
    "duration": 4,
    "start_time": "2022-09-08T11:09:21.698Z"
   },
   {
    "duration": 984,
    "start_time": "2022-09-08T11:09:42.824Z"
   },
   {
    "duration": 8,
    "start_time": "2022-09-08T11:14:43.615Z"
   },
   {
    "duration": 15,
    "start_time": "2022-09-08T11:19:21.365Z"
   },
   {
    "duration": 7,
    "start_time": "2022-09-08T11:19:59.741Z"
   },
   {
    "duration": 5,
    "start_time": "2022-09-08T11:20:14.342Z"
   },
   {
    "duration": 5,
    "start_time": "2022-09-08T11:20:22.463Z"
   },
   {
    "duration": 6,
    "start_time": "2022-09-08T11:23:39.259Z"
   },
   {
    "duration": 127,
    "start_time": "2022-09-08T11:31:35.491Z"
   },
   {
    "duration": 45,
    "start_time": "2022-09-08T11:34:58.149Z"
   },
   {
    "duration": 888,
    "start_time": "2022-09-08T11:55:00.576Z"
   },
   {
    "duration": 902,
    "start_time": "2022-09-08T11:55:04.950Z"
   },
   {
    "duration": 1523,
    "start_time": "2022-09-08T11:55:35.597Z"
   },
   {
    "duration": 1238,
    "start_time": "2022-09-08T11:56:53.018Z"
   },
   {
    "duration": 1203,
    "start_time": "2022-09-08T11:58:59.112Z"
   },
   {
    "duration": 6,
    "start_time": "2022-09-08T12:02:31.258Z"
   },
   {
    "duration": 7,
    "start_time": "2022-09-08T12:07:00.457Z"
   },
   {
    "duration": 1147,
    "start_time": "2022-09-08T12:10:46.249Z"
   },
   {
    "duration": 2400,
    "start_time": "2022-09-08T12:11:34.500Z"
   },
   {
    "duration": 1780,
    "start_time": "2022-09-08T12:11:36.903Z"
   },
   {
    "duration": 61,
    "start_time": "2022-09-08T12:11:38.685Z"
   },
   {
    "duration": 14,
    "start_time": "2022-09-08T12:11:38.749Z"
   },
   {
    "duration": 5,
    "start_time": "2022-09-08T12:11:38.765Z"
   },
   {
    "duration": 9,
    "start_time": "2022-09-08T12:11:38.772Z"
   },
   {
    "duration": 1041,
    "start_time": "2022-09-08T12:11:38.782Z"
   },
   {
    "duration": 19,
    "start_time": "2022-09-08T12:11:39.825Z"
   },
   {
    "duration": 6,
    "start_time": "2022-09-08T12:11:39.846Z"
   },
   {
    "duration": 11,
    "start_time": "2022-09-08T12:11:39.855Z"
   },
   {
    "duration": 1221,
    "start_time": "2022-09-08T12:11:39.892Z"
   },
   {
    "duration": 12,
    "start_time": "2022-09-08T12:11:41.115Z"
   },
   {
    "duration": 9,
    "start_time": "2022-09-08T12:11:41.129Z"
   },
   {
    "duration": 8,
    "start_time": "2022-09-08T12:11:41.140Z"
   },
   {
    "duration": 6,
    "start_time": "2022-09-08T12:11:41.150Z"
   },
   {
    "duration": 79,
    "start_time": "2022-09-08T12:11:41.157Z"
   },
   {
    "duration": 1134,
    "start_time": "2022-09-08T12:11:41.243Z"
   },
   {
    "duration": 13,
    "start_time": "2022-09-08T12:11:42.379Z"
   },
   {
    "duration": 7,
    "start_time": "2022-09-08T12:21:32.621Z"
   },
   {
    "duration": 1746,
    "start_time": "2022-09-08T12:21:45.725Z"
   },
   {
    "duration": 26,
    "start_time": "2022-09-08T12:22:17.171Z"
   },
   {
    "duration": 13,
    "start_time": "2022-09-08T12:22:49.318Z"
   },
   {
    "duration": 8,
    "start_time": "2022-09-08T12:23:09.499Z"
   },
   {
    "duration": 232,
    "start_time": "2022-09-08T12:24:23.078Z"
   },
   {
    "duration": 6,
    "start_time": "2022-09-08T12:24:28.465Z"
   },
   {
    "duration": 5,
    "start_time": "2022-09-08T12:36:34.264Z"
   },
   {
    "duration": 7,
    "start_time": "2022-09-08T12:42:01.363Z"
   },
   {
    "duration": 6,
    "start_time": "2022-09-08T12:42:11.520Z"
   },
   {
    "duration": 12,
    "start_time": "2022-09-08T12:44:59.088Z"
   },
   {
    "duration": 11,
    "start_time": "2022-09-08T12:47:16.565Z"
   },
   {
    "duration": 6,
    "start_time": "2022-09-08T12:47:32.108Z"
   },
   {
    "duration": 2183,
    "start_time": "2022-09-08T12:47:37.869Z"
   },
   {
    "duration": 1443,
    "start_time": "2022-09-08T12:47:40.055Z"
   },
   {
    "duration": 62,
    "start_time": "2022-09-08T12:47:41.500Z"
   },
   {
    "duration": 12,
    "start_time": "2022-09-08T12:47:41.564Z"
   },
   {
    "duration": 5,
    "start_time": "2022-09-08T12:47:41.578Z"
   },
   {
    "duration": 9,
    "start_time": "2022-09-08T12:47:41.585Z"
   },
   {
    "duration": 1216,
    "start_time": "2022-09-08T12:47:41.596Z"
   },
   {
    "duration": 17,
    "start_time": "2022-09-08T12:47:42.814Z"
   },
   {
    "duration": 8,
    "start_time": "2022-09-08T12:47:42.832Z"
   },
   {
    "duration": 14,
    "start_time": "2022-09-08T12:47:42.843Z"
   },
   {
    "duration": 1062,
    "start_time": "2022-09-08T12:47:42.859Z"
   },
   {
    "duration": 78,
    "start_time": "2022-09-08T12:47:43.923Z"
   },
   {
    "duration": 8,
    "start_time": "2022-09-08T12:47:44.003Z"
   },
   {
    "duration": 8,
    "start_time": "2022-09-08T12:47:44.013Z"
   },
   {
    "duration": 8,
    "start_time": "2022-09-08T12:47:44.023Z"
   },
   {
    "duration": 68,
    "start_time": "2022-09-08T12:47:44.032Z"
   },
   {
    "duration": 1068,
    "start_time": "2022-09-08T12:47:44.102Z"
   },
   {
    "duration": 7,
    "start_time": "2022-09-08T12:47:45.171Z"
   },
   {
    "duration": 16,
    "start_time": "2022-09-08T12:47:45.180Z"
   },
   {
    "duration": 18,
    "start_time": "2022-09-08T12:47:45.198Z"
   },
   {
    "duration": 145,
    "start_time": "2022-09-08T12:47:45.218Z"
   },
   {
    "duration": 6,
    "start_time": "2022-09-08T12:48:50.053Z"
   },
   {
    "duration": 26,
    "start_time": "2022-09-08T12:49:16.809Z"
   },
   {
    "duration": 15,
    "start_time": "2022-09-08T12:49:40.307Z"
   },
   {
    "duration": 6,
    "start_time": "2022-09-08T12:50:46.459Z"
   },
   {
    "duration": 12,
    "start_time": "2022-09-08T12:51:00.822Z"
   },
   {
    "duration": 5,
    "start_time": "2022-09-08T12:57:06.530Z"
   },
   {
    "duration": 2359,
    "start_time": "2022-09-08T12:59:01.641Z"
   },
   {
    "duration": 1507,
    "start_time": "2022-09-08T12:59:04.002Z"
   },
   {
    "duration": 62,
    "start_time": "2022-09-08T12:59:05.511Z"
   },
   {
    "duration": 13,
    "start_time": "2022-09-08T12:59:05.575Z"
   },
   {
    "duration": 5,
    "start_time": "2022-09-08T12:59:05.590Z"
   },
   {
    "duration": 25,
    "start_time": "2022-09-08T12:59:05.597Z"
   },
   {
    "duration": 994,
    "start_time": "2022-09-08T12:59:05.624Z"
   },
   {
    "duration": 18,
    "start_time": "2022-09-08T12:59:06.619Z"
   },
   {
    "duration": 34,
    "start_time": "2022-09-08T12:59:06.638Z"
   },
   {
    "duration": 24,
    "start_time": "2022-09-08T12:59:06.674Z"
   },
   {
    "duration": 1001,
    "start_time": "2022-09-08T12:59:06.699Z"
   },
   {
    "duration": 11,
    "start_time": "2022-09-08T12:59:07.702Z"
   },
   {
    "duration": 35,
    "start_time": "2022-09-08T12:59:07.714Z"
   },
   {
    "duration": 18,
    "start_time": "2022-09-08T12:59:07.751Z"
   },
   {
    "duration": 37,
    "start_time": "2022-09-08T12:59:07.771Z"
   },
   {
    "duration": 129,
    "start_time": "2022-09-08T12:59:07.810Z"
   },
   {
    "duration": 1054,
    "start_time": "2022-09-08T12:59:07.940Z"
   },
   {
    "duration": 7,
    "start_time": "2022-09-08T12:59:08.996Z"
   },
   {
    "duration": 19,
    "start_time": "2022-09-08T12:59:09.004Z"
   },
   {
    "duration": 26,
    "start_time": "2022-09-08T12:59:09.025Z"
   },
   {
    "duration": 7,
    "start_time": "2022-09-08T12:59:09.053Z"
   },
   {
    "duration": 112,
    "start_time": "2022-09-08T13:05:32.272Z"
   },
   {
    "duration": 9,
    "start_time": "2022-09-08T13:06:04.033Z"
   },
   {
    "duration": 16,
    "start_time": "2022-09-08T13:20:41.298Z"
   },
   {
    "duration": 2331,
    "start_time": "2022-09-08T13:23:34.896Z"
   },
   {
    "duration": 1479,
    "start_time": "2022-09-08T13:23:37.229Z"
   },
   {
    "duration": 63,
    "start_time": "2022-09-08T13:23:38.710Z"
   },
   {
    "duration": 14,
    "start_time": "2022-09-08T13:23:38.776Z"
   },
   {
    "duration": 7,
    "start_time": "2022-09-08T13:23:38.792Z"
   },
   {
    "duration": 13,
    "start_time": "2022-09-08T13:23:38.801Z"
   },
   {
    "duration": 1104,
    "start_time": "2022-09-08T13:23:38.816Z"
   },
   {
    "duration": 17,
    "start_time": "2022-09-08T13:23:39.922Z"
   },
   {
    "duration": 5,
    "start_time": "2022-09-08T13:23:39.941Z"
   },
   {
    "duration": 14,
    "start_time": "2022-09-08T13:23:39.948Z"
   },
   {
    "duration": 1061,
    "start_time": "2022-09-08T13:23:39.964Z"
   },
   {
    "duration": 12,
    "start_time": "2022-09-08T13:23:41.092Z"
   },
   {
    "duration": 8,
    "start_time": "2022-09-08T13:23:41.106Z"
   },
   {
    "duration": 6,
    "start_time": "2022-09-08T13:23:41.116Z"
   },
   {
    "duration": 7,
    "start_time": "2022-09-08T13:23:41.124Z"
   },
   {
    "duration": 150,
    "start_time": "2022-09-08T13:23:41.132Z"
   },
   {
    "duration": 1172,
    "start_time": "2022-09-08T13:23:41.284Z"
   },
   {
    "duration": 7,
    "start_time": "2022-09-08T13:23:42.457Z"
   },
   {
    "duration": 18,
    "start_time": "2022-09-08T13:23:42.466Z"
   },
   {
    "duration": 21,
    "start_time": "2022-09-08T13:23:42.485Z"
   },
   {
    "duration": 6,
    "start_time": "2022-09-08T13:23:42.508Z"
   },
   {
    "duration": 16,
    "start_time": "2022-09-08T13:23:42.515Z"
   },
   {
    "duration": 25,
    "start_time": "2022-09-08T13:23:42.533Z"
   },
   {
    "duration": 32,
    "start_time": "2022-09-08T13:42:27.485Z"
   },
   {
    "duration": 48,
    "start_time": "2022-09-08T13:42:45.701Z"
   },
   {
    "duration": 32,
    "start_time": "2022-09-08T13:43:14.040Z"
   },
   {
    "duration": 8,
    "start_time": "2022-09-08T13:55:29.990Z"
   },
   {
    "duration": 138,
    "start_time": "2022-09-08T13:55:42.846Z"
   },
   {
    "duration": 8,
    "start_time": "2022-09-08T13:56:08.973Z"
   },
   {
    "duration": 122,
    "start_time": "2022-09-08T13:56:34.306Z"
   },
   {
    "duration": 13,
    "start_time": "2022-09-08T13:56:43.254Z"
   },
   {
    "duration": 142,
    "start_time": "2022-09-08T13:56:51.469Z"
   },
   {
    "duration": 133,
    "start_time": "2022-09-08T13:57:06.178Z"
   },
   {
    "duration": 13,
    "start_time": "2022-09-08T13:57:22.729Z"
   },
   {
    "duration": 12,
    "start_time": "2022-09-08T13:58:04.378Z"
   },
   {
    "duration": 8,
    "start_time": "2022-09-08T13:58:25.615Z"
   },
   {
    "duration": 148,
    "start_time": "2022-09-08T13:59:35.678Z"
   },
   {
    "duration": 147,
    "start_time": "2022-09-08T13:59:59.274Z"
   },
   {
    "duration": 115,
    "start_time": "2022-09-08T14:02:06.353Z"
   },
   {
    "duration": 215,
    "start_time": "2022-09-08T14:02:32.045Z"
   },
   {
    "duration": 96,
    "start_time": "2022-09-08T14:02:36.280Z"
   },
   {
    "duration": 121,
    "start_time": "2022-09-08T14:02:45.191Z"
   },
   {
    "duration": 107,
    "start_time": "2022-09-08T14:03:06.939Z"
   },
   {
    "duration": 33,
    "start_time": "2022-09-08T14:19:19.334Z"
   },
   {
    "duration": 6,
    "start_time": "2022-09-08T14:20:47.080Z"
   },
   {
    "duration": 2873,
    "start_time": "2022-09-08T14:22:44.104Z"
   },
   {
    "duration": 2467,
    "start_time": "2022-09-08T14:22:46.979Z"
   },
   {
    "duration": 68,
    "start_time": "2022-09-08T14:22:49.448Z"
   },
   {
    "duration": 12,
    "start_time": "2022-09-08T14:22:49.519Z"
   },
   {
    "duration": 5,
    "start_time": "2022-09-08T14:22:49.533Z"
   },
   {
    "duration": 10,
    "start_time": "2022-09-08T14:22:49.540Z"
   },
   {
    "duration": 1160,
    "start_time": "2022-09-08T14:22:49.552Z"
   },
   {
    "duration": 27,
    "start_time": "2022-09-08T14:22:50.713Z"
   },
   {
    "duration": 5,
    "start_time": "2022-09-08T14:22:50.742Z"
   },
   {
    "duration": 15,
    "start_time": "2022-09-08T14:22:50.750Z"
   },
   {
    "duration": 1165,
    "start_time": "2022-09-08T14:22:50.766Z"
   },
   {
    "duration": 14,
    "start_time": "2022-09-08T14:22:51.932Z"
   },
   {
    "duration": 12,
    "start_time": "2022-09-08T14:22:51.948Z"
   },
   {
    "duration": 31,
    "start_time": "2022-09-08T14:22:51.962Z"
   },
   {
    "duration": 22,
    "start_time": "2022-09-08T14:22:51.995Z"
   },
   {
    "duration": 145,
    "start_time": "2022-09-08T14:22:52.019Z"
   },
   {
    "duration": 1115,
    "start_time": "2022-09-08T14:22:52.166Z"
   },
   {
    "duration": 13,
    "start_time": "2022-09-08T14:22:53.282Z"
   },
   {
    "duration": 25,
    "start_time": "2022-09-08T14:22:53.297Z"
   },
   {
    "duration": 30,
    "start_time": "2022-09-08T14:22:53.324Z"
   },
   {
    "duration": 11,
    "start_time": "2022-09-08T14:22:53.355Z"
   },
   {
    "duration": 33,
    "start_time": "2022-09-08T14:22:53.368Z"
   },
   {
    "duration": 43,
    "start_time": "2022-09-08T14:22:53.403Z"
   },
   {
    "duration": 118,
    "start_time": "2022-09-08T14:22:53.448Z"
   },
   {
    "duration": 5,
    "start_time": "2022-09-08T14:22:53.567Z"
   },
   {
    "duration": 125,
    "start_time": "2022-09-08T14:22:53.574Z"
   },
   {
    "duration": 45,
    "start_time": "2022-09-08T20:01:59.193Z"
   },
   {
    "duration": 2986,
    "start_time": "2022-09-08T20:02:05.607Z"
   },
   {
    "duration": 1485,
    "start_time": "2022-09-08T20:02:08.596Z"
   },
   {
    "duration": 185,
    "start_time": "2022-09-08T20:02:10.082Z"
   },
   {
    "duration": 13,
    "start_time": "2022-09-08T20:02:10.269Z"
   },
   {
    "duration": 10,
    "start_time": "2022-09-08T20:02:10.283Z"
   },
   {
    "duration": 9,
    "start_time": "2022-09-08T20:02:10.295Z"
   },
   {
    "duration": 981,
    "start_time": "2022-09-08T20:02:10.306Z"
   },
   {
    "duration": 16,
    "start_time": "2022-09-08T20:02:11.355Z"
   },
   {
    "duration": 4,
    "start_time": "2022-09-08T20:02:11.373Z"
   },
   {
    "duration": 12,
    "start_time": "2022-09-08T20:02:11.379Z"
   },
   {
    "duration": 994,
    "start_time": "2022-09-08T20:02:11.393Z"
   },
   {
    "duration": 9,
    "start_time": "2022-09-08T20:02:12.389Z"
   },
   {
    "duration": 8,
    "start_time": "2022-09-08T20:02:12.400Z"
   },
   {
    "duration": 4,
    "start_time": "2022-09-08T20:02:12.409Z"
   },
   {
    "duration": 10,
    "start_time": "2022-09-08T20:02:12.415Z"
   },
   {
    "duration": 65,
    "start_time": "2022-09-08T20:02:12.427Z"
   },
   {
    "duration": 954,
    "start_time": "2022-09-08T20:02:12.494Z"
   },
   {
    "duration": 8,
    "start_time": "2022-09-08T20:02:13.450Z"
   },
   {
    "duration": 8,
    "start_time": "2022-09-08T20:02:13.460Z"
   },
   {
    "duration": 14,
    "start_time": "2022-09-08T20:02:13.469Z"
   },
   {
    "duration": 5,
    "start_time": "2022-09-08T20:02:13.484Z"
   },
   {
    "duration": 14,
    "start_time": "2022-09-08T20:02:13.490Z"
   },
   {
    "duration": 61,
    "start_time": "2022-09-08T20:02:13.505Z"
   },
   {
    "duration": 101,
    "start_time": "2022-09-08T20:02:13.567Z"
   },
   {
    "duration": 289,
    "start_time": "2022-09-08T20:02:13.669Z"
   },
   {
    "duration": 29,
    "start_time": "2022-09-08T20:02:55.904Z"
   },
   {
    "duration": 107,
    "start_time": "2022-09-08T20:05:23.349Z"
   },
   {
    "duration": 27,
    "start_time": "2022-09-08T20:07:09.299Z"
   },
   {
    "duration": 89,
    "start_time": "2022-09-08T20:08:31.374Z"
   },
   {
    "duration": 87,
    "start_time": "2022-09-08T20:10:38.074Z"
   },
   {
    "duration": 168,
    "start_time": "2022-09-08T20:11:19.891Z"
   },
   {
    "duration": 131,
    "start_time": "2022-09-08T20:11:27.439Z"
   },
   {
    "duration": 27,
    "start_time": "2022-09-08T20:11:41.213Z"
   },
   {
    "duration": 84,
    "start_time": "2022-09-08T20:11:48.475Z"
   },
   {
    "duration": 115,
    "start_time": "2022-09-08T20:11:59.343Z"
   },
   {
    "duration": 82,
    "start_time": "2022-09-08T20:12:04.886Z"
   },
   {
    "duration": 231,
    "start_time": "2022-09-08T20:12:38.639Z"
   },
   {
    "duration": 71,
    "start_time": "2022-09-08T20:12:44.287Z"
   },
   {
    "duration": 133,
    "start_time": "2022-09-08T20:12:55.339Z"
   },
   {
    "duration": 173987,
    "start_time": "2022-09-08T20:15:18.641Z"
   },
   {
    "duration": 133,
    "start_time": "2022-09-08T20:33:33.987Z"
   },
   {
    "duration": 189009,
    "start_time": "2022-09-08T20:33:44.616Z"
   },
   {
    "duration": 182502,
    "start_time": "2022-09-08T20:38:35.313Z"
   },
   {
    "duration": 175731,
    "start_time": "2022-09-08T20:47:14.298Z"
   },
   {
    "duration": 172710,
    "start_time": "2022-09-08T21:05:34.846Z"
   },
   {
    "duration": 1735,
    "start_time": "2022-09-08T21:19:54.991Z"
   },
   {
    "duration": 1343,
    "start_time": "2022-09-08T21:19:56.729Z"
   },
   {
    "duration": 55,
    "start_time": "2022-09-08T21:19:58.074Z"
   },
   {
    "duration": 11,
    "start_time": "2022-09-08T21:19:58.130Z"
   },
   {
    "duration": 4,
    "start_time": "2022-09-08T21:19:58.143Z"
   },
   {
    "duration": 8,
    "start_time": "2022-09-08T21:19:58.148Z"
   },
   {
    "duration": 821,
    "start_time": "2022-09-08T21:19:58.157Z"
   },
   {
    "duration": 85,
    "start_time": "2022-09-08T21:19:58.980Z"
   },
   {
    "duration": 8,
    "start_time": "2022-09-08T21:19:59.067Z"
   },
   {
    "duration": 8,
    "start_time": "2022-09-08T21:19:59.078Z"
   },
   {
    "duration": 874,
    "start_time": "2022-09-08T21:19:59.087Z"
   },
   {
    "duration": 11,
    "start_time": "2022-09-08T21:19:59.963Z"
   },
   {
    "duration": 8,
    "start_time": "2022-09-08T21:19:59.975Z"
   },
   {
    "duration": 8,
    "start_time": "2022-09-08T21:19:59.985Z"
   },
   {
    "duration": 5,
    "start_time": "2022-09-08T21:19:59.995Z"
   },
   {
    "duration": 138,
    "start_time": "2022-09-08T21:20:00.002Z"
   },
   {
    "duration": 874,
    "start_time": "2022-09-08T21:20:00.142Z"
   },
   {
    "duration": 6,
    "start_time": "2022-09-08T21:20:01.018Z"
   },
   {
    "duration": 11,
    "start_time": "2022-09-08T21:20:01.025Z"
   },
   {
    "duration": 20,
    "start_time": "2022-09-08T21:20:01.037Z"
   },
   {
    "duration": 15,
    "start_time": "2022-09-08T21:20:01.059Z"
   },
   {
    "duration": 16,
    "start_time": "2022-09-08T21:20:01.075Z"
   },
   {
    "duration": 29,
    "start_time": "2022-09-08T21:20:01.093Z"
   },
   {
    "duration": 95,
    "start_time": "2022-09-08T21:20:01.123Z"
   },
   {
    "duration": 137,
    "start_time": "2022-09-08T21:20:01.219Z"
   },
   {
    "duration": 172277,
    "start_time": "2022-09-08T21:20:01.358Z"
   },
   {
    "duration": 173363,
    "start_time": "2022-09-08T21:23:38.656Z"
   },
   {
    "duration": 2719,
    "start_time": "2022-09-09T05:08:27.411Z"
   },
   {
    "duration": 1682,
    "start_time": "2022-09-09T05:08:30.133Z"
   },
   {
    "duration": 102,
    "start_time": "2022-09-09T05:08:31.816Z"
   },
   {
    "duration": 12,
    "start_time": "2022-09-09T05:08:31.920Z"
   },
   {
    "duration": 4,
    "start_time": "2022-09-09T05:08:31.935Z"
   },
   {
    "duration": 14,
    "start_time": "2022-09-09T05:08:31.940Z"
   },
   {
    "duration": 1090,
    "start_time": "2022-09-09T05:08:31.955Z"
   },
   {
    "duration": 18,
    "start_time": "2022-09-09T05:08:33.046Z"
   },
   {
    "duration": 5,
    "start_time": "2022-09-09T05:08:33.065Z"
   },
   {
    "duration": 12,
    "start_time": "2022-09-09T05:08:33.071Z"
   },
   {
    "duration": 1051,
    "start_time": "2022-09-09T05:08:33.084Z"
   },
   {
    "duration": 12,
    "start_time": "2022-09-09T05:08:34.137Z"
   },
   {
    "duration": 9,
    "start_time": "2022-09-09T05:08:34.150Z"
   },
   {
    "duration": 6,
    "start_time": "2022-09-09T05:08:34.162Z"
   },
   {
    "duration": 13,
    "start_time": "2022-09-09T05:08:34.170Z"
   },
   {
    "duration": 76,
    "start_time": "2022-09-09T05:08:34.185Z"
   },
   {
    "duration": 1034,
    "start_time": "2022-09-09T05:08:34.263Z"
   },
   {
    "duration": 7,
    "start_time": "2022-09-09T05:08:35.299Z"
   },
   {
    "duration": 16,
    "start_time": "2022-09-09T05:08:35.307Z"
   },
   {
    "duration": 12,
    "start_time": "2022-09-09T05:08:35.325Z"
   },
   {
    "duration": 5,
    "start_time": "2022-09-09T05:08:35.339Z"
   },
   {
    "duration": 16,
    "start_time": "2022-09-09T05:08:35.345Z"
   },
   {
    "duration": 72,
    "start_time": "2022-09-09T05:08:35.363Z"
   },
   {
    "duration": 113,
    "start_time": "2022-09-09T05:08:35.437Z"
   },
   {
    "duration": 171,
    "start_time": "2022-09-09T05:08:35.551Z"
   },
   {
    "duration": 205750,
    "start_time": "2022-09-09T05:08:35.724Z"
   },
   {
    "duration": 145,
    "start_time": "2022-09-09T05:13:20.271Z"
   },
   {
    "duration": 146,
    "start_time": "2022-09-09T05:13:29.732Z"
   },
   {
    "duration": 243,
    "start_time": "2022-09-09T05:13:54.484Z"
   },
   {
    "duration": 159,
    "start_time": "2022-09-09T05:14:06.612Z"
   },
   {
    "duration": 153,
    "start_time": "2022-09-09T05:14:54.378Z"
   },
   {
    "duration": 164,
    "start_time": "2022-09-09T05:15:06.875Z"
   },
   {
    "duration": 168,
    "start_time": "2022-09-09T05:15:54.588Z"
   },
   {
    "duration": 155,
    "start_time": "2022-09-09T05:16:55.532Z"
   },
   {
    "duration": 173,
    "start_time": "2022-09-09T05:17:02.461Z"
   },
   {
    "duration": 276,
    "start_time": "2022-09-09T05:17:09.903Z"
   },
   {
    "duration": 223,
    "start_time": "2022-09-09T05:17:22.808Z"
   },
   {
    "duration": 173,
    "start_time": "2022-09-09T05:17:29.264Z"
   },
   {
    "duration": 170,
    "start_time": "2022-09-09T05:18:32.929Z"
   },
   {
    "duration": 174,
    "start_time": "2022-09-09T05:19:06.926Z"
   },
   {
    "duration": 2344,
    "start_time": "2022-09-09T05:49:13.409Z"
   },
   {
    "duration": 1454,
    "start_time": "2022-09-09T05:49:15.756Z"
   },
   {
    "duration": 64,
    "start_time": "2022-09-09T05:49:17.212Z"
   },
   {
    "duration": 13,
    "start_time": "2022-09-09T05:49:17.280Z"
   },
   {
    "duration": 5,
    "start_time": "2022-09-09T05:49:17.295Z"
   },
   {
    "duration": 9,
    "start_time": "2022-09-09T05:49:17.301Z"
   },
   {
    "duration": 1031,
    "start_time": "2022-09-09T05:49:17.311Z"
   },
   {
    "duration": 18,
    "start_time": "2022-09-09T05:49:18.344Z"
   },
   {
    "duration": 4,
    "start_time": "2022-09-09T05:49:18.363Z"
   },
   {
    "duration": 12,
    "start_time": "2022-09-09T05:49:18.370Z"
   },
   {
    "duration": 1163,
    "start_time": "2022-09-09T05:49:18.383Z"
   },
   {
    "duration": 11,
    "start_time": "2022-09-09T05:49:19.548Z"
   },
   {
    "duration": 12,
    "start_time": "2022-09-09T05:49:19.561Z"
   },
   {
    "duration": 7,
    "start_time": "2022-09-09T05:49:19.575Z"
   },
   {
    "duration": 8,
    "start_time": "2022-09-09T05:49:19.583Z"
   },
   {
    "duration": 141,
    "start_time": "2022-09-09T05:49:19.593Z"
   },
   {
    "duration": 1106,
    "start_time": "2022-09-09T05:49:19.736Z"
   },
   {
    "duration": 8,
    "start_time": "2022-09-09T05:49:20.843Z"
   },
   {
    "duration": 15,
    "start_time": "2022-09-09T05:49:20.852Z"
   },
   {
    "duration": 17,
    "start_time": "2022-09-09T05:49:20.869Z"
   },
   {
    "duration": 7,
    "start_time": "2022-09-09T05:49:20.888Z"
   },
   {
    "duration": 42,
    "start_time": "2022-09-09T05:49:20.896Z"
   },
   {
    "duration": 45,
    "start_time": "2022-09-09T05:49:20.940Z"
   },
   {
    "duration": 139,
    "start_time": "2022-09-09T05:49:20.987Z"
   },
   {
    "duration": 99,
    "start_time": "2022-09-09T05:49:21.128Z"
   },
   {
    "duration": 207958,
    "start_time": "2022-09-09T05:49:21.229Z"
   },
   {
    "duration": 163,
    "start_time": "2022-09-09T05:52:49.188Z"
   },
   {
    "duration": 2098,
    "start_time": "2022-09-09T05:53:34.254Z"
   },
   {
    "duration": 1522,
    "start_time": "2022-09-09T05:53:36.354Z"
   },
   {
    "duration": 59,
    "start_time": "2022-09-09T05:53:37.878Z"
   },
   {
    "duration": 14,
    "start_time": "2022-09-09T05:53:37.939Z"
   },
   {
    "duration": 5,
    "start_time": "2022-09-09T05:53:37.955Z"
   },
   {
    "duration": 14,
    "start_time": "2022-09-09T05:53:37.962Z"
   },
   {
    "duration": 1071,
    "start_time": "2022-09-09T05:53:37.978Z"
   },
   {
    "duration": 25,
    "start_time": "2022-09-09T05:53:39.051Z"
   },
   {
    "duration": 6,
    "start_time": "2022-09-09T05:53:39.077Z"
   },
   {
    "duration": 39,
    "start_time": "2022-09-09T05:53:39.087Z"
   },
   {
    "duration": 1019,
    "start_time": "2022-09-09T05:53:39.128Z"
   },
   {
    "duration": 10,
    "start_time": "2022-09-09T05:53:40.149Z"
   },
   {
    "duration": 9,
    "start_time": "2022-09-09T05:53:40.161Z"
   },
   {
    "duration": 15,
    "start_time": "2022-09-09T05:53:40.171Z"
   },
   {
    "duration": 11,
    "start_time": "2022-09-09T05:53:40.188Z"
   },
   {
    "duration": 148,
    "start_time": "2022-09-09T05:53:40.201Z"
   },
   {
    "duration": 1061,
    "start_time": "2022-09-09T05:53:40.351Z"
   },
   {
    "duration": 9,
    "start_time": "2022-09-09T05:53:41.419Z"
   },
   {
    "duration": 10,
    "start_time": "2022-09-09T05:53:41.430Z"
   },
   {
    "duration": 16,
    "start_time": "2022-09-09T05:53:41.441Z"
   },
   {
    "duration": 6,
    "start_time": "2022-09-09T05:53:41.459Z"
   },
   {
    "duration": 16,
    "start_time": "2022-09-09T05:53:41.467Z"
   },
   {
    "duration": 61,
    "start_time": "2022-09-09T05:53:41.485Z"
   },
   {
    "duration": 114,
    "start_time": "2022-09-09T05:53:41.548Z"
   },
   {
    "duration": 258,
    "start_time": "2022-09-09T05:53:41.663Z"
   },
   {
    "duration": 208388,
    "start_time": "2022-09-09T05:53:41.924Z"
   },
   {
    "duration": 190,
    "start_time": "2022-09-09T05:57:10.314Z"
   },
   {
    "duration": 115,
    "start_time": "2022-09-09T06:07:45.145Z"
   },
   {
    "duration": 114,
    "start_time": "2022-09-09T06:08:56.431Z"
   },
   {
    "duration": 113,
    "start_time": "2022-09-09T06:09:07.895Z"
   },
   {
    "duration": 144,
    "start_time": "2022-09-09T06:09:30.281Z"
   },
   {
    "duration": 172,
    "start_time": "2022-09-09T06:24:51.461Z"
   },
   {
    "duration": 155,
    "start_time": "2022-09-09T06:38:19.083Z"
   },
   {
    "duration": 191,
    "start_time": "2022-09-09T06:39:07.940Z"
   },
   {
    "duration": 48,
    "start_time": "2022-09-09T06:39:10.575Z"
   },
   {
    "duration": 141,
    "start_time": "2022-09-09T06:41:37.689Z"
   },
   {
    "duration": 80,
    "start_time": "2022-09-09T06:46:15.857Z"
   },
   {
    "duration": 222646,
    "start_time": "2022-09-09T06:46:48.763Z"
   },
   {
    "duration": 225882,
    "start_time": "2022-09-09T06:51:10.799Z"
   },
   {
    "duration": 2286,
    "start_time": "2022-09-09T07:18:11.452Z"
   },
   {
    "duration": 1552,
    "start_time": "2022-09-09T07:18:13.740Z"
   },
   {
    "duration": 64,
    "start_time": "2022-09-09T07:18:15.294Z"
   },
   {
    "duration": 13,
    "start_time": "2022-09-09T07:18:15.361Z"
   },
   {
    "duration": 11,
    "start_time": "2022-09-09T07:18:15.375Z"
   },
   {
    "duration": 18,
    "start_time": "2022-09-09T07:18:15.388Z"
   },
   {
    "duration": 1145,
    "start_time": "2022-09-09T07:18:15.408Z"
   },
   {
    "duration": 18,
    "start_time": "2022-09-09T07:18:16.555Z"
   },
   {
    "duration": 11,
    "start_time": "2022-09-09T07:18:16.575Z"
   },
   {
    "duration": 38,
    "start_time": "2022-09-09T07:18:16.590Z"
   },
   {
    "duration": 1114,
    "start_time": "2022-09-09T07:18:16.635Z"
   },
   {
    "duration": 16,
    "start_time": "2022-09-09T07:18:17.750Z"
   },
   {
    "duration": 8,
    "start_time": "2022-09-09T07:18:17.768Z"
   },
   {
    "duration": 11,
    "start_time": "2022-09-09T07:18:17.778Z"
   },
   {
    "duration": 10,
    "start_time": "2022-09-09T07:18:17.790Z"
   },
   {
    "duration": 152,
    "start_time": "2022-09-09T07:18:17.829Z"
   },
   {
    "duration": 2677,
    "start_time": "2022-09-09T07:18:17.984Z"
   },
   {
    "duration": 8,
    "start_time": "2022-09-09T07:18:20.663Z"
   },
   {
    "duration": 31,
    "start_time": "2022-09-09T07:18:20.672Z"
   },
   {
    "duration": 47,
    "start_time": "2022-09-09T07:18:20.705Z"
   },
   {
    "duration": 18,
    "start_time": "2022-09-09T07:18:20.754Z"
   },
   {
    "duration": 21,
    "start_time": "2022-09-09T07:18:20.774Z"
   },
   {
    "duration": 44,
    "start_time": "2022-09-09T07:18:20.797Z"
   },
   {
    "duration": 135,
    "start_time": "2022-09-09T07:18:20.843Z"
   },
   {
    "duration": 244,
    "start_time": "2022-09-09T07:18:20.980Z"
   },
   {
    "duration": 193255,
    "start_time": "2022-09-09T07:18:21.227Z"
   },
   {
    "duration": 196,
    "start_time": "2022-09-09T07:21:34.483Z"
   },
   {
    "duration": 146,
    "start_time": "2022-09-09T07:21:34.682Z"
   },
   {
    "duration": 193632,
    "start_time": "2022-09-09T07:21:34.833Z"
   },
   {
    "duration": 4,
    "start_time": "2022-09-09T07:45:48.135Z"
   },
   {
    "duration": 142,
    "start_time": "2022-09-09T07:45:53.401Z"
   },
   {
    "duration": 21,
    "start_time": "2022-09-09T07:46:02.638Z"
   },
   {
    "duration": 17,
    "start_time": "2022-09-09T07:46:24.789Z"
   },
   {
    "duration": 18,
    "start_time": "2022-09-09T07:46:35.085Z"
   },
   {
    "duration": 18,
    "start_time": "2022-09-09T07:46:57.264Z"
   },
   {
    "duration": 19,
    "start_time": "2022-09-09T07:47:03.237Z"
   },
   {
    "duration": 19,
    "start_time": "2022-09-09T07:47:26.835Z"
   },
   {
    "duration": 24,
    "start_time": "2022-09-09T07:48:28.118Z"
   },
   {
    "duration": 5,
    "start_time": "2022-09-09T07:48:59.659Z"
   },
   {
    "duration": 136,
    "start_time": "2022-09-09T07:49:02.116Z"
   },
   {
    "duration": 134,
    "start_time": "2022-09-09T07:49:22.409Z"
   },
   {
    "duration": 177,
    "start_time": "2022-09-09T07:53:34.751Z"
   },
   {
    "duration": 165,
    "start_time": "2022-09-09T07:53:52.767Z"
   },
   {
    "duration": 210,
    "start_time": "2022-09-09T07:54:30.823Z"
   },
   {
    "duration": 254869,
    "start_time": "2022-09-09T08:01:38.006Z"
   },
   {
    "duration": 122,
    "start_time": "2022-09-09T08:14:53.116Z"
   },
   {
    "duration": 130,
    "start_time": "2022-09-09T08:18:47.433Z"
   },
   {
    "duration": 4,
    "start_time": "2022-09-09T08:29:40.636Z"
   },
   {
    "duration": 130,
    "start_time": "2022-09-09T08:31:07.319Z"
   },
   {
    "duration": 130,
    "start_time": "2022-09-09T08:31:41.587Z"
   },
   {
    "duration": 131,
    "start_time": "2022-09-09T08:32:19.256Z"
   },
   {
    "duration": 120,
    "start_time": "2022-09-09T08:32:25.869Z"
   },
   {
    "duration": 135,
    "start_time": "2022-09-09T08:32:31.766Z"
   },
   {
    "duration": 132,
    "start_time": "2022-09-09T08:32:36.381Z"
   },
   {
    "duration": 126,
    "start_time": "2022-09-09T08:32:42.089Z"
   },
   {
    "duration": 125,
    "start_time": "2022-09-09T08:32:51.166Z"
   },
   {
    "duration": 149,
    "start_time": "2022-09-09T08:32:56.213Z"
   },
   {
    "duration": 142,
    "start_time": "2022-09-09T08:33:34.298Z"
   },
   {
    "duration": 133,
    "start_time": "2022-09-09T08:33:43.182Z"
   },
   {
    "duration": 202,
    "start_time": "2022-09-09T08:37:33.036Z"
   },
   {
    "duration": 120570,
    "start_time": "2022-09-09T08:41:50.568Z"
   },
   {
    "duration": 11,
    "start_time": "2022-09-09T08:49:39.768Z"
   },
   {
    "duration": 18,
    "start_time": "2022-09-09T08:49:45.023Z"
   },
   {
    "duration": 6,
    "start_time": "2022-09-09T08:51:24.238Z"
   },
   {
    "duration": 171,
    "start_time": "2022-09-09T08:51:31.223Z"
   },
   {
    "duration": 11,
    "start_time": "2022-09-09T08:51:55.061Z"
   },
   {
    "duration": 159,
    "start_time": "2022-09-09T08:52:01.838Z"
   },
   {
    "duration": 156,
    "start_time": "2022-09-09T08:52:23.648Z"
   },
   {
    "duration": 18,
    "start_time": "2022-09-09T08:52:46.485Z"
   },
   {
    "duration": 119466,
    "start_time": "2022-09-09T08:53:05.639Z"
   },
   {
    "duration": 2269,
    "start_time": "2022-09-09T08:55:55.696Z"
   },
   {
    "duration": 1517,
    "start_time": "2022-09-09T08:55:57.967Z"
   },
   {
    "duration": 63,
    "start_time": "2022-09-09T08:55:59.485Z"
   },
   {
    "duration": 14,
    "start_time": "2022-09-09T08:55:59.550Z"
   },
   {
    "duration": 6,
    "start_time": "2022-09-09T08:55:59.566Z"
   },
   {
    "duration": 12,
    "start_time": "2022-09-09T08:55:59.574Z"
   },
   {
    "duration": 1077,
    "start_time": "2022-09-09T08:55:59.587Z"
   },
   {
    "duration": 58,
    "start_time": "2022-09-09T08:56:00.666Z"
   },
   {
    "duration": 8,
    "start_time": "2022-09-09T08:56:00.727Z"
   },
   {
    "duration": 26,
    "start_time": "2022-09-09T08:56:00.740Z"
   },
   {
    "duration": 1086,
    "start_time": "2022-09-09T08:56:00.768Z"
   },
   {
    "duration": 11,
    "start_time": "2022-09-09T08:56:01.856Z"
   },
   {
    "duration": 35,
    "start_time": "2022-09-09T08:56:01.869Z"
   },
   {
    "duration": 50,
    "start_time": "2022-09-09T08:56:01.906Z"
   },
   {
    "duration": 55,
    "start_time": "2022-09-09T08:56:01.958Z"
   },
   {
    "duration": 194,
    "start_time": "2022-09-09T08:56:02.015Z"
   },
   {
    "duration": 1144,
    "start_time": "2022-09-09T08:56:02.211Z"
   },
   {
    "duration": 7,
    "start_time": "2022-09-09T08:56:03.357Z"
   },
   {
    "duration": 33,
    "start_time": "2022-09-09T08:56:03.365Z"
   },
   {
    "duration": 78,
    "start_time": "2022-09-09T08:56:03.400Z"
   },
   {
    "duration": 18,
    "start_time": "2022-09-09T08:56:03.481Z"
   },
   {
    "duration": 32,
    "start_time": "2022-09-09T08:56:03.501Z"
   },
   {
    "duration": 38,
    "start_time": "2022-09-09T08:56:03.539Z"
   },
   {
    "duration": 125,
    "start_time": "2022-09-09T08:56:03.579Z"
   },
   {
    "duration": 133,
    "start_time": "2022-09-09T08:56:03.706Z"
   },
   {
    "duration": 192808,
    "start_time": "2022-09-09T08:56:03.840Z"
   },
   {
    "duration": 199,
    "start_time": "2022-09-09T08:59:16.650Z"
   },
   {
    "duration": 85,
    "start_time": "2022-09-09T08:59:16.853Z"
   },
   {
    "duration": 193368,
    "start_time": "2022-09-09T08:59:16.940Z"
   },
   {
    "duration": 11,
    "start_time": "2022-09-09T09:02:30.310Z"
   },
   {
    "duration": 131,
    "start_time": "2022-09-09T09:02:30.330Z"
   },
   {
    "duration": 158,
    "start_time": "2022-09-09T09:02:30.463Z"
   },
   {
    "duration": 256774,
    "start_time": "2022-09-09T09:02:30.624Z"
   },
   {
    "duration": 139,
    "start_time": "2022-09-09T09:06:47.399Z"
   },
   {
    "duration": 5,
    "start_time": "2022-09-09T09:06:47.539Z"
   },
   {
    "duration": 139,
    "start_time": "2022-09-09T09:06:47.545Z"
   },
   {
    "duration": 135,
    "start_time": "2022-09-09T09:06:47.686Z"
   },
   {
    "duration": 115524,
    "start_time": "2022-09-09T09:06:47.823Z"
   },
   {
    "duration": 4,
    "start_time": "2022-09-09T09:08:43.349Z"
   },
   {
    "duration": 168,
    "start_time": "2022-09-09T09:08:43.354Z"
   },
   {
    "duration": 146,
    "start_time": "2022-09-09T09:09:55.333Z"
   },
   {
    "duration": 125,
    "start_time": "2022-09-09T09:33:54.218Z"
   },
   {
    "duration": 126,
    "start_time": "2022-09-09T09:34:06.769Z"
   },
   {
    "duration": 141,
    "start_time": "2022-09-09T09:34:18.296Z"
   },
   {
    "duration": 136,
    "start_time": "2022-09-09T09:34:41.335Z"
   },
   {
    "duration": 132,
    "start_time": "2022-09-09T09:34:47.501Z"
   },
   {
    "duration": 125,
    "start_time": "2022-09-09T09:35:27.360Z"
   },
   {
    "duration": 146,
    "start_time": "2022-09-09T09:35:53.251Z"
   },
   {
    "duration": 154,
    "start_time": "2022-09-09T09:36:04.624Z"
   },
   {
    "duration": 162,
    "start_time": "2022-09-09T09:36:42.731Z"
   },
   {
    "duration": 206,
    "start_time": "2022-09-09T09:37:03.894Z"
   },
   {
    "duration": 122,
    "start_time": "2022-09-09T09:37:19.313Z"
   },
   {
    "duration": 123,
    "start_time": "2022-09-09T09:37:50.795Z"
   },
   {
    "duration": 153,
    "start_time": "2022-09-09T09:38:27.591Z"
   },
   {
    "duration": 209,
    "start_time": "2022-09-09T09:38:38.909Z"
   },
   {
    "duration": 1241,
    "start_time": "2022-09-09T09:38:58.156Z"
   },
   {
    "duration": 165,
    "start_time": "2022-09-09T09:39:04.120Z"
   },
   {
    "duration": 159,
    "start_time": "2022-09-09T09:39:32.038Z"
   },
   {
    "duration": 163,
    "start_time": "2022-09-09T09:40:04.467Z"
   },
   {
    "duration": 976,
    "start_time": "2022-09-09T09:41:26.203Z"
   },
   {
    "duration": 169,
    "start_time": "2022-09-09T09:41:45.930Z"
   },
   {
    "duration": 198,
    "start_time": "2022-09-09T09:43:46.000Z"
   },
   {
    "duration": 128,
    "start_time": "2022-09-09T09:44:17.561Z"
   },
   {
    "duration": 182,
    "start_time": "2022-09-09T09:44:32.318Z"
   },
   {
    "duration": 174,
    "start_time": "2022-09-09T09:45:09.240Z"
   },
   {
    "duration": 292,
    "start_time": "2022-09-09T09:46:52.458Z"
   },
   {
    "duration": 173,
    "start_time": "2022-09-09T09:47:01.054Z"
   },
   {
    "duration": 124,
    "start_time": "2022-09-09T09:47:25.833Z"
   },
   {
    "duration": 177,
    "start_time": "2022-09-09T09:47:41.352Z"
   },
   {
    "duration": 160,
    "start_time": "2022-09-09T09:49:30.311Z"
   },
   {
    "duration": 175,
    "start_time": "2022-09-09T09:49:39.949Z"
   },
   {
    "duration": 281,
    "start_time": "2022-09-09T09:50:16.619Z"
   },
   {
    "duration": 174,
    "start_time": "2022-09-09T09:52:03.928Z"
   },
   {
    "duration": 197,
    "start_time": "2022-09-09T09:52:16.003Z"
   },
   {
    "duration": 186,
    "start_time": "2022-09-09T09:52:24.623Z"
   },
   {
    "duration": 184,
    "start_time": "2022-09-09T09:52:32.128Z"
   },
   {
    "duration": 180,
    "start_time": "2022-09-09T09:52:41.878Z"
   },
   {
    "duration": 174,
    "start_time": "2022-09-09T09:52:52.078Z"
   },
   {
    "duration": 13,
    "start_time": "2022-09-09T11:14:19.406Z"
   },
   {
    "duration": 13,
    "start_time": "2022-09-09T11:29:37.962Z"
   },
   {
    "duration": 24,
    "start_time": "2022-09-09T11:37:01.810Z"
   },
   {
    "duration": 336,
    "start_time": "2022-09-09T11:37:56.764Z"
   },
   {
    "duration": 337,
    "start_time": "2022-09-09T11:38:07.976Z"
   },
   {
    "duration": 351,
    "start_time": "2022-09-09T11:39:00.559Z"
   },
   {
    "duration": 144,
    "start_time": "2022-09-09T11:42:02.415Z"
   },
   {
    "duration": 253,
    "start_time": "2022-09-09T11:42:18.216Z"
   },
   {
    "duration": 86,
    "start_time": "2022-09-09T11:44:02.310Z"
   },
   {
    "duration": 436,
    "start_time": "2022-09-09T11:54:48.147Z"
   },
   {
    "duration": 15,
    "start_time": "2022-09-09T11:57:22.284Z"
   },
   {
    "duration": 426,
    "start_time": "2022-09-09T11:57:24.295Z"
   },
   {
    "duration": 10,
    "start_time": "2022-09-09T11:58:04.614Z"
   },
   {
    "duration": 4,
    "start_time": "2022-09-09T11:58:18.309Z"
   },
   {
    "duration": 5,
    "start_time": "2022-09-09T11:58:35.646Z"
   },
   {
    "duration": 4,
    "start_time": "2022-09-09T11:58:54.758Z"
   },
   {
    "duration": 438,
    "start_time": "2022-09-09T11:59:16.343Z"
   },
   {
    "duration": 425,
    "start_time": "2022-09-09T12:13:20.758Z"
   },
   {
    "duration": 460,
    "start_time": "2022-09-09T12:14:09.644Z"
   },
   {
    "duration": 17,
    "start_time": "2022-09-09T12:23:14.967Z"
   },
   {
    "duration": 449,
    "start_time": "2022-09-09T12:23:19.161Z"
   },
   {
    "duration": 10,
    "start_time": "2022-09-09T12:49:25.437Z"
   },
   {
    "duration": 13,
    "start_time": "2022-09-09T12:53:59.747Z"
   },
   {
    "duration": 13,
    "start_time": "2022-09-09T12:54:05.180Z"
   },
   {
    "duration": 2193,
    "start_time": "2022-09-09T12:56:19.012Z"
   },
   {
    "duration": 1547,
    "start_time": "2022-09-09T12:56:21.207Z"
   },
   {
    "duration": 62,
    "start_time": "2022-09-09T12:56:22.755Z"
   },
   {
    "duration": 13,
    "start_time": "2022-09-09T12:56:22.819Z"
   },
   {
    "duration": 5,
    "start_time": "2022-09-09T12:56:22.834Z"
   },
   {
    "duration": 11,
    "start_time": "2022-09-09T12:56:22.841Z"
   },
   {
    "duration": 1189,
    "start_time": "2022-09-09T12:56:22.853Z"
   },
   {
    "duration": 18,
    "start_time": "2022-09-09T12:56:24.044Z"
   },
   {
    "duration": 6,
    "start_time": "2022-09-09T12:56:24.064Z"
   },
   {
    "duration": 15,
    "start_time": "2022-09-09T12:56:24.074Z"
   },
   {
    "duration": 1056,
    "start_time": "2022-09-09T12:56:24.092Z"
   },
   {
    "duration": 11,
    "start_time": "2022-09-09T12:56:25.150Z"
   },
   {
    "duration": 15,
    "start_time": "2022-09-09T12:56:25.163Z"
   },
   {
    "duration": 11,
    "start_time": "2022-09-09T12:56:25.180Z"
   },
   {
    "duration": 7,
    "start_time": "2022-09-09T12:56:25.193Z"
   },
   {
    "duration": 147,
    "start_time": "2022-09-09T12:56:25.221Z"
   },
   {
    "duration": 1104,
    "start_time": "2022-09-09T12:56:25.370Z"
   },
   {
    "duration": 9,
    "start_time": "2022-09-09T12:56:26.476Z"
   },
   {
    "duration": 17,
    "start_time": "2022-09-09T12:56:26.487Z"
   },
   {
    "duration": 27,
    "start_time": "2022-09-09T12:56:26.506Z"
   },
   {
    "duration": 12,
    "start_time": "2022-09-09T12:56:26.535Z"
   },
   {
    "duration": 25,
    "start_time": "2022-09-09T12:56:26.549Z"
   },
   {
    "duration": 56,
    "start_time": "2022-09-09T12:56:26.575Z"
   },
   {
    "duration": 134,
    "start_time": "2022-09-09T12:56:26.634Z"
   },
   {
    "duration": 151,
    "start_time": "2022-09-09T12:56:26.770Z"
   },
   {
    "duration": 181938,
    "start_time": "2022-09-09T12:56:26.924Z"
   },
   {
    "duration": 256,
    "start_time": "2022-09-09T12:59:28.864Z"
   },
   {
    "duration": 101,
    "start_time": "2022-09-09T12:59:29.124Z"
   },
   {
    "duration": 182516,
    "start_time": "2022-09-09T12:59:29.228Z"
   },
   {
    "duration": 3,
    "start_time": "2022-09-09T13:02:31.746Z"
   },
   {
    "duration": 170,
    "start_time": "2022-09-09T13:02:31.751Z"
   },
   {
    "duration": 199,
    "start_time": "2022-09-09T13:02:31.923Z"
   },
   {
    "duration": 243157,
    "start_time": "2022-09-09T13:02:32.123Z"
   },
   {
    "duration": 135,
    "start_time": "2022-09-09T13:06:35.282Z"
   },
   {
    "duration": 6,
    "start_time": "2022-09-09T13:06:35.418Z"
   },
   {
    "duration": 163,
    "start_time": "2022-09-09T13:06:35.426Z"
   },
   {
    "duration": 138,
    "start_time": "2022-09-09T13:06:35.591Z"
   },
   {
    "duration": 113341,
    "start_time": "2022-09-09T13:06:35.734Z"
   },
   {
    "duration": 15,
    "start_time": "2022-09-09T13:08:29.078Z"
   },
   {
    "duration": 244,
    "start_time": "2022-09-09T13:08:29.096Z"
   },
   {
    "duration": 14,
    "start_time": "2022-09-09T13:08:29.342Z"
   },
   {
    "duration": 360,
    "start_time": "2022-09-09T13:08:29.357Z"
   },
   {
    "duration": 16,
    "start_time": "2022-09-09T13:08:29.719Z"
   },
   {
    "duration": 16,
    "start_time": "2022-09-09T13:08:29.737Z"
   },
   {
    "duration": 336,
    "start_time": "2022-09-09T13:17:27.562Z"
   },
   {
    "duration": 349,
    "start_time": "2022-09-09T13:17:47.824Z"
   },
   {
    "duration": 9,
    "start_time": "2022-09-09T13:18:01.908Z"
   },
   {
    "duration": 2178,
    "start_time": "2022-09-09T13:19:13.873Z"
   },
   {
    "duration": 1516,
    "start_time": "2022-09-09T13:19:16.054Z"
   },
   {
    "duration": 64,
    "start_time": "2022-09-09T13:19:17.572Z"
   },
   {
    "duration": 15,
    "start_time": "2022-09-09T13:19:17.638Z"
   },
   {
    "duration": 7,
    "start_time": "2022-09-09T13:19:17.656Z"
   },
   {
    "duration": 9,
    "start_time": "2022-09-09T13:19:17.665Z"
   },
   {
    "duration": 1173,
    "start_time": "2022-09-09T13:19:17.676Z"
   },
   {
    "duration": 22,
    "start_time": "2022-09-09T13:19:18.856Z"
   },
   {
    "duration": 23,
    "start_time": "2022-09-09T13:19:18.879Z"
   },
   {
    "duration": 13,
    "start_time": "2022-09-09T13:19:18.903Z"
   },
   {
    "duration": 1216,
    "start_time": "2022-09-09T13:19:18.918Z"
   },
   {
    "duration": 11,
    "start_time": "2022-09-09T13:19:20.136Z"
   },
   {
    "duration": 13,
    "start_time": "2022-09-09T13:19:20.149Z"
   },
   {
    "duration": 8,
    "start_time": "2022-09-09T13:19:20.165Z"
   },
   {
    "duration": 26,
    "start_time": "2022-09-09T13:19:20.174Z"
   },
   {
    "duration": 137,
    "start_time": "2022-09-09T13:19:20.202Z"
   },
   {
    "duration": 1102,
    "start_time": "2022-09-09T13:19:20.341Z"
   },
   {
    "duration": 8,
    "start_time": "2022-09-09T13:19:21.444Z"
   },
   {
    "duration": 17,
    "start_time": "2022-09-09T13:19:21.453Z"
   },
   {
    "duration": 20,
    "start_time": "2022-09-09T13:19:21.472Z"
   },
   {
    "duration": 5,
    "start_time": "2022-09-09T13:19:21.494Z"
   },
   {
    "duration": 33,
    "start_time": "2022-09-09T13:19:21.502Z"
   },
   {
    "duration": 43,
    "start_time": "2022-09-09T13:19:21.537Z"
   },
   {
    "duration": 130,
    "start_time": "2022-09-09T13:19:21.582Z"
   },
   {
    "duration": 119,
    "start_time": "2022-09-09T13:19:21.713Z"
   },
   {
    "duration": 187159,
    "start_time": "2022-09-09T13:19:21.837Z"
   },
   {
    "duration": 232,
    "start_time": "2022-09-09T13:22:28.998Z"
   },
   {
    "duration": 190,
    "start_time": "2022-09-09T13:22:29.232Z"
   },
   {
    "duration": 185653,
    "start_time": "2022-09-09T13:22:29.424Z"
   },
   {
    "duration": 5,
    "start_time": "2022-09-09T13:25:35.079Z"
   },
   {
    "duration": 137,
    "start_time": "2022-09-09T13:25:35.086Z"
   },
   {
    "duration": 105,
    "start_time": "2022-09-09T13:25:35.225Z"
   },
   {
    "duration": 247306,
    "start_time": "2022-09-09T13:25:35.333Z"
   },
   {
    "duration": 152,
    "start_time": "2022-09-09T13:29:42.641Z"
   },
   {
    "duration": 6,
    "start_time": "2022-09-09T13:29:42.795Z"
   },
   {
    "duration": 161,
    "start_time": "2022-09-09T13:29:42.803Z"
   },
   {
    "duration": 173,
    "start_time": "2022-09-09T13:29:42.966Z"
   },
   {
    "duration": 114402,
    "start_time": "2022-09-09T13:29:43.142Z"
   },
   {
    "duration": 12,
    "start_time": "2022-09-09T13:31:37.547Z"
   },
   {
    "duration": 215,
    "start_time": "2022-09-09T13:31:37.561Z"
   },
   {
    "duration": 3,
    "start_time": "2022-09-09T13:31:37.780Z"
   },
   {
    "duration": 339,
    "start_time": "2022-09-09T13:31:37.784Z"
   },
   {
    "duration": 11,
    "start_time": "2022-09-09T13:31:38.124Z"
   },
   {
    "duration": 17,
    "start_time": "2022-09-09T13:31:38.137Z"
   },
   {
    "duration": 11,
    "start_time": "2022-09-09T13:31:38.156Z"
   },
   {
    "duration": 695,
    "start_time": "2022-09-09T13:32:04.884Z"
   },
   {
    "duration": 20,
    "start_time": "2022-09-09T13:33:29.991Z"
   },
   {
    "duration": 329,
    "start_time": "2022-09-09T13:33:32.129Z"
   },
   {
    "duration": 852,
    "start_time": "2022-09-09T13:33:36.295Z"
   },
   {
    "duration": 11,
    "start_time": "2022-09-09T13:43:23.219Z"
   },
   {
    "duration": 212,
    "start_time": "2022-09-09T13:44:59.991Z"
   },
   {
    "duration": 219,
    "start_time": "2022-09-09T13:45:16.777Z"
   },
   {
    "duration": 220,
    "start_time": "2022-09-09T13:45:44.812Z"
   },
   {
    "duration": 259,
    "start_time": "2022-09-09T13:46:49.049Z"
   },
   {
    "duration": 2153,
    "start_time": "2022-09-09T13:47:55.015Z"
   },
   {
    "duration": 1349,
    "start_time": "2022-09-09T13:47:57.171Z"
   },
   {
    "duration": 61,
    "start_time": "2022-09-09T13:47:58.523Z"
   },
   {
    "duration": 13,
    "start_time": "2022-09-09T13:47:58.586Z"
   },
   {
    "duration": 30,
    "start_time": "2022-09-09T13:47:58.601Z"
   },
   {
    "duration": 26,
    "start_time": "2022-09-09T13:47:58.633Z"
   },
   {
    "duration": 1092,
    "start_time": "2022-09-09T13:47:58.660Z"
   },
   {
    "duration": 17,
    "start_time": "2022-09-09T13:47:59.754Z"
   },
   {
    "duration": 28,
    "start_time": "2022-09-09T13:47:59.772Z"
   },
   {
    "duration": 30,
    "start_time": "2022-09-09T13:47:59.803Z"
   },
   {
    "duration": 1012,
    "start_time": "2022-09-09T13:47:59.835Z"
   },
   {
    "duration": 12,
    "start_time": "2022-09-09T13:48:00.849Z"
   },
   {
    "duration": 20,
    "start_time": "2022-09-09T13:48:00.863Z"
   },
   {
    "duration": 24,
    "start_time": "2022-09-09T13:48:00.884Z"
   },
   {
    "duration": 22,
    "start_time": "2022-09-09T13:48:00.910Z"
   },
   {
    "duration": 151,
    "start_time": "2022-09-09T13:48:00.934Z"
   },
   {
    "duration": 1085,
    "start_time": "2022-09-09T13:48:01.087Z"
   },
   {
    "duration": 8,
    "start_time": "2022-09-09T13:48:02.174Z"
   },
   {
    "duration": 32,
    "start_time": "2022-09-09T13:48:02.184Z"
   },
   {
    "duration": 17,
    "start_time": "2022-09-09T13:48:02.218Z"
   },
   {
    "duration": 10,
    "start_time": "2022-09-09T13:48:02.237Z"
   },
   {
    "duration": 21,
    "start_time": "2022-09-09T13:48:02.249Z"
   },
   {
    "duration": 56,
    "start_time": "2022-09-09T13:48:02.272Z"
   },
   {
    "duration": 125,
    "start_time": "2022-09-09T13:48:02.330Z"
   },
   {
    "duration": 164,
    "start_time": "2022-09-09T13:48:02.458Z"
   },
   {
    "duration": 191114,
    "start_time": "2022-09-09T13:48:02.624Z"
   },
   {
    "duration": 202,
    "start_time": "2022-09-09T13:51:13.740Z"
   },
   {
    "duration": 91,
    "start_time": "2022-09-09T13:51:13.945Z"
   },
   {
    "duration": 194004,
    "start_time": "2022-09-09T13:51:14.038Z"
   },
   {
    "duration": 4,
    "start_time": "2022-09-09T13:54:28.045Z"
   },
   {
    "duration": 141,
    "start_time": "2022-09-09T13:54:28.051Z"
   },
   {
    "duration": 143,
    "start_time": "2022-09-09T13:54:28.195Z"
   },
   {
    "duration": 262952,
    "start_time": "2022-09-09T13:54:28.339Z"
   },
   {
    "duration": 149,
    "start_time": "2022-09-09T13:58:51.293Z"
   },
   {
    "duration": 5,
    "start_time": "2022-09-09T13:58:51.444Z"
   },
   {
    "duration": 166,
    "start_time": "2022-09-09T13:58:51.453Z"
   },
   {
    "duration": 117,
    "start_time": "2022-09-09T13:58:51.621Z"
   },
   {
    "duration": 118354,
    "start_time": "2022-09-09T13:58:51.740Z"
   },
   {
    "duration": 13,
    "start_time": "2022-09-09T14:00:50.096Z"
   },
   {
    "duration": 211,
    "start_time": "2022-09-09T14:00:50.120Z"
   },
   {
    "duration": 13,
    "start_time": "2022-09-09T14:00:50.338Z"
   },
   {
    "duration": 900,
    "start_time": "2022-09-09T14:00:50.352Z"
   },
   {
    "duration": 11,
    "start_time": "2022-09-09T14:00:51.254Z"
   },
   {
    "duration": 14,
    "start_time": "2022-09-09T14:00:51.267Z"
   },
   {
    "duration": 10,
    "start_time": "2022-09-09T14:00:51.283Z"
   },
   {
    "duration": 2732,
    "start_time": "2022-09-10T19:06:58.971Z"
   },
   {
    "duration": 1587,
    "start_time": "2022-09-10T19:07:04.230Z"
   },
   {
    "duration": 111,
    "start_time": "2022-09-10T19:07:08.188Z"
   },
   {
    "duration": 15,
    "start_time": "2022-09-10T19:07:11.453Z"
   },
   {
    "duration": 4,
    "start_time": "2022-09-10T19:07:15.231Z"
   },
   {
    "duration": 106,
    "start_time": "2022-09-10T19:07:34.814Z"
   },
   {
    "duration": 9,
    "start_time": "2022-09-10T19:07:45.025Z"
   },
   {
    "duration": 10,
    "start_time": "2022-09-10T19:08:31.070Z"
   },
   {
    "duration": 14,
    "start_time": "2022-09-10T19:08:37.688Z"
   },
   {
    "duration": 2134,
    "start_time": "2022-09-10T19:08:44.819Z"
   },
   {
    "duration": 4,
    "start_time": "2022-09-10T19:08:49.309Z"
   },
   {
    "duration": 57,
    "start_time": "2022-09-10T19:08:51.766Z"
   },
   {
    "duration": 12,
    "start_time": "2022-09-10T19:08:54.830Z"
   },
   {
    "duration": 7,
    "start_time": "2022-09-10T19:08:58.561Z"
   },
   {
    "duration": 5,
    "start_time": "2022-09-10T19:09:00.599Z"
   },
   {
    "duration": 2310,
    "start_time": "2022-09-10T19:09:40.591Z"
   },
   {
    "duration": 5,
    "start_time": "2022-09-10T19:09:43.512Z"
   },
   {
    "duration": 59,
    "start_time": "2022-09-10T19:09:45.586Z"
   },
   {
    "duration": 11,
    "start_time": "2022-09-10T19:09:48.372Z"
   },
   {
    "duration": 6,
    "start_time": "2022-09-10T19:09:51.931Z"
   },
   {
    "duration": 1146,
    "start_time": "2022-09-10T19:15:47.705Z"
   },
   {
    "duration": 19,
    "start_time": "2022-09-10T19:15:52.452Z"
   },
   {
    "duration": 5,
    "start_time": "2022-09-10T19:15:57.860Z"
   },
   {
    "duration": 8,
    "start_time": "2022-09-10T19:16:00.181Z"
   },
   {
    "duration": 1234,
    "start_time": "2022-09-10T19:16:03.824Z"
   },
   {
    "duration": 11,
    "start_time": "2022-09-10T19:16:09.656Z"
   },
   {
    "duration": 7,
    "start_time": "2022-09-10T19:16:11.610Z"
   },
   {
    "duration": 7,
    "start_time": "2022-09-10T19:16:15.242Z"
   },
   {
    "duration": 5,
    "start_time": "2022-09-10T19:16:17.776Z"
   },
   {
    "duration": 47,
    "start_time": "2022-09-10T19:16:22.039Z"
   },
   {
    "duration": 14,
    "start_time": "2022-09-10T19:19:07.081Z"
   },
   {
    "duration": 14,
    "start_time": "2022-09-10T19:19:35.939Z"
   },
   {
    "duration": 4,
    "start_time": "2022-09-10T19:19:50.425Z"
   },
   {
    "duration": 9,
    "start_time": "2022-09-10T19:19:59.013Z"
   },
   {
    "duration": 8,
    "start_time": "2022-09-10T19:20:01.564Z"
   },
   {
    "duration": 7,
    "start_time": "2022-09-10T19:20:04.543Z"
   },
   {
    "duration": 4,
    "start_time": "2022-09-10T19:20:06.326Z"
   },
   {
    "duration": 54,
    "start_time": "2022-09-10T19:20:08.414Z"
   },
   {
    "duration": 897,
    "start_time": "2022-09-10T19:20:11.567Z"
   },
   {
    "duration": 7,
    "start_time": "2022-09-10T19:20:16.103Z"
   },
   {
    "duration": 8,
    "start_time": "2022-09-10T19:20:24.737Z"
   },
   {
    "duration": 26,
    "start_time": "2022-09-10T19:20:27.132Z"
   },
   {
    "duration": 6,
    "start_time": "2022-09-10T19:20:37.364Z"
   },
   {
    "duration": 19,
    "start_time": "2022-09-10T19:20:44.397Z"
   },
   {
    "duration": 45,
    "start_time": "2022-09-10T19:20:47.360Z"
   },
   {
    "duration": 110,
    "start_time": "2022-09-10T19:20:53.986Z"
   },
   {
    "duration": 42,
    "start_time": "2022-09-10T19:20:59.905Z"
   },
   {
    "duration": 165244,
    "start_time": "2022-09-10T19:21:08.740Z"
   },
   {
    "duration": 3,
    "start_time": "2022-09-10T19:54:59.655Z"
   },
   {
    "duration": 15,
    "start_time": "2022-09-10T20:04:31.247Z"
   },
   {
    "duration": 4,
    "start_time": "2022-09-10T20:04:36.801Z"
   },
   {
    "duration": 32,
    "start_time": "2022-09-10T20:04:40.610Z"
   },
   {
    "duration": 85,
    "start_time": "2022-09-10T20:05:57.262Z"
   },
   {
    "duration": 5,
    "start_time": "2022-09-10T20:15:04.568Z"
   },
   {
    "duration": 170981,
    "start_time": "2022-09-10T20:15:12.544Z"
   },
   {
    "duration": 197,
    "start_time": "2022-09-10T20:19:04.567Z"
   },
   {
    "duration": 164,
    "start_time": "2022-09-10T20:19:40.476Z"
   },
   {
    "duration": 176767,
    "start_time": "2022-09-10T20:22:39.772Z"
   },
   {
    "duration": 5,
    "start_time": "2022-09-10T20:27:55.735Z"
   },
   {
    "duration": 118,
    "start_time": "2022-09-10T20:27:58.183Z"
   },
   {
    "duration": 88,
    "start_time": "2022-09-10T20:28:32.059Z"
   },
   {
    "duration": 4,
    "start_time": "2022-09-10T20:32:27.971Z"
   },
   {
    "duration": 119,
    "start_time": "2022-09-10T20:32:55.926Z"
   },
   {
    "duration": 2171,
    "start_time": "2022-09-10T20:41:55.100Z"
   },
   {
    "duration": 1454,
    "start_time": "2022-09-10T20:41:57.273Z"
   },
   {
    "duration": 59,
    "start_time": "2022-09-10T20:41:58.729Z"
   },
   {
    "duration": 11,
    "start_time": "2022-09-10T20:41:58.790Z"
   },
   {
    "duration": 7,
    "start_time": "2022-09-10T20:41:58.802Z"
   },
   {
    "duration": 1065,
    "start_time": "2022-09-10T20:41:58.810Z"
   },
   {
    "duration": 15,
    "start_time": "2022-09-10T20:41:59.877Z"
   },
   {
    "duration": 9,
    "start_time": "2022-09-10T20:41:59.893Z"
   },
   {
    "duration": 10,
    "start_time": "2022-09-10T20:41:59.903Z"
   },
   {
    "duration": 1055,
    "start_time": "2022-09-10T20:41:59.915Z"
   },
   {
    "duration": 9,
    "start_time": "2022-09-10T20:42:00.972Z"
   },
   {
    "duration": 7,
    "start_time": "2022-09-10T20:42:00.983Z"
   },
   {
    "duration": 28,
    "start_time": "2022-09-10T20:42:00.992Z"
   },
   {
    "duration": 29,
    "start_time": "2022-09-10T20:42:01.021Z"
   },
   {
    "duration": 153,
    "start_time": "2022-09-10T20:42:01.052Z"
   },
   {
    "duration": 1002,
    "start_time": "2022-09-10T20:42:01.206Z"
   },
   {
    "duration": 6,
    "start_time": "2022-09-10T20:42:02.209Z"
   },
   {
    "duration": 43,
    "start_time": "2022-09-10T20:42:02.217Z"
   },
   {
    "duration": 45,
    "start_time": "2022-09-10T20:42:02.262Z"
   },
   {
    "duration": 49,
    "start_time": "2022-09-10T20:42:02.309Z"
   },
   {
    "duration": 66,
    "start_time": "2022-09-10T20:42:02.359Z"
   },
   {
    "duration": 43,
    "start_time": "2022-09-10T20:42:02.427Z"
   },
   {
    "duration": 119,
    "start_time": "2022-09-10T20:42:02.472Z"
   },
   {
    "duration": 3,
    "start_time": "2022-09-10T20:42:02.593Z"
   },
   {
    "duration": 8,
    "start_time": "2022-09-10T20:42:02.597Z"
   },
   {
    "duration": 154,
    "start_time": "2022-09-10T20:42:02.606Z"
   },
   {
    "duration": 8,
    "start_time": "2022-09-10T20:42:02.839Z"
   },
   {
    "duration": 168623,
    "start_time": "2022-09-10T20:42:02.852Z"
   },
   {
    "duration": 166,
    "start_time": "2022-09-10T20:44:51.477Z"
   },
   {
    "duration": 123,
    "start_time": "2022-09-10T20:44:51.646Z"
   },
   {
    "duration": 0,
    "start_time": "2022-09-10T20:44:51.771Z"
   },
   {
    "duration": 0,
    "start_time": "2022-09-10T20:44:51.772Z"
   },
   {
    "duration": 0,
    "start_time": "2022-09-10T20:44:51.773Z"
   },
   {
    "duration": 0,
    "start_time": "2022-09-10T20:44:51.774Z"
   },
   {
    "duration": 0,
    "start_time": "2022-09-10T20:44:51.776Z"
   },
   {
    "duration": 0,
    "start_time": "2022-09-10T20:44:51.777Z"
   },
   {
    "duration": 0,
    "start_time": "2022-09-10T20:44:51.778Z"
   },
   {
    "duration": 0,
    "start_time": "2022-09-10T20:44:51.779Z"
   },
   {
    "duration": 0,
    "start_time": "2022-09-10T20:44:51.780Z"
   },
   {
    "duration": 0,
    "start_time": "2022-09-10T20:44:51.781Z"
   },
   {
    "duration": 0,
    "start_time": "2022-09-10T20:44:51.782Z"
   },
   {
    "duration": 0,
    "start_time": "2022-09-10T20:44:51.783Z"
   },
   {
    "duration": 0,
    "start_time": "2022-09-10T20:44:51.785Z"
   },
   {
    "duration": 0,
    "start_time": "2022-09-10T20:44:51.786Z"
   },
   {
    "duration": 0,
    "start_time": "2022-09-10T20:44:51.787Z"
   },
   {
    "duration": 0,
    "start_time": "2022-09-10T20:44:51.788Z"
   },
   {
    "duration": 0,
    "start_time": "2022-09-10T20:44:51.789Z"
   },
   {
    "duration": 147,
    "start_time": "2022-09-10T20:46:01.795Z"
   },
   {
    "duration": 169209,
    "start_time": "2022-09-10T20:46:09.969Z"
   },
   {
    "duration": 5,
    "start_time": "2022-09-10T20:49:08.322Z"
   },
   {
    "duration": 108,
    "start_time": "2022-09-10T20:49:10.138Z"
   },
   {
    "duration": 58,
    "start_time": "2022-09-10T20:49:16.293Z"
   },
   {
    "duration": 226581,
    "start_time": "2022-09-10T20:51:21.985Z"
   },
   {
    "duration": 14,
    "start_time": "2022-09-10T20:55:36.231Z"
   },
   {
    "duration": 542,
    "start_time": "2022-09-10T21:01:51.971Z"
   },
   {
    "duration": 670,
    "start_time": "2022-09-10T21:02:31.331Z"
   },
   {
    "duration": 7,
    "start_time": "2022-09-10T21:02:55.730Z"
   },
   {
    "duration": 128,
    "start_time": "2022-09-10T21:03:00.563Z"
   },
   {
    "duration": 289,
    "start_time": "2022-09-10T21:03:04.627Z"
   },
   {
    "duration": 265,
    "start_time": "2022-09-10T21:03:28.166Z"
   },
   {
    "duration": 77,
    "start_time": "2022-09-10T21:04:19.444Z"
   },
   {
    "duration": 62,
    "start_time": "2022-09-10T21:06:38.680Z"
   },
   {
    "duration": 97859,
    "start_time": "2022-09-10T21:08:03.178Z"
   },
   {
    "duration": 12,
    "start_time": "2022-09-10T21:09:58.082Z"
   },
   {
    "duration": 161,
    "start_time": "2022-09-10T21:10:04.014Z"
   },
   {
    "duration": 12,
    "start_time": "2022-09-10T21:10:13.998Z"
   },
   {
    "duration": 783,
    "start_time": "2022-09-10T21:10:26.979Z"
   },
   {
    "duration": 9,
    "start_time": "2022-09-10T21:10:34.284Z"
   },
   {
    "duration": 10,
    "start_time": "2022-09-10T21:10:36.981Z"
   },
   {
    "duration": 7,
    "start_time": "2022-09-10T21:10:39.114Z"
   },
   {
    "duration": 2128,
    "start_time": "2022-09-10T21:15:51.316Z"
   },
   {
    "duration": 1365,
    "start_time": "2022-09-10T21:15:53.448Z"
   },
   {
    "duration": 65,
    "start_time": "2022-09-10T21:15:54.814Z"
   },
   {
    "duration": 11,
    "start_time": "2022-09-10T21:15:54.881Z"
   },
   {
    "duration": 6,
    "start_time": "2022-09-10T21:15:54.894Z"
   },
   {
    "duration": 1055,
    "start_time": "2022-09-10T21:15:54.902Z"
   },
   {
    "duration": 18,
    "start_time": "2022-09-10T21:15:55.959Z"
   },
   {
    "duration": 11,
    "start_time": "2022-09-10T21:15:55.979Z"
   },
   {
    "duration": 15,
    "start_time": "2022-09-10T21:15:55.991Z"
   },
   {
    "duration": 1039,
    "start_time": "2022-09-10T21:15:56.008Z"
   },
   {
    "duration": 15,
    "start_time": "2022-09-10T21:15:57.049Z"
   },
   {
    "duration": 8,
    "start_time": "2022-09-10T21:15:57.065Z"
   },
   {
    "duration": 4,
    "start_time": "2022-09-10T21:15:57.074Z"
   },
   {
    "duration": 7,
    "start_time": "2022-09-10T21:15:57.080Z"
   },
   {
    "duration": 180,
    "start_time": "2022-09-10T21:15:57.089Z"
   },
   {
    "duration": 1021,
    "start_time": "2022-09-10T21:15:57.271Z"
   },
   {
    "duration": 6,
    "start_time": "2022-09-10T21:15:58.294Z"
   },
   {
    "duration": 7,
    "start_time": "2022-09-10T21:15:58.302Z"
   },
   {
    "duration": 27,
    "start_time": "2022-09-10T21:15:58.311Z"
   },
   {
    "duration": 5,
    "start_time": "2022-09-10T21:15:58.339Z"
   },
   {
    "duration": 25,
    "start_time": "2022-09-10T21:15:58.345Z"
   },
   {
    "duration": 33,
    "start_time": "2022-09-10T21:15:58.371Z"
   },
   {
    "duration": 135,
    "start_time": "2022-09-10T21:15:58.405Z"
   },
   {
    "duration": 3,
    "start_time": "2022-09-10T21:15:58.542Z"
   },
   {
    "duration": 28,
    "start_time": "2022-09-10T21:15:58.547Z"
   },
   {
    "duration": 70,
    "start_time": "2022-09-10T21:15:58.576Z"
   },
   {
    "duration": 92,
    "start_time": "2022-09-10T21:15:58.647Z"
   },
   {
    "duration": 158418,
    "start_time": "2022-09-10T21:15:58.743Z"
   },
   {
    "duration": 221,
    "start_time": "2022-09-10T21:18:37.164Z"
   },
   {
    "duration": 158,
    "start_time": "2022-09-10T21:18:37.387Z"
   },
   {
    "duration": 157553,
    "start_time": "2022-09-10T21:18:37.547Z"
   },
   {
    "duration": 3,
    "start_time": "2022-09-10T21:21:15.102Z"
   },
   {
    "duration": 125,
    "start_time": "2022-09-10T21:21:15.107Z"
   },
   {
    "duration": 207,
    "start_time": "2022-09-10T21:21:15.233Z"
   },
   {
    "duration": 210135,
    "start_time": "2022-09-10T21:21:15.441Z"
   },
   {
    "duration": 623,
    "start_time": "2022-09-10T21:24:45.578Z"
   },
   {
    "duration": 3,
    "start_time": "2022-09-10T21:24:46.203Z"
   },
   {
    "duration": 114,
    "start_time": "2022-09-10T21:24:46.207Z"
   },
   {
    "duration": 220,
    "start_time": "2022-09-10T21:24:46.323Z"
   },
   {
    "duration": 95818,
    "start_time": "2022-09-10T21:24:46.546Z"
   },
   {
    "duration": 10,
    "start_time": "2022-09-10T21:26:22.366Z"
   },
   {
    "duration": 165,
    "start_time": "2022-09-10T21:26:22.378Z"
   },
   {
    "duration": 11,
    "start_time": "2022-09-10T21:26:22.544Z"
   },
   {
    "duration": 850,
    "start_time": "2022-09-10T21:26:22.557Z"
   },
   {
    "duration": 10,
    "start_time": "2022-09-10T21:26:23.408Z"
   },
   {
    "duration": 21,
    "start_time": "2022-09-10T21:26:23.420Z"
   },
   {
    "duration": 12,
    "start_time": "2022-09-10T21:26:23.442Z"
   }
  ],
  "kernelspec": {
   "display_name": "Python 3 (ipykernel)",
   "language": "python",
   "name": "python3"
  },
  "language_info": {
   "codemirror_mode": {
    "name": "ipython",
    "version": 3
   },
   "file_extension": ".py",
   "mimetype": "text/x-python",
   "name": "python",
   "nbconvert_exporter": "python",
   "pygments_lexer": "ipython3",
   "version": "3.8.10"
  },
  "toc": {
   "base_numbering": 1,
   "nav_menu": {},
   "number_sections": true,
   "sideBar": true,
   "skip_h1_title": true,
   "title_cell": "Содержание",
   "title_sidebar": "Contents",
   "toc_cell": true,
   "toc_position": {
    "height": "396px",
    "left": "245px",
    "top": "174.125px",
    "width": "170.391px"
   },
   "toc_section_display": true,
   "toc_window_display": true
  }
 },
 "nbformat": 4,
 "nbformat_minor": 2
}
