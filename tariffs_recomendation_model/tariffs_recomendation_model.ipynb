{
 "cells": [
  {
   "cell_type": "markdown",
   "metadata": {},
   "source": [
    "<div class=\"alert alert-info\">\n",
    "<font size=\"5\"><b>Комментарий ревьюера</b></font>\n",
    "\n",
    "Привет Станислав! Меня зовут Марат, и я буду твоим ревьюером. Спешу сообщить что все ключевые этапы в работе выполнены,  с задачей тебе удалось справиться. По поводу обращения - в IT сфере принято общаться на «ты» :) Но, если привычней на «вы», дай знать. Как ревьюера моя задача помочь тебе в развитии, дав хорошие советы. Я внимательно посмотрю твой код, ознакомлюсь с твоими выводами и оставлю комментарии. Где то могу предложить небольшие исправление в коде, но ненавязчиво. Где потребуются уточнения, я оставлю много наводящих вопросов. Они помогут тебя с поиском верного решения.\n",
    "\n",
    "Все мои комментарии размечены по цветам, для лучшего восприятия. \n",
    "    \n",
    "<div class=\"alert alert-success\">Зеленым цветом и словом «Успех» отмечены особо удачные и элегантные решения, которыми ты можешь гордиться. </div>\n",
    "        \n",
    "<div class=\"alert alert-warning\">Желтым и значком словом «Совет», помечены решения у которых есть альтернативные решения, более оптимальные. Ты можешь найти их сразу и доработать проект, или отложить это на потом, для будущих проектах. Проект будет принят и без их доработки. </div>\n",
    "        \n",
    "<div class=\"alert alert-danger\"> Красным цветом и значком словом «Ошибка» помечу твои решения, на которые стоит обратить внимание прежде всего. После их доработки проект будет принят. </div>\n",
    "        \n",
    "Залог успеха - работа сообща, взаимное уважение и работа в диалоге. Поэтому, помечай свои ответные комментарии на мои реплики заметным цветом или курсивом, так мне будет легче их отслеживать. Пожалуйста, не изменяй и не удаляй мои комментарии. Все это поможет выполнить повторную проверку быстрей.\n",
    "\n",
    "</div>"
   ]
  },
  {
   "cell_type": "markdown",
   "metadata": {},
   "source": [
    "<div class=\"alert alert-block alert-info\">\n",
    "<font size=\"4\"><b><em>Комментарий студента:</em></b></font>  \n",
    "<br/>Привет, Марат! Спасибо за ревью моего проекта. Постараюсь отработать все твои комментарии. Для удобства в конце тетради я добавлю <a href='#resume'>резюме</a> всех отработанных комментариев.\n",
    "</div>"
   ]
  },
  {
   "cell_type": "markdown",
   "metadata": {},
   "source": [
    "<div class=\"alert alert-success\">\n",
    "<font size=\"5\"><b>Комментарий ревьюераV2</b></font>\n",
    "\n",
    "Успех:\n",
    "\n",
    "Привет Станислав, спасибо за ссылки )\n",
    "</div>\n"
   ]
  },
  {
   "cell_type": "markdown",
   "metadata": {},
   "source": [
    "# Рекомендация тарифов"
   ]
  },
  {
   "cell_type": "markdown",
   "metadata": {},
   "source": [
    "**Цель исследования**  \n",
    "\n",
    "Оператор мобильной связи «Мегалайн» выяснил: многие клиенты пользуются архивными тарифами. Они хотят построить систему, способную проанализировать поведение клиентов и предложить пользователям новый тариф: «Смарт» или «Ультра».\n",
    "\n",
    "В нашем распоряжении данные о поведении клиентов, которые уже перешли на эти тарифы (из проекта курса «Статистический анализ данных»). Нужно построить модель для задачи классификации, которая выберет подходящий тариф. Предобработка данных не понадобится — мы её уже сделали.\n",
    "\n",
    "Задача: построить модель с максимально большим значением *accuracy*. Чтобы сдать проект успешно, нужно довести долю правильных ответов по крайней мере до 0.75 и проверить *accuracy* на тестовой выборке."
   ]
  },
  {
   "cell_type": "markdown",
   "metadata": {},
   "source": [
    "**Описание данных**  \n",
    "\n",
    "Каждый объект в наборе данных — это информация о поведении одного пользователя за месяц. Известно:  \n",
    "- `сalls` — количество звонков,  \n",
    "- `minutes` — суммарная длительность звонков в минутах,  \n",
    "- `messages` — количество sms-сообщений,  \n",
    "- `mb_used` — израсходованный интернет-трафик в Мб,  \n",
    "- `is_ultra` — каким тарифом пользовался в течение месяца («Ультра» — 1, «Смарт» — 0).  "
   ]
  },
  {
   "cell_type": "markdown",
   "metadata": {},
   "source": [
    "**План работ**  \n",
    "\n",
    "1) Откроем файл с данными и изучим его.  \n",
    "2) Разделим исходные данные на обучающую, валидационную и тестовую выборки.  \n",
    "3) Исследуем качество разных моделей, меняя гиперпараметры. Напишем выводы исследования.  \n",
    "4) Проверим качество модели на тестовой выборке.  \n",
    "5) Дополнительное задание: проверим модели на вменяемость.  "
   ]
  },
  {
   "cell_type": "markdown",
   "metadata": {},
   "source": [
    "<div class=\"alert alert-success\">\n",
    "<font size=\"5\"><b>Комментарий ревьюера</b></font>\n",
    "\n",
    "Успех:\n",
    "\n",
    "\n",
    "Вступление в работу очень важно, так человек, который смотрит твой проект (и на работе в том числе) будет сразу введен в курс дела.\n",
    "\n",
    "\n",
    "\n",
    "\n",
    "\n",
    "</div>"
   ]
  },
  {
   "cell_type": "markdown",
   "metadata": {},
   "source": [
    "## Откройте и изучите файл"
   ]
  },
  {
   "cell_type": "markdown",
   "metadata": {},
   "source": [
    "Загрузим библиотеки, необходимые для выполнения проекта."
   ]
  },
  {
   "cell_type": "code",
   "execution_count": 1,
   "metadata": {
    "scrolled": false
   },
   "outputs": [],
   "source": [
    "import pandas as pd\n",
    "import matplotlib.pyplot as plt\n",
    "from sklearn.model_selection import train_test_split\n",
    "from sklearn.model_selection import GridSearchCV\n",
    "from sklearn.tree import DecisionTreeClassifier\n",
    "from sklearn.tree import plot_tree\n",
    "from sklearn.ensemble import RandomForestClassifier\n",
    "from sklearn.linear_model import LogisticRegression\n",
    "from sklearn.metrics import accuracy_score\n",
    "from sklearn.metrics import confusion_matrix\n",
    "from sklearn.metrics import precision_score\n",
    "from sklearn.metrics import recall_score\n",
    "from sklearn.metrics import f1_score"
   ]
  },
  {
   "cell_type": "markdown",
   "metadata": {},
   "source": [
    "<div class=\"alert alert-success\">\n",
    "<font size=\"5\"><b>Комментарий ревьюера</b></font>\n",
    "\n",
    "Успех:\n",
    "\n",
    "Собираем все импорты в верхней части, чтобы легче было ориентироваться и добавлять новые по необходимости. \n",
    "\n",
    "\n",
    "<div class=\"alert alert-warning\">\n",
    "\n",
    "Совет:     \n",
    "    \n",
    "\n",
    "\n",
    "- кстати есть рекомендации PEP-8 при написании кода, в том числе и для импортов. Если интересно можешь почитать [тут](https://pythonworld.ru/osnovy/pep-8-rukovodstvo-po-napisaniyu-koda-na-python.html) \n"
   ]
  },
  {
   "cell_type": "markdown",
   "metadata": {},
   "source": [
    "Откроем файл с данными и изучим его."
   ]
  },
  {
   "cell_type": "code",
   "execution_count": 2,
   "metadata": {},
   "outputs": [
    {
     "data": {
      "text/html": [
       "<div>\n",
       "<style scoped>\n",
       "    .dataframe tbody tr th:only-of-type {\n",
       "        vertical-align: middle;\n",
       "    }\n",
       "\n",
       "    .dataframe tbody tr th {\n",
       "        vertical-align: top;\n",
       "    }\n",
       "\n",
       "    .dataframe thead th {\n",
       "        text-align: right;\n",
       "    }\n",
       "</style>\n",
       "<table border=\"1\" class=\"dataframe\">\n",
       "  <thead>\n",
       "    <tr style=\"text-align: right;\">\n",
       "      <th></th>\n",
       "      <th>calls</th>\n",
       "      <th>minutes</th>\n",
       "      <th>messages</th>\n",
       "      <th>mb_used</th>\n",
       "      <th>is_ultra</th>\n",
       "    </tr>\n",
       "  </thead>\n",
       "  <tbody>\n",
       "    <tr>\n",
       "      <th>0</th>\n",
       "      <td>40.0</td>\n",
       "      <td>311.90</td>\n",
       "      <td>83.0</td>\n",
       "      <td>19915.42</td>\n",
       "      <td>0</td>\n",
       "    </tr>\n",
       "    <tr>\n",
       "      <th>1</th>\n",
       "      <td>85.0</td>\n",
       "      <td>516.75</td>\n",
       "      <td>56.0</td>\n",
       "      <td>22696.96</td>\n",
       "      <td>0</td>\n",
       "    </tr>\n",
       "    <tr>\n",
       "      <th>2</th>\n",
       "      <td>77.0</td>\n",
       "      <td>467.66</td>\n",
       "      <td>86.0</td>\n",
       "      <td>21060.45</td>\n",
       "      <td>0</td>\n",
       "    </tr>\n",
       "    <tr>\n",
       "      <th>3</th>\n",
       "      <td>106.0</td>\n",
       "      <td>745.53</td>\n",
       "      <td>81.0</td>\n",
       "      <td>8437.39</td>\n",
       "      <td>1</td>\n",
       "    </tr>\n",
       "    <tr>\n",
       "      <th>4</th>\n",
       "      <td>66.0</td>\n",
       "      <td>418.74</td>\n",
       "      <td>1.0</td>\n",
       "      <td>14502.75</td>\n",
       "      <td>0</td>\n",
       "    </tr>\n",
       "  </tbody>\n",
       "</table>\n",
       "</div>"
      ],
      "text/plain": [
       "   calls  minutes  messages   mb_used  is_ultra\n",
       "0   40.0   311.90      83.0  19915.42         0\n",
       "1   85.0   516.75      56.0  22696.96         0\n",
       "2   77.0   467.66      86.0  21060.45         0\n",
       "3  106.0   745.53      81.0   8437.39         1\n",
       "4   66.0   418.74       1.0  14502.75         0"
      ]
     },
     "execution_count": 2,
     "metadata": {},
     "output_type": "execute_result"
    }
   ],
   "source": [
    "df = pd.read_csv('/datasets/users_behavior.csv')\n",
    "df.head(5)"
   ]
  },
  {
   "cell_type": "code",
   "execution_count": 3,
   "metadata": {},
   "outputs": [
    {
     "name": "stdout",
     "output_type": "stream",
     "text": [
      "<class 'pandas.core.frame.DataFrame'>\n",
      "RangeIndex: 3214 entries, 0 to 3213\n",
      "Data columns (total 5 columns):\n",
      " #   Column    Non-Null Count  Dtype  \n",
      "---  ------    --------------  -----  \n",
      " 0   calls     3214 non-null   float64\n",
      " 1   minutes   3214 non-null   float64\n",
      " 2   messages  3214 non-null   float64\n",
      " 3   mb_used   3214 non-null   float64\n",
      " 4   is_ultra  3214 non-null   int64  \n",
      "dtypes: float64(4), int64(1)\n",
      "memory usage: 125.7 KB\n"
     ]
    }
   ],
   "source": [
    "df.info()"
   ]
  },
  {
   "cell_type": "markdown",
   "metadata": {},
   "source": [
    "Столбец `is_ultra` - целевой признак. Все данные на месте. Пропусков в данных нет. Предобработка данных не требуется."
   ]
  },
  {
   "cell_type": "markdown",
   "metadata": {},
   "source": [
    "<div class=\"alert alert-success\">\n",
    "<font size=\"5\"><b>Комментарий ревьюера</b></font>\n",
    "\n",
    "Успех:\n",
    "\n",
    "👍 Данные изучены.\n",
    "\n",
    "\n",
    "\n",
    "<div class=\"alert alert-warning\">\n",
    "\n",
    "\n",
    "\n",
    "Совет: \n",
    "\n",
    "Можно еще отдельно проверить датасет на сбалансированность классов в таргете. Это важная информация при моделировании и помогло бы решить бонусное задание сразу.  Тут можно [почитать](https://dyakonov.org/2021/05/27/imbalance/) зачем мы обращаем внимание на это\n",
    "\n",
    "\n",
    "</div>\n"
   ]
  },
  {
   "cell_type": "markdown",
   "metadata": {},
   "source": [
    "<div class=\"alert alert-block alert-info\">\n",
    "<font size=\"4\"><b><em>Комментарий студента:</em></b></font>  \n",
    "    <p id='c1'>Спасибо. Ниже добавил проверку на сбалансированность классов в таргете.</p>\n",
    "    <a href='#resume'><em>К резюме</em></a>\n",
    "</div>"
   ]
  },
  {
   "cell_type": "markdown",
   "metadata": {},
   "source": [
    "Проверим исходный датасет на сбалансированность классов целевого признака."
   ]
  },
  {
   "cell_type": "code",
   "execution_count": 4,
   "metadata": {},
   "outputs": [
    {
     "data": {
      "text/plain": [
       "0    0.69\n",
       "1    0.31\n",
       "Name: is_ultra, dtype: float64"
      ]
     },
     "execution_count": 4,
     "metadata": {},
     "output_type": "execute_result"
    }
   ],
   "source": [
    "df['is_ultra'].value_counts(normalize=True).round(2)"
   ]
  },
  {
   "cell_type": "markdown",
   "metadata": {},
   "source": [
    "<div class=\"alert alert-success\">\n",
    "<font size=\"5\"><b>Комментарий ревьюераV2</b></font>\n",
    "\n",
    "Успех:\n",
    "\n",
    "👍\n",
    "</div>"
   ]
  },
  {
   "cell_type": "markdown",
   "metadata": {},
   "source": [
    "Доли объектов разных классов различаются."
   ]
  },
  {
   "cell_type": "markdown",
   "metadata": {},
   "source": [
    "## Разбейте данные на выборки"
   ]
  },
  {
   "cell_type": "markdown",
   "metadata": {},
   "source": [
    "Разделим исходные данные на обучающую, валидационную и тестовую выборки в соотношении 60%, 20% и 20% соответсвенно."
   ]
  },
  {
   "cell_type": "code",
   "execution_count": 5,
   "metadata": {},
   "outputs": [],
   "source": [
    "# разделим исходный датасет на обучающую (df_train) и \"другую\" (df_other) выборки в соотношении 60/40\n",
    "df_train, df_other = train_test_split(df, test_size=0.4, random_state=12345, stratify=df['is_ultra'])\n",
    "\n",
    "# разделим \"другую\" (df_other) выборку на валидационную и тестовую в соотношении 50/50\n",
    "df_valid, df_test = train_test_split(df_other, test_size=0.5, random_state=12345, stratify=df_other['is_ultra'])"
   ]
  },
  {
   "cell_type": "markdown",
   "metadata": {},
   "source": [
    "Проверим, корректно ли разделились данные на выборки."
   ]
  },
  {
   "cell_type": "code",
   "execution_count": 6,
   "metadata": {
    "scrolled": false
   },
   "outputs": [
    {
     "data": {
      "text/html": [
       "<div>\n",
       "<style scoped>\n",
       "    .dataframe tbody tr th:only-of-type {\n",
       "        vertical-align: middle;\n",
       "    }\n",
       "\n",
       "    .dataframe tbody tr th {\n",
       "        vertical-align: top;\n",
       "    }\n",
       "\n",
       "    .dataframe thead th {\n",
       "        text-align: right;\n",
       "    }\n",
       "</style>\n",
       "<table border=\"1\" class=\"dataframe\">\n",
       "  <thead>\n",
       "    <tr style=\"text-align: right;\">\n",
       "      <th></th>\n",
       "      <th>Размерность выборки</th>\n",
       "      <th>Доля от исходных данных</th>\n",
       "    </tr>\n",
       "  </thead>\n",
       "  <tbody>\n",
       "    <tr>\n",
       "      <th>df_train</th>\n",
       "      <td>(1928, 5)</td>\n",
       "      <td>0.6</td>\n",
       "    </tr>\n",
       "    <tr>\n",
       "      <th>df_valid</th>\n",
       "      <td>(643, 5)</td>\n",
       "      <td>0.2</td>\n",
       "    </tr>\n",
       "    <tr>\n",
       "      <th>df_test</th>\n",
       "      <td>(643, 5)</td>\n",
       "      <td>0.2</td>\n",
       "    </tr>\n",
       "  </tbody>\n",
       "</table>\n",
       "</div>"
      ],
      "text/plain": [
       "         Размерность выборки  Доля от исходных данных\n",
       "df_train           (1928, 5)                      0.6\n",
       "df_valid            (643, 5)                      0.2\n",
       "df_test             (643, 5)                      0.2"
      ]
     },
     "execution_count": 6,
     "metadata": {},
     "output_type": "execute_result"
    }
   ],
   "source": [
    "#построим таблицу с размерностями обучающей, валидационной и тестовой выборок и долями от исходных данных\n",
    "pd.DataFrame({'Размерность выборки': [df_train.shape, df_valid.shape, df_test.shape],\n",
    "             'Доля от исходных данных': [round(len(df_train.index) / len(df.index), 2), \n",
    "                                         round(len(df_valid.index) / len(df.index), 2), \n",
    "                                         round(len(df_test.index) / len(df.index), 2)]},\n",
    "            index=['df_train', 'df_valid', 'df_test'])"
   ]
  },
  {
   "cell_type": "markdown",
   "metadata": {},
   "source": [
    "Данные разделились корректно."
   ]
  },
  {
   "cell_type": "markdown",
   "metadata": {},
   "source": [
    "Запишем признаки и целевой признак в разные переменные для всех выборок."
   ]
  },
  {
   "cell_type": "code",
   "execution_count": 7,
   "metadata": {},
   "outputs": [],
   "source": [
    "features_train = df_train.drop(['is_ultra'], axis=1)\n",
    "target_train = df_train['is_ultra']\n",
    "features_valid = df_valid.drop(['is_ultra'], axis=1)\n",
    "target_valid = df_valid['is_ultra']\n",
    "features_test = df_test.drop(['is_ultra'], axis=1)\n",
    "target_test = df_test['is_ultra']"
   ]
  },
  {
   "cell_type": "markdown",
   "metadata": {},
   "source": [
    "<div class=\"alert alert-success\">\n",
    "<font size=\"5\"><b>Комментарий ревьюера</b></font>\n",
    "\n",
    "Успех:\n",
    "\n",
    "Все правильно!\n",
    "\n",
    "Здорово что проконтролировал разбиение с помощью .shape\n",
    "\n",
    "<div class=\"alert alert-warning\">\n",
    "\n",
    "\n",
    "\n",
    "Совет: \n",
    "\n",
    "\n",
    "- Обрати внимание на аргумент stratify, он позволит сохранить изначальное распределение таргетов во всех новых датасетах.  Существующий дисбаланс никуда не денется, но в каждом датасете он будет одинаковым\n",
    "\n",
    "\n",
    "</div>\n",
    "\n",
    "\n",
    "\n"
   ]
  },
  {
   "cell_type": "markdown",
   "metadata": {},
   "source": [
    "<div class=\"alert alert-block alert-info\">\n",
    "<font size=\"4\"><b><em>Комментарий студента:</em></b></font>  \n",
    "    <p id='c2'>Спасибо. Добавил в train_test_split параметр stratify. Точность моделей немного повысилась! Странно, что про этот параметр не говорилось в материалах спринта.</p>\n",
    "    <a href='#resume'><em>К резюме</em></a>\n",
    "</div>"
   ]
  },
  {
   "cell_type": "markdown",
   "metadata": {},
   "source": [
    "<div class=\"alert alert-success\">\n",
    "<font size=\"5\"><b>Комментарий ревьюераV2</b></font>\n",
    "\n",
    "Успех:\n",
    "\n",
    "Ну и славно что подросло )\n",
    "    \n",
    "    \n",
    "Ну кое что ревьюерам оставили, мы тоже хотим сеять доброе, вечное, умное )    \n",
    "</div>"
   ]
  },
  {
   "cell_type": "markdown",
   "metadata": {},
   "source": [
    "## Исследуйте модели"
   ]
  },
  {
   "cell_type": "markdown",
   "metadata": {},
   "source": [
    "Исследуем качество разных моделей, меняя гиперпараметры."
   ]
  },
  {
   "cell_type": "markdown",
   "metadata": {},
   "source": [
    "### Модель решающего дерева"
   ]
  },
  {
   "cell_type": "markdown",
   "metadata": {},
   "source": [
    "Исследуем модели решающего дерева со значениями гипепараметра `max_depth` от 1 до 10 и выберем модель с наилучшим показателем точности. Запишем в таблицу значения точности модели на валидационной и обучающей выборках, а также их разницу для каждого значения гиперпараметра `max_depth`."
   ]
  },
  {
   "cell_type": "code",
   "execution_count": 8,
   "metadata": {
    "scrolled": false
   },
   "outputs": [
    {
     "name": "stdout",
     "output_type": "stream",
     "text": [
      "CPU times: user 2 µs, sys: 1 µs, total: 3 µs\n",
      "Wall time: 4.77 µs\n"
     ]
    },
    {
     "data": {
      "image/png": "[encoded data removed]",
      "text/plain": [
       "<Figure size 432x288 with 1 Axes>"
      ]
     },
     "metadata": {
      "needs_background": "light"
     },
     "output_type": "display_data"
    },
    {
     "data": {
      "image/png": "[encoded data removed]",
      "text/plain": [
       "<Figure size 432x288 with 1 Axes>"
      ]
     },
     "metadata": {
      "needs_background": "light"
     },
     "output_type": "display_data"
    },
    {
     "data": {
      "image/png": "[encoded data removed]",
      "text/plain": [
       "<Figure size 432x288 with 1 Axes>"
      ]
     },
     "metadata": {
      "needs_background": "light"
     },
     "output_type": "display_data"
    },
    {
     "data": {
      "image/png": "[encoded data removed]",
      "text/plain": [
       "<Figure size 432x288 with 1 Axes>"
      ]
     },
     "metadata": {
      "needs_background": "light"
     },
     "output_type": "display_data"
    },
    {
     "data": {
      "image/png": "[encoded data removed]",
      "text/plain": [
       "<Figure size 432x288 with 1 Axes>"
      ]
     },
     "metadata": {
      "needs_background": "light"
     },
     "output_type": "display_data"
    },
    {
     "data": {
      "image/png": "[encoded data removed]",
      "text/plain": [
       "<Figure size 432x288 with 1 Axes>"
      ]
     },
     "metadata": {
      "needs_background": "light"
     },
     "output_type": "display_data"
    },
    {
     "data": {
      "image/png": "[encoded data removed]",
      "text/plain": [
       "<Figure size 432x288 with 1 Axes>"
      ]
     },
     "metadata": {
      "needs_background": "light"
     },
     "output_type": "display_data"
    },
    {
     "data": {
      "image/png": "[encoded data removed]",
      "text/plain": [
       "<Figure size 432x288 with 1 Axes>"
      ]
     },
     "metadata": {
      "needs_background": "light"
     },
     "output_type": "display_data"
    },
    {
     "data": {
      "image/png": "[encoded data removed]",
      "text/plain": [
       "<Figure size 432x288 with 1 Axes>"
      ]
     },
     "metadata": {
      "needs_background": "light"
     },
     "output_type": "display_data"
    },
    {
     "data": {
      "image/png": "[encoded data removed]",
      "text/plain": [
       "<Figure size 432x288 with 1 Axes>"
      ]
     },
     "metadata": {
      "needs_background": "light"
     },
     "output_type": "display_data"
    },
    {
     "name": "stdout",
     "output_type": "stream",
     "text": [
      "Accuracy наилучшей модели решающего дерева на валидационной выборке: 0.80248833592535\n",
      "Accuracy наилучшей модели решающего дерева на обучающей выборке: 0.8558091286307054\n",
      "Глубина дерева: 8\n"
     ]
    },
    {
     "data": {
      "text/html": [
       "<div>\n",
       "<style scoped>\n",
       "    .dataframe tbody tr th:only-of-type {\n",
       "        vertical-align: middle;\n",
       "    }\n",
       "\n",
       "    .dataframe tbody tr th {\n",
       "        vertical-align: top;\n",
       "    }\n",
       "\n",
       "    .dataframe thead th {\n",
       "        text-align: right;\n",
       "    }\n",
       "</style>\n",
       "<table border=\"1\" class=\"dataframe\">\n",
       "  <thead>\n",
       "    <tr style=\"text-align: right;\">\n",
       "      <th></th>\n",
       "      <th>max_depth</th>\n",
       "      <th>accuracy_valid</th>\n",
       "      <th>accuracy_train</th>\n",
       "      <th>scope</th>\n",
       "    </tr>\n",
       "  </thead>\n",
       "  <tbody>\n",
       "    <tr>\n",
       "      <th>0</th>\n",
       "      <td>1</td>\n",
       "      <td>0.740280</td>\n",
       "      <td>0.754668</td>\n",
       "      <td>0.014388</td>\n",
       "    </tr>\n",
       "    <tr>\n",
       "      <th>1</th>\n",
       "      <td>2</td>\n",
       "      <td>0.772939</td>\n",
       "      <td>0.775934</td>\n",
       "      <td>0.002994</td>\n",
       "    </tr>\n",
       "    <tr>\n",
       "      <th>2</th>\n",
       "      <td>3</td>\n",
       "      <td>0.777605</td>\n",
       "      <td>0.790975</td>\n",
       "      <td>0.013370</td>\n",
       "    </tr>\n",
       "    <tr>\n",
       "      <th>3</th>\n",
       "      <td>4</td>\n",
       "      <td>0.754277</td>\n",
       "      <td>0.797199</td>\n",
       "      <td>0.042922</td>\n",
       "    </tr>\n",
       "    <tr>\n",
       "      <th>4</th>\n",
       "      <td>5</td>\n",
       "      <td>0.785381</td>\n",
       "      <td>0.813797</td>\n",
       "      <td>0.028416</td>\n",
       "    </tr>\n",
       "    <tr>\n",
       "      <th>5</th>\n",
       "      <td>6</td>\n",
       "      <td>0.774495</td>\n",
       "      <td>0.828320</td>\n",
       "      <td>0.053825</td>\n",
       "    </tr>\n",
       "    <tr>\n",
       "      <th>6</th>\n",
       "      <td>7</td>\n",
       "      <td>0.786936</td>\n",
       "      <td>0.841286</td>\n",
       "      <td>0.054350</td>\n",
       "    </tr>\n",
       "    <tr>\n",
       "      <th>7</th>\n",
       "      <td>8</td>\n",
       "      <td>0.802488</td>\n",
       "      <td>0.855809</td>\n",
       "      <td>0.053321</td>\n",
       "    </tr>\n",
       "    <tr>\n",
       "      <th>8</th>\n",
       "      <td>9</td>\n",
       "      <td>0.782271</td>\n",
       "      <td>0.871888</td>\n",
       "      <td>0.089617</td>\n",
       "    </tr>\n",
       "    <tr>\n",
       "      <th>9</th>\n",
       "      <td>10</td>\n",
       "      <td>0.772939</td>\n",
       "      <td>0.887448</td>\n",
       "      <td>0.114509</td>\n",
       "    </tr>\n",
       "  </tbody>\n",
       "</table>\n",
       "</div>"
      ],
      "text/plain": [
       "   max_depth  accuracy_valid  accuracy_train     scope\n",
       "0          1        0.740280        0.754668  0.014388\n",
       "1          2        0.772939        0.775934  0.002994\n",
       "2          3        0.777605        0.790975  0.013370\n",
       "3          4        0.754277        0.797199  0.042922\n",
       "4          5        0.785381        0.813797  0.028416\n",
       "5          6        0.774495        0.828320  0.053825\n",
       "6          7        0.786936        0.841286  0.054350\n",
       "7          8        0.802488        0.855809  0.053321\n",
       "8          9        0.782271        0.871888  0.089617\n",
       "9         10        0.772939        0.887448  0.114509"
      ]
     },
     "execution_count": 8,
     "metadata": {},
     "output_type": "execute_result"
    }
   ],
   "source": [
    "%time\n",
    "# создадим пустые списки для записи гиперпараметра и метрик каждой модели\n",
    "decision_tree_depth = []\n",
    "decision_tree_accuracy_train = []\n",
    "decision_tree_accuracy_valid = []\n",
    "decision_tree_accuracy_scope = []\n",
    "\n",
    "# создадим переменные для записи лучшей модели, её гиперпараметра и метрик на обучающей и тренировочной выборках\n",
    "best_decision_tree_model = None\n",
    "best_decision_tree_depth = 0\n",
    "best_decision_tree_accuracy_train = 0\n",
    "best_decision_tree_accuracy_valid = 0\n",
    "\n",
    "# в цикле обучим модели с гиперпараметром глубины дерева от 1 до 10\n",
    "for depth in range(1, 11):\n",
    "    model = DecisionTreeClassifier(random_state=12345, max_depth=depth)\n",
    "    model.fit(features_train, target_train)\n",
    "    \n",
    "    # добавим tree_plot для визуализации принятия решений моделью\n",
    "    plot_tree(model, filled=True, proportion=True)\n",
    "    plt.show()\n",
    "    \n",
    "    # расчитаем метрики на валидационной и обучающей выборках\n",
    "    accuracy_valid = model.score(features_valid, target_valid)\n",
    "    accuracy_train = model.score(features_train, target_train)\n",
    "    \n",
    "    # записываем гиперпараметр и метрика каждой модели\n",
    "    decision_tree_depth.append(depth)\n",
    "    decision_tree_accuracy_valid.append(accuracy_valid)\n",
    "    decision_tree_accuracy_train.append(accuracy_train)\n",
    "    decision_tree_accuracy_scope.append(abs(accuracy_valid - accuracy_train))\n",
    "    \n",
    "    # находим наилучшую модель\n",
    "    if accuracy_valid > best_decision_tree_accuracy_valid:\n",
    "        best_decision_tree_accuracy_valid = accuracy_valid\n",
    "        best_decision_tree_accuracy_train = accuracy_train\n",
    "        best_decision_tree_depth = depth\n",
    "        best_decision_tree_model = model\n",
    "        \n",
    "# Записываем в таблицу гиперпараметры и метрики для каждой модели\n",
    "decision_tree_results = pd.DataFrame({'max_depth': decision_tree_depth, \n",
    "                                      'accuracy_valid': decision_tree_accuracy_valid, \n",
    "                                      'accuracy_train': decision_tree_accuracy_train, \n",
    "                                      'scope': decision_tree_accuracy_scope})\n",
    "\n",
    "# выводим результаты на экран\n",
    "print('Accuracy наилучшей модели решающего дерева на валидационной выборке:', best_decision_tree_accuracy_valid)\n",
    "print('Accuracy наилучшей модели решающего дерева на обучающей выборке:', best_decision_tree_accuracy_train)\n",
    "print('Глубина дерева:', best_decision_tree_depth)\n",
    "decision_tree_results"
   ]
  },
  {
   "cell_type": "markdown",
   "metadata": {},
   "source": [
    "Построим график зависимости точности модели на валидационной и обучающей выборках от глубины дерева."
   ]
  },
  {
   "cell_type": "code",
   "execution_count": 9,
   "metadata": {
    "scrolled": false
   },
   "outputs": [
    {
     "data": {
      "image/png": "[encoded data removed]",
      "text/plain": [
       "<Figure size 864x432 with 1 Axes>"
      ]
     },
     "metadata": {
      "needs_background": "light"
     },
     "output_type": "display_data"
    }
   ],
   "source": [
    "decision_tree_results.plot(x='max_depth', y=['accuracy_valid', 'accuracy_train'], figsize=(12, 6), \n",
    "                           title='График зависимости точности модели решающего дерева от глубины дерева', ylabel='accuracy', \n",
    "                           grid=True, style='-o');"
   ]
  },
  {
   "cell_type": "markdown",
   "metadata": {},
   "source": [
    "**Вывод:**  \n",
    "Accuracy наилучшей модели решающего дерева на валидационной выборке 0.80248833592535 при глубине дерева `max_depth=8`.\n",
    "Из полученных данных видно, что с увеличением значения гиперпараметра `max_depth` увеличивается разница между accuracy модели на валидационной и обучающей выборках. Это говорит о склонности модели решающего дерева к переобучению."
   ]
  },
  {
   "cell_type": "markdown",
   "metadata": {},
   "source": [
    "<div class=\"alert alert-success\">\n",
    "<font size=\"5\"><b>Комментарий ревьюера</b></font>\n",
    "\n",
    "Успех:\n",
    " \n",
    "Работа выполнена в соответствии с критериями: \n",
    "\n",
    "\n",
    "\n",
    " - модель обучена на обучающем наборе\n",
    " - получена оценка качества на валидационном наборе\n",
    " - перебор гиперпараметров осуществляется в цикле\n",
    "\n",
    "\n",
    "Отличный график и вывод\n",
    "\n",
    "\n",
    "\n",
    "<div class=\"alert alert-warning\">\n",
    "\n",
    "\n",
    "Совет: \n",
    "\n",
    "\n",
    "- А почему в цикле (поставив условие улучшения метрики) не записать лучшую модель, лучшие гиперпараметры и лучшее значение метрики?   Как ниже  \n",
    "\n",
    "\n",
    "\n",
    "\n",
    "- tree_plot можно построить, глянуть как DT сплиты делает, будет понимание как моджель принимает решения. причем можно прямо в цикле, чтобы видеть как дерево становится глубже и сложней\n",
    "\n",
    "\n",
    "    \n",
    "\n",
    "</div>\n",
    "\n"
   ]
  },
  {
   "cell_type": "markdown",
   "metadata": {},
   "source": [
    "<div class=\"alert alert-block alert-info\">\n",
    "<font size=\"4\"><b><em>Комментарий студента:</em></b></font>  \n",
    "    <p id='c3'>Добавил в цикл выше запись лучших модели, гиперпараметра и метрики решающего дерева.</p>\n",
    "    <a href='#resume'><em>К резюме</em></a>\n",
    "</div>"
   ]
  },
  {
   "cell_type": "markdown",
   "metadata": {},
   "source": [
    "<div class=\"alert alert-block alert-info\">\n",
    "<font size=\"4\"><b><em>Комментарий студента:</em></b></font>  \n",
    "    <p id='c4'>Добавил в цикл выше tree_plot для визализации принятия решений моделью.</p>\n",
    "    <a href='#resume'><em>К резюме</em></a>\n",
    "</div>"
   ]
  },
  {
   "cell_type": "markdown",
   "metadata": {},
   "source": [
    "<div class=\"alert alert-success\">\n",
    "<font size=\"5\"><b>Комментарий ревьюераV2</b></font>\n",
    "\n",
    "Успех:\n",
    "\n",
    "Отличное оформление, вижу поразбирался как лучше представить tree_plot\n",
    "</div>"
   ]
  },
  {
   "cell_type": "markdown",
   "metadata": {},
   "source": [
    "### Модель случайного леса"
   ]
  },
  {
   "cell_type": "markdown",
   "metadata": {},
   "source": [
    "Исследуем модели случайного леса со значениями гипепараметров `n_estimators` от 10 до 50 с шагом 10 и `max_depth` от 1 до 10 для каждого значения параметра `n_estimators`. Выберем модель с наилучшим показателем точности."
   ]
  },
  {
   "cell_type": "code",
   "execution_count": 10,
   "metadata": {
    "scrolled": false
   },
   "outputs": [
    {
     "name": "stdout",
     "output_type": "stream",
     "text": [
      "Accuracy наилучшей модели случайного леса на валидационной выборке: 0.8211508553654744\n",
      "Accuracy наилучшей модели случайного леса на обучающей выборке: 0.883298755186722\n",
      "Количество деревьев: 40\n",
      "Глубина дерева: 9\n",
      "CPU times: user 3.66 s, sys: 24.4 ms, total: 3.69 s\n",
      "Wall time: 3.69 s\n"
     ]
    }
   ],
   "source": [
    "%%time\n",
    "# создадим переменные для записи лучшей модели, её гиперпараметра и метрик на обучающей и тренировочной выборках\n",
    "best_random_forest_model = None\n",
    "best_n_estimators = 0\n",
    "best_random_forest_depth = 0\n",
    "best_random_forest_accuracy_valid = 0\n",
    "best_random_forest_accuracy_train = 0\n",
    "\n",
    "# в цикле обучим модели со значениями гипепараметров n_estimators от 10 до 50 с шагом 10 и max_depth от 1 до 10\n",
    "for est in range(10, 51, 10):\n",
    "    for depth in range(1, 11):\n",
    "        model = RandomForestClassifier(random_state=12345, n_estimators=est, max_depth=depth)\n",
    "        model.fit(features_train, target_train)\n",
    "        \n",
    "        # расчитаем метрики на валидационной и обучающей выборках\n",
    "        accuracy_valid = model.score(features_valid, target_valid)\n",
    "        accuracy_train = model.score(features_train, target_train)\n",
    "        \n",
    "        # находим наилучшую модель\n",
    "        if accuracy_valid > best_random_forest_accuracy_valid:\n",
    "            best_random_forest_model = model\n",
    "            best_random_forest_accuracy_valid = accuracy_valid\n",
    "            best_random_forest_accuracy_train = accuracy_train\n",
    "            best_n_estimators = est\n",
    "            best_random_forest_depth = depth\n",
    "\n",
    "# выводим результаты на экран\n",
    "print('Accuracy наилучшей модели случайного леса на валидационной выборке:', best_random_forest_accuracy_valid)\n",
    "print('Accuracy наилучшей модели случайного леса на обучающей выборке:', best_random_forest_accuracy_train)\n",
    "print('Количество деревьев:', best_n_estimators)\n",
    "print('Глубина дерева:', best_random_forest_depth)"
   ]
  },
  {
   "cell_type": "markdown",
   "metadata": {},
   "source": [
    "**Вывод:**  \n",
    "Accuracy наилучшей модели решающего дерева на валидационной выборке 0.8211508553654744 при количестве деревьев `n_estimators=40` и глубине дерева `max_depth=9`."
   ]
  },
  {
   "cell_type": "markdown",
   "metadata": {},
   "source": [
    "\n",
    "<div class=\"alert alert-success\">\n",
    "<font size=\"5\"><b>Комментарий ревьюера</b></font>\n",
    "\n",
    "Успех:\n",
    "    \n",
    "По большему числу гиперпараметров перебор -   тем лучше метрика. Здорово   \n",
    "\n",
    "\n",
    "\n",
    "\n",
    "<div class=\"alert alert-warning\">\n",
    "\n",
    "\n",
    "Совет: \n",
    "\n",
    "- Здорово что использован перебор не по одному гиперпараметру. Поэтому посоветую поизучать sklearn-ий GreedSearch. В случаи использования GridSearch, не нужно будет заранее делать валидационную выборку, лучшую метрику автоматом сохранят в best_score_, а лучшую модель (переобученная уже на полном наборе данных) будет хранить в best_estimator_. \n",
    "\n",
    " \n",
    "- Когда что то долго крутиться, можно использовать  %%time - ставишь на самый вверх ячейки с кодом, время выполнения которого хочешь замерить, может не знаешь.  Быстрее не станет, но все будут видеть стоит ли ждать не отходя от ПК или можно сходить чаек поставить ))  А еще есть tqdm, показывает на каком этапе у нас работа в цикле происходит\n",
    "\n",
    "\n",
    "</div>\n"
   ]
  },
  {
   "cell_type": "markdown",
   "metadata": {},
   "source": [
    "<div class=\"alert alert-block alert-info\">\n",
    "<font size=\"4\"><b><em>Комментарий студента:</em></b></font>  \n",
    "    <p id='c5'>Попробовал GridSearch ниже без валидационной выборки. Крутая вещь. Спасибо.</p>\n",
    "    <a href='#resume'><em>К резюме</em></a>\n",
    "</div>"
   ]
  },
  {
   "cell_type": "markdown",
   "metadata": {},
   "source": [
    "<div class=\"alert alert-success\">\n",
    "<font size=\"5\"><b>Комментарий ревьюераV2</b></font>\n",
    "\n",
    "Успех:\n",
    "\n",
    "Здорово что попробовал GridSearchCV, это уже другой уровень. Еще можно было заняться нормализацией данных и тогда стоит использовать связку pipeline+gridsearchcv \n",
    "\n",
    "\n",
    "<div class=\"alert alert-warning\">\n",
    "\n",
    "Совет:\n",
    "\n",
    "\n",
    "\n",
    "\n",
    "\n",
    "- В случаи с GS тоже можно отлично строить графики, глянь в атрибут .cv_results_, там собрана информация о процессе обучения, можно оттуда вытащить данные, чтобы построить график.\n",
    "\n",
    "\n",
    "</div>\n"
   ]
  },
  {
   "cell_type": "code",
   "execution_count": 11,
   "metadata": {},
   "outputs": [
    {
     "name": "stdout",
     "output_type": "stream",
     "text": [
      "{'max_depth': 8, 'n_estimators': 40}\n",
      "0.8033195020746888\n",
      "CPU times: user 16.6 s, sys: 97.2 ms, total: 16.7 s\n",
      "Wall time: 16.7 s\n"
     ]
    }
   ],
   "source": [
    "%%time\n",
    "# разделим исходный датасет на обучающую и тестовую выборки в соотношении 75%/25% соответственно\n",
    "train, test = train_test_split(df, test_size=0.25, random_state=12345, stratify=df['is_ultra'])\n",
    "# сохраним признаки обучающей выборки в переменную X_train\n",
    "X_train = train.drop(['is_ultra'], axis=1)\n",
    "# сохраним целевой признак обучающей выборки в переменную y_train\n",
    "y_train = train['is_ultra']\n",
    "# сохраним классификатор в переменную clf\n",
    "clf = RandomForestClassifier()\n",
    "# сохраним гиперпараметры, которые хотим проверить\n",
    "parametrs = {'n_estimators': range (10, 51, 10),\n",
    "             'max_depth': range (1,11)}\n",
    "# запустим GridSearch\n",
    "grid = GridSearchCV(clf, parametrs)\n",
    "grid.fit(X_train, y_train)\n",
    "# выведем гиперпараметры наилучшей модели на экран\n",
    "print(grid.best_params_)\n",
    "print(grid.best_score_)"
   ]
  },
  {
   "cell_type": "markdown",
   "metadata": {},
   "source": [
    "<div class=\"alert alert-block alert-info\">\n",
    "<font size=\"4\"><b><em>Комментарий студента:</em></b></font> \n",
    "    <br/>\n",
    "    <br/>Спасибо за %%time. Теперь буду использовать.\n",
    "</div>"
   ]
  },
  {
   "cell_type": "markdown",
   "metadata": {},
   "source": [
    "### Модель логистической регрессии"
   ]
  },
  {
   "cell_type": "code",
   "execution_count": 12,
   "metadata": {},
   "outputs": [
    {
     "name": "stdout",
     "output_type": "stream",
     "text": [
      "Accuracy модели логистической регрессии на валидационной выборке: 0.7387247278382582\n",
      "Accuracy модели логистической регрессии на обучающей выборке: 0.7510373443983402\n"
     ]
    }
   ],
   "source": [
    "# запишем модель логистической регрессии в переменную\n",
    "logistic_regression_model = LogisticRegression(random_state=12345, solver='lbfgs', max_iter=1000)\n",
    "# обучим модель логистической регрессии на тренировочных данных\n",
    "logistic_regression_model.fit(features_train, target_train)\n",
    "# расчитаем метрики модели\n",
    "logistic_regression_accuracy_valid = logistic_regression_model.score(features_valid, target_valid)\n",
    "logistic_regression_accuracy_train = logistic_regression_model.score(features_train, target_train)\n",
    "# выведем результат на экран\n",
    "print('Accuracy модели логистической регрессии на валидационной выборке:', logistic_regression_accuracy_valid)\n",
    "print('Accuracy модели логистической регрессии на обучающей выборке:', logistic_regression_accuracy_train)"
   ]
  },
  {
   "cell_type": "markdown",
   "metadata": {},
   "source": [
    "**Вывод:**  \n",
    "Accuracy модели логистической регрессии на валидационной выборке: 0.7387247278382582  \n",
    "Значения точности модели логистической регрессии на валидационной и обучающей выборке почти совпадают, значит модель не переобучена."
   ]
  },
  {
   "cell_type": "markdown",
   "metadata": {},
   "source": [
    "### Сравнение моделей и выводы"
   ]
  },
  {
   "cell_type": "code",
   "execution_count": 13,
   "metadata": {
    "scrolled": true
   },
   "outputs": [
    {
     "data": {
      "text/html": [
       "<div>\n",
       "<style scoped>\n",
       "    .dataframe tbody tr th:only-of-type {\n",
       "        vertical-align: middle;\n",
       "    }\n",
       "\n",
       "    .dataframe tbody tr th {\n",
       "        vertical-align: top;\n",
       "    }\n",
       "\n",
       "    .dataframe thead th {\n",
       "        text-align: right;\n",
       "    }\n",
       "</style>\n",
       "<table border=\"1\" class=\"dataframe\">\n",
       "  <thead>\n",
       "    <tr style=\"text-align: right;\">\n",
       "      <th></th>\n",
       "      <th>accuracy_valid</th>\n",
       "      <th>accuracy_train</th>\n",
       "      <th>scope</th>\n",
       "    </tr>\n",
       "  </thead>\n",
       "  <tbody>\n",
       "    <tr>\n",
       "      <th>Случайный лес</th>\n",
       "      <td>0.821151</td>\n",
       "      <td>0.883299</td>\n",
       "      <td>0.062148</td>\n",
       "    </tr>\n",
       "    <tr>\n",
       "      <th>Решающее дерево</th>\n",
       "      <td>0.802488</td>\n",
       "      <td>0.855809</td>\n",
       "      <td>0.053321</td>\n",
       "    </tr>\n",
       "    <tr>\n",
       "      <th>Логистическая регрессия</th>\n",
       "      <td>0.738725</td>\n",
       "      <td>0.751037</td>\n",
       "      <td>0.012313</td>\n",
       "    </tr>\n",
       "  </tbody>\n",
       "</table>\n",
       "</div>"
      ],
      "text/plain": [
       "                         accuracy_valid  accuracy_train     scope\n",
       "Случайный лес                  0.821151        0.883299  0.062148\n",
       "Решающее дерево                0.802488        0.855809  0.053321\n",
       "Логистическая регрессия        0.738725        0.751037  0.012313"
      ]
     },
     "execution_count": 13,
     "metadata": {},
     "output_type": "execute_result"
    }
   ],
   "source": [
    "# сведем данные метрик наилучших моделей в таблице\n",
    "pd.DataFrame({'accuracy_valid': [best_decision_tree_accuracy_valid, best_random_forest_accuracy_valid,\n",
    "                                                    logistic_regression_accuracy_valid],\n",
    "             'accuracy_train': [best_decision_tree_accuracy_train, best_random_forest_accuracy_train,\n",
    "                                              logistic_regression_accuracy_train],\n",
    "             'scope': [abs(best_decision_tree_accuracy_valid - best_decision_tree_accuracy_train),\n",
    "                        abs(best_random_forest_accuracy_valid - best_random_forest_accuracy_train),\n",
    "                        abs(logistic_regression_accuracy_valid - logistic_regression_accuracy_train)]},\n",
    "            index=['Решающее дерево', 'Случайный лес', 'Логистическая регрессия']).sort_values(by='accuracy_valid', ascending=False)"
   ]
  },
  {
   "cell_type": "markdown",
   "metadata": {},
   "source": [
    "Лучший показатель точности на валидационной выборке выдает модель случайного леса с гиперпараметрами `n_estimators=40` и `max_depth=9`.\n",
    "Второй по точности идёт модель решающего дерева с гиперпараметром `max_depth=8`. Последней по точности идёт модель логистической регресии, хотя значения точности на валидационной и обучающей выборке почти совпадают, что говорит о наименьшей склонности модели логистической регресии к переобучению."
   ]
  },
  {
   "cell_type": "markdown",
   "metadata": {},
   "source": [
    "\n",
    "\n",
    "<div class=\"alert alert-success\">\n",
    "<font size=\"5\"><b>Комментарий ревьюера</b></font>\n",
    "\n",
    "Успех:\n",
    "\n",
    "\n",
    "Все верно, RF лучший. \n",
    "\n",
    "\n",
    "<div class=\"alert alert-warning\">\n",
    "\n",
    "\n",
    "Совет: \n",
    "\n",
    "Если есть желание можешь ответить на вопросики ))    \n",
    "\n",
    "\n",
    "\n",
    "- Как назвать ситуацию, когда на валидации при увеличении глубины дерева (модель DT), метрика качества стала снижаться? Как по твоему в это же время вела себя эта же метрика на train?\n",
    "\n",
    "\n",
    "- Насколько знаю вы еще под капот моделям не заглядывали, но может знаешь почему RF показывает более высокие результаты из выбранных?\n",
    "\n",
    "\n",
    "- Мы решаем задачу классификации (а еще есть задача регрессии), а в названии модели с помощью которой мы решаем задачу \"классификации\" есть слово \"регрессия\".  Нет ли тут парадокса? )\n",
    "    \n",
    "\n",
    "- Почему логистическая регрессия показывать на много более худшие результаты?  \n",
    "\n",
    "\n",
    "</div>\n",
    "\n",
    "\n",
    "\n"
   ]
  },
  {
   "cell_type": "markdown",
   "metadata": {},
   "source": [
    "<div class=\"alert alert-block alert-info\">\n",
    "<font size=\"4\"><b><em>Комментарий студента:</em></b></font>  \n",
    "<p id='c6'>Попробую ответить на поставленные вопросы.</p>\n",
    "\n",
    "\n",
    "\n",
    "- Ситуация, когда на валидации при увеличении глубины дерева (модель DT), метрика качества стала снижаться, называется переобучением модели. В это же время метрика на train увеличивается. Модель хорошо работает на данных обучающей выборки с увеличением глубины дерева, так как модель запоминает огромное количество всех возможных примеров вместо того, чтобы научиться подмечать особенности. Соответсвненно, на данных, не участвовавших в обучении, модель будет работать хуже.\n",
    "    \n",
    "    \n",
    "- Насколько я понимаю алгоритм случайного леса, он обучает большое количество независимых друг от друга решающих деревьев (то есть каждое дерево задаёт разные вопросы в разное время) на разных частях одного и того же обучающего набора, получает от всех деревьев результат предсказания (пакет предсказаний), проводит голосование за каждый полученный прогноз и выбирает предсказание с наибольшим количеством голосов в качестве окончательного результата. Результат получается лучше, а склонность к переобучению меньше.\n",
    "\n",
    "\n",
    "\n",
    "- Регрессия сама по себе это математическое выражение (формула) отражающее связь между переменной у и переменными х, только в отличии от фнукции, одному и тому же значению x могут соответствовать в зависимости от случая различные значения величины y. Задачей регрессии в машинном обучении называют восстановление зависимости между количественными переменными по данным, потому что для этого в алоритмах используются математические формулы регрессионной связи. Для решения задачи классификации тоже может быть использована формула (регрессия) для определения класса объекта, так что я считаю, что тут нет парадокса.\n",
    "\n",
    "\n",
    "\n",
    "- Логистическая регрессия использует мало параметров (признаков), поэтому она показывает худщие результаты, но при этом она не склонна к переобучению, так как запомнить по признакам в формуле не получится.\n",
    "    \n",
    "<a href='#resume'><em>К резюме</em></a>\n",
    "\n",
    "</div>"
   ]
  },
  {
   "cell_type": "markdown",
   "metadata": {},
   "source": [
    "<div class=\"alert alert-success\">\n",
    "<font size=\"5\"><b>Комментарий ревьюераV2</b></font>\n",
    "\n",
    "\n",
    "Успех:\n",
    "\n",
    "\n",
    "Дополню чуть\n",
    "\n",
    "1. Верно, переобучение. На train точность ростет вплоть до 100%. \n",
    "    \n",
    "    \n",
    "2. Верно. \n",
    "    \n",
    "3. \"Регрессия\", потому что внутри нее скалярное произведение (как и в линейной регрессии), дающее на выходе вещественное число (от + бесконечности до - бесконечности), на это число вешают сигмойду, логарифм и получают значение от 0 до 1 (вероятность класса).  Я думаю в этом дело ) \n",
    "    \n",
    "    \n",
    "4. Логистическая регрессия плоха (и хороша с другой стороны) тем что это линейный классификатор: обьекты на классы разделяем гиперплоскостью (прямой если на плоскости), а в данном датасете видимо более сложные, нелинейные связи между признаками и таргетом.   А RF с DT с этим справляются. На других данных  LR могла оказаться лучше, например потому что RF не может экстраполировать. \n",
    "\n",
    "\n",
    "</div>"
   ]
  },
  {
   "cell_type": "markdown",
   "metadata": {},
   "source": [
    "## Проверьте модель на тестовой выборке"
   ]
  },
  {
   "cell_type": "markdown",
   "metadata": {},
   "source": [
    "Проверим качество модели случайного леса с наилучшим показателем accuracy на валидационной выборке на тестовой выборке."
   ]
  },
  {
   "cell_type": "code",
   "execution_count": 14,
   "metadata": {
    "scrolled": true
   },
   "outputs": [
    {
     "name": "stdout",
     "output_type": "stream",
     "text": [
      "Accuracy лучшей модели на тестовой выборке: 0.8087091757387247\n"
     ]
    }
   ],
   "source": [
    "print('Accuracy лучшей модели на тестовой выборке:', best_random_forest_model.score(features_test, target_test))"
   ]
  },
  {
   "cell_type": "markdown",
   "metadata": {},
   "source": [
    "Значение точности модели на тестовой выборке удовлетворяет условию задания, но значение ниже, чем качество модели на обучающей выборке. Модель хорошо объясняет примеры из обучающей выборки, но хуже работает на примерах, не участвовавших в обучении."
   ]
  },
  {
   "cell_type": "markdown",
   "metadata": {},
   "source": [
    "\n",
    "\n",
    "\n",
    "<div class=\"alert alert-success\">\n",
    "<font size=\"5\"><b>Комментарий ревьюера</b></font>\n",
    "\n",
    "Успех:\n",
    "\n",
    "\n",
    "- Все верно, логика моделирования не нарушена, тут тестируем только лучшую модель (или парочку, если метрики были близки на валидации) отобранную на валидации. \n",
    "\n",
    "- Если студент получил на тесте accuraсy  выше 0,78, это считается отличным результатом. Ты подбирал лучшую комбинацию не по одному гиперпараметру и вот он результат!\n",
    "\n",
    "\n",
    "\n",
    "<div class=\"alert alert-warning\">\n",
    "\n",
    "Вопросики и совет:\n",
    "\n",
    "\n",
    "\n",
    "\n",
    "- Как попробовать улучшить результат, не мучаясь с кодом?! Смотри - мы сформировали train выборку на которой обучаем модель, а валидационную используем для поиска лучших значений гиперпараметров. Оке, нашли их. Так почему бы теперь модель с выбранными гиперпараметрами не обучить на тренировочной + валидационной выборке?! Чем больше данных, тем лучше модель может обучиться. И эту дообученную модель проверим на тесте. Гаранитий что станет лучше нет, но ML это постоянные эксперименты.\n",
    "    \n",
    "    \n",
    "    \n",
    "- А можешь предложить как нам использовать полученный результат в бизнесе? Как нам на этих прогнозах сделать деньги? \n",
    "\n",
    "\n",
    "\n",
    "\n",
    "- В качестве бонуса можешь вывести еще несколько метрик своей модели - precision, recall, F1 и confussion matrix) Все есть в sklearn)\n",
    "\n",
    "\n",
    "\n",
    "\n",
    "</div>\n",
    "\n"
   ]
  },
  {
   "cell_type": "markdown",
   "metadata": {},
   "source": [
    "<div class=\"alert alert-block alert-info\">\n",
    "<font size=\"4\"><b><em>Комментарий студента:</em></b></font>  \n",
    "<p id='c7'></p>\n",
    "    \n",
    "\n",
    "\n",
    "- Попробуем обучить нашу модель на тренировочной + валидационной выборке и проверим результат на тестовой выборке.\n",
    "\n",
    "<a href='#resume'><em>К резюме</em></a>"
   ]
  },
  {
   "cell_type": "markdown",
   "metadata": {},
   "source": [
    "<div class=\"alert alert-success\">\n",
    "<font size=\"5\"><b>Комментарий ревьюераV2</b></font>\n",
    "\n",
    "Успех:\n",
    "\n",
    "👍\n",
    "</div>"
   ]
  },
  {
   "cell_type": "code",
   "execution_count": 15,
   "metadata": {
    "scrolled": false
   },
   "outputs": [
    {
     "name": "stdout",
     "output_type": "stream",
     "text": [
      "Accuracy лучшей модели на тестовой выборке: 0.8413685847589425\n"
     ]
    }
   ],
   "source": [
    "best_random_forest_model = RandomForestClassifier(random_state=12345, n_estimators=40, max_depth=9)\n",
    "best_random_forest_model.fit(X_train, y_train)\n",
    "print('Accuracy лучшей модели на тестовой выборке:', best_random_forest_model.score(features_test, target_test))"
   ]
  },
  {
   "cell_type": "markdown",
   "metadata": {},
   "source": [
    "Точность выросла!"
   ]
  },
  {
   "cell_type": "markdown",
   "metadata": {},
   "source": [
    "<div class=\"alert alert-block alert-info\">\n",
    "<font size=\"4\"><b><em>Комментарий студента:</em></b></font>  \n",
    "<p id='c8'></p>\n",
    "    \n",
    "\n",
    "\n",
    "- Как нам использовать полученный результат в бизнесе? В случае данного проекта в 84% случаях модель предскажет правильный тариф для клиента оператора мобильной связи, что повысит вероятность того, что клиент перейдёт с архивного тарифа на новый, приемлемый для него тариф, а оператора увеличит выручку.\n",
    "    \n",
    "<a href='#resume'><em>К резюме</em></a>"
   ]
  },
  {
   "cell_type": "markdown",
   "metadata": {},
   "source": [
    "<div class=\"alert alert-success\">\n",
    "<font size=\"5\"><b>Комментарий ревьюераV2</b></font>\n",
    "\n",
    "Успех:\n",
    "    \n",
    "Я вижу применение прогнозов модели еще и таким образом. Допустим какой-то тариф более выгоден компании, тогда мы можем предложить перейти на него клиентам, но не всем, а тем, кому данный тариф подходит (на основе прогноза модели). Таким образом мы сэкономим время и деньги, ведь просто предлагать переходить всем это лишние траты (не говоря о клиентах, которые уходят, если слишком назойливо им что-то предлагать, что для них явно не подходит). \n"
   ]
  },
  {
   "cell_type": "markdown",
   "metadata": {},
   "source": [
    "<div class=\"alert alert-block alert-info\">\n",
    "<font size=\"4\"><b><em>Комментарий студента:</em></b></font>  \n",
    "<p id='c9'></p>\n",
    "    \n",
    "\n",
    "\n",
    "- Выведем еще несколько метрик модели - precision, recall, F1 и confussion matrix.\n",
    "    \n",
    "   \n",
    "<a href='#resume'><em>К резюме</em></a>"
   ]
  },
  {
   "cell_type": "code",
   "execution_count": 16,
   "metadata": {},
   "outputs": [
    {
     "name": "stdout",
     "output_type": "stream",
     "text": [
      "Метрика Precision на тестовой выборке: 0.8518518518518519\n"
     ]
    }
   ],
   "source": [
    "prediction_test = best_random_forest_model.predict(features_test)\n",
    "print('Метрика Precision на тестовой выборке:', precision_score(target_test, prediction_test))"
   ]
  },
  {
   "cell_type": "code",
   "execution_count": 17,
   "metadata": {},
   "outputs": [
    {
     "name": "stdout",
     "output_type": "stream",
     "text": [
      "Метрика Recall на тестовой выборке: 0.583756345177665\n"
     ]
    }
   ],
   "source": [
    "print('Метрика Recall на тестовой выборке:', recall_score(target_test, prediction_test))"
   ]
  },
  {
   "cell_type": "code",
   "execution_count": 18,
   "metadata": {},
   "outputs": [
    {
     "name": "stdout",
     "output_type": "stream",
     "text": [
      "Метрика F1 на тестовой выборке: 0.6927710843373494\n"
     ]
    }
   ],
   "source": [
    "print('Метрика F1 на тестовой выборке:', f1_score(target_test, prediction_test))"
   ]
  },
  {
   "cell_type": "code",
   "execution_count": 19,
   "metadata": {},
   "outputs": [
    {
     "name": "stdout",
     "output_type": "stream",
     "text": [
      "Матрица ошибок на тестовой выборке:\n",
      " [[426  20]\n",
      " [ 82 115]]\n"
     ]
    }
   ],
   "source": [
    "print('Матрица ошибок на тестовой выборке:\\n', confusion_matrix(target_test, prediction_test))"
   ]
  },
  {
   "cell_type": "markdown",
   "metadata": {},
   "source": [
    "<div class=\"alert alert-success\">\n",
    "<font size=\"5\"><b>Комментарий ревьюераV2</b></font>\n",
    "\n",
    "Успех:\n",
    "\n",
    "Все ок. Плюс за f-stings \n",
    "    \n",
    "<div class=\"alert alert-warning\">\n",
    "<font size=\"5\"><b>Комментарий ревьюера</b></font>\n",
    "\n",
    "Совет: \n",
    "\n",
    "\n",
    "    \n",
    "- [вот](https://scikit-learn.org/stable/modules/generated/sklearn.metrics.ConfusionMatrixDisplay.html) как покрасивей можно было  confusion_matrix вывести\n",
    "    \n",
    "\n",
    "    \n",
    "    \n",
    "</div>"
   ]
  },
  {
   "cell_type": "markdown",
   "metadata": {},
   "source": [
    "## (бонус) Проверьте модели на адекватность"
   ]
  },
  {
   "cell_type": "markdown",
   "metadata": {},
   "source": [
    "Чтобы проверить модели на адекватность, сравним их с моделью, которая выдает значения целевого признака (`1` или `0`) случайным образом с вероятностью 50/50. Чтобы рассчитать точность случайной модели, сложим произведения вероятности появления значения целевого признака на долю значения признака в исходном датасете."
   ]
  },
  {
   "cell_type": "code",
   "execution_count": 20,
   "metadata": {
    "scrolled": true
   },
   "outputs": [
    {
     "name": "stdout",
     "output_type": "stream",
     "text": [
      "Accuracy случайной модели: 0.5\n"
     ]
    }
   ],
   "source": [
    "print('Accuracy случайной модели:', 0.5 * df['is_ultra'].mean() + 0.5 * (1 - df['is_ultra'].mean()))"
   ]
  },
  {
   "cell_type": "markdown",
   "metadata": {},
   "source": [
    "Все наши модели проходят проверку на адекватность, так как их точность выше, чем 0.5."
   ]
  },
  {
   "cell_type": "markdown",
   "metadata": {},
   "source": [
    "\n",
    "\n",
    "\n",
    "<div class=\"alert alert-danger\">\n",
    "<font size=\"5\"><b>Комментарий ревьюера</b></font>\n",
    "\n",
    "Ошибка:\n",
    "\n",
    "Не учтен один момент - в целевом признаке у нас дисбаланс, нули встречаются гораздо чаще единичек!  Какая будет accuracy у наивной модели которая предсказывает постоянно нули?\n",
    "\n",
    "\n",
    "<div class=\"alert alert-warning\">\n",
    "\n",
    "\n",
    "Совет: \n",
    "\n",
    "При проверке на адекватность модели, рекомендую ознакомиться с [Dummy Models](https://scikit-learn.org/stable/modules/generated/sklearn.dummy.DummyClassifier.html), это удобная обертка для константных моделей\n",
    "\n",
    "</div>"
   ]
  },
  {
   "cell_type": "markdown",
   "metadata": {},
   "source": [
    "<div class=\"alert alert-block alert-info\">\n",
    "<font size=\"4\"><b><em>Комментарий студента:</em></b></font>  \n",
    "    <p id='c10'>Ошибку понял. Точность модели, предсказывающей одни нули, будет равна доле нулей в исходном датасете, т.е 0.69 (<a href='#c1'>проверка на сбалансированность</a>). Рассчитаем ниже точность модели, которая предсказывает одни нули, чтобы убедиться в верности вывода.</p>\n",
    "    <a href='#resume'><em>К резюме</em></a>\n",
    "</div>"
   ]
  },
  {
   "cell_type": "code",
   "execution_count": 21,
   "metadata": {},
   "outputs": [
    {
     "name": "stdout",
     "output_type": "stream",
     "text": [
      "Accuracy наивной модели: 0.693528313627878\n"
     ]
    }
   ],
   "source": [
    "predictions_naive = pd.Series(0, index=df.index)\n",
    "print('Accuracy наивной модели:', accuracy_score(df['is_ultra'], predictions_naive))"
   ]
  },
  {
   "cell_type": "markdown",
   "metadata": {},
   "source": [
    "Все наши модели проходят проверку на адекватность, так как их точность выше, чем 0.69."
   ]
  },
  {
   "cell_type": "markdown",
   "metadata": {},
   "source": [
    "<div class=\"alert alert-success\">\n",
    "<font size=\"5\"><b>Комментарий ревьюераV2</b></font>\n",
    "\n",
    "Успех:\n",
    "\n",
    "👍\n",
    "</div>"
   ]
  },
  {
   "cell_type": "markdown",
   "metadata": {},
   "source": [
    "## Общий вывод \n",
    "<div>\n",
    "<p id='c11'></p>\n",
    "</div>"
   ]
  },
  {
   "cell_type": "markdown",
   "metadata": {},
   "source": [
    "В данной работе были исследованы модели, способные проанализировать поведение клиентов сотового оператора на имеющихся данных за месяц (количество звонков, длительность звонков в минутах, количество sms-сообщений, израсходованный интернет-трафик в Мб) и предложить пользователям новый тариф взамен архивного: «Смарт» или «Ультра», то есть решить задачу классификации.\n",
    "Исходные данные были изучены, целевой признак был выявлен: каким тарифом пользовался клиент в течение месяца («Ультра» — 1, «Смарт» — 0). Предобработка данных не требовалась. Исходные данные были разделены на обучающую, валидационную и тестовую выборки в соотношении 60% 20% 20% соответственно.\n",
    "На обучающих данных были обучены модели решающего дерева с глубиной дерева от 1 до 10, случайного леса с количество деревьев от 10 до 50 с шагом 10 и глубиной деревьев от 1 до 10, логистической регрессии, а на валидационной выборке проверено качество каждой модели и выбрана модель с наилучшим показателем `accuracy`: модель случайного леса с количеством деревьев `n_estimators=40` и глубиной дерева `max_depth=9`.\n",
    "Далее наилучшая модель была проверена на тестовой выборке и получена метрика точности `accuracy=0.84`, то есть в 84% случаях модель предскажет подходящий тариф для клиента.\n",
    "Все модели прошли проверку на адекватность и имеют метрику `accuracy` выше, чем у наивной модели, предсказывающей только тариф «Смарт», который имеет долю 70% в исходных данных.\n",
    "\n",
    "<a href='#resume'><em>К резюме</em></a>"
   ]
  },
  {
   "cell_type": "markdown",
   "metadata": {},
   "source": [
    "<div class=\"alert alert-success\">\n",
    "<font size=\"5\"><b>Комментарий ревьюераV2</b></font>\n",
    "\n",
    "Успех:\n",
    "\n",
    "Теперь можно по общему выводу оценить чего и как ) \n",
    "</div>"
   ]
  },
  {
   "cell_type": "markdown",
   "metadata": {},
   "source": [
    "\n",
    "<div class=\"alert alert-info\">\n",
    "<font size=\"5\"><b>Комментарий ревьюера</b></font>\n",
    "\n",
    "\n",
    "Станислав, ты старательно выполнил работу, все четко, осмысленно. Выводы присутствуют. Некоторые пункты выполнил в большем чем требуется обьеме. Вижу у тебя получается в ML,  дальше будет интересней )  \n",
    "\n",
    "\n",
    "Я оставил небольшие советы и вопросики (если есть время и желание можешь воспользоваться/ответить): \n",
    "\n",
    "- обрати внимание на проверку сбалансированность классов в таргете в разделе EDA\n",
    "- использовать stratify    \n",
    "- посоветовал посмотреть в сторону GreedSearch\n",
    "- как можно улучшить результаты \n",
    "\n",
    "Замечания на будущее:\n",
    "    \n",
    "- Комментарии к коду отсутствуют - коллеги могут не понять хода твоих мыслей, пока вроде код простой, но стоит держать в голове что дальше код усложнится.  \n",
    "- Было бы замечательно, в выводе немножко о данных, работе с ними (пусть даже никакой работы и не было), моделировании и полученных результатах. Это важно потому что когда проект захочет посмотреть будущий работодатель (или начальник), у него может не быть времени на подробный разбор кода. Вероятнее всего он бегло просмотрит код, а из общего вывода захочет получить представление о всей работе.\n",
    "\n",
    " \n",
    "    \n",
    "Обязательное к исправлению:\n",
    "\n",
    "\n",
    "\n",
    "- стоит переделать бонусное задание с учётом моего комментария\n",
    "\n",
    " \n",
    "\n",
    "Жду исправлений, для принятия проекта. Если какие то вопросы, то сразу спрашивай ) \n",
    "\n",
    "\n",
    "</div>\n",
    "\n",
    "\n",
    "\n"
   ]
  },
  {
   "cell_type": "markdown",
   "metadata": {},
   "source": [
    "<div class=\"alert alert-block alert-info\">\n",
    "<font size=\"4\"><b><em>Комментарий студента:</em></b></font>  \n",
    "    <p id='resume'></p>\n",
    "    <br/>Ниже резюме исправлений согласно твоим комментариям:\n",
    "    <br/>\n",
    "    <a href='#c1'>1. Добавил проверку на сбалансированность классов в таргете</a>\n",
    "    <br/>\n",
    "    <a href='#c2'>2. Добавил в train_test_split параметр stratify. Точность моделей немного повысилась</a>\n",
    "    <br/>\n",
    "    <a href='#c3'>3. Добавил в цикл запись лучших модели, гиперпараметра и метрики решающего дерева.</a>\n",
    "    <br/>\n",
    "    <a href='#c4'>4. Добавил в цикл tree_plot для визализации принятия решений моделью решающего дерева.</a>\n",
    "    <br/>\n",
    "    <a href='#c5'>5. Попробовал использовать GridSearch без валидационной выборки.</a>\n",
    "    <br/>\n",
    "    <a href='#c6'>6. Ответил на вопросы в конце раздела 3 (исследование моделей).</a>\n",
    "    <br/>\n",
    "    <a href='#c7'>7. Обучил модель на тренировочной + валидационной выборке и проверил результат на тестовой выборке.</a>\n",
    "    <br/>\n",
    "    <a href='#c8'>8. Ответил на вопрос как использовать полученный результат в бизнесе.</a>\n",
    "    <br/>\n",
    "    <a href='#c9'>9. Вывел еще несколько метрик модели - precision, recall, F1 и confussion matrix.</a>\n",
    "    <br/>\n",
    "    <a href='#c10'>10. Переделал проверку модели на адекватность.</a>\n",
    "    <br/>\n",
    "    <a href='#c11'>11. Добавил общий вывод.</a>\n",
    "    <br/>12. Добавил комментарии в коде.\n",
    "</div>"
   ]
  },
  {
   "cell_type": "markdown",
   "metadata": {},
   "source": [
    "\n",
    "\n",
    "<div class=\"alert alert-info\">\n",
    "<font size=\"5\"><b>Комментарий ревьюераV2</b></font>\n",
    "\n",
    "\n",
    "\n",
    "Станислав, ты исправил красное, отреагировал на ВСЕ желтые советы, поотвечал на ВСЕ вопросы (что было по желанию), значит стремишься развиваться, а желание и интерес это главное. Одним словом очень плотно поработал, большой молодец. Надеюсь мои советы и вопросики были полезны и ты узнал что то новое, а проект стал лучше, и метрика улучшилась. \n",
    " \n",
    "\n",
    " \n",
    "Отличная работа. Желаю успехов в дальнейшей учебе!\n",
    "    \n",
    "</div>\n"
   ]
  },
  {
   "cell_type": "markdown",
   "metadata": {},
   "source": [
    "## Чек-лист готовности проекта"
   ]
  },
  {
   "cell_type": "markdown",
   "metadata": {},
   "source": [
    "Поставьте 'x' в выполненных пунктах. Далее нажмите Shift+Enter."
   ]
  },
  {
   "cell_type": "markdown",
   "metadata": {},
   "source": [
    "- [x] Jupyter Notebook открыт\n",
    "- [x] Весь код исполняется без ошибок\n",
    "- [x] Ячейки с кодом расположены в порядке исполнения\n",
    "- [x] Выполнено задание 1: данные загружены и изучены\n",
    "- [x] Выполнено задание 2: данные разбиты на три выборки\n",
    "- [x] Выполнено задание 3: проведено исследование моделей\n",
    "    - [x] Рассмотрено больше одной модели\n",
    "    - [x] Рассмотрено хотя бы 3 значения гипепараметров для какой-нибудь модели\n",
    "    - [x] Написаны выводы по результатам исследования\n",
    "- [x] Выполнено задание 3: Проведено тестирование\n",
    "- [x] Удалось достичь accuracy не меньше 0.75\n"
   ]
  }
 ],
 "metadata": {
  "ExecuteTimeLog": [
   {
    "duration": 1201,
    "start_time": "2022-08-24T09:44:52.223Z"
   },
   {
    "duration": 3,
    "start_time": "2022-08-24T09:45:00.602Z"
   },
   {
    "duration": 129,
    "start_time": "2022-08-24T09:47:19.720Z"
   },
   {
    "duration": 12,
    "start_time": "2022-08-24T09:47:35.689Z"
   },
   {
    "duration": 9,
    "start_time": "2022-08-24T10:06:06.993Z"
   },
   {
    "duration": 1137,
    "start_time": "2022-08-24T10:06:57.585Z"
   },
   {
    "duration": 46,
    "start_time": "2022-08-24T10:06:58.723Z"
   },
   {
    "duration": 12,
    "start_time": "2022-08-24T10:06:58.770Z"
   },
   {
    "duration": 12,
    "start_time": "2022-08-24T10:06:58.784Z"
   },
   {
    "duration": 63,
    "start_time": "2022-08-24T10:07:49.078Z"
   },
   {
    "duration": 8,
    "start_time": "2022-08-24T10:08:01.382Z"
   },
   {
    "duration": 8,
    "start_time": "2022-08-24T10:09:00.612Z"
   },
   {
    "duration": 10,
    "start_time": "2022-08-24T10:10:58.444Z"
   },
   {
    "duration": 8,
    "start_time": "2022-08-24T10:11:27.670Z"
   },
   {
    "duration": 14,
    "start_time": "2022-08-24T10:19:32.288Z"
   },
   {
    "duration": 126,
    "start_time": "2022-08-24T10:20:30.828Z"
   },
   {
    "duration": 23,
    "start_time": "2022-08-24T10:21:58.483Z"
   },
   {
    "duration": 22,
    "start_time": "2022-08-24T10:22:07.071Z"
   },
   {
    "duration": 20,
    "start_time": "2022-08-24T10:23:15.614Z"
   },
   {
    "duration": 17,
    "start_time": "2022-08-24T10:23:20.351Z"
   },
   {
    "duration": 15,
    "start_time": "2022-08-24T10:23:24.778Z"
   },
   {
    "duration": 14,
    "start_time": "2022-08-24T10:23:28.845Z"
   },
   {
    "duration": 13,
    "start_time": "2022-08-24T10:23:32.593Z"
   },
   {
    "duration": 16,
    "start_time": "2022-08-24T10:23:43.619Z"
   },
   {
    "duration": 7,
    "start_time": "2022-08-24T10:24:30.682Z"
   },
   {
    "duration": 11,
    "start_time": "2022-08-24T10:24:35.322Z"
   },
   {
    "duration": 11,
    "start_time": "2022-08-24T10:24:57.716Z"
   },
   {
    "duration": 8,
    "start_time": "2022-08-24T10:34:29.872Z"
   },
   {
    "duration": 10,
    "start_time": "2022-08-24T10:37:12.039Z"
   },
   {
    "duration": 13,
    "start_time": "2022-08-24T10:37:37.430Z"
   },
   {
    "duration": 11,
    "start_time": "2022-08-24T10:38:43.395Z"
   },
   {
    "duration": 15,
    "start_time": "2022-08-24T10:39:09.044Z"
   },
   {
    "duration": 10,
    "start_time": "2022-08-24T10:39:44.313Z"
   },
   {
    "duration": 1129,
    "start_time": "2022-08-24T10:39:55.843Z"
   },
   {
    "duration": 47,
    "start_time": "2022-08-24T10:39:56.974Z"
   },
   {
    "duration": 14,
    "start_time": "2022-08-24T10:39:57.022Z"
   },
   {
    "duration": 12,
    "start_time": "2022-08-24T10:39:57.038Z"
   },
   {
    "duration": 19,
    "start_time": "2022-08-24T10:39:57.052Z"
   },
   {
    "duration": 11,
    "start_time": "2022-08-24T10:39:57.073Z"
   },
   {
    "duration": 111,
    "start_time": "2022-08-24T11:09:18.484Z"
   },
   {
    "duration": 208,
    "start_time": "2022-08-24T11:09:37.739Z"
   },
   {
    "duration": 208,
    "start_time": "2022-08-24T11:11:26.483Z"
   },
   {
    "duration": 204,
    "start_time": "2022-08-24T11:11:54.593Z"
   },
   {
    "duration": 7965,
    "start_time": "2022-08-24T11:17:48.944Z"
   },
   {
    "duration": 215,
    "start_time": "2022-08-24T11:20:59.293Z"
   },
   {
    "duration": 1150,
    "start_time": "2022-08-24T11:32:41.901Z"
   },
   {
    "duration": 45,
    "start_time": "2022-08-24T11:32:43.053Z"
   },
   {
    "duration": 14,
    "start_time": "2022-08-24T11:32:43.100Z"
   },
   {
    "duration": 7,
    "start_time": "2022-08-24T11:32:43.116Z"
   },
   {
    "duration": 13,
    "start_time": "2022-08-24T11:32:43.125Z"
   },
   {
    "duration": 12,
    "start_time": "2022-08-24T11:32:43.140Z"
   },
   {
    "duration": 224,
    "start_time": "2022-08-24T11:32:43.153Z"
   },
   {
    "duration": 7899,
    "start_time": "2022-08-24T11:32:43.379Z"
   },
   {
    "duration": 11193,
    "start_time": "2022-08-24T11:33:56.635Z"
   },
   {
    "duration": 244,
    "start_time": "2022-08-24T11:40:02.050Z"
   },
   {
    "duration": 1316,
    "start_time": "2022-08-24T11:40:29.411Z"
   },
   {
    "duration": 51,
    "start_time": "2022-08-24T11:40:30.729Z"
   },
   {
    "duration": 12,
    "start_time": "2022-08-24T11:40:30.782Z"
   },
   {
    "duration": 39,
    "start_time": "2022-08-24T11:40:30.796Z"
   },
   {
    "duration": 68,
    "start_time": "2022-08-24T11:40:30.837Z"
   },
   {
    "duration": 54,
    "start_time": "2022-08-24T11:40:30.907Z"
   },
   {
    "duration": 226,
    "start_time": "2022-08-24T11:40:30.963Z"
   },
   {
    "duration": 11006,
    "start_time": "2022-08-24T11:40:31.191Z"
   },
   {
    "duration": 246,
    "start_time": "2022-08-24T11:40:42.202Z"
   },
   {
    "duration": 10,
    "start_time": "2022-08-24T11:44:40.300Z"
   },
   {
    "duration": 10,
    "start_time": "2022-08-24T11:45:16.626Z"
   },
   {
    "duration": 8,
    "start_time": "2022-08-24T11:45:31.468Z"
   },
   {
    "duration": 296,
    "start_time": "2022-08-24T11:45:59.547Z"
   },
   {
    "duration": 9,
    "start_time": "2022-08-24T11:46:10.950Z"
   },
   {
    "duration": 1440,
    "start_time": "2022-08-24T11:48:29.709Z"
   },
   {
    "duration": 46,
    "start_time": "2022-08-24T11:48:31.151Z"
   },
   {
    "duration": 12,
    "start_time": "2022-08-24T11:48:31.198Z"
   },
   {
    "duration": 27,
    "start_time": "2022-08-24T11:48:31.211Z"
   },
   {
    "duration": 52,
    "start_time": "2022-08-24T11:48:31.240Z"
   },
   {
    "duration": 55,
    "start_time": "2022-08-24T11:48:31.294Z"
   },
   {
    "duration": 224,
    "start_time": "2022-08-24T11:48:31.351Z"
   },
   {
    "duration": 10889,
    "start_time": "2022-08-24T11:48:31.577Z"
   },
   {
    "duration": 70,
    "start_time": "2022-08-24T11:48:42.469Z"
   },
   {
    "duration": 9,
    "start_time": "2022-08-24T11:48:42.541Z"
   },
   {
    "duration": 1191,
    "start_time": "2022-08-24T11:50:06.574Z"
   },
   {
    "duration": 46,
    "start_time": "2022-08-24T11:50:07.767Z"
   },
   {
    "duration": 11,
    "start_time": "2022-08-24T11:50:07.815Z"
   },
   {
    "duration": 10,
    "start_time": "2022-08-24T11:50:07.828Z"
   },
   {
    "duration": 19,
    "start_time": "2022-08-24T11:50:07.840Z"
   },
   {
    "duration": 8,
    "start_time": "2022-08-24T11:50:07.861Z"
   },
   {
    "duration": 226,
    "start_time": "2022-08-24T11:50:07.870Z"
   },
   {
    "duration": 11121,
    "start_time": "2022-08-24T11:50:08.098Z"
   },
   {
    "duration": 29,
    "start_time": "2022-08-24T11:50:19.221Z"
   },
   {
    "duration": 9,
    "start_time": "2022-08-24T11:50:19.253Z"
   },
   {
    "duration": 18,
    "start_time": "2022-08-24T12:12:20.611Z"
   },
   {
    "duration": 4,
    "start_time": "2022-08-24T12:24:41.088Z"
   },
   {
    "duration": 5,
    "start_time": "2022-08-24T12:25:02.616Z"
   },
   {
    "duration": 1141,
    "start_time": "2022-08-24T12:30:45.447Z"
   },
   {
    "duration": 71,
    "start_time": "2022-08-24T12:30:46.590Z"
   },
   {
    "duration": 12,
    "start_time": "2022-08-24T12:30:46.663Z"
   },
   {
    "duration": 10,
    "start_time": "2022-08-24T12:30:46.677Z"
   },
   {
    "duration": 19,
    "start_time": "2022-08-24T12:30:46.689Z"
   },
   {
    "duration": 15,
    "start_time": "2022-08-24T12:30:46.709Z"
   },
   {
    "duration": 219,
    "start_time": "2022-08-24T12:30:46.726Z"
   },
   {
    "duration": 10873,
    "start_time": "2022-08-24T12:30:46.947Z"
   },
   {
    "duration": 30,
    "start_time": "2022-08-24T12:30:57.822Z"
   },
   {
    "duration": 10,
    "start_time": "2022-08-24T12:30:57.854Z"
   },
   {
    "duration": 39,
    "start_time": "2022-08-24T12:30:57.866Z"
   },
   {
    "duration": 4,
    "start_time": "2022-08-24T12:30:57.906Z"
   },
   {
    "duration": 1119,
    "start_time": "2022-08-24T12:38:30.330Z"
   },
   {
    "duration": 45,
    "start_time": "2022-08-24T12:38:31.451Z"
   },
   {
    "duration": 12,
    "start_time": "2022-08-24T12:38:31.498Z"
   },
   {
    "duration": 14,
    "start_time": "2022-08-24T12:38:31.512Z"
   },
   {
    "duration": 19,
    "start_time": "2022-08-24T12:38:31.528Z"
   },
   {
    "duration": 28,
    "start_time": "2022-08-24T12:38:31.549Z"
   },
   {
    "duration": 231,
    "start_time": "2022-08-24T12:38:31.579Z"
   },
   {
    "duration": 10981,
    "start_time": "2022-08-24T12:38:31.812Z"
   },
   {
    "duration": 26,
    "start_time": "2022-08-24T12:38:42.795Z"
   },
   {
    "duration": 8,
    "start_time": "2022-08-24T12:38:42.823Z"
   },
   {
    "duration": 23,
    "start_time": "2022-08-24T12:38:42.833Z"
   },
   {
    "duration": 7,
    "start_time": "2022-08-24T12:38:42.858Z"
   },
   {
    "duration": 1124,
    "start_time": "2022-08-24T12:47:35.208Z"
   },
   {
    "duration": 45,
    "start_time": "2022-08-24T12:47:36.334Z"
   },
   {
    "duration": 13,
    "start_time": "2022-08-24T12:47:36.381Z"
   },
   {
    "duration": 9,
    "start_time": "2022-08-24T12:47:36.396Z"
   },
   {
    "duration": 13,
    "start_time": "2022-08-24T12:47:36.408Z"
   },
   {
    "duration": 14,
    "start_time": "2022-08-24T12:47:36.423Z"
   },
   {
    "duration": 219,
    "start_time": "2022-08-24T12:47:36.438Z"
   },
   {
    "duration": 11167,
    "start_time": "2022-08-24T12:47:36.659Z"
   },
   {
    "duration": 32,
    "start_time": "2022-08-24T12:47:47.828Z"
   },
   {
    "duration": 9,
    "start_time": "2022-08-24T12:47:47.861Z"
   },
   {
    "duration": 36,
    "start_time": "2022-08-24T12:47:47.872Z"
   },
   {
    "duration": 15,
    "start_time": "2022-08-24T12:47:47.910Z"
   },
   {
    "duration": 1141,
    "start_time": "2022-08-24T12:48:52.186Z"
   },
   {
    "duration": 46,
    "start_time": "2022-08-24T12:48:53.329Z"
   },
   {
    "duration": 12,
    "start_time": "2022-08-24T12:48:53.377Z"
   },
   {
    "duration": 7,
    "start_time": "2022-08-24T12:48:53.391Z"
   },
   {
    "duration": 10,
    "start_time": "2022-08-24T12:48:53.400Z"
   },
   {
    "duration": 8,
    "start_time": "2022-08-24T12:48:53.412Z"
   },
   {
    "duration": 216,
    "start_time": "2022-08-24T12:48:53.422Z"
   },
   {
    "duration": 10916,
    "start_time": "2022-08-24T12:48:53.640Z"
   },
   {
    "duration": 26,
    "start_time": "2022-08-24T12:49:04.558Z"
   },
   {
    "duration": 19,
    "start_time": "2022-08-24T12:49:04.586Z"
   },
   {
    "duration": 18,
    "start_time": "2022-08-24T12:49:04.607Z"
   },
   {
    "duration": 5,
    "start_time": "2022-08-24T12:49:04.627Z"
   },
   {
    "duration": 208,
    "start_time": "2022-08-24T13:08:25.271Z"
   },
   {
    "duration": 210,
    "start_time": "2022-08-24T13:11:45.151Z"
   },
   {
    "duration": 201,
    "start_time": "2022-08-24T13:11:58.460Z"
   },
   {
    "duration": 221,
    "start_time": "2022-08-24T13:12:02.199Z"
   },
   {
    "duration": 88,
    "start_time": "2022-08-24T13:16:21.701Z"
   },
   {
    "duration": 1106,
    "start_time": "2022-08-24T13:20:10.967Z"
   },
   {
    "duration": 46,
    "start_time": "2022-08-24T13:20:12.075Z"
   },
   {
    "duration": 16,
    "start_time": "2022-08-24T13:20:12.123Z"
   },
   {
    "duration": 10,
    "start_time": "2022-08-24T13:20:12.141Z"
   },
   {
    "duration": 12,
    "start_time": "2022-08-24T13:20:12.154Z"
   },
   {
    "duration": 12,
    "start_time": "2022-08-24T13:20:12.168Z"
   },
   {
    "duration": 112,
    "start_time": "2022-08-24T13:20:12.182Z"
   },
   {
    "duration": 4478,
    "start_time": "2022-08-24T13:20:12.296Z"
   },
   {
    "duration": 35,
    "start_time": "2022-08-24T13:20:16.776Z"
   },
   {
    "duration": 109,
    "start_time": "2022-08-24T13:20:16.812Z"
   },
   {
    "duration": 0,
    "start_time": "2022-08-24T13:20:16.923Z"
   },
   {
    "duration": 0,
    "start_time": "2022-08-24T13:20:16.925Z"
   },
   {
    "duration": 1164,
    "start_time": "2022-08-24T13:24:43.176Z"
   },
   {
    "duration": 0,
    "start_time": "2022-08-24T13:24:44.343Z"
   },
   {
    "duration": 0,
    "start_time": "2022-08-24T13:24:44.343Z"
   },
   {
    "duration": 0,
    "start_time": "2022-08-24T13:24:44.345Z"
   },
   {
    "duration": 0,
    "start_time": "2022-08-24T13:24:44.347Z"
   },
   {
    "duration": 0,
    "start_time": "2022-08-24T13:24:44.348Z"
   },
   {
    "duration": 0,
    "start_time": "2022-08-24T13:24:44.350Z"
   },
   {
    "duration": 0,
    "start_time": "2022-08-24T13:24:44.351Z"
   },
   {
    "duration": 0,
    "start_time": "2022-08-24T13:24:44.353Z"
   },
   {
    "duration": 0,
    "start_time": "2022-08-24T13:24:44.354Z"
   },
   {
    "duration": 0,
    "start_time": "2022-08-24T13:24:44.355Z"
   },
   {
    "duration": 0,
    "start_time": "2022-08-24T13:24:44.357Z"
   },
   {
    "duration": 0,
    "start_time": "2022-08-24T13:24:44.358Z"
   },
   {
    "duration": 1057,
    "start_time": "2022-08-24T13:25:25.788Z"
   },
   {
    "duration": 0,
    "start_time": "2022-08-24T13:25:26.847Z"
   },
   {
    "duration": 0,
    "start_time": "2022-08-24T13:25:26.848Z"
   },
   {
    "duration": 0,
    "start_time": "2022-08-24T13:25:26.849Z"
   },
   {
    "duration": 0,
    "start_time": "2022-08-24T13:25:26.850Z"
   },
   {
    "duration": 0,
    "start_time": "2022-08-24T13:25:26.851Z"
   },
   {
    "duration": 0,
    "start_time": "2022-08-24T13:25:26.852Z"
   },
   {
    "duration": 0,
    "start_time": "2022-08-24T13:25:26.853Z"
   },
   {
    "duration": 0,
    "start_time": "2022-08-24T13:25:26.855Z"
   },
   {
    "duration": 0,
    "start_time": "2022-08-24T13:25:26.856Z"
   },
   {
    "duration": 0,
    "start_time": "2022-08-24T13:25:26.857Z"
   },
   {
    "duration": 0,
    "start_time": "2022-08-24T13:25:26.858Z"
   },
   {
    "duration": 0,
    "start_time": "2022-08-24T13:25:26.859Z"
   },
   {
    "duration": 220,
    "start_time": "2022-08-24T13:26:03.276Z"
   },
   {
    "duration": 1133,
    "start_time": "2022-08-24T13:26:11.506Z"
   },
   {
    "duration": 45,
    "start_time": "2022-08-24T13:26:12.641Z"
   },
   {
    "duration": 12,
    "start_time": "2022-08-24T13:26:12.687Z"
   },
   {
    "duration": 10,
    "start_time": "2022-08-24T13:26:12.701Z"
   },
   {
    "duration": 18,
    "start_time": "2022-08-24T13:26:12.714Z"
   },
   {
    "duration": 11,
    "start_time": "2022-08-24T13:26:12.734Z"
   },
   {
    "duration": 98,
    "start_time": "2022-08-24T13:26:12.746Z"
   },
   {
    "duration": 10,
    "start_time": "2022-08-24T13:26:12.846Z"
   },
   {
    "duration": 4377,
    "start_time": "2022-08-24T13:26:12.858Z"
   },
   {
    "duration": 30,
    "start_time": "2022-08-24T13:26:17.237Z"
   },
   {
    "duration": 10,
    "start_time": "2022-08-24T13:26:17.269Z"
   },
   {
    "duration": 15,
    "start_time": "2022-08-24T13:26:17.303Z"
   },
   {
    "duration": 4,
    "start_time": "2022-08-24T13:26:17.319Z"
   },
   {
    "duration": 49,
    "start_time": "2022-08-24T14:56:29.555Z"
   },
   {
    "duration": 1581,
    "start_time": "2022-08-24T14:56:38.696Z"
   },
   {
    "duration": 128,
    "start_time": "2022-08-24T14:56:40.279Z"
   },
   {
    "duration": 10,
    "start_time": "2022-08-24T14:56:40.409Z"
   },
   {
    "duration": 8,
    "start_time": "2022-08-24T14:56:40.421Z"
   },
   {
    "duration": 9,
    "start_time": "2022-08-24T14:56:40.432Z"
   },
   {
    "duration": 6,
    "start_time": "2022-08-24T14:56:40.442Z"
   },
   {
    "duration": 99,
    "start_time": "2022-08-24T14:56:40.450Z"
   },
   {
    "duration": 120,
    "start_time": "2022-08-24T14:56:40.550Z"
   },
   {
    "duration": 0,
    "start_time": "2022-08-24T14:56:40.672Z"
   },
   {
    "duration": 0,
    "start_time": "2022-08-24T14:56:40.673Z"
   },
   {
    "duration": 0,
    "start_time": "2022-08-24T14:56:40.674Z"
   },
   {
    "duration": 0,
    "start_time": "2022-08-24T14:56:40.676Z"
   },
   {
    "duration": 0,
    "start_time": "2022-08-24T14:56:40.677Z"
   },
   {
    "duration": 0,
    "start_time": "2022-08-24T14:56:40.678Z"
   },
   {
    "duration": 1187,
    "start_time": "2022-08-24T14:57:56.666Z"
   },
   {
    "duration": 39,
    "start_time": "2022-08-24T14:57:57.854Z"
   },
   {
    "duration": 9,
    "start_time": "2022-08-24T14:57:57.894Z"
   },
   {
    "duration": 26,
    "start_time": "2022-08-24T14:57:57.905Z"
   },
   {
    "duration": 12,
    "start_time": "2022-08-24T14:57:57.932Z"
   },
   {
    "duration": 10,
    "start_time": "2022-08-24T14:57:57.946Z"
   },
   {
    "duration": 84,
    "start_time": "2022-08-24T14:57:57.957Z"
   },
   {
    "duration": 169,
    "start_time": "2022-08-24T14:57:58.043Z"
   },
   {
    "duration": 10,
    "start_time": "2022-08-24T14:57:58.214Z"
   },
   {
    "duration": 3940,
    "start_time": "2022-08-24T14:57:58.226Z"
   },
   {
    "duration": 20,
    "start_time": "2022-08-24T14:58:02.168Z"
   },
   {
    "duration": 7,
    "start_time": "2022-08-24T14:58:02.189Z"
   },
   {
    "duration": 19,
    "start_time": "2022-08-24T14:58:02.198Z"
   },
   {
    "duration": 4,
    "start_time": "2022-08-24T14:58:02.219Z"
   },
   {
    "duration": 154,
    "start_time": "2022-08-24T14:59:42.268Z"
   },
   {
    "duration": 182,
    "start_time": "2022-08-24T14:59:57.940Z"
   },
   {
    "duration": 189,
    "start_time": "2022-08-24T15:00:34.034Z"
   },
   {
    "duration": 174,
    "start_time": "2022-08-24T15:11:58.452Z"
   },
   {
    "duration": 48,
    "start_time": "2022-08-24T17:16:37.983Z"
   },
   {
    "duration": 1441,
    "start_time": "2022-08-24T17:16:44.283Z"
   },
   {
    "duration": 126,
    "start_time": "2022-08-24T17:16:45.726Z"
   },
   {
    "duration": 9,
    "start_time": "2022-08-24T17:16:45.854Z"
   },
   {
    "duration": 11,
    "start_time": "2022-08-24T17:16:45.865Z"
   },
   {
    "duration": 12,
    "start_time": "2022-08-24T17:16:45.877Z"
   },
   {
    "duration": 8,
    "start_time": "2022-08-24T17:16:45.890Z"
   },
   {
    "duration": 84,
    "start_time": "2022-08-24T17:16:45.899Z"
   },
   {
    "duration": 141,
    "start_time": "2022-08-24T17:16:45.984Z"
   },
   {
    "duration": 95,
    "start_time": "2022-08-24T17:16:46.127Z"
   },
   {
    "duration": 9,
    "start_time": "2022-08-24T17:16:46.224Z"
   },
   {
    "duration": 3916,
    "start_time": "2022-08-24T17:16:46.235Z"
   },
   {
    "duration": 20,
    "start_time": "2022-08-24T17:16:50.152Z"
   },
   {
    "duration": 7,
    "start_time": "2022-08-24T17:16:50.174Z"
   },
   {
    "duration": 29,
    "start_time": "2022-08-24T17:16:50.182Z"
   },
   {
    "duration": 3,
    "start_time": "2022-08-24T17:16:50.212Z"
   },
   {
    "duration": 170,
    "start_time": "2022-08-24T17:18:12.689Z"
   },
   {
    "duration": 154,
    "start_time": "2022-08-24T17:18:48.896Z"
   },
   {
    "duration": 306,
    "start_time": "2022-08-24T17:19:25.429Z"
   },
   {
    "duration": 152,
    "start_time": "2022-08-24T17:19:43.834Z"
   },
   {
    "duration": 179,
    "start_time": "2022-08-24T17:20:05.604Z"
   },
   {
    "duration": 177,
    "start_time": "2022-08-24T17:20:11.325Z"
   },
   {
    "duration": 183,
    "start_time": "2022-08-24T17:20:33.903Z"
   },
   {
    "duration": 160,
    "start_time": "2022-08-24T17:20:54.752Z"
   },
   {
    "duration": 2,
    "start_time": "2022-08-24T18:45:07.972Z"
   },
   {
    "duration": 1315,
    "start_time": "2022-08-24T18:45:12.685Z"
   },
   {
    "duration": 46,
    "start_time": "2022-08-24T18:45:14.002Z"
   },
   {
    "duration": 10,
    "start_time": "2022-08-24T18:45:14.050Z"
   },
   {
    "duration": 7,
    "start_time": "2022-08-24T18:45:14.062Z"
   },
   {
    "duration": 9,
    "start_time": "2022-08-24T18:45:14.070Z"
   },
   {
    "duration": 18,
    "start_time": "2022-08-24T18:45:14.080Z"
   },
   {
    "duration": 89,
    "start_time": "2022-08-24T18:45:14.100Z"
   },
   {
    "duration": 188,
    "start_time": "2022-08-24T18:45:14.190Z"
   },
   {
    "duration": 2,
    "start_time": "2022-08-24T18:45:14.380Z"
   },
   {
    "duration": 3919,
    "start_time": "2022-08-24T18:45:14.384Z"
   },
   {
    "duration": 23,
    "start_time": "2022-08-24T18:45:18.304Z"
   },
   {
    "duration": 118,
    "start_time": "2022-08-24T18:45:18.328Z"
   },
   {
    "duration": 0,
    "start_time": "2022-08-24T18:45:18.448Z"
   },
   {
    "duration": 0,
    "start_time": "2022-08-24T18:45:18.448Z"
   },
   {
    "duration": 6,
    "start_time": "2022-08-24T18:50:48.524Z"
   },
   {
    "duration": 6,
    "start_time": "2022-08-24T18:50:56.723Z"
   },
   {
    "duration": 839,
    "start_time": "2022-08-24T18:51:22.064Z"
   },
   {
    "duration": 6,
    "start_time": "2022-08-24T18:51:40.390Z"
   },
   {
    "duration": 6,
    "start_time": "2022-08-24T18:51:57.061Z"
   },
   {
    "duration": 733,
    "start_time": "2022-08-24T18:53:24.079Z"
   },
   {
    "duration": 881,
    "start_time": "2022-08-24T18:53:36.597Z"
   },
   {
    "duration": 5,
    "start_time": "2022-08-24T18:53:55.183Z"
   },
   {
    "duration": 6,
    "start_time": "2022-08-24T18:58:20.394Z"
   },
   {
    "duration": 1228,
    "start_time": "2022-08-24T19:00:40.621Z"
   },
   {
    "duration": 39,
    "start_time": "2022-08-24T19:00:41.850Z"
   },
   {
    "duration": 10,
    "start_time": "2022-08-24T19:00:41.890Z"
   },
   {
    "duration": 26,
    "start_time": "2022-08-24T19:00:41.902Z"
   },
   {
    "duration": 24,
    "start_time": "2022-08-24T19:00:41.930Z"
   },
   {
    "duration": 21,
    "start_time": "2022-08-24T19:00:41.956Z"
   },
   {
    "duration": 102,
    "start_time": "2022-08-24T19:00:41.979Z"
   },
   {
    "duration": 176,
    "start_time": "2022-08-24T19:00:42.082Z"
   },
   {
    "duration": 8,
    "start_time": "2022-08-24T19:00:42.259Z"
   },
   {
    "duration": 3999,
    "start_time": "2022-08-24T19:00:42.268Z"
   },
   {
    "duration": 20,
    "start_time": "2022-08-24T19:00:46.269Z"
   },
   {
    "duration": 20,
    "start_time": "2022-08-24T19:00:46.291Z"
   },
   {
    "duration": 35,
    "start_time": "2022-08-24T19:00:46.312Z"
   },
   {
    "duration": 10,
    "start_time": "2022-08-24T19:00:46.348Z"
   },
   {
    "duration": 1197,
    "start_time": "2022-08-24T19:02:10.445Z"
   },
   {
    "duration": 37,
    "start_time": "2022-08-24T19:02:11.644Z"
   },
   {
    "duration": 9,
    "start_time": "2022-08-24T19:02:11.683Z"
   },
   {
    "duration": 9,
    "start_time": "2022-08-24T19:02:11.694Z"
   },
   {
    "duration": 18,
    "start_time": "2022-08-24T19:02:11.704Z"
   },
   {
    "duration": 13,
    "start_time": "2022-08-24T19:02:11.723Z"
   },
   {
    "duration": 90,
    "start_time": "2022-08-24T19:02:11.738Z"
   },
   {
    "duration": 183,
    "start_time": "2022-08-24T19:02:11.830Z"
   },
   {
    "duration": 9,
    "start_time": "2022-08-24T19:02:12.014Z"
   },
   {
    "duration": 4006,
    "start_time": "2022-08-24T19:02:12.025Z"
   },
   {
    "duration": 21,
    "start_time": "2022-08-24T19:02:16.032Z"
   },
   {
    "duration": 8,
    "start_time": "2022-08-24T19:02:16.055Z"
   },
   {
    "duration": 31,
    "start_time": "2022-08-24T19:02:16.064Z"
   },
   {
    "duration": 15,
    "start_time": "2022-08-24T19:02:16.096Z"
   },
   {
    "duration": 1241,
    "start_time": "2022-08-24T19:04:38.913Z"
   },
   {
    "duration": 39,
    "start_time": "2022-08-24T19:04:40.156Z"
   },
   {
    "duration": 13,
    "start_time": "2022-08-24T19:04:40.197Z"
   },
   {
    "duration": 7,
    "start_time": "2022-08-24T19:04:40.212Z"
   },
   {
    "duration": 12,
    "start_time": "2022-08-24T19:04:40.220Z"
   },
   {
    "duration": 9,
    "start_time": "2022-08-24T19:04:40.233Z"
   },
   {
    "duration": 105,
    "start_time": "2022-08-24T19:04:40.243Z"
   },
   {
    "duration": 188,
    "start_time": "2022-08-24T19:04:40.350Z"
   },
   {
    "duration": 9,
    "start_time": "2022-08-24T19:04:40.540Z"
   },
   {
    "duration": 3964,
    "start_time": "2022-08-24T19:04:40.551Z"
   },
   {
    "duration": 22,
    "start_time": "2022-08-24T19:04:44.516Z"
   },
   {
    "duration": 72,
    "start_time": "2022-08-24T19:04:44.539Z"
   },
   {
    "duration": 0,
    "start_time": "2022-08-24T19:04:44.612Z"
   },
   {
    "duration": 0,
    "start_time": "2022-08-24T19:04:44.613Z"
   },
   {
    "duration": 1357,
    "start_time": "2022-08-24T19:05:28.432Z"
   },
   {
    "duration": 39,
    "start_time": "2022-08-24T19:05:29.791Z"
   },
   {
    "duration": 10,
    "start_time": "2022-08-24T19:05:29.832Z"
   },
   {
    "duration": 6,
    "start_time": "2022-08-24T19:05:29.844Z"
   },
   {
    "duration": 9,
    "start_time": "2022-08-24T19:05:29.852Z"
   },
   {
    "duration": 10,
    "start_time": "2022-08-24T19:05:29.863Z"
   },
   {
    "duration": 105,
    "start_time": "2022-08-24T19:05:29.875Z"
   },
   {
    "duration": 186,
    "start_time": "2022-08-24T19:05:29.982Z"
   },
   {
    "duration": 9,
    "start_time": "2022-08-24T19:05:30.169Z"
   },
   {
    "duration": 4011,
    "start_time": "2022-08-24T19:05:30.180Z"
   },
   {
    "duration": 25,
    "start_time": "2022-08-24T19:05:34.193Z"
   },
   {
    "duration": 52,
    "start_time": "2022-08-24T19:05:34.219Z"
   },
   {
    "duration": 0,
    "start_time": "2022-08-24T19:05:34.272Z"
   },
   {
    "duration": 0,
    "start_time": "2022-08-24T19:05:34.273Z"
   },
   {
    "duration": 1294,
    "start_time": "2022-08-24T19:06:51.519Z"
   },
   {
    "duration": 40,
    "start_time": "2022-08-24T19:06:52.815Z"
   },
   {
    "duration": 10,
    "start_time": "2022-08-24T19:06:52.856Z"
   },
   {
    "duration": 9,
    "start_time": "2022-08-24T19:06:52.868Z"
   },
   {
    "duration": 10,
    "start_time": "2022-08-24T19:06:52.879Z"
   },
   {
    "duration": 9,
    "start_time": "2022-08-24T19:06:52.890Z"
   },
   {
    "duration": 87,
    "start_time": "2022-08-24T19:06:52.900Z"
   },
   {
    "duration": 181,
    "start_time": "2022-08-24T19:06:52.988Z"
   },
   {
    "duration": 8,
    "start_time": "2022-08-24T19:06:53.171Z"
   },
   {
    "duration": 3903,
    "start_time": "2022-08-24T19:06:53.181Z"
   },
   {
    "duration": 27,
    "start_time": "2022-08-24T19:06:57.086Z"
   },
   {
    "duration": 8,
    "start_time": "2022-08-24T19:06:57.115Z"
   },
   {
    "duration": 14,
    "start_time": "2022-08-24T19:06:57.124Z"
   },
   {
    "duration": 3,
    "start_time": "2022-08-24T19:06:57.140Z"
   },
   {
    "duration": 10,
    "start_time": "2022-08-24T19:09:26.438Z"
   },
   {
    "duration": 21,
    "start_time": "2022-08-24T19:11:36.918Z"
   },
   {
    "duration": 10,
    "start_time": "2022-08-24T19:14:15.079Z"
   },
   {
    "duration": 1255,
    "start_time": "2022-08-24T19:19:18.987Z"
   },
   {
    "duration": 38,
    "start_time": "2022-08-24T19:19:20.243Z"
   },
   {
    "duration": 10,
    "start_time": "2022-08-24T19:19:20.283Z"
   },
   {
    "duration": 11,
    "start_time": "2022-08-24T19:19:20.296Z"
   },
   {
    "duration": 10,
    "start_time": "2022-08-24T19:19:20.308Z"
   },
   {
    "duration": 7,
    "start_time": "2022-08-24T19:19:20.321Z"
   },
   {
    "duration": 86,
    "start_time": "2022-08-24T19:19:20.330Z"
   },
   {
    "duration": 189,
    "start_time": "2022-08-24T19:19:20.418Z"
   },
   {
    "duration": 8,
    "start_time": "2022-08-24T19:19:20.608Z"
   },
   {
    "duration": 3997,
    "start_time": "2022-08-24T19:19:20.618Z"
   },
   {
    "duration": 22,
    "start_time": "2022-08-24T19:19:24.617Z"
   },
   {
    "duration": 10,
    "start_time": "2022-08-24T19:19:24.640Z"
   },
   {
    "duration": 14,
    "start_time": "2022-08-24T19:19:24.651Z"
   },
   {
    "duration": 4,
    "start_time": "2022-08-24T19:19:24.666Z"
   },
   {
    "duration": 12,
    "start_time": "2022-08-24T19:26:10.555Z"
   },
   {
    "duration": 12,
    "start_time": "2022-08-24T19:26:17.787Z"
   },
   {
    "duration": 1275,
    "start_time": "2022-08-24T19:30:43.577Z"
   },
   {
    "duration": 39,
    "start_time": "2022-08-24T19:30:44.853Z"
   },
   {
    "duration": 9,
    "start_time": "2022-08-24T19:30:44.893Z"
   },
   {
    "duration": 8,
    "start_time": "2022-08-24T19:30:44.904Z"
   },
   {
    "duration": 15,
    "start_time": "2022-08-24T19:30:44.913Z"
   },
   {
    "duration": 8,
    "start_time": "2022-08-24T19:30:44.929Z"
   },
   {
    "duration": 90,
    "start_time": "2022-08-24T19:30:44.939Z"
   },
   {
    "duration": 180,
    "start_time": "2022-08-24T19:30:45.030Z"
   },
   {
    "duration": 7,
    "start_time": "2022-08-24T19:30:45.212Z"
   },
   {
    "duration": 4007,
    "start_time": "2022-08-24T19:30:45.221Z"
   },
   {
    "duration": 21,
    "start_time": "2022-08-24T19:30:49.229Z"
   },
   {
    "duration": 9,
    "start_time": "2022-08-24T19:30:49.251Z"
   },
   {
    "duration": 9,
    "start_time": "2022-08-24T19:30:49.262Z"
   },
   {
    "duration": 3,
    "start_time": "2022-08-24T19:30:49.272Z"
   },
   {
    "duration": 1335,
    "start_time": "2022-08-24T19:31:29.056Z"
   },
   {
    "duration": 39,
    "start_time": "2022-08-24T19:31:30.393Z"
   },
   {
    "duration": 10,
    "start_time": "2022-08-24T19:31:30.434Z"
   },
   {
    "duration": 16,
    "start_time": "2022-08-24T19:31:30.445Z"
   },
   {
    "duration": 13,
    "start_time": "2022-08-24T19:31:30.463Z"
   },
   {
    "duration": 26,
    "start_time": "2022-08-24T19:31:30.478Z"
   },
   {
    "duration": 97,
    "start_time": "2022-08-24T19:31:30.505Z"
   },
   {
    "duration": 180,
    "start_time": "2022-08-24T19:31:30.603Z"
   },
   {
    "duration": 7,
    "start_time": "2022-08-24T19:31:30.785Z"
   },
   {
    "duration": 4007,
    "start_time": "2022-08-24T19:31:30.794Z"
   },
   {
    "duration": 26,
    "start_time": "2022-08-24T19:31:34.803Z"
   },
   {
    "duration": 9,
    "start_time": "2022-08-24T19:31:34.831Z"
   },
   {
    "duration": 15,
    "start_time": "2022-08-24T19:31:34.841Z"
   },
   {
    "duration": 3,
    "start_time": "2022-08-24T19:31:34.858Z"
   },
   {
    "duration": 1258,
    "start_time": "2022-08-24T19:32:18.023Z"
   },
   {
    "duration": 38,
    "start_time": "2022-08-24T19:32:19.283Z"
   },
   {
    "duration": 9,
    "start_time": "2022-08-24T19:32:19.322Z"
   },
   {
    "duration": 6,
    "start_time": "2022-08-24T19:32:19.333Z"
   },
   {
    "duration": 17,
    "start_time": "2022-08-24T19:32:19.340Z"
   },
   {
    "duration": 10,
    "start_time": "2022-08-24T19:32:19.359Z"
   },
   {
    "duration": 92,
    "start_time": "2022-08-24T19:32:19.370Z"
   },
   {
    "duration": 181,
    "start_time": "2022-08-24T19:32:19.463Z"
   },
   {
    "duration": 8,
    "start_time": "2022-08-24T19:32:19.645Z"
   },
   {
    "duration": 4018,
    "start_time": "2022-08-24T19:32:19.655Z"
   },
   {
    "duration": 21,
    "start_time": "2022-08-24T19:32:23.674Z"
   },
   {
    "duration": 21,
    "start_time": "2022-08-24T19:32:23.697Z"
   },
   {
    "duration": 31,
    "start_time": "2022-08-24T19:32:23.719Z"
   },
   {
    "duration": 14,
    "start_time": "2022-08-24T19:32:23.752Z"
   },
   {
    "duration": 1356,
    "start_time": "2022-08-24T19:39:55.813Z"
   },
   {
    "duration": 38,
    "start_time": "2022-08-24T19:39:57.171Z"
   },
   {
    "duration": 10,
    "start_time": "2022-08-24T19:39:57.211Z"
   },
   {
    "duration": 25,
    "start_time": "2022-08-24T19:39:57.223Z"
   },
   {
    "duration": 10,
    "start_time": "2022-08-24T19:39:57.249Z"
   },
   {
    "duration": 10,
    "start_time": "2022-08-24T19:39:57.260Z"
   },
   {
    "duration": 86,
    "start_time": "2022-08-24T19:39:57.272Z"
   },
   {
    "duration": 186,
    "start_time": "2022-08-24T19:39:57.359Z"
   },
   {
    "duration": 8,
    "start_time": "2022-08-24T19:39:57.547Z"
   },
   {
    "duration": 3968,
    "start_time": "2022-08-24T19:39:57.558Z"
   },
   {
    "duration": 22,
    "start_time": "2022-08-24T19:40:01.528Z"
   },
   {
    "duration": 10,
    "start_time": "2022-08-24T19:40:01.552Z"
   },
   {
    "duration": 30,
    "start_time": "2022-08-24T19:40:01.564Z"
   },
   {
    "duration": 11,
    "start_time": "2022-08-24T19:40:01.596Z"
   },
   {
    "duration": 1257,
    "start_time": "2022-08-24T19:40:35.591Z"
   },
   {
    "duration": 39,
    "start_time": "2022-08-24T19:40:36.850Z"
   },
   {
    "duration": 10,
    "start_time": "2022-08-24T19:40:36.890Z"
   },
   {
    "duration": 11,
    "start_time": "2022-08-24T19:40:36.902Z"
   },
   {
    "duration": 12,
    "start_time": "2022-08-24T19:40:36.914Z"
   },
   {
    "duration": 11,
    "start_time": "2022-08-24T19:40:36.927Z"
   },
   {
    "duration": 86,
    "start_time": "2022-08-24T19:40:36.939Z"
   },
   {
    "duration": 188,
    "start_time": "2022-08-24T19:40:37.026Z"
   },
   {
    "duration": 8,
    "start_time": "2022-08-24T19:40:37.215Z"
   },
   {
    "duration": 3923,
    "start_time": "2022-08-24T19:40:37.226Z"
   },
   {
    "duration": 22,
    "start_time": "2022-08-24T19:40:41.151Z"
   },
   {
    "duration": 10,
    "start_time": "2022-08-24T19:40:41.174Z"
   },
   {
    "duration": 30,
    "start_time": "2022-08-24T19:40:41.185Z"
   },
   {
    "duration": 4,
    "start_time": "2022-08-24T19:40:41.216Z"
   },
   {
    "duration": 1338,
    "start_time": "2022-08-24T19:51:01.683Z"
   },
   {
    "duration": 38,
    "start_time": "2022-08-24T19:51:03.023Z"
   },
   {
    "duration": 10,
    "start_time": "2022-08-24T19:51:03.063Z"
   },
   {
    "duration": 7,
    "start_time": "2022-08-24T19:51:03.074Z"
   },
   {
    "duration": 9,
    "start_time": "2022-08-24T19:51:03.083Z"
   },
   {
    "duration": 15,
    "start_time": "2022-08-24T19:51:03.094Z"
   },
   {
    "duration": 86,
    "start_time": "2022-08-24T19:51:03.111Z"
   },
   {
    "duration": 191,
    "start_time": "2022-08-24T19:51:03.199Z"
   },
   {
    "duration": 8,
    "start_time": "2022-08-24T19:51:03.391Z"
   },
   {
    "duration": 3988,
    "start_time": "2022-08-24T19:51:03.401Z"
   },
   {
    "duration": 29,
    "start_time": "2022-08-24T19:51:07.390Z"
   },
   {
    "duration": 11,
    "start_time": "2022-08-24T19:51:07.421Z"
   },
   {
    "duration": 12,
    "start_time": "2022-08-24T19:51:07.434Z"
   },
   {
    "duration": 5,
    "start_time": "2022-08-24T19:51:07.447Z"
   },
   {
    "duration": 1195,
    "start_time": "2022-08-24T19:51:30.690Z"
   },
   {
    "duration": 0,
    "start_time": "2022-08-24T19:51:31.887Z"
   },
   {
    "duration": 0,
    "start_time": "2022-08-24T19:51:31.888Z"
   },
   {
    "duration": 0,
    "start_time": "2022-08-24T19:51:31.889Z"
   },
   {
    "duration": 0,
    "start_time": "2022-08-24T19:51:31.890Z"
   },
   {
    "duration": 0,
    "start_time": "2022-08-24T19:51:31.891Z"
   },
   {
    "duration": 0,
    "start_time": "2022-08-24T19:51:31.892Z"
   },
   {
    "duration": 0,
    "start_time": "2022-08-24T19:51:31.893Z"
   },
   {
    "duration": 0,
    "start_time": "2022-08-24T19:51:31.893Z"
   },
   {
    "duration": 0,
    "start_time": "2022-08-24T19:51:31.894Z"
   },
   {
    "duration": 0,
    "start_time": "2022-08-24T19:51:31.895Z"
   },
   {
    "duration": 0,
    "start_time": "2022-08-24T19:51:31.895Z"
   },
   {
    "duration": 0,
    "start_time": "2022-08-24T19:51:31.896Z"
   },
   {
    "duration": 0,
    "start_time": "2022-08-24T19:51:31.897Z"
   },
   {
    "duration": 1187,
    "start_time": "2022-08-24T19:52:40.867Z"
   },
   {
    "duration": 38,
    "start_time": "2022-08-24T19:52:42.057Z"
   },
   {
    "duration": 10,
    "start_time": "2022-08-24T19:52:42.096Z"
   },
   {
    "duration": 6,
    "start_time": "2022-08-24T19:52:42.108Z"
   },
   {
    "duration": 10,
    "start_time": "2022-08-24T19:52:42.116Z"
   },
   {
    "duration": 6,
    "start_time": "2022-08-24T19:52:42.127Z"
   },
   {
    "duration": 99,
    "start_time": "2022-08-24T19:52:42.134Z"
   },
   {
    "duration": 183,
    "start_time": "2022-08-24T19:52:42.235Z"
   },
   {
    "duration": 8,
    "start_time": "2022-08-24T19:52:42.420Z"
   },
   {
    "duration": 3966,
    "start_time": "2022-08-24T19:52:42.429Z"
   },
   {
    "duration": 25,
    "start_time": "2022-08-24T19:52:46.397Z"
   },
   {
    "duration": 8,
    "start_time": "2022-08-24T19:52:46.423Z"
   },
   {
    "duration": 14,
    "start_time": "2022-08-24T19:52:46.432Z"
   },
   {
    "duration": 3,
    "start_time": "2022-08-24T19:52:46.448Z"
   },
   {
    "duration": 1861,
    "start_time": "2022-08-24T20:17:34.356Z"
   },
   {
    "duration": 90,
    "start_time": "2022-08-24T20:17:36.219Z"
   },
   {
    "duration": 11,
    "start_time": "2022-08-24T20:17:36.311Z"
   },
   {
    "duration": 6,
    "start_time": "2022-08-24T20:17:36.324Z"
   },
   {
    "duration": 10,
    "start_time": "2022-08-24T20:17:36.332Z"
   },
   {
    "duration": 7,
    "start_time": "2022-08-24T20:17:36.344Z"
   },
   {
    "duration": 102,
    "start_time": "2022-08-24T20:17:36.352Z"
   },
   {
    "duration": 210,
    "start_time": "2022-08-24T20:17:36.455Z"
   },
   {
    "duration": 10,
    "start_time": "2022-08-24T20:17:36.666Z"
   },
   {
    "duration": 4453,
    "start_time": "2022-08-24T20:17:36.678Z"
   },
   {
    "duration": 28,
    "start_time": "2022-08-24T20:17:41.133Z"
   },
   {
    "duration": 10,
    "start_time": "2022-08-24T20:17:41.163Z"
   },
   {
    "duration": 31,
    "start_time": "2022-08-24T20:17:41.175Z"
   },
   {
    "duration": 4,
    "start_time": "2022-08-24T20:17:41.208Z"
   },
   {
    "duration": 48,
    "start_time": "2022-08-25T10:17:55.007Z"
   },
   {
    "duration": 1421,
    "start_time": "2022-08-25T10:18:01.937Z"
   },
   {
    "duration": 136,
    "start_time": "2022-08-25T10:18:03.360Z"
   },
   {
    "duration": 10,
    "start_time": "2022-08-25T10:18:03.499Z"
   },
   {
    "duration": 128,
    "start_time": "2022-08-25T10:18:03.511Z"
   },
   {
    "duration": 0,
    "start_time": "2022-08-25T10:18:03.641Z"
   },
   {
    "duration": 0,
    "start_time": "2022-08-25T10:18:03.642Z"
   },
   {
    "duration": 0,
    "start_time": "2022-08-25T10:18:03.643Z"
   },
   {
    "duration": 0,
    "start_time": "2022-08-25T10:18:03.644Z"
   },
   {
    "duration": 0,
    "start_time": "2022-08-25T10:18:03.645Z"
   },
   {
    "duration": 0,
    "start_time": "2022-08-25T10:18:03.646Z"
   },
   {
    "duration": 0,
    "start_time": "2022-08-25T10:18:03.647Z"
   },
   {
    "duration": 0,
    "start_time": "2022-08-25T10:18:03.647Z"
   },
   {
    "duration": 0,
    "start_time": "2022-08-25T10:18:03.648Z"
   },
   {
    "duration": 0,
    "start_time": "2022-08-25T10:18:03.649Z"
   },
   {
    "duration": 0,
    "start_time": "2022-08-25T10:18:03.650Z"
   },
   {
    "duration": 10,
    "start_time": "2022-08-25T10:18:55.103Z"
   },
   {
    "duration": 5,
    "start_time": "2022-08-25T10:19:35.685Z"
   },
   {
    "duration": 6,
    "start_time": "2022-08-25T10:21:59.150Z"
   },
   {
    "duration": 4,
    "start_time": "2022-08-25T10:22:17.257Z"
   },
   {
    "duration": 10,
    "start_time": "2022-08-25T10:40:12.804Z"
   },
   {
    "duration": 9,
    "start_time": "2022-08-25T10:40:27.225Z"
   },
   {
    "duration": 5,
    "start_time": "2022-08-25T10:40:45.176Z"
   },
   {
    "duration": 4,
    "start_time": "2022-08-25T10:40:56.738Z"
   },
   {
    "duration": 4,
    "start_time": "2022-08-25T10:41:03.555Z"
   },
   {
    "duration": 31,
    "start_time": "2022-08-25T10:41:57.424Z"
   },
   {
    "duration": 7,
    "start_time": "2022-08-25T10:44:34.804Z"
   },
   {
    "duration": 5,
    "start_time": "2022-08-25T10:44:50.804Z"
   },
   {
    "duration": 6,
    "start_time": "2022-08-25T10:44:59.182Z"
   },
   {
    "duration": 1282,
    "start_time": "2022-08-25T10:46:15.927Z"
   },
   {
    "duration": 42,
    "start_time": "2022-08-25T10:46:17.211Z"
   },
   {
    "duration": 10,
    "start_time": "2022-08-25T10:46:17.255Z"
   },
   {
    "duration": 12,
    "start_time": "2022-08-25T10:46:17.267Z"
   },
   {
    "duration": 5,
    "start_time": "2022-08-25T10:46:17.280Z"
   },
   {
    "duration": 8,
    "start_time": "2022-08-25T10:46:17.287Z"
   },
   {
    "duration": 10,
    "start_time": "2022-08-25T10:46:17.296Z"
   },
   {
    "duration": 91,
    "start_time": "2022-08-25T10:46:17.307Z"
   },
   {
    "duration": 177,
    "start_time": "2022-08-25T10:46:17.399Z"
   },
   {
    "duration": 7,
    "start_time": "2022-08-25T10:46:17.578Z"
   },
   {
    "duration": 3911,
    "start_time": "2022-08-25T10:46:17.598Z"
   },
   {
    "duration": 19,
    "start_time": "2022-08-25T10:46:21.511Z"
   },
   {
    "duration": 8,
    "start_time": "2022-08-25T10:46:21.532Z"
   },
   {
    "duration": 12,
    "start_time": "2022-08-25T10:46:21.541Z"
   },
   {
    "duration": 3,
    "start_time": "2022-08-25T10:46:21.555Z"
   },
   {
    "duration": 1298,
    "start_time": "2022-08-25T10:46:27.962Z"
   },
   {
    "duration": 38,
    "start_time": "2022-08-25T10:46:29.262Z"
   },
   {
    "duration": 10,
    "start_time": "2022-08-25T10:46:29.301Z"
   },
   {
    "duration": 10,
    "start_time": "2022-08-25T10:46:29.313Z"
   },
   {
    "duration": 5,
    "start_time": "2022-08-25T10:46:29.324Z"
   },
   {
    "duration": 9,
    "start_time": "2022-08-25T10:46:29.331Z"
   },
   {
    "duration": 10,
    "start_time": "2022-08-25T10:46:29.341Z"
   },
   {
    "duration": 108,
    "start_time": "2022-08-25T10:46:29.352Z"
   },
   {
    "duration": 182,
    "start_time": "2022-08-25T10:46:29.461Z"
   },
   {
    "duration": 7,
    "start_time": "2022-08-25T10:46:29.645Z"
   },
   {
    "duration": 3842,
    "start_time": "2022-08-25T10:46:29.653Z"
   },
   {
    "duration": 21,
    "start_time": "2022-08-25T10:46:33.498Z"
   },
   {
    "duration": 9,
    "start_time": "2022-08-25T10:46:33.520Z"
   },
   {
    "duration": 12,
    "start_time": "2022-08-25T10:46:33.531Z"
   },
   {
    "duration": 3,
    "start_time": "2022-08-25T10:46:33.545Z"
   },
   {
    "duration": 1346,
    "start_time": "2022-08-25T12:38:10.886Z"
   },
   {
    "duration": 40,
    "start_time": "2022-08-25T12:38:12.234Z"
   },
   {
    "duration": 13,
    "start_time": "2022-08-25T12:38:12.275Z"
   },
   {
    "duration": 24,
    "start_time": "2022-08-25T12:38:12.290Z"
   },
   {
    "duration": 11,
    "start_time": "2022-08-25T12:38:12.316Z"
   },
   {
    "duration": 18,
    "start_time": "2022-08-25T12:38:12.329Z"
   },
   {
    "duration": 13,
    "start_time": "2022-08-25T12:38:12.348Z"
   },
   {
    "duration": 90,
    "start_time": "2022-08-25T12:38:12.363Z"
   },
   {
    "duration": 185,
    "start_time": "2022-08-25T12:38:12.454Z"
   },
   {
    "duration": 7,
    "start_time": "2022-08-25T12:38:12.641Z"
   },
   {
    "duration": 3967,
    "start_time": "2022-08-25T12:38:12.650Z"
   },
   {
    "duration": 29,
    "start_time": "2022-08-25T12:38:16.619Z"
   },
   {
    "duration": 9,
    "start_time": "2022-08-25T12:38:16.650Z"
   },
   {
    "duration": 16,
    "start_time": "2022-08-25T12:38:16.660Z"
   },
   {
    "duration": 3,
    "start_time": "2022-08-25T12:38:16.698Z"
   },
   {
    "duration": 1242,
    "start_time": "2022-08-25T12:49:58.813Z"
   },
   {
    "duration": 39,
    "start_time": "2022-08-25T12:50:00.057Z"
   },
   {
    "duration": 10,
    "start_time": "2022-08-25T12:50:00.097Z"
   },
   {
    "duration": 8,
    "start_time": "2022-08-25T12:50:00.109Z"
   },
   {
    "duration": 7,
    "start_time": "2022-08-25T12:50:00.118Z"
   },
   {
    "duration": 9,
    "start_time": "2022-08-25T12:50:00.127Z"
   },
   {
    "duration": 14,
    "start_time": "2022-08-25T12:50:00.137Z"
   },
   {
    "duration": 96,
    "start_time": "2022-08-25T12:50:00.153Z"
   },
   {
    "duration": 193,
    "start_time": "2022-08-25T12:50:00.250Z"
   },
   {
    "duration": 6,
    "start_time": "2022-08-25T12:50:00.445Z"
   },
   {
    "duration": 3959,
    "start_time": "2022-08-25T12:50:00.453Z"
   },
   {
    "duration": 42,
    "start_time": "2022-08-25T12:50:04.413Z"
   },
   {
    "duration": 14,
    "start_time": "2022-08-25T12:50:04.457Z"
   },
   {
    "duration": 35,
    "start_time": "2022-08-25T12:50:04.473Z"
   },
   {
    "duration": 11,
    "start_time": "2022-08-25T12:50:04.510Z"
   },
   {
    "duration": 129,
    "start_time": "2022-08-25T12:59:10.124Z"
   },
   {
    "duration": 1195,
    "start_time": "2022-08-25T12:59:17.642Z"
   },
   {
    "duration": 39,
    "start_time": "2022-08-25T12:59:18.839Z"
   },
   {
    "duration": 13,
    "start_time": "2022-08-25T12:59:18.879Z"
   },
   {
    "duration": 8,
    "start_time": "2022-08-25T12:59:18.894Z"
   },
   {
    "duration": 8,
    "start_time": "2022-08-25T12:59:18.905Z"
   },
   {
    "duration": 10,
    "start_time": "2022-08-25T12:59:18.915Z"
   },
   {
    "duration": 8,
    "start_time": "2022-08-25T12:59:18.927Z"
   },
   {
    "duration": 136,
    "start_time": "2022-08-25T12:59:18.936Z"
   },
   {
    "duration": 0,
    "start_time": "2022-08-25T12:59:19.073Z"
   },
   {
    "duration": 0,
    "start_time": "2022-08-25T12:59:19.075Z"
   },
   {
    "duration": 0,
    "start_time": "2022-08-25T12:59:19.075Z"
   },
   {
    "duration": 0,
    "start_time": "2022-08-25T12:59:19.076Z"
   },
   {
    "duration": 0,
    "start_time": "2022-08-25T12:59:19.077Z"
   },
   {
    "duration": 0,
    "start_time": "2022-08-25T12:59:19.078Z"
   },
   {
    "duration": 1277,
    "start_time": "2022-08-25T12:59:55.967Z"
   },
   {
    "duration": 38,
    "start_time": "2022-08-25T12:59:57.247Z"
   },
   {
    "duration": 9,
    "start_time": "2022-08-25T12:59:57.287Z"
   },
   {
    "duration": 5,
    "start_time": "2022-08-25T12:59:57.298Z"
   },
   {
    "duration": 8,
    "start_time": "2022-08-25T12:59:57.305Z"
   },
   {
    "duration": 8,
    "start_time": "2022-08-25T12:59:57.314Z"
   },
   {
    "duration": 10,
    "start_time": "2022-08-25T12:59:57.324Z"
   },
   {
    "duration": 9421,
    "start_time": "2022-08-25T12:59:57.335Z"
   },
   {
    "duration": 183,
    "start_time": "2022-08-25T13:00:06.758Z"
   },
   {
    "duration": 3937,
    "start_time": "2022-08-25T13:00:06.943Z"
   },
   {
    "duration": 36,
    "start_time": "2022-08-25T13:00:10.881Z"
   },
   {
    "duration": 8,
    "start_time": "2022-08-25T13:00:10.919Z"
   },
   {
    "duration": 13,
    "start_time": "2022-08-25T13:00:10.929Z"
   },
   {
    "duration": 6,
    "start_time": "2022-08-25T13:00:10.943Z"
   },
   {
    "duration": 1299,
    "start_time": "2022-08-25T13:04:29.343Z"
   },
   {
    "duration": 42,
    "start_time": "2022-08-25T13:04:30.644Z"
   },
   {
    "duration": 11,
    "start_time": "2022-08-25T13:04:30.687Z"
   },
   {
    "duration": 23,
    "start_time": "2022-08-25T13:04:30.706Z"
   },
   {
    "duration": 56,
    "start_time": "2022-08-25T13:04:30.731Z"
   },
   {
    "duration": 71,
    "start_time": "2022-08-25T13:04:30.789Z"
   },
   {
    "duration": 23,
    "start_time": "2022-08-25T13:04:30.862Z"
   },
   {
    "duration": 26597,
    "start_time": "2022-08-25T13:04:30.886Z"
   },
   {
    "duration": 247,
    "start_time": "2022-08-25T13:04:57.484Z"
   },
   {
    "duration": 3888,
    "start_time": "2022-08-25T13:04:57.733Z"
   },
   {
    "duration": 32,
    "start_time": "2022-08-25T13:05:01.622Z"
   },
   {
    "duration": 25,
    "start_time": "2022-08-25T13:05:01.656Z"
   },
   {
    "duration": 27,
    "start_time": "2022-08-25T13:05:01.682Z"
   },
   {
    "duration": 7,
    "start_time": "2022-08-25T13:05:01.711Z"
   },
   {
    "duration": 1294,
    "start_time": "2022-08-25T13:06:14.962Z"
   },
   {
    "duration": 39,
    "start_time": "2022-08-25T13:06:16.258Z"
   },
   {
    "duration": 9,
    "start_time": "2022-08-25T13:06:16.299Z"
   },
   {
    "duration": 10,
    "start_time": "2022-08-25T13:06:16.310Z"
   },
   {
    "duration": 7,
    "start_time": "2022-08-25T13:06:16.322Z"
   },
   {
    "duration": 9,
    "start_time": "2022-08-25T13:06:16.330Z"
   },
   {
    "duration": 8,
    "start_time": "2022-08-25T13:06:16.340Z"
   },
   {
    "duration": 26473,
    "start_time": "2022-08-25T13:06:16.349Z"
   },
   {
    "duration": 250,
    "start_time": "2022-08-25T13:06:42.823Z"
   },
   {
    "duration": 3925,
    "start_time": "2022-08-25T13:06:43.075Z"
   },
   {
    "duration": 29,
    "start_time": "2022-08-25T13:06:47.002Z"
   },
   {
    "duration": 9,
    "start_time": "2022-08-25T13:06:47.033Z"
   },
   {
    "duration": 13,
    "start_time": "2022-08-25T13:06:47.043Z"
   },
   {
    "duration": 4,
    "start_time": "2022-08-25T13:06:47.058Z"
   },
   {
    "duration": 1241,
    "start_time": "2022-08-25T13:10:42.084Z"
   },
   {
    "duration": 38,
    "start_time": "2022-08-25T13:10:43.327Z"
   },
   {
    "duration": 9,
    "start_time": "2022-08-25T13:10:43.367Z"
   },
   {
    "duration": 8,
    "start_time": "2022-08-25T13:10:43.378Z"
   },
   {
    "duration": 7,
    "start_time": "2022-08-25T13:10:43.387Z"
   },
   {
    "duration": 9,
    "start_time": "2022-08-25T13:10:43.395Z"
   },
   {
    "duration": 8,
    "start_time": "2022-08-25T13:10:43.405Z"
   },
   {
    "duration": 27764,
    "start_time": "2022-08-25T13:10:43.414Z"
   },
   {
    "duration": 244,
    "start_time": "2022-08-25T13:11:11.180Z"
   },
   {
    "duration": 3929,
    "start_time": "2022-08-25T13:11:11.426Z"
   },
   {
    "duration": 28,
    "start_time": "2022-08-25T13:11:15.357Z"
   },
   {
    "duration": 18,
    "start_time": "2022-08-25T13:11:15.387Z"
   },
   {
    "duration": 12,
    "start_time": "2022-08-25T13:11:15.406Z"
   },
   {
    "duration": 4,
    "start_time": "2022-08-25T13:11:15.419Z"
   },
   {
    "duration": 1260,
    "start_time": "2022-08-25T13:11:42.425Z"
   },
   {
    "duration": 38,
    "start_time": "2022-08-25T13:11:43.687Z"
   },
   {
    "duration": 10,
    "start_time": "2022-08-25T13:11:43.727Z"
   },
   {
    "duration": 16,
    "start_time": "2022-08-25T13:11:43.739Z"
   },
   {
    "duration": 8,
    "start_time": "2022-08-25T13:11:43.756Z"
   },
   {
    "duration": 10,
    "start_time": "2022-08-25T13:11:43.765Z"
   },
   {
    "duration": 6,
    "start_time": "2022-08-25T13:11:43.777Z"
   },
   {
    "duration": 26623,
    "start_time": "2022-08-25T13:11:43.785Z"
   },
   {
    "duration": 247,
    "start_time": "2022-08-25T13:12:10.410Z"
   },
   {
    "duration": 3912,
    "start_time": "2022-08-25T13:12:10.659Z"
   },
   {
    "duration": 43,
    "start_time": "2022-08-25T13:12:14.573Z"
   },
   {
    "duration": 9,
    "start_time": "2022-08-25T13:12:14.617Z"
   },
   {
    "duration": 15,
    "start_time": "2022-08-25T13:12:14.628Z"
   },
   {
    "duration": 3,
    "start_time": "2022-08-25T13:12:14.644Z"
   },
   {
    "duration": 3969,
    "start_time": "2022-08-25T13:17:51.749Z"
   },
   {
    "duration": 4,
    "start_time": "2022-08-25T13:27:17.251Z"
   },
   {
    "duration": 1308,
    "start_time": "2022-08-25T13:27:22.699Z"
   },
   {
    "duration": 42,
    "start_time": "2022-08-25T13:27:24.008Z"
   },
   {
    "duration": 11,
    "start_time": "2022-08-25T13:27:24.052Z"
   },
   {
    "duration": 11,
    "start_time": "2022-08-25T13:27:24.066Z"
   },
   {
    "duration": 11,
    "start_time": "2022-08-25T13:27:24.078Z"
   },
   {
    "duration": 19,
    "start_time": "2022-08-25T13:27:24.091Z"
   },
   {
    "duration": 15,
    "start_time": "2022-08-25T13:27:24.112Z"
   },
   {
    "duration": 144,
    "start_time": "2022-08-25T13:27:24.129Z"
   },
   {
    "duration": 0,
    "start_time": "2022-08-25T13:27:24.275Z"
   },
   {
    "duration": 0,
    "start_time": "2022-08-25T13:27:24.276Z"
   },
   {
    "duration": 0,
    "start_time": "2022-08-25T13:27:24.277Z"
   },
   {
    "duration": 0,
    "start_time": "2022-08-25T13:27:24.278Z"
   },
   {
    "duration": 0,
    "start_time": "2022-08-25T13:27:24.280Z"
   },
   {
    "duration": 0,
    "start_time": "2022-08-25T13:27:24.281Z"
   },
   {
    "duration": 1208,
    "start_time": "2022-08-25T13:28:28.128Z"
   },
   {
    "duration": 39,
    "start_time": "2022-08-25T13:28:29.338Z"
   },
   {
    "duration": 11,
    "start_time": "2022-08-25T13:28:29.379Z"
   },
   {
    "duration": 11,
    "start_time": "2022-08-25T13:28:29.392Z"
   },
   {
    "duration": 7,
    "start_time": "2022-08-25T13:28:29.405Z"
   },
   {
    "duration": 8,
    "start_time": "2022-08-25T13:28:29.414Z"
   },
   {
    "duration": 7,
    "start_time": "2022-08-25T13:28:29.424Z"
   },
   {
    "duration": 27728,
    "start_time": "2022-08-25T13:28:29.432Z"
   },
   {
    "duration": 190,
    "start_time": "2022-08-25T13:28:57.161Z"
   },
   {
    "duration": 3947,
    "start_time": "2022-08-25T13:28:57.353Z"
   },
   {
    "duration": 29,
    "start_time": "2022-08-25T13:29:01.301Z"
   },
   {
    "duration": 9,
    "start_time": "2022-08-25T13:29:01.332Z"
   },
   {
    "duration": 33,
    "start_time": "2022-08-25T13:29:01.342Z"
   },
   {
    "duration": 26,
    "start_time": "2022-08-25T13:29:01.376Z"
   },
   {
    "duration": 114,
    "start_time": "2022-08-25T13:44:28.132Z"
   },
   {
    "duration": 1264,
    "start_time": "2022-08-25T13:45:07.395Z"
   },
   {
    "duration": 41,
    "start_time": "2022-08-25T13:45:08.661Z"
   },
   {
    "duration": 10,
    "start_time": "2022-08-25T13:45:08.703Z"
   },
   {
    "duration": 20,
    "start_time": "2022-08-25T13:45:08.715Z"
   },
   {
    "duration": 9,
    "start_time": "2022-08-25T13:45:08.736Z"
   },
   {
    "duration": 9,
    "start_time": "2022-08-25T13:45:08.746Z"
   },
   {
    "duration": 9,
    "start_time": "2022-08-25T13:45:08.757Z"
   },
   {
    "duration": 28042,
    "start_time": "2022-08-25T13:45:08.767Z"
   },
   {
    "duration": 190,
    "start_time": "2022-08-25T13:45:36.811Z"
   },
   {
    "duration": 3996,
    "start_time": "2022-08-25T13:45:37.004Z"
   },
   {
    "duration": 119,
    "start_time": "2022-08-25T13:45:41.002Z"
   },
   {
    "duration": 0,
    "start_time": "2022-08-25T13:45:41.123Z"
   },
   {
    "duration": 0,
    "start_time": "2022-08-25T13:45:41.125Z"
   },
   {
    "duration": 0,
    "start_time": "2022-08-25T13:45:41.125Z"
   },
   {
    "duration": 0,
    "start_time": "2022-08-25T13:45:41.126Z"
   },
   {
    "duration": 1209,
    "start_time": "2022-08-25T13:48:25.817Z"
   },
   {
    "duration": 38,
    "start_time": "2022-08-25T13:48:27.028Z"
   },
   {
    "duration": 10,
    "start_time": "2022-08-25T13:48:27.068Z"
   },
   {
    "duration": 10,
    "start_time": "2022-08-25T13:48:27.080Z"
   },
   {
    "duration": 8,
    "start_time": "2022-08-25T13:48:27.091Z"
   },
   {
    "duration": 10,
    "start_time": "2022-08-25T13:48:27.100Z"
   },
   {
    "duration": 10,
    "start_time": "2022-08-25T13:48:27.111Z"
   },
   {
    "duration": 28051,
    "start_time": "2022-08-25T13:48:27.123Z"
   },
   {
    "duration": 288,
    "start_time": "2022-08-25T13:48:55.176Z"
   },
   {
    "duration": 3896,
    "start_time": "2022-08-25T13:48:55.467Z"
   },
   {
    "duration": 382,
    "start_time": "2022-08-25T13:48:59.365Z"
   },
   {
    "duration": 31,
    "start_time": "2022-08-25T13:48:59.748Z"
   },
   {
    "duration": 24,
    "start_time": "2022-08-25T13:48:59.781Z"
   },
   {
    "duration": 12,
    "start_time": "2022-08-25T13:48:59.807Z"
   },
   {
    "duration": 5,
    "start_time": "2022-08-25T13:48:59.821Z"
   },
   {
    "duration": 1240,
    "start_time": "2022-08-25T13:50:59.577Z"
   },
   {
    "duration": 38,
    "start_time": "2022-08-25T13:51:00.820Z"
   },
   {
    "duration": 10,
    "start_time": "2022-08-25T13:51:00.860Z"
   },
   {
    "duration": 20,
    "start_time": "2022-08-25T13:51:00.873Z"
   },
   {
    "duration": 18,
    "start_time": "2022-08-25T13:51:00.895Z"
   },
   {
    "duration": 9,
    "start_time": "2022-08-25T13:51:00.914Z"
   },
   {
    "duration": 17,
    "start_time": "2022-08-25T13:51:00.925Z"
   },
   {
    "duration": 27526,
    "start_time": "2022-08-25T13:51:00.944Z"
   },
   {
    "duration": 254,
    "start_time": "2022-08-25T13:51:28.471Z"
   },
   {
    "duration": 3958,
    "start_time": "2022-08-25T13:51:28.727Z"
   },
   {
    "duration": 18283,
    "start_time": "2022-08-25T13:51:32.687Z"
   },
   {
    "duration": 35,
    "start_time": "2022-08-25T13:51:50.971Z"
   },
   {
    "duration": 12,
    "start_time": "2022-08-25T13:51:51.007Z"
   },
   {
    "duration": 12,
    "start_time": "2022-08-25T13:51:51.021Z"
   },
   {
    "duration": 3,
    "start_time": "2022-08-25T13:51:51.035Z"
   },
   {
    "duration": 1216,
    "start_time": "2022-08-25T13:54:38.947Z"
   },
   {
    "duration": 41,
    "start_time": "2022-08-25T13:54:40.165Z"
   },
   {
    "duration": 10,
    "start_time": "2022-08-25T13:54:40.208Z"
   },
   {
    "duration": 8,
    "start_time": "2022-08-25T13:54:40.220Z"
   },
   {
    "duration": 9,
    "start_time": "2022-08-25T13:54:40.229Z"
   },
   {
    "duration": 9,
    "start_time": "2022-08-25T13:54:40.240Z"
   },
   {
    "duration": 6,
    "start_time": "2022-08-25T13:54:40.250Z"
   },
   {
    "duration": 27447,
    "start_time": "2022-08-25T13:54:40.257Z"
   },
   {
    "duration": 247,
    "start_time": "2022-08-25T13:55:07.705Z"
   },
   {
    "duration": 3885,
    "start_time": "2022-08-25T13:55:07.954Z"
   },
   {
    "duration": 18002,
    "start_time": "2022-08-25T13:55:11.840Z"
   },
   {
    "duration": 30,
    "start_time": "2022-08-25T13:55:29.843Z"
   },
   {
    "duration": 25,
    "start_time": "2022-08-25T13:55:29.874Z"
   },
   {
    "duration": 11,
    "start_time": "2022-08-25T13:55:29.901Z"
   },
   {
    "duration": 4,
    "start_time": "2022-08-25T13:55:29.913Z"
   },
   {
    "duration": 1652,
    "start_time": "2022-08-25T20:17:50.079Z"
   },
   {
    "duration": 120,
    "start_time": "2022-08-25T20:17:51.734Z"
   },
   {
    "duration": 15,
    "start_time": "2022-08-25T20:17:51.856Z"
   },
   {
    "duration": 44,
    "start_time": "2022-08-25T20:17:51.874Z"
   },
   {
    "duration": 17,
    "start_time": "2022-08-25T20:17:51.920Z"
   },
   {
    "duration": 24,
    "start_time": "2022-08-25T20:17:51.940Z"
   },
   {
    "duration": 11,
    "start_time": "2022-08-25T20:17:51.967Z"
   },
   {
    "duration": 35468,
    "start_time": "2022-08-25T20:17:51.980Z"
   },
   {
    "duration": 339,
    "start_time": "2022-08-25T20:18:27.450Z"
   },
   {
    "duration": 5042,
    "start_time": "2022-08-25T20:18:27.792Z"
   },
   {
    "duration": 21717,
    "start_time": "2022-08-25T20:18:32.836Z"
   },
   {
    "duration": 55,
    "start_time": "2022-08-25T20:18:54.555Z"
   },
   {
    "duration": 18,
    "start_time": "2022-08-25T20:18:54.612Z"
   },
   {
    "duration": 70,
    "start_time": "2022-08-25T20:18:54.632Z"
   },
   {
    "duration": 140,
    "start_time": "2022-08-25T20:18:54.703Z"
   },
   {
    "duration": 0,
    "start_time": "2022-08-25T20:18:54.846Z"
   },
   {
    "duration": 1390,
    "start_time": "2022-08-25T20:21:13.525Z"
   },
   {
    "duration": 41,
    "start_time": "2022-08-25T20:21:14.917Z"
   },
   {
    "duration": 12,
    "start_time": "2022-08-25T20:21:14.960Z"
   },
   {
    "duration": 9,
    "start_time": "2022-08-25T20:21:14.974Z"
   },
   {
    "duration": 9,
    "start_time": "2022-08-25T20:21:14.985Z"
   },
   {
    "duration": 10,
    "start_time": "2022-08-25T20:21:14.996Z"
   },
   {
    "duration": 25,
    "start_time": "2022-08-25T20:21:15.008Z"
   },
   {
    "duration": 32292,
    "start_time": "2022-08-25T20:21:15.035Z"
   },
   {
    "duration": 348,
    "start_time": "2022-08-25T20:21:47.328Z"
   },
   {
    "duration": 4529,
    "start_time": "2022-08-25T20:21:47.678Z"
   },
   {
    "duration": 20314,
    "start_time": "2022-08-25T20:21:52.209Z"
   },
   {
    "duration": 42,
    "start_time": "2022-08-25T20:22:12.525Z"
   },
   {
    "duration": 30,
    "start_time": "2022-08-25T20:22:12.569Z"
   },
   {
    "duration": 16,
    "start_time": "2022-08-25T20:22:12.600Z"
   },
   {
    "duration": 166,
    "start_time": "2022-08-25T20:22:12.618Z"
   },
   {
    "duration": 4,
    "start_time": "2022-08-25T20:22:12.791Z"
   },
   {
    "duration": 82,
    "start_time": "2022-08-25T20:25:26.340Z"
   },
   {
    "duration": 20657,
    "start_time": "2022-08-25T20:27:06.704Z"
   },
   {
    "duration": 1408,
    "start_time": "2022-08-25T20:28:11.881Z"
   },
   {
    "duration": 40,
    "start_time": "2022-08-25T20:28:13.292Z"
   },
   {
    "duration": 12,
    "start_time": "2022-08-25T20:28:13.334Z"
   },
   {
    "duration": 9,
    "start_time": "2022-08-25T20:28:13.348Z"
   },
   {
    "duration": 13,
    "start_time": "2022-08-25T20:28:13.359Z"
   },
   {
    "duration": 16,
    "start_time": "2022-08-25T20:28:13.373Z"
   },
   {
    "duration": 7,
    "start_time": "2022-08-25T20:28:13.390Z"
   },
   {
    "duration": 294,
    "start_time": "2022-08-25T20:28:13.399Z"
   },
   {
    "duration": 0,
    "start_time": "2022-08-25T20:28:13.695Z"
   },
   {
    "duration": 0,
    "start_time": "2022-08-25T20:28:13.696Z"
   },
   {
    "duration": 0,
    "start_time": "2022-08-25T20:28:13.697Z"
   },
   {
    "duration": 0,
    "start_time": "2022-08-25T20:28:13.698Z"
   },
   {
    "duration": 0,
    "start_time": "2022-08-25T20:28:13.699Z"
   },
   {
    "duration": 0,
    "start_time": "2022-08-25T20:28:13.700Z"
   },
   {
    "duration": 0,
    "start_time": "2022-08-25T20:28:13.701Z"
   },
   {
    "duration": 0,
    "start_time": "2022-08-25T20:28:13.702Z"
   },
   {
    "duration": 0,
    "start_time": "2022-08-25T20:28:13.703Z"
   },
   {
    "duration": 1442,
    "start_time": "2022-08-25T20:29:07.728Z"
   },
   {
    "duration": 42,
    "start_time": "2022-08-25T20:29:09.172Z"
   },
   {
    "duration": 12,
    "start_time": "2022-08-25T20:29:09.216Z"
   },
   {
    "duration": 11,
    "start_time": "2022-08-25T20:29:09.230Z"
   },
   {
    "duration": 9,
    "start_time": "2022-08-25T20:29:09.244Z"
   },
   {
    "duration": 12,
    "start_time": "2022-08-25T20:29:09.255Z"
   },
   {
    "duration": 29,
    "start_time": "2022-08-25T20:29:09.268Z"
   },
   {
    "duration": 360,
    "start_time": "2022-08-25T20:29:09.299Z"
   },
   {
    "duration": 0,
    "start_time": "2022-08-25T20:29:09.661Z"
   },
   {
    "duration": 0,
    "start_time": "2022-08-25T20:29:09.663Z"
   },
   {
    "duration": 0,
    "start_time": "2022-08-25T20:29:09.664Z"
   },
   {
    "duration": 0,
    "start_time": "2022-08-25T20:29:09.665Z"
   },
   {
    "duration": 0,
    "start_time": "2022-08-25T20:29:09.667Z"
   },
   {
    "duration": 0,
    "start_time": "2022-08-25T20:29:09.668Z"
   },
   {
    "duration": 0,
    "start_time": "2022-08-25T20:29:09.670Z"
   },
   {
    "duration": 0,
    "start_time": "2022-08-25T20:29:09.671Z"
   },
   {
    "duration": 0,
    "start_time": "2022-08-25T20:29:09.673Z"
   },
   {
    "duration": 204,
    "start_time": "2022-08-25T20:29:44.776Z"
   },
   {
    "duration": 34404,
    "start_time": "2022-08-25T20:30:38.497Z"
   },
   {
    "duration": 1426,
    "start_time": "2022-08-25T20:33:14.682Z"
   },
   {
    "duration": 41,
    "start_time": "2022-08-25T20:33:16.110Z"
   },
   {
    "duration": 12,
    "start_time": "2022-08-25T20:33:16.153Z"
   },
   {
    "duration": 7,
    "start_time": "2022-08-25T20:33:16.167Z"
   },
   {
    "duration": 19,
    "start_time": "2022-08-25T20:33:16.176Z"
   },
   {
    "duration": 11,
    "start_time": "2022-08-25T20:33:16.197Z"
   },
   {
    "duration": 7,
    "start_time": "2022-08-25T20:33:16.211Z"
   },
   {
    "duration": 32962,
    "start_time": "2022-08-25T20:33:16.220Z"
   },
   {
    "duration": 217,
    "start_time": "2022-08-25T20:33:49.184Z"
   },
   {
    "duration": 4511,
    "start_time": "2022-08-25T20:33:49.404Z"
   },
   {
    "duration": 20310,
    "start_time": "2022-08-25T20:33:53.916Z"
   },
   {
    "duration": 41,
    "start_time": "2022-08-25T20:34:14.228Z"
   },
   {
    "duration": 24,
    "start_time": "2022-08-25T20:34:14.273Z"
   },
   {
    "duration": 16,
    "start_time": "2022-08-25T20:34:14.299Z"
   },
   {
    "duration": 173,
    "start_time": "2022-08-25T20:34:14.317Z"
   },
   {
    "duration": 186,
    "start_time": "2022-08-25T20:34:14.492Z"
   },
   {
    "duration": 4,
    "start_time": "2022-08-25T20:34:14.680Z"
   },
   {
    "duration": 1505,
    "start_time": "2022-08-25T20:52:55.801Z"
   },
   {
    "duration": 42,
    "start_time": "2022-08-25T20:52:57.308Z"
   },
   {
    "duration": 49,
    "start_time": "2022-08-25T20:52:57.352Z"
   },
   {
    "duration": 24,
    "start_time": "2022-08-25T20:52:57.403Z"
   },
   {
    "duration": 23,
    "start_time": "2022-08-25T20:52:57.429Z"
   },
   {
    "duration": 12,
    "start_time": "2022-08-25T20:52:57.454Z"
   },
   {
    "duration": 29,
    "start_time": "2022-08-25T20:52:57.467Z"
   },
   {
    "duration": 32577,
    "start_time": "2022-08-25T20:52:57.498Z"
   },
   {
    "duration": 220,
    "start_time": "2022-08-25T20:53:30.077Z"
   },
   {
    "duration": 4494,
    "start_time": "2022-08-25T20:53:30.300Z"
   },
   {
    "duration": 20168,
    "start_time": "2022-08-25T20:53:34.796Z"
   },
   {
    "duration": 53,
    "start_time": "2022-08-25T20:53:54.965Z"
   },
   {
    "duration": 12,
    "start_time": "2022-08-25T20:53:55.019Z"
   },
   {
    "duration": 15,
    "start_time": "2022-08-25T20:53:55.033Z"
   },
   {
    "duration": 177,
    "start_time": "2022-08-25T20:53:55.050Z"
   },
   {
    "duration": 15,
    "start_time": "2022-08-25T20:53:55.229Z"
   },
   {
    "duration": 4,
    "start_time": "2022-08-25T20:53:55.246Z"
   },
   {
    "duration": 4,
    "start_time": "2022-08-25T21:00:17.544Z"
   },
   {
    "duration": 1648,
    "start_time": "2022-08-25T21:02:20.070Z"
   },
   {
    "duration": 41,
    "start_time": "2022-08-25T21:02:21.720Z"
   },
   {
    "duration": 14,
    "start_time": "2022-08-25T21:02:21.763Z"
   },
   {
    "duration": 15,
    "start_time": "2022-08-25T21:02:21.780Z"
   },
   {
    "duration": 23,
    "start_time": "2022-08-25T21:02:21.797Z"
   },
   {
    "duration": 25,
    "start_time": "2022-08-25T21:02:21.823Z"
   },
   {
    "duration": 14,
    "start_time": "2022-08-25T21:02:21.850Z"
   },
   {
    "duration": 32189,
    "start_time": "2022-08-25T21:02:21.867Z"
   },
   {
    "duration": 300,
    "start_time": "2022-08-25T21:02:54.058Z"
   },
   {
    "duration": 4493,
    "start_time": "2022-08-25T21:02:54.361Z"
   },
   {
    "duration": 20439,
    "start_time": "2022-08-25T21:02:58.856Z"
   },
   {
    "duration": 46,
    "start_time": "2022-08-25T21:03:19.296Z"
   },
   {
    "duration": 11,
    "start_time": "2022-08-25T21:03:19.344Z"
   },
   {
    "duration": 38,
    "start_time": "2022-08-25T21:03:19.357Z"
   },
   {
    "duration": 80,
    "start_time": "2022-08-25T21:03:19.397Z"
   },
   {
    "duration": 0,
    "start_time": "2022-08-25T21:03:19.479Z"
   },
   {
    "duration": 0,
    "start_time": "2022-08-25T21:03:19.480Z"
   },
   {
    "duration": 0,
    "start_time": "2022-08-25T21:03:19.481Z"
   },
   {
    "duration": 0,
    "start_time": "2022-08-25T21:03:19.483Z"
   },
   {
    "duration": 0,
    "start_time": "2022-08-25T21:03:19.484Z"
   },
   {
    "duration": 158,
    "start_time": "2022-08-25T21:04:10.031Z"
   },
   {
    "duration": 15,
    "start_time": "2022-08-25T21:04:14.832Z"
   },
   {
    "duration": 8,
    "start_time": "2022-08-25T21:04:17.976Z"
   },
   {
    "duration": 6,
    "start_time": "2022-08-25T21:04:19.945Z"
   },
   {
    "duration": 6,
    "start_time": "2022-08-25T21:04:22.135Z"
   },
   {
    "duration": 6,
    "start_time": "2022-08-25T21:04:29.968Z"
   },
   {
    "duration": 15,
    "start_time": "2022-08-25T21:09:28.839Z"
   },
   {
    "duration": 6,
    "start_time": "2022-08-25T21:10:12.159Z"
   },
   {
    "duration": 5,
    "start_time": "2022-08-25T21:10:13.958Z"
   },
   {
    "duration": 5,
    "start_time": "2022-08-25T21:10:49.012Z"
   },
   {
    "duration": 6,
    "start_time": "2022-08-25T21:11:15.607Z"
   },
   {
    "duration": 11,
    "start_time": "2022-08-25T21:18:07.958Z"
   },
   {
    "duration": 1376,
    "start_time": "2022-08-26T07:55:44.472Z"
   },
   {
    "duration": 74,
    "start_time": "2022-08-26T07:55:45.850Z"
   },
   {
    "duration": 9,
    "start_time": "2022-08-26T07:55:45.926Z"
   },
   {
    "duration": 11,
    "start_time": "2022-08-26T07:55:45.936Z"
   },
   {
    "duration": 9,
    "start_time": "2022-08-26T07:55:45.948Z"
   },
   {
    "duration": 10,
    "start_time": "2022-08-26T07:55:45.958Z"
   },
   {
    "duration": 8,
    "start_time": "2022-08-26T07:55:45.969Z"
   },
   {
    "duration": 27070,
    "start_time": "2022-08-26T07:55:45.978Z"
   },
   {
    "duration": 180,
    "start_time": "2022-08-26T07:56:13.049Z"
   },
   {
    "duration": 3717,
    "start_time": "2022-08-26T07:56:13.231Z"
   },
   {
    "duration": 16804,
    "start_time": "2022-08-26T07:56:16.950Z"
   },
   {
    "duration": 34,
    "start_time": "2022-08-26T07:56:33.755Z"
   },
   {
    "duration": 18,
    "start_time": "2022-08-26T07:56:33.791Z"
   },
   {
    "duration": 17,
    "start_time": "2022-08-26T07:56:33.811Z"
   },
   {
    "duration": 134,
    "start_time": "2022-08-26T07:56:33.829Z"
   },
   {
    "duration": 12,
    "start_time": "2022-08-26T07:56:33.965Z"
   },
   {
    "duration": 5,
    "start_time": "2022-08-26T07:56:33.978Z"
   },
   {
    "duration": 5,
    "start_time": "2022-08-26T07:56:33.985Z"
   },
   {
    "duration": 4,
    "start_time": "2022-08-26T07:56:34.005Z"
   },
   {
    "duration": 4,
    "start_time": "2022-08-26T07:56:34.010Z"
   },
   {
    "duration": 108,
    "start_time": "2022-08-26T07:56:34.016Z"
   },
   {
    "duration": 4,
    "start_time": "2022-08-26T07:57:39.167Z"
   },
   {
    "duration": 5,
    "start_time": "2022-08-26T07:57:45.507Z"
   },
   {
    "duration": 7,
    "start_time": "2022-08-26T07:58:16.544Z"
   },
   {
    "duration": 7,
    "start_time": "2022-08-26T07:58:35.547Z"
   },
   {
    "duration": 6,
    "start_time": "2022-08-26T08:00:12.348Z"
   },
   {
    "duration": 5,
    "start_time": "2022-08-26T08:00:17.445Z"
   },
   {
    "duration": 5,
    "start_time": "2022-08-26T08:00:55.664Z"
   },
   {
    "duration": 5,
    "start_time": "2022-08-26T08:01:44.223Z"
   },
   {
    "duration": 5,
    "start_time": "2022-08-26T08:02:52.465Z"
   },
   {
    "duration": 14,
    "start_time": "2022-08-26T08:53:14.711Z"
   },
   {
    "duration": 1287,
    "start_time": "2022-08-26T09:30:05.872Z"
   },
   {
    "duration": 38,
    "start_time": "2022-08-26T09:30:07.160Z"
   },
   {
    "duration": 10,
    "start_time": "2022-08-26T09:30:07.199Z"
   },
   {
    "duration": 8,
    "start_time": "2022-08-26T09:30:07.210Z"
   },
   {
    "duration": 6,
    "start_time": "2022-08-26T09:30:07.220Z"
   },
   {
    "duration": 8,
    "start_time": "2022-08-26T09:30:07.228Z"
   },
   {
    "duration": 8,
    "start_time": "2022-08-26T09:30:07.237Z"
   },
   {
    "duration": 26885,
    "start_time": "2022-08-26T09:30:07.247Z"
   },
   {
    "duration": 182,
    "start_time": "2022-08-26T09:30:34.133Z"
   },
   {
    "duration": 3962,
    "start_time": "2022-08-26T09:30:34.316Z"
   },
   {
    "duration": 16693,
    "start_time": "2022-08-26T09:30:38.280Z"
   },
   {
    "duration": 39,
    "start_time": "2022-08-26T09:30:54.975Z"
   },
   {
    "duration": 10,
    "start_time": "2022-08-26T09:30:55.015Z"
   },
   {
    "duration": 26,
    "start_time": "2022-08-26T09:30:55.027Z"
   },
   {
    "duration": 136,
    "start_time": "2022-08-26T09:30:55.054Z"
   },
   {
    "duration": 16,
    "start_time": "2022-08-26T09:30:55.191Z"
   },
   {
    "duration": 10,
    "start_time": "2022-08-26T09:30:55.208Z"
   },
   {
    "duration": 10,
    "start_time": "2022-08-26T09:30:55.219Z"
   },
   {
    "duration": 23,
    "start_time": "2022-08-26T09:30:55.230Z"
   },
   {
    "duration": 9,
    "start_time": "2022-08-26T09:30:55.255Z"
   },
   {
    "duration": 22,
    "start_time": "2022-08-26T09:30:55.266Z"
   },
   {
    "duration": 1227,
    "start_time": "2022-08-26T09:53:27.435Z"
   },
   {
    "duration": 40,
    "start_time": "2022-08-26T09:53:28.664Z"
   },
   {
    "duration": 11,
    "start_time": "2022-08-26T09:53:28.706Z"
   },
   {
    "duration": 8,
    "start_time": "2022-08-26T09:53:28.719Z"
   },
   {
    "duration": 7,
    "start_time": "2022-08-26T09:53:28.729Z"
   },
   {
    "duration": 9,
    "start_time": "2022-08-26T09:53:28.738Z"
   },
   {
    "duration": 10,
    "start_time": "2022-08-26T09:53:28.748Z"
   },
   {
    "duration": 27604,
    "start_time": "2022-08-26T09:53:28.760Z"
   },
   {
    "duration": 180,
    "start_time": "2022-08-26T09:53:56.366Z"
   },
   {
    "duration": 3700,
    "start_time": "2022-08-26T09:53:56.548Z"
   },
   {
    "duration": 16735,
    "start_time": "2022-08-26T09:54:00.250Z"
   },
   {
    "duration": 43,
    "start_time": "2022-08-26T09:54:16.987Z"
   },
   {
    "duration": 9,
    "start_time": "2022-08-26T09:54:17.032Z"
   },
   {
    "duration": 11,
    "start_time": "2022-08-26T09:54:17.044Z"
   },
   {
    "duration": 150,
    "start_time": "2022-08-26T09:54:17.056Z"
   },
   {
    "duration": 13,
    "start_time": "2022-08-26T09:54:17.207Z"
   },
   {
    "duration": 4,
    "start_time": "2022-08-26T09:54:17.221Z"
   },
   {
    "duration": 5,
    "start_time": "2022-08-26T09:54:17.226Z"
   },
   {
    "duration": 8,
    "start_time": "2022-08-26T09:54:17.232Z"
   },
   {
    "duration": 8,
    "start_time": "2022-08-26T09:54:17.241Z"
   },
   {
    "duration": 6,
    "start_time": "2022-08-26T09:54:17.250Z"
   }
  ],
  "kernelspec": {
   "display_name": "Python 3 (ipykernel)",
   "language": "python",
   "name": "python3"
  },
  "language_info": {
   "codemirror_mode": {
    "name": "ipython",
    "version": 3
   },
   "file_extension": ".py",
   "mimetype": "text/x-python",
   "name": "python",
   "nbconvert_exporter": "python",
   "pygments_lexer": "ipython3",
   "version": "3.9.5"
  },
  "toc": {
   "base_numbering": 1,
   "nav_menu": {},
   "number_sections": true,
   "sideBar": true,
   "skip_h1_title": true,
   "title_cell": "Table of Contents",
   "title_sidebar": "Contents",
   "toc_cell": false,
   "toc_position": {},
   "toc_section_display": true,
   "toc_window_display": false
  }
 },
 "nbformat": 4,
 "nbformat_minor": 2
}
