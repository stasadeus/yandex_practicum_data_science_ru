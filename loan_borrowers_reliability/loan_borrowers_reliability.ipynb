{
 "cells": [
  {
   "cell_type": "markdown",
   "id": "68c20ff7",
   "metadata": {},
   "source": [
    "# Исследование надежности заемщиков"
   ]
  },
  {
   "cell_type": "markdown",
   "id": "0710f649",
   "metadata": {},
   "source": [
    "## Содержание исследования\n",
    "\n",
    "1. [Цель исследования](#purpose)\n",
    "2. [Обзор данных](#data_overview)\n",
    "3. [Предобработка данных](#data_preprocessing)\\\n",
    "    3.1. [Удаление пропусков](#removing_gaps_1)\\\n",
    "    3.2. [Обработка аномальных значений](#abnormal_values)\\\n",
    "    3.3. [Удаление пропусков (продолжение)](#removing_gaps_2)\\\n",
    "    3.4. [Изменение типов данных](#change_type)\\\n",
    "    3.5. [Обработка дубликатов](#duplicate_handling)\\\n",
    "    3.6. [Категоризация данных](#data_categorization)\n",
    "4. [Исследование данных и ответы на вопросы](#research)\\\n",
    "    4.1. [Исследование зависимости между количеством детей и возвратом кредита в срок ](#children)\\\n",
    "    4.2. [Исследование зависимости между семейным положением и возвратом кредита в срок](#family_status)\\\n",
    "    4.3. [Исследование зависимости между уровнем дохода и возвратом кредита в срок](#income)\\\n",
    "    4.4. [Исследование влияния цели кредита на возврат кредита в срок](#loan_purpose)\n",
    "5. [Итоги исследования](#research_results)\n"
   ]
  },
  {
   "cell_type": "markdown",
   "id": "257161ea",
   "metadata": {},
   "source": [
    "## 1. Цель исследования<a id='purpose'> </a>"
   ]
  },
  {
   "cell_type": "markdown",
   "id": "a496d9ac",
   "metadata": {},
   "source": [
    "Заказчик - кредитный отдел банка. \n",
    "Цель - исследовать влияние семейного положения и количества детей клиента на факт погашения кредита в срок.\n",
    "Входные данные от банка - статистика о платёжеспособности клиентов.\n",
    "Результаты исследования будут учтены про построении модели кредитного скоринга потенциальных заёмщиков."
   ]
  },
  {
   "cell_type": "markdown",
   "id": "af84de80",
   "metadata": {},
   "source": [
    "## 2. Обзор данных <a id='data_overview'> </a>"
   ]
  },
  {
   "cell_type": "markdown",
   "id": "d636ef03",
   "metadata": {},
   "source": [
    "Выведем первые 20 строчек предоставленных банком данных на экран."
   ]
  },
  {
   "cell_type": "code",
   "execution_count": 1,
   "id": "29da6c76",
   "metadata": {},
   "outputs": [
    {
     "data": {
      "text/html": [
       "<div>\n",
       "<style scoped>\n",
       "    .dataframe tbody tr th:only-of-type {\n",
       "        vertical-align: middle;\n",
       "    }\n",
       "\n",
       "    .dataframe tbody tr th {\n",
       "        vertical-align: top;\n",
       "    }\n",
       "\n",
       "    .dataframe thead th {\n",
       "        text-align: right;\n",
       "    }\n",
       "</style>\n",
       "<table border=\"1\" class=\"dataframe\">\n",
       "  <thead>\n",
       "    <tr style=\"text-align: right;\">\n",
       "      <th></th>\n",
       "      <th>children</th>\n",
       "      <th>days_employed</th>\n",
       "      <th>dob_years</th>\n",
       "      <th>education</th>\n",
       "      <th>education_id</th>\n",
       "      <th>family_status</th>\n",
       "      <th>family_status_id</th>\n",
       "      <th>gender</th>\n",
       "      <th>income_type</th>\n",
       "      <th>debt</th>\n",
       "      <th>total_income</th>\n",
       "      <th>purpose</th>\n",
       "    </tr>\n",
       "  </thead>\n",
       "  <tbody>\n",
       "    <tr>\n",
       "      <th>0</th>\n",
       "      <td>1</td>\n",
       "      <td>-8437.673028</td>\n",
       "      <td>42</td>\n",
       "      <td>высшее</td>\n",
       "      <td>0</td>\n",
       "      <td>женат / замужем</td>\n",
       "      <td>0</td>\n",
       "      <td>F</td>\n",
       "      <td>сотрудник</td>\n",
       "      <td>0</td>\n",
       "      <td>253875.639453</td>\n",
       "      <td>покупка жилья</td>\n",
       "    </tr>\n",
       "    <tr>\n",
       "      <th>1</th>\n",
       "      <td>1</td>\n",
       "      <td>-4024.803754</td>\n",
       "      <td>36</td>\n",
       "      <td>среднее</td>\n",
       "      <td>1</td>\n",
       "      <td>женат / замужем</td>\n",
       "      <td>0</td>\n",
       "      <td>F</td>\n",
       "      <td>сотрудник</td>\n",
       "      <td>0</td>\n",
       "      <td>112080.014102</td>\n",
       "      <td>приобретение автомобиля</td>\n",
       "    </tr>\n",
       "    <tr>\n",
       "      <th>2</th>\n",
       "      <td>0</td>\n",
       "      <td>-5623.422610</td>\n",
       "      <td>33</td>\n",
       "      <td>Среднее</td>\n",
       "      <td>1</td>\n",
       "      <td>женат / замужем</td>\n",
       "      <td>0</td>\n",
       "      <td>M</td>\n",
       "      <td>сотрудник</td>\n",
       "      <td>0</td>\n",
       "      <td>145885.952297</td>\n",
       "      <td>покупка жилья</td>\n",
       "    </tr>\n",
       "    <tr>\n",
       "      <th>3</th>\n",
       "      <td>3</td>\n",
       "      <td>-4124.747207</td>\n",
       "      <td>32</td>\n",
       "      <td>среднее</td>\n",
       "      <td>1</td>\n",
       "      <td>женат / замужем</td>\n",
       "      <td>0</td>\n",
       "      <td>M</td>\n",
       "      <td>сотрудник</td>\n",
       "      <td>0</td>\n",
       "      <td>267628.550329</td>\n",
       "      <td>дополнительное образование</td>\n",
       "    </tr>\n",
       "    <tr>\n",
       "      <th>4</th>\n",
       "      <td>0</td>\n",
       "      <td>340266.072047</td>\n",
       "      <td>53</td>\n",
       "      <td>среднее</td>\n",
       "      <td>1</td>\n",
       "      <td>гражданский брак</td>\n",
       "      <td>1</td>\n",
       "      <td>F</td>\n",
       "      <td>пенсионер</td>\n",
       "      <td>0</td>\n",
       "      <td>158616.077870</td>\n",
       "      <td>сыграть свадьбу</td>\n",
       "    </tr>\n",
       "    <tr>\n",
       "      <th>5</th>\n",
       "      <td>0</td>\n",
       "      <td>-926.185831</td>\n",
       "      <td>27</td>\n",
       "      <td>высшее</td>\n",
       "      <td>0</td>\n",
       "      <td>гражданский брак</td>\n",
       "      <td>1</td>\n",
       "      <td>M</td>\n",
       "      <td>компаньон</td>\n",
       "      <td>0</td>\n",
       "      <td>255763.565419</td>\n",
       "      <td>покупка жилья</td>\n",
       "    </tr>\n",
       "    <tr>\n",
       "      <th>6</th>\n",
       "      <td>0</td>\n",
       "      <td>-2879.202052</td>\n",
       "      <td>43</td>\n",
       "      <td>высшее</td>\n",
       "      <td>0</td>\n",
       "      <td>женат / замужем</td>\n",
       "      <td>0</td>\n",
       "      <td>F</td>\n",
       "      <td>компаньон</td>\n",
       "      <td>0</td>\n",
       "      <td>240525.971920</td>\n",
       "      <td>операции с жильем</td>\n",
       "    </tr>\n",
       "    <tr>\n",
       "      <th>7</th>\n",
       "      <td>0</td>\n",
       "      <td>-152.779569</td>\n",
       "      <td>50</td>\n",
       "      <td>СРЕДНЕЕ</td>\n",
       "      <td>1</td>\n",
       "      <td>женат / замужем</td>\n",
       "      <td>0</td>\n",
       "      <td>M</td>\n",
       "      <td>сотрудник</td>\n",
       "      <td>0</td>\n",
       "      <td>135823.934197</td>\n",
       "      <td>образование</td>\n",
       "    </tr>\n",
       "    <tr>\n",
       "      <th>8</th>\n",
       "      <td>2</td>\n",
       "      <td>-6929.865299</td>\n",
       "      <td>35</td>\n",
       "      <td>ВЫСШЕЕ</td>\n",
       "      <td>0</td>\n",
       "      <td>гражданский брак</td>\n",
       "      <td>1</td>\n",
       "      <td>F</td>\n",
       "      <td>сотрудник</td>\n",
       "      <td>0</td>\n",
       "      <td>95856.832424</td>\n",
       "      <td>на проведение свадьбы</td>\n",
       "    </tr>\n",
       "    <tr>\n",
       "      <th>9</th>\n",
       "      <td>0</td>\n",
       "      <td>-2188.756445</td>\n",
       "      <td>41</td>\n",
       "      <td>среднее</td>\n",
       "      <td>1</td>\n",
       "      <td>женат / замужем</td>\n",
       "      <td>0</td>\n",
       "      <td>M</td>\n",
       "      <td>сотрудник</td>\n",
       "      <td>0</td>\n",
       "      <td>144425.938277</td>\n",
       "      <td>покупка жилья для семьи</td>\n",
       "    </tr>\n",
       "    <tr>\n",
       "      <th>10</th>\n",
       "      <td>2</td>\n",
       "      <td>-4171.483647</td>\n",
       "      <td>36</td>\n",
       "      <td>высшее</td>\n",
       "      <td>0</td>\n",
       "      <td>женат / замужем</td>\n",
       "      <td>0</td>\n",
       "      <td>M</td>\n",
       "      <td>компаньон</td>\n",
       "      <td>0</td>\n",
       "      <td>113943.491460</td>\n",
       "      <td>покупка недвижимости</td>\n",
       "    </tr>\n",
       "    <tr>\n",
       "      <th>11</th>\n",
       "      <td>0</td>\n",
       "      <td>-792.701887</td>\n",
       "      <td>40</td>\n",
       "      <td>среднее</td>\n",
       "      <td>1</td>\n",
       "      <td>женат / замужем</td>\n",
       "      <td>0</td>\n",
       "      <td>F</td>\n",
       "      <td>сотрудник</td>\n",
       "      <td>0</td>\n",
       "      <td>77069.234271</td>\n",
       "      <td>покупка коммерческой недвижимости</td>\n",
       "    </tr>\n",
       "    <tr>\n",
       "      <th>12</th>\n",
       "      <td>0</td>\n",
       "      <td>NaN</td>\n",
       "      <td>65</td>\n",
       "      <td>среднее</td>\n",
       "      <td>1</td>\n",
       "      <td>гражданский брак</td>\n",
       "      <td>1</td>\n",
       "      <td>M</td>\n",
       "      <td>пенсионер</td>\n",
       "      <td>0</td>\n",
       "      <td>NaN</td>\n",
       "      <td>сыграть свадьбу</td>\n",
       "    </tr>\n",
       "    <tr>\n",
       "      <th>13</th>\n",
       "      <td>0</td>\n",
       "      <td>-1846.641941</td>\n",
       "      <td>54</td>\n",
       "      <td>неоконченное высшее</td>\n",
       "      <td>2</td>\n",
       "      <td>женат / замужем</td>\n",
       "      <td>0</td>\n",
       "      <td>F</td>\n",
       "      <td>сотрудник</td>\n",
       "      <td>0</td>\n",
       "      <td>130458.228857</td>\n",
       "      <td>приобретение автомобиля</td>\n",
       "    </tr>\n",
       "    <tr>\n",
       "      <th>14</th>\n",
       "      <td>0</td>\n",
       "      <td>-1844.956182</td>\n",
       "      <td>56</td>\n",
       "      <td>высшее</td>\n",
       "      <td>0</td>\n",
       "      <td>гражданский брак</td>\n",
       "      <td>1</td>\n",
       "      <td>F</td>\n",
       "      <td>компаньон</td>\n",
       "      <td>1</td>\n",
       "      <td>165127.911772</td>\n",
       "      <td>покупка жилой недвижимости</td>\n",
       "    </tr>\n",
       "    <tr>\n",
       "      <th>15</th>\n",
       "      <td>1</td>\n",
       "      <td>-972.364419</td>\n",
       "      <td>26</td>\n",
       "      <td>среднее</td>\n",
       "      <td>1</td>\n",
       "      <td>женат / замужем</td>\n",
       "      <td>0</td>\n",
       "      <td>F</td>\n",
       "      <td>сотрудник</td>\n",
       "      <td>0</td>\n",
       "      <td>116820.904450</td>\n",
       "      <td>строительство собственной недвижимости</td>\n",
       "    </tr>\n",
       "    <tr>\n",
       "      <th>16</th>\n",
       "      <td>0</td>\n",
       "      <td>-1719.934226</td>\n",
       "      <td>35</td>\n",
       "      <td>среднее</td>\n",
       "      <td>1</td>\n",
       "      <td>женат / замужем</td>\n",
       "      <td>0</td>\n",
       "      <td>F</td>\n",
       "      <td>сотрудник</td>\n",
       "      <td>0</td>\n",
       "      <td>289202.704229</td>\n",
       "      <td>недвижимость</td>\n",
       "    </tr>\n",
       "    <tr>\n",
       "      <th>17</th>\n",
       "      <td>0</td>\n",
       "      <td>-2369.999720</td>\n",
       "      <td>33</td>\n",
       "      <td>высшее</td>\n",
       "      <td>0</td>\n",
       "      <td>гражданский брак</td>\n",
       "      <td>1</td>\n",
       "      <td>M</td>\n",
       "      <td>сотрудник</td>\n",
       "      <td>0</td>\n",
       "      <td>90410.586745</td>\n",
       "      <td>строительство недвижимости</td>\n",
       "    </tr>\n",
       "    <tr>\n",
       "      <th>18</th>\n",
       "      <td>0</td>\n",
       "      <td>400281.136913</td>\n",
       "      <td>53</td>\n",
       "      <td>среднее</td>\n",
       "      <td>1</td>\n",
       "      <td>вдовец / вдова</td>\n",
       "      <td>2</td>\n",
       "      <td>F</td>\n",
       "      <td>пенсионер</td>\n",
       "      <td>0</td>\n",
       "      <td>56823.777243</td>\n",
       "      <td>на покупку подержанного автомобиля</td>\n",
       "    </tr>\n",
       "    <tr>\n",
       "      <th>19</th>\n",
       "      <td>0</td>\n",
       "      <td>-10038.818549</td>\n",
       "      <td>48</td>\n",
       "      <td>СРЕДНЕЕ</td>\n",
       "      <td>1</td>\n",
       "      <td>в разводе</td>\n",
       "      <td>3</td>\n",
       "      <td>F</td>\n",
       "      <td>сотрудник</td>\n",
       "      <td>0</td>\n",
       "      <td>242831.107982</td>\n",
       "      <td>на покупку своего автомобиля</td>\n",
       "    </tr>\n",
       "  </tbody>\n",
       "</table>\n",
       "</div>"
      ],
      "text/plain": [
       "    children  days_employed  dob_years            education  education_id  \\\n",
       "0          1   -8437.673028         42               высшее             0   \n",
       "1          1   -4024.803754         36              среднее             1   \n",
       "2          0   -5623.422610         33              Среднее             1   \n",
       "3          3   -4124.747207         32              среднее             1   \n",
       "4          0  340266.072047         53              среднее             1   \n",
       "5          0    -926.185831         27               высшее             0   \n",
       "6          0   -2879.202052         43               высшее             0   \n",
       "7          0    -152.779569         50              СРЕДНЕЕ             1   \n",
       "8          2   -6929.865299         35               ВЫСШЕЕ             0   \n",
       "9          0   -2188.756445         41              среднее             1   \n",
       "10         2   -4171.483647         36               высшее             0   \n",
       "11         0    -792.701887         40              среднее             1   \n",
       "12         0            NaN         65              среднее             1   \n",
       "13         0   -1846.641941         54  неоконченное высшее             2   \n",
       "14         0   -1844.956182         56               высшее             0   \n",
       "15         1    -972.364419         26              среднее             1   \n",
       "16         0   -1719.934226         35              среднее             1   \n",
       "17         0   -2369.999720         33               высшее             0   \n",
       "18         0  400281.136913         53              среднее             1   \n",
       "19         0  -10038.818549         48              СРЕДНЕЕ             1   \n",
       "\n",
       "       family_status  family_status_id gender income_type  debt  \\\n",
       "0    женат / замужем                 0      F   сотрудник     0   \n",
       "1    женат / замужем                 0      F   сотрудник     0   \n",
       "2    женат / замужем                 0      M   сотрудник     0   \n",
       "3    женат / замужем                 0      M   сотрудник     0   \n",
       "4   гражданский брак                 1      F   пенсионер     0   \n",
       "5   гражданский брак                 1      M   компаньон     0   \n",
       "6    женат / замужем                 0      F   компаньон     0   \n",
       "7    женат / замужем                 0      M   сотрудник     0   \n",
       "8   гражданский брак                 1      F   сотрудник     0   \n",
       "9    женат / замужем                 0      M   сотрудник     0   \n",
       "10   женат / замужем                 0      M   компаньон     0   \n",
       "11   женат / замужем                 0      F   сотрудник     0   \n",
       "12  гражданский брак                 1      M   пенсионер     0   \n",
       "13   женат / замужем                 0      F   сотрудник     0   \n",
       "14  гражданский брак                 1      F   компаньон     1   \n",
       "15   женат / замужем                 0      F   сотрудник     0   \n",
       "16   женат / замужем                 0      F   сотрудник     0   \n",
       "17  гражданский брак                 1      M   сотрудник     0   \n",
       "18    вдовец / вдова                 2      F   пенсионер     0   \n",
       "19         в разводе                 3      F   сотрудник     0   \n",
       "\n",
       "     total_income                                 purpose  \n",
       "0   253875.639453                           покупка жилья  \n",
       "1   112080.014102                 приобретение автомобиля  \n",
       "2   145885.952297                           покупка жилья  \n",
       "3   267628.550329              дополнительное образование  \n",
       "4   158616.077870                         сыграть свадьбу  \n",
       "5   255763.565419                           покупка жилья  \n",
       "6   240525.971920                       операции с жильем  \n",
       "7   135823.934197                             образование  \n",
       "8    95856.832424                   на проведение свадьбы  \n",
       "9   144425.938277                 покупка жилья для семьи  \n",
       "10  113943.491460                    покупка недвижимости  \n",
       "11   77069.234271       покупка коммерческой недвижимости  \n",
       "12            NaN                         сыграть свадьбу  \n",
       "13  130458.228857                 приобретение автомобиля  \n",
       "14  165127.911772              покупка жилой недвижимости  \n",
       "15  116820.904450  строительство собственной недвижимости  \n",
       "16  289202.704229                            недвижимость  \n",
       "17   90410.586745              строительство недвижимости  \n",
       "18   56823.777243      на покупку подержанного автомобиля  \n",
       "19  242831.107982            на покупку своего автомобиля  "
      ]
     },
     "execution_count": 1,
     "metadata": {},
     "output_type": "execute_result"
    }
   ],
   "source": [
    "import pandas as pd\n",
    "data = pd.read_csv('data.csv')\n",
    "data.head(20)"
   ]
  },
  {
   "cell_type": "markdown",
   "id": "5a3e7cab",
   "metadata": {},
   "source": [
    "В таблице представлены следующие данные:\n",
    "* `children` - количество детей в семье\n",
    "* `days_employed` - общий трудовой стаж в днях\n",
    "* `dob_years` - возраст клиента в годах\n",
    "* `education` - уровень образования клиента\n",
    "* `education_id` - идентификатор уровня образования\n",
    "* `family_status` - семейное положение\n",
    "* `family_status_id` - идентификатор семейного положения\n",
    "* `gender` - пол клиента\n",
    "* `income_type` - тип занятости\n",
    "* `debt` - имел ли задолженность по возврату кредитов\n",
    "* `total_income` - ежемесячный доход \n",
    "* `purpose` - цель получения кредита"
   ]
  },
  {
   "cell_type": "markdown",
   "id": "c6f61b24",
   "metadata": {},
   "source": [
    "Выведем основную информацию о датафрейме:"
   ]
  },
  {
   "cell_type": "code",
   "execution_count": 2,
   "id": "37884121",
   "metadata": {},
   "outputs": [
    {
     "name": "stdout",
     "output_type": "stream",
     "text": [
      "<class 'pandas.core.frame.DataFrame'>\n",
      "RangeIndex: 21525 entries, 0 to 21524\n",
      "Data columns (total 12 columns):\n",
      " #   Column            Non-Null Count  Dtype  \n",
      "---  ------            --------------  -----  \n",
      " 0   children          21525 non-null  int64  \n",
      " 1   days_employed     19351 non-null  float64\n",
      " 2   dob_years         21525 non-null  int64  \n",
      " 3   education         21525 non-null  object \n",
      " 4   education_id      21525 non-null  int64  \n",
      " 5   family_status     21525 non-null  object \n",
      " 6   family_status_id  21525 non-null  int64  \n",
      " 7   gender            21525 non-null  object \n",
      " 8   income_type       21525 non-null  object \n",
      " 9   debt              21525 non-null  int64  \n",
      " 10  total_income      19351 non-null  float64\n",
      " 11  purpose           21525 non-null  object \n",
      "dtypes: float64(2), int64(5), object(5)\n",
      "memory usage: 2.0+ MB\n"
     ]
    }
   ],
   "source": [
    "data.info()"
   ]
  },
  {
   "cell_type": "markdown",
   "id": "5f875e5f",
   "metadata": {},
   "source": [
    "## 3. Предобработка данных <a id='data_preprocessing'> </a>"
   ]
  },
  {
   "cell_type": "markdown",
   "id": "c51b42c7",
   "metadata": {},
   "source": [
    "### 3.1. Удаление пропусков<a id='removing_gaps_1'> </a>"
   ]
  },
  {
   "cell_type": "markdown",
   "id": "b216ee13",
   "metadata": {},
   "source": [
    "Выведем количество пропущенных значений для каждого столбца."
   ]
  },
  {
   "cell_type": "code",
   "execution_count": 3,
   "id": "ad898f5f",
   "metadata": {},
   "outputs": [
    {
     "data": {
      "text/plain": [
       "children               0\n",
       "days_employed       2174\n",
       "dob_years              0\n",
       "education              0\n",
       "education_id           0\n",
       "family_status          0\n",
       "family_status_id       0\n",
       "gender                 0\n",
       "income_type            0\n",
       "debt                   0\n",
       "total_income        2174\n",
       "purpose                0\n",
       "dtype: int64"
      ]
     },
     "execution_count": 3,
     "metadata": {},
     "output_type": "execute_result"
    }
   ],
   "source": [
    "data.isna().sum()"
   ]
  },
  {
   "cell_type": "markdown",
   "id": "4cf11a44",
   "metadata": {},
   "source": [
    "В двух столбцах есть пропущенные значения. Один из них — `days_employed`. В этом столбце присутствуют аномальные значения, поэтому пропуски в этом столбце мы обработаем после обработки аномальных значений. Другой столбец с пропущенными значениями — `total_income` — хранит данные о доходах. На сумму дохода сильнее всего влияет тип занятости, поэтому пропуски в этом столбце мы заполним медианным значением по каждому типу из столбца `income_type`."
   ]
  },
  {
   "cell_type": "code",
   "execution_count": 4,
   "id": "3c1b5bc5",
   "metadata": {},
   "outputs": [],
   "source": [
    "for t in data['income_type'].unique():\n",
    "    data.loc[(data['income_type'] == t) & (data['total_income'].isna()), 'total_income'] = \\\n",
    "    data.loc[(data['income_type'] == t), 'total_income'].median()"
   ]
  },
  {
   "cell_type": "markdown",
   "id": "3049aa9c",
   "metadata": {},
   "source": [
    "### 3.2. Обработка аномальных значений <a id='abnormal_values'> </a>"
   ]
  },
  {
   "cell_type": "markdown",
   "id": "8baf6398",
   "metadata": {},
   "source": [
    "В данных столбца `days_employed` встречаются артефакты (аномалии) — значения, которые не отражают действительность и появились по какой-то ошибке. Таким артефактом является отрицательное количество дней трудового стажа в столбце `days_employed`. Обработаем значения в этом столбце: заменим все отрицательные значения положительными с помощью метода `abs()`"
   ]
  },
  {
   "cell_type": "code",
   "execution_count": 5,
   "id": "27c216fe",
   "metadata": {},
   "outputs": [],
   "source": [
    "data['days_employed'] = data['days_employed'].abs()"
   ]
  },
  {
   "cell_type": "markdown",
   "id": "47b80653",
   "metadata": {},
   "source": [
    "Для каждого типа занятости выведем медианное значение трудового стажа `days_employed` в днях."
   ]
  },
  {
   "cell_type": "code",
   "execution_count": 6,
   "id": "b531c9b7",
   "metadata": {},
   "outputs": [
    {
     "data": {
      "text/plain": [
       "income_type\n",
       "безработный        366413.652744\n",
       "в декрете            3296.759962\n",
       "госслужащий          2689.368353\n",
       "компаньон            1547.382223\n",
       "пенсионер          365213.306266\n",
       "предприниматель       520.848083\n",
       "сотрудник            1574.202821\n",
       "студент               578.751554\n",
       "Name: days_employed, dtype: float64"
      ]
     },
     "execution_count": 6,
     "metadata": {},
     "output_type": "execute_result"
    }
   ],
   "source": [
    "data.groupby('income_type')['days_employed'].agg('median')"
   ]
  },
  {
   "cell_type": "markdown",
   "id": "32d992b5",
   "metadata": {},
   "source": [
    "У двух типов (безработные и пенсионеры) получаются аномально большие значения. Исправить такие значения сложно, поэтому оставим их как есть. Тем более этот столбец не понадобится нам для исследования."
   ]
  },
  {
   "cell_type": "markdown",
   "id": "adf1e78a",
   "metadata": {},
   "source": [
    "Выведите перечень уникальных значений столбца `children`."
   ]
  },
  {
   "cell_type": "code",
   "execution_count": 7,
   "id": "09e00ab3",
   "metadata": {},
   "outputs": [
    {
     "data": {
      "text/plain": [
       "array([ 1,  0,  3,  2, -1,  4, 20,  5], dtype=int64)"
      ]
     },
     "execution_count": 7,
     "metadata": {},
     "output_type": "execute_result"
    }
   ],
   "source": [
    "data['children'].unique()"
   ]
  },
  {
   "cell_type": "markdown",
   "id": "ffa5ccb9",
   "metadata": {},
   "source": [
    "В столбце `children` есть два аномальных значения. Удалим строки, в которых встречаются такие аномальные значения из датафрейма data."
   ]
  },
  {
   "cell_type": "code",
   "execution_count": 8,
   "id": "7103d105",
   "metadata": {},
   "outputs": [],
   "source": [
    "data = data[(data['children'] != -1) & (data['children'] != 20)]"
   ]
  },
  {
   "cell_type": "markdown",
   "id": "67a25ca2",
   "metadata": {},
   "source": [
    "Ещё раз выведите перечень уникальных значений столбца `children`, чтобы убедиться, что артефакты удалены."
   ]
  },
  {
   "cell_type": "code",
   "execution_count": 9,
   "id": "675723ef",
   "metadata": {},
   "outputs": [
    {
     "data": {
      "text/plain": [
       "array([1, 0, 3, 2, 4, 5], dtype=int64)"
      ]
     },
     "execution_count": 9,
     "metadata": {},
     "output_type": "execute_result"
    }
   ],
   "source": [
    "data['children'].unique()"
   ]
  },
  {
   "cell_type": "markdown",
   "id": "6c924dc4",
   "metadata": {},
   "source": [
    "### 3.3. Удаление пропусков (продолжение)<a id='removing_gaps_2'> </a>"
   ]
  },
  {
   "cell_type": "markdown",
   "id": "d7af6f49",
   "metadata": {},
   "source": [
    "Заполним пропуски в столбце `days_employed` медианными значениями по каждого типа занятости `income_type`."
   ]
  },
  {
   "cell_type": "code",
   "execution_count": 10,
   "id": "082109f5",
   "metadata": {},
   "outputs": [],
   "source": [
    "for t in data['income_type'].unique():\n",
    "    data.loc[(data['income_type'] == t) & (data['days_employed'].isna()), 'days_employed'] = \\\n",
    "    data.loc[(data['income_type'] == t), 'days_employed'].median()"
   ]
  },
  {
   "cell_type": "markdown",
   "id": "8ac272be",
   "metadata": {},
   "source": [
    "Убедимся, что все пропуски заполнены. Проверим и ещё раз выведем количество пропущенных значений для каждого столбца."
   ]
  },
  {
   "cell_type": "code",
   "execution_count": 11,
   "id": "15082b6f",
   "metadata": {},
   "outputs": [
    {
     "data": {
      "text/plain": [
       "children            0\n",
       "days_employed       0\n",
       "dob_years           0\n",
       "education           0\n",
       "education_id        0\n",
       "family_status       0\n",
       "family_status_id    0\n",
       "gender              0\n",
       "income_type         0\n",
       "debt                0\n",
       "total_income        0\n",
       "purpose             0\n",
       "dtype: int64"
      ]
     },
     "execution_count": 11,
     "metadata": {},
     "output_type": "execute_result"
    }
   ],
   "source": [
    "data.isna().sum()"
   ]
  },
  {
   "cell_type": "markdown",
   "id": "f566ff8f",
   "metadata": {},
   "source": [
    "### 3.4. Изменение типов данных<a id='change_type'> </a>"
   ]
  },
  {
   "cell_type": "markdown",
   "id": "24425d53",
   "metadata": {},
   "source": [
    "Заменим вещественный тип данных в столбце `total_income` на целочисленный."
   ]
  },
  {
   "cell_type": "code",
   "execution_count": 12,
   "id": "7b5f41ba",
   "metadata": {},
   "outputs": [],
   "source": [
    "data['total_income'] = data['total_income'].astype(int)"
   ]
  },
  {
   "cell_type": "markdown",
   "id": "8319f48a",
   "metadata": {},
   "source": [
    "### 3.5. Обработка дубликатов<a id='duplicate_handling'> </a>"
   ]
  },
  {
   "cell_type": "markdown",
   "id": "d34ab9b1",
   "metadata": {},
   "source": [
    "Выведем на экран количество строк-дубликатов в данных. Если такие строки присутствуют, удалим их."
   ]
  },
  {
   "cell_type": "code",
   "execution_count": 13,
   "id": "d90f0ba4",
   "metadata": {},
   "outputs": [
    {
     "data": {
      "text/plain": [
       "54"
      ]
     },
     "execution_count": 13,
     "metadata": {},
     "output_type": "execute_result"
    }
   ],
   "source": [
    "data.duplicated().sum()"
   ]
  },
  {
   "cell_type": "code",
   "execution_count": 14,
   "id": "bd547d36",
   "metadata": {},
   "outputs": [],
   "source": [
    "data = data.drop_duplicates()"
   ]
  },
  {
   "cell_type": "markdown",
   "id": "b7a7a7e2",
   "metadata": {},
   "source": [
    "Обработаем неявные дубликаты в столбце `education`. В этом столбце есть одни и те же значения, но записанные по-разному: с использованием заглавных и строчных букв. Приведём их к нижнему регистру. Проверим остальные столбцы."
   ]
  },
  {
   "cell_type": "code",
   "execution_count": 15,
   "id": "eff3fe99",
   "metadata": {},
   "outputs": [],
   "source": [
    "data['education'] = data['education'].str.lower()"
   ]
  },
  {
   "cell_type": "markdown",
   "id": "522d8259",
   "metadata": {},
   "source": [
    "### 3.6. Категоризация данных<a id='data_categorization'> </a>"
   ]
  },
  {
   "cell_type": "markdown",
   "id": "789b1e28",
   "metadata": {},
   "source": [
    "На основании диапазонов, указанных ниже, создадим в датафрейме `data` столбец `total_income_category` с категориями:\n",
    "\n",
    "- 0–30000 — `'E'`;\n",
    "- 30001–50000 — `'D'`;\n",
    "- 50001–200000 — `'C'`;\n",
    "- 200001–1000000 — `'B'`;\n",
    "- 1000001 и выше — `'A'`.\n"
   ]
  },
  {
   "cell_type": "code",
   "execution_count": 16,
   "id": "57e2964d",
   "metadata": {},
   "outputs": [],
   "source": [
    "def categorize_income(income):\n",
    "    try:\n",
    "        if 0 <= income <= 30000:\n",
    "            return 'E'\n",
    "        elif 30001 <= income <= 50000:\n",
    "            return 'D'\n",
    "        elif 50001 <= income <= 200000:\n",
    "            return 'C'\n",
    "        elif 200001 <= income <= 1000000:\n",
    "            return 'B'\n",
    "        elif income >= 1000001:\n",
    "            return 'A'\n",
    "    except:\n",
    "        pass"
   ]
  },
  {
   "cell_type": "code",
   "execution_count": 17,
   "id": "29784340",
   "metadata": {},
   "outputs": [],
   "source": [
    "data['total_income_category'] = data['total_income'].apply(categorize_income)"
   ]
  },
  {
   "cell_type": "markdown",
   "id": "ca0a97e1",
   "metadata": {},
   "source": [
    "Выведем на экран перечень уникальных целей взятия кредита из столбца `purpose`."
   ]
  },
  {
   "cell_type": "code",
   "execution_count": 18,
   "id": "e6c81467",
   "metadata": {},
   "outputs": [
    {
     "data": {
      "text/plain": [
       "array(['покупка жилья', 'приобретение автомобиля',\n",
       "       'дополнительное образование', 'сыграть свадьбу',\n",
       "       'операции с жильем', 'образование', 'на проведение свадьбы',\n",
       "       'покупка жилья для семьи', 'покупка недвижимости',\n",
       "       'покупка коммерческой недвижимости', 'покупка жилой недвижимости',\n",
       "       'строительство собственной недвижимости', 'недвижимость',\n",
       "       'строительство недвижимости', 'на покупку подержанного автомобиля',\n",
       "       'на покупку своего автомобиля',\n",
       "       'операции с коммерческой недвижимостью',\n",
       "       'строительство жилой недвижимости', 'жилье',\n",
       "       'операции со своей недвижимостью', 'автомобили',\n",
       "       'заняться образованием', 'сделка с подержанным автомобилем',\n",
       "       'получение образования', 'автомобиль', 'свадьба',\n",
       "       'получение дополнительного образования', 'покупка своего жилья',\n",
       "       'операции с недвижимостью', 'получение высшего образования',\n",
       "       'свой автомобиль', 'сделка с автомобилем',\n",
       "       'профильное образование', 'высшее образование',\n",
       "       'покупка жилья для сдачи', 'на покупку автомобиля', 'ремонт жилью',\n",
       "       'заняться высшим образованием'], dtype=object)"
      ]
     },
     "execution_count": 18,
     "metadata": {},
     "output_type": "execute_result"
    }
   ],
   "source": [
    "data['purpose'].unique()"
   ]
  },
  {
   "cell_type": "markdown",
   "id": "d049f1ca",
   "metadata": {},
   "source": [
    "Создадим функцию, которая на основании данных из столбца `purpose` сформирует новый столбец `purpose_category`, в который войдут следующие категории:\n",
    "\n",
    "- `'операции с автомобилем'`,\n",
    "- `'операции с недвижимостью'`,\n",
    "- `'проведение свадьбы'`,\n",
    "- `'получение образования'`."
   ]
  },
  {
   "cell_type": "code",
   "execution_count": 19,
   "id": "b5463ad6",
   "metadata": {},
   "outputs": [],
   "source": [
    "def categorize_purpose(row):\n",
    "    try:\n",
    "        if 'автом' in row:\n",
    "            return 'операции с автомобилем'\n",
    "        elif 'жил' in row or 'недвиж' in row:\n",
    "            return 'операции с недвижимостью'\n",
    "        elif 'свад' in row:\n",
    "            return 'проведение свадьбы'\n",
    "        elif 'образов' in row:\n",
    "            return 'получение образования'\n",
    "    except:\n",
    "        return 'нет категории'"
   ]
  },
  {
   "cell_type": "code",
   "execution_count": 20,
   "id": "b6810f5d",
   "metadata": {},
   "outputs": [],
   "source": [
    "data['purpose_category'] = data['purpose'].apply(categorize_purpose)"
   ]
  },
  {
   "cell_type": "markdown",
   "id": "42c77ad5",
   "metadata": {},
   "source": [
    "## 4. Исследование данных и ответы на вопросы<a id='research'> </a>"
   ]
  },
  {
   "cell_type": "markdown",
   "id": "f9172285",
   "metadata": {},
   "source": [
    "### 4.1. Исследование зависимости между количеством детей и возвратом кредита в срок<a id='children'> </a>"
   ]
  },
  {
   "cell_type": "markdown",
   "id": "bcaec3ce",
   "metadata": {},
   "source": [
    "Построим столбчатую диаграмму по оси `х` которой отмечены категории по количеству детей, а по оси `у` - доля людей с задолженностью по возврату кредитов для каждой категории."
   ]
  },
  {
   "cell_type": "code",
   "execution_count": 21,
   "id": "e6baa62d",
   "metadata": {},
   "outputs": [
    {
     "data": {
      "text/plain": [
       "Text(0, 0.5, 'Доля людей с задолженностью')"
      ]
     },
     "execution_count": 21,
     "metadata": {},
     "output_type": "execute_result"
    },
    {
     "data": {
      "image/png": "[encoded data removed]",
      "text/plain": [
       "<Figure size 432x288 with 1 Axes>"
      ]
     },
     "metadata": {
      "needs_background": "light"
     },
     "output_type": "display_data"
    }
   ],
   "source": [
    "pivot_table_debt_by_children = data.pivot_table(index='children', values='debt', aggfunc=['mean'])\n",
    "bp_debt_by_children = pivot_table_debt_by_children[('mean', 'debt')].plot(kind='bar')\n",
    "bp_debt_by_children.set_title('Зависимость между количеством детей и возвратом кредита в срок')\n",
    "bp_debt_by_children.set_xlabel('Количество детей')\n",
    "bp_debt_by_children.set_ylabel('Доля людей с задолженностью')"
   ]
  },
  {
   "cell_type": "markdown",
   "id": "2921042e",
   "metadata": {},
   "source": [
    "**Вывод:** c увеличением количества детей мы видим увеличение количества людей с задолженностью по возврату кредита, но из тренда выбиваются данные по категории с 3 детьми, где процент должников меньше, чем среди людей с 1 и 2 детьми, а среди людей с пятью детьми и вовсе нет людей с просрочкой по возврату кредита. Однозначно можно сделать вывод, что бездетные чаще платят в срок по кредиту, чем люди с детьми. Так как тренд на увеличение количества должников с увеличением количества детей не подтверждается на двух категориях, возможно, требуется уточнение этих данных на большей выборке."
   ]
  },
  {
   "cell_type": "markdown",
   "id": "a17f0d37",
   "metadata": {},
   "source": [
    "### 4.2. Исследование зависимости между семейным положением и возвратом кредита в срок<a id='family_status'> </a>"
   ]
  },
  {
   "cell_type": "markdown",
   "id": "76e4cd5d",
   "metadata": {},
   "source": [
    "Построим столбчатую диаграмму по оси `х` которой отмечены категории по семейному положению, а по оси `у` - проценты людей с задолженностью по возврату кредитов для каждой категории."
   ]
  },
  {
   "cell_type": "code",
   "execution_count": 22,
   "id": "c58df73d",
   "metadata": {},
   "outputs": [
    {
     "data": {
      "text/plain": [
       "Text(0, 0.5, 'Доля людей с задолженностью')"
      ]
     },
     "execution_count": 22,
     "metadata": {},
     "output_type": "execute_result"
    },
    {
     "data": {
      "image/png": "[encoded data removed]",
      "text/plain": [
       "<Figure size 432x288 with 1 Axes>"
      ]
     },
     "metadata": {
      "needs_background": "light"
     },
     "output_type": "display_data"
    }
   ],
   "source": [
    "pivot_table_debt_by_family_status = data.pivot_table(index='family_status', values='debt', aggfunc=['mean']).sort_values(by=('mean', 'debt'))\n",
    "bp_debt_by_family_status = pivot_table_debt_by_family_status[('mean', 'debt')].plot(kind='bar')\n",
    "bp_debt_by_family_status.set_title('Зависимость между семейным положением и возвратом кредита в срок')\n",
    "bp_debt_by_family_status.set_xlabel('Семейное положение')\n",
    "bp_debt_by_family_status.set_ylabel('Доля людей с задолженностью')"
   ]
  },
  {
   "cell_type": "markdown",
   "id": "1502bfe3",
   "metadata": {},
   "source": [
    "**Вывод:** существует следующая зависимость между семейным положением и возвратом кредита в срок:\n",
    "- люди, не состоящие в официальном браке (не женатые / не замужем / гражданский брак), чаще не возвращают кредит в срок\n",
    "- люди в разводе и овдовевшие чаще платят в срок, чем люди в браке."
   ]
  },
  {
   "cell_type": "markdown",
   "id": "177ec032",
   "metadata": {},
   "source": [
    "### 4.3.  Исследование зависимости между уровнем дохода и возвратом кредита в срок<a id='income'> </a>"
   ]
  },
  {
   "cell_type": "markdown",
   "id": "47ecbb8f",
   "metadata": {},
   "source": [
    "Выведем на экран таблицу соответствия категории ежемесячного дохода диапазону значений ежемесячного дохода."
   ]
  },
  {
   "cell_type": "code",
   "execution_count": 23,
   "id": "312611e4",
   "metadata": {},
   "outputs": [
    {
     "data": {
      "text/html": [
       "<div>\n",
       "<style scoped>\n",
       "    .dataframe tbody tr th:only-of-type {\n",
       "        vertical-align: middle;\n",
       "    }\n",
       "\n",
       "    .dataframe tbody tr th {\n",
       "        vertical-align: top;\n",
       "    }\n",
       "\n",
       "    .dataframe thead th {\n",
       "        text-align: right;\n",
       "    }\n",
       "</style>\n",
       "<table border=\"1\" class=\"dataframe\">\n",
       "  <thead>\n",
       "    <tr style=\"text-align: right;\">\n",
       "      <th></th>\n",
       "      <th>category</th>\n",
       "      <th>total_income</th>\n",
       "    </tr>\n",
       "  </thead>\n",
       "  <tbody>\n",
       "    <tr>\n",
       "      <th>0</th>\n",
       "      <td>A</td>\n",
       "      <td>&gt;= 1000001</td>\n",
       "    </tr>\n",
       "    <tr>\n",
       "      <th>1</th>\n",
       "      <td>B</td>\n",
       "      <td>200001–1000000</td>\n",
       "    </tr>\n",
       "    <tr>\n",
       "      <th>2</th>\n",
       "      <td>C</td>\n",
       "      <td>50001–200000</td>\n",
       "    </tr>\n",
       "    <tr>\n",
       "      <th>3</th>\n",
       "      <td>D</td>\n",
       "      <td>30001–50000</td>\n",
       "    </tr>\n",
       "    <tr>\n",
       "      <th>4</th>\n",
       "      <td>E</td>\n",
       "      <td>0–30000</td>\n",
       "    </tr>\n",
       "  </tbody>\n",
       "</table>\n",
       "</div>"
      ],
      "text/plain": [
       "  category    total_income\n",
       "0        A      >= 1000001\n",
       "1        B  200001–1000000\n",
       "2        C    50001–200000\n",
       "3        D     30001–50000\n",
       "4        E         0–30000"
      ]
     },
     "metadata": {},
     "output_type": "display_data"
    }
   ],
   "source": [
    "total_income_dict = pd.DataFrame( data=[['A', '>= 1000001'], ['B', '200001–1000000'], ['C', '50001–200000'], ['D', '30001–50000'], ['E', '0–30000']], columns=['category', 'total_income'])\n",
    "display(total_income_dict)"
   ]
  },
  {
   "cell_type": "markdown",
   "id": "dac4c839",
   "metadata": {},
   "source": [
    "Построим столбчатую диаграмму по оси `х` которой отмечены категории по уровню дохода, а по оси `у` - доля людей с задолженностью по возврату кредитов для каждой категории."
   ]
  },
  {
   "cell_type": "code",
   "execution_count": 24,
   "id": "69731bb1",
   "metadata": {},
   "outputs": [
    {
     "data": {
      "text/plain": [
       "Text(0, 0.5, 'Доля людей с задолженностью')"
      ]
     },
     "execution_count": 24,
     "metadata": {},
     "output_type": "execute_result"
    },
    {
     "data": {
      "image/png": "[encoded data removed]",
      "text/plain": [
       "<Figure size 432x288 with 1 Axes>"
      ]
     },
     "metadata": {
      "needs_background": "light"
     },
     "output_type": "display_data"
    }
   ],
   "source": [
    "pivot_table_debt_by_total_income = data.pivot_table(index='total_income_category', values='debt', aggfunc=['mean'])\n",
    "bp_debt_by_total_income = pivot_table_debt_by_total_income[('mean', 'debt')].plot(kind='bar')\n",
    "bp_debt_by_total_income.set_title('Зависимость между уровнем дохода и возвратом кредита в срок')\n",
    "bp_debt_by_total_income.set_xlabel('Категория уровня дохода')\n",
    "bp_debt_by_total_income.set_ylabel('Доля людей с задолженностью')"
   ]
  },
  {
   "cell_type": "markdown",
   "id": "7a687a01",
   "metadata": {},
   "source": [
    "**Вывод:** прямой зависимости между уровнем дохода и возвратом кредита в срок не прослеживается. Можно отметить, что наибольший процент должников среди людей с наименьшим ежемесячным доходом, а люди с доходом в диапазоне 30001-50000 рублей в месяц чаще всего возращают кредиты в срок. Высокий доход клиента не гаранитирует отсутствие задолженности по оплате кредита."
   ]
  },
  {
   "cell_type": "markdown",
   "id": "f0fb154e",
   "metadata": {},
   "source": [
    "### 4.4. Исследование влияния цели кредита на возврат кредита в срок<a id='loan_purpose'> </a>"
   ]
  },
  {
   "cell_type": "markdown",
   "id": "b50d6ade",
   "metadata": {},
   "source": [
    "Построим столбчатую диаграмму по оси `х` которой отмечены цель кредита, а по оси `у` - доля людей с задолженностью по возврату кредитов для каждой категории."
   ]
  },
  {
   "cell_type": "code",
   "execution_count": 25,
   "id": "960dfb12",
   "metadata": {},
   "outputs": [
    {
     "data": {
      "text/plain": [
       "Text(0, 0.5, 'Доля людей с задолженностью')"
      ]
     },
     "execution_count": 25,
     "metadata": {},
     "output_type": "execute_result"
    },
    {
     "data": {
      "image/png": "[encoded data removed]",
      "text/plain": [
       "<Figure size 432x288 with 1 Axes>"
      ]
     },
     "metadata": {
      "needs_background": "light"
     },
     "output_type": "display_data"
    }
   ],
   "source": [
    "pivot_table_debt_by_purpose = data.pivot_table(index='purpose_category', values='debt', aggfunc=['mean']).sort_values(by=('mean', 'debt'))\n",
    "bp_debt_by_purpose = pivot_table_debt_by_purpose[('mean', 'debt')].plot(kind='bar')\n",
    "bp_debt_by_purpose.set_title('Зависимость между целью кредита и возвратом кредита в срок')\n",
    "bp_debt_by_purpose.set_xlabel('Цель кредита')\n",
    "bp_debt_by_purpose.set_ylabel('Доля людей с задолженностью')"
   ]
  },
  {
   "cell_type": "markdown",
   "id": "38f85917",
   "metadata": {},
   "source": [
    "**Вывод:** чаще всего платят в срок по кредитам, взятым на операции с недвижимостю и проведение свадьбы, а просрочка чаще возникает по кредитам, взятым на получение образования и операции с автомобилем."
   ]
  },
  {
   "cell_type": "markdown",
   "id": "f3452e71",
   "metadata": {},
   "source": [
    "## 5. Итоги исследования<a id='research_results'> </a>"
   ]
  },
  {
   "cell_type": "markdown",
   "id": "284a4278",
   "metadata": {},
   "source": [
    "В данной работе были исследованы данные от банка о платёжеспособности клиентов на предмет влияния семейного положения и количества детей клиента на факт погашения кредита в срок.\n",
    "\n",
    "*Количество детей влияет на возврат кредита в срок:* бездетные реже имеют задолженность по возврату кредитов, чем люди с детьми. Чем больше детей, тем выше процент людей, которые имеют задолженность. Однако из тренда выбиваются данные по категории с 3 детьми, где процент должников меньше, чем среди людей с 1 и 2 детьми, а среди людей с пятью детьми и вовсе нет людей с просрочкой по возврату кредита.\n",
    "*Семейное положение влияет на возврат кредита в срок:* люди, состоящие или бывшие в браке чаще плятят в срок чем люди, не состоявшие в официальном браке, причем разведенные и овдовевшие платят в срок чаще, чем люди в браке. Также было выявлено, что *уровень дохода не влияет на возврат кредита в срок:* высокий доход клиента не гаранитирует отсутствие задолженности по оплате кредита, наибольший процент должников среди людей с наименьшим ежемесячным доходом, а люди с доходом в диапазоне 30001-50000 рублей в месяц являются самой надежной категорией заёмщиков, которые чаще всего возращают кредиты в срок. Чаще всего платят в срок по кредитам, взятым на операции с недвижимостю и проведение свадьбы, а просрочка чаще возникает по кредитам, взятым на получение образования и операции с автомобилем.\n",
    "\n",
    "Рекомендуется провести работу по выявляению причин пропусков данных об общем трудовом стаже и ежемесячном доходе клиента: проверить анкеты, усилить контроль за наличием данных при приёме анкеты, проверить систему передачи данных. Также рекомендуется провести повторное исследование влияния количества детей на возврат кредита в срок на большей выборке данных для уточнения результатов."
   ]
  }
 ],
 "metadata": {
  "kernelspec": {
   "display_name": "Python 3 (ipykernel)",
   "language": "python",
   "name": "python3"
  },
  "language_info": {
   "codemirror_mode": {
    "name": "ipython",
    "version": 3
   },
   "file_extension": ".py",
   "mimetype": "text/x-python",
   "name": "python",
   "nbconvert_exporter": "python",
   "pygments_lexer": "ipython3",
   "version": "3.7.13"
  }
 },
 "nbformat": 4,
 "nbformat_minor": 5
}
